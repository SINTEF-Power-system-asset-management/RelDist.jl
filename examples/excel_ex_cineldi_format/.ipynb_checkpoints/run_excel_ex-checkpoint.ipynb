{
 "cells": [
  {
   "cell_type": "code",
   "execution_count": 1,
   "id": "d1f98357-d21c-471e-a41b-5a1475fe6729",
   "metadata": {},
   "outputs": [],
   "source": [
    "using RelDist\n",
    "using SintPowerGraphs\n",
    "using SintPowerCase\n",
    "using DataFrames\n",
    "using MetaGraphs\n",
    "using Graphs\n",
    "\n",
    "using Plots\n",
    "using GraphRecipes"
   ]
  },
  {
   "cell_type": "code",
   "execution_count": 2,
   "id": "22d1c846-02ff-4c9a-9b13-38d86e1f4ade",
   "metadata": {},
   "outputs": [
    {
     "data": {
      "text/plain": [
       "Dict{String, RelDist.PieceWiseCost} with 1 entry:\n",
       "  \"agriculture\" => PieceWiseCost(RelDist.Piece[Piece(Bound(0.0, 0.017), 0.0, 1.…"
      ]
     },
     "execution_count": 2,
     "metadata": {},
     "output_type": "execute_result"
    }
   ],
   "source": [
    "network_filename = joinpath(@__DIR__, \"excel_test.toml\")\n",
    "interruption_filename = joinpath(@__DIR__, \"../../databases/interruption_FASIT2.json\")\n",
    "cost_filename = joinpath(@__DIR__, \"../../databases/cost_functions_dummy.json\")\n",
    "\n",
    "interruption = read_interruption(interruption_filename)\n",
    "cost_functions = read_cost_functions(cost_filename)"
   ]
  },
  {
   "cell_type": "code",
   "execution_count": 29,
   "id": "5b88faac-9965-4323-b087-2ef444bab368",
   "metadata": {},
   "outputs": [
    {
     "data": {
      "text/plain": [
       "Case(100.0, \u001b[1m9×13 DataFrame\u001b[0m\n",
       "\u001b[1m Row \u001b[0m│\u001b[1m ID         \u001b[0m\u001b[1m type  \u001b[0m\u001b[1m Pd      \u001b[0m\u001b[1m Qd      \u001b[0m\u001b[1m Gs      \u001b[0m\u001b[1m Bs      \u001b[0m\u001b[1m area_num \u001b[0m\u001b[1m Vm    \u001b[0m ⋯\n",
       "     │\u001b[90m String     \u001b[0m\u001b[90m Int64 \u001b[0m\u001b[90m Float64 \u001b[0m\u001b[90m Float64 \u001b[0m\u001b[90m Float64 \u001b[0m\u001b[90m Float64 \u001b[0m\u001b[90m Int64    \u001b[0m\u001b[90m Float6\u001b[0m ⋯\n",
       "─────┼──────────────────────────────────────────────────────────────────────────\n",
       "   1 │ bus_1           1      0.0      0.0      0.0      0.0         1      1. ⋯\n",
       "   2 │ bus_2           1      0.0      0.0      0.0      0.0         1      1.\n",
       "   3 │ bus_3           1      0.0      0.0      0.0      0.0         1      1.\n",
       "   4 │ bus_4           1      0.0      0.0      0.0      0.0         1      1.\n",
       "   5 │ bus_a           1      0.0      0.0      0.0      0.0         1      1. ⋯\n",
       "   6 │ bus_b           1      0.0      0.0      0.0      0.0         1      1.\n",
       "   7 │ bus_c           1      0.0      0.0      0.0      0.0         1      1.\n",
       "   8 │ bus_d           1      0.0      0.0      0.0      0.0         1      1.\n",
       "   9 │ trans_grid      3      0.0      0.0      0.0      0.0         1      1. ⋯\n",
       "\u001b[36m                                                               6 columns omitted\u001b[0m, \u001b[1m8×11 DataFrame\u001b[0m\n",
       "\u001b[1m Row \u001b[0m│\u001b[1m ID        \u001b[0m\u001b[1m f_bus      \u001b[0m\u001b[1m t_bus  \u001b[0m\u001b[1m r     \u001b[0m\u001b[1m x     \u001b[0m\u001b[1m b     \u001b[0m\u001b[1m rateA \u001b[0m\u001b[1m rateB \u001b[0m\u001b[1m rateC\u001b[0m ⋯\n",
       "     │\u001b[90m String    \u001b[0m\u001b[90m String     \u001b[0m\u001b[90m String \u001b[0m\u001b[90m Int64 \u001b[0m\u001b[90m Int64 \u001b[0m\u001b[90m Int64 \u001b[0m\u001b[90m Int64 \u001b[0m\u001b[90m Int64 \u001b[0m\u001b[90m Int64\u001b[0m ⋯\n",
       "─────┼──────────────────────────────────────────────────────────────────────────\n",
       "   1 │ line_1     trans_grid  bus_1       0      0      0      0      0      0 ⋯\n",
       "   2 │ line_2     bus_1       bus_2       0      0      0      0      0      0\n",
       "   3 │ line_3     bus_2       bus_3       0      0      0      0      0      0\n",
       "   4 │ line_4     bus_3       bus_4       0      0      0      0      0      0\n",
       "   5 │ section_a  bus_1       bus_a       0      0      0      0      0      0 ⋯\n",
       "   6 │ section_b  bus_2       bus_b       0      0      0      0      0      0\n",
       "   7 │ section_c  bus_3       bus_c       0      0      0      0      0      0\n",
       "   8 │ section_d  bus_4       bus_d       0      0      0      0      0      0\n",
       "\u001b[36m                                                               2 columns omitted\u001b[0m, \u001b[1m1×11 DataFrame\u001b[0m\n",
       "\u001b[1m Row \u001b[0m│\u001b[1m ID     \u001b[0m\u001b[1m bus        \u001b[0m\u001b[1m Pg    \u001b[0m\u001b[1m Qg    \u001b[0m\u001b[1m Qmax    \u001b[0m\u001b[1m Qmin    \u001b[0m\u001b[1m Vg      \u001b[0m\u001b[1m mBase   \u001b[0m\u001b[1m s\u001b[0m ⋯\n",
       "     │\u001b[90m String \u001b[0m\u001b[90m String     \u001b[0m\u001b[90m Int64 \u001b[0m\u001b[90m Int64 \u001b[0m\u001b[90m Float64 \u001b[0m\u001b[90m Float64 \u001b[0m\u001b[90m Float64 \u001b[0m\u001b[90m Float64 \u001b[0m\u001b[90m I\u001b[0m ⋯\n",
       "─────┼──────────────────────────────────────────────────────────────────────────\n",
       "   1 │ 1       trans_grid    100      0   1000.0  -1000.0      1.1    100.0    ⋯\n",
       "\u001b[36m                                                               3 columns omitted\u001b[0m, \u001b[1m4×4 DataFrame\u001b[0m\n",
       "\u001b[1m Row \u001b[0m│\u001b[1m ID     \u001b[0m\u001b[1m bus    \u001b[0m\u001b[1m P     \u001b[0m\u001b[1m ref_demand \u001b[0m\n",
       "     │\u001b[90m String \u001b[0m\u001b[90m String \u001b[0m\u001b[90m Int64 \u001b[0m\u001b[90m Int64      \u001b[0m\n",
       "─────┼───────────────────────────────────\n",
       "   1 │ load_a  bus_a       5           5\n",
       "   2 │ load_b  bus_b       4           4\n",
       "   3 │ load_c  bus_c       3           3\n",
       "   4 │ load_d  bus_d       2           2, \u001b[1m8×4 DataFrame\u001b[0m\n",
       "\u001b[1m Row \u001b[0m│\u001b[1m f_bus      \u001b[0m\u001b[1m t_bus  \u001b[0m\u001b[1m breaker \u001b[0m\u001b[1m closed \u001b[0m\n",
       "     │\u001b[90m String     \u001b[0m\u001b[90m String \u001b[0m\u001b[90m Bool    \u001b[0m\u001b[90m Bool   \u001b[0m\n",
       "─────┼─────────────────────────────────────\n",
       "   1 │ trans_grid  bus_1      true    true\n",
       "   2 │ bus_1       bus_2     false    true\n",
       "   3 │ bus_2       bus_3     false    true\n",
       "   4 │ bus_3       bus_4     false    true\n",
       "   5 │ bus_1       bus_a     false    true\n",
       "   6 │ bus_2       bus_b     false    true\n",
       "   7 │ bus_3       bus_c     false    true\n",
       "   8 │ bus_4       bus_d     false    true, \u001b[1m0×0 DataFrame\u001b[0m, \u001b[1m8×9 DataFrame\u001b[0m\n",
       "\u001b[1m Row \u001b[0m│\u001b[1m ID            \u001b[0m\u001b[1m f_bus      \u001b[0m\u001b[1m t_bus  \u001b[0m\u001b[1m repairTime \u001b[0m\u001b[1m temporaryFaultFrequency \u001b[0m\u001b[1m\u001b[0m ⋯\n",
       "     │\u001b[90m String        \u001b[0m\u001b[90m String     \u001b[0m\u001b[90m String \u001b[0m\u001b[90m Float64    \u001b[0m\u001b[90m Float64                 \u001b[0m\u001b[90m\u001b[0m ⋯\n",
       "─────┼──────────────────────────────────────────────────────────────────────────\n",
       "   1 │ line_1_rel     trans_grid  bus_1          4.0                     0.01  ⋯\n",
       "   2 │ line_2_rel     bus_1       bus_2          4.0                     0.01\n",
       "   3 │ line_3_rel     bus_2       bus_3          4.0                     0.01\n",
       "   4 │ line_4_rel     bus_3       bus_4          4.0                     0.01\n",
       "   5 │ section_a_rel  bus_1       bus_a          2.0                     0.01  ⋯\n",
       "   6 │ section_b_rel  bus_2       bus_b          2.0                     0.01\n",
       "   7 │ section_c_rel  bus_3       bus_c          2.0                     0.01\n",
       "   8 │ section_d_rel  bus_4       bus_d          2.0                     0.01\n",
       "\u001b[36m                                                               4 columns omitted\u001b[0m, \u001b[1m0×0 DataFrame\u001b[0m, \u001b[1m0×0 DataFrame\u001b[0m, \u001b[1m0×0 DataFrame\u001b[0m, 9)"
      ]
     },
     "execution_count": 29,
     "metadata": {},
     "output_type": "execute_result"
    }
   ],
   "source": [
    "case = Case(network_filename)"
   ]
  },
  {
   "cell_type": "code",
   "execution_count": 30,
   "id": "11d3df1f-1bc3-4221-8ebb-4a15ee4eb06d",
   "metadata": {},
   "outputs": [
    {
     "data": {
      "text/plain": [
       "RadialPowerGraph({9, 8} directed Int64 metagraph with Float64 weights defined by :weight (default weight 1.0), Case(100.0, \u001b[1m9×13 DataFrame\u001b[0m\n",
       "\u001b[1m Row \u001b[0m│\u001b[1m ID         \u001b[0m\u001b[1m type  \u001b[0m\u001b[1m Pd      \u001b[0m\u001b[1m Qd      \u001b[0m\u001b[1m Gs      \u001b[0m\u001b[1m Bs      \u001b[0m\u001b[1m area_num \u001b[0m\u001b[1m Vm    \u001b[0m ⋯\n",
       "     │\u001b[90m String     \u001b[0m\u001b[90m Int64 \u001b[0m\u001b[90m Float64 \u001b[0m\u001b[90m Float64 \u001b[0m\u001b[90m Float64 \u001b[0m\u001b[90m Float64 \u001b[0m\u001b[90m Int64    \u001b[0m\u001b[90m Float6\u001b[0m ⋯\n",
       "─────┼──────────────────────────────────────────────────────────────────────────\n",
       "   1 │ bus_1           1      0.0      0.0      0.0      0.0         1      1. ⋯\n",
       "   2 │ bus_2           1      0.0      0.0      0.0      0.0         1      1.\n",
       "   3 │ bus_3           1      0.0      0.0      0.0      0.0         1      1.\n",
       "   4 │ bus_4           1      0.0      0.0      0.0      0.0         1      1.\n",
       "   5 │ bus_a           1      0.0      0.0      0.0      0.0         1      1. ⋯\n",
       "   6 │ bus_b           1      0.0      0.0      0.0      0.0         1      1.\n",
       "   7 │ bus_c           1      0.0      0.0      0.0      0.0         1      1.\n",
       "   8 │ bus_d           1      0.0      0.0      0.0      0.0         1      1.\n",
       "   9 │ trans_grid      3      0.0      0.0      0.0      0.0         1      1. ⋯\n",
       "\u001b[36m                                                               6 columns omitted\u001b[0m, \u001b[1m8×11 DataFrame\u001b[0m\n",
       "\u001b[1m Row \u001b[0m│\u001b[1m ID        \u001b[0m\u001b[1m f_bus      \u001b[0m\u001b[1m t_bus  \u001b[0m\u001b[1m r     \u001b[0m\u001b[1m x     \u001b[0m\u001b[1m b     \u001b[0m\u001b[1m rateA \u001b[0m\u001b[1m rateB \u001b[0m\u001b[1m rateC\u001b[0m ⋯\n",
       "     │\u001b[90m String    \u001b[0m\u001b[90m String     \u001b[0m\u001b[90m String \u001b[0m\u001b[90m Int64 \u001b[0m\u001b[90m Int64 \u001b[0m\u001b[90m Int64 \u001b[0m\u001b[90m Int64 \u001b[0m\u001b[90m Int64 \u001b[0m\u001b[90m Int64\u001b[0m ⋯\n",
       "─────┼──────────────────────────────────────────────────────────────────────────\n",
       "   1 │ line_1     trans_grid  bus_1       0      0      0      0      0      0 ⋯\n",
       "   2 │ line_2     bus_1       bus_2       0      0      0      0      0      0\n",
       "   3 │ line_3     bus_2       bus_3       0      0      0      0      0      0\n",
       "   4 │ line_4     bus_3       bus_4       0      0      0      0      0      0\n",
       "   5 │ section_a  bus_1       bus_a       0      0      0      0      0      0 ⋯\n",
       "   6 │ section_b  bus_2       bus_b       0      0      0      0      0      0\n",
       "   7 │ section_c  bus_3       bus_c       0      0      0      0      0      0\n",
       "   8 │ section_d  bus_4       bus_d       0      0      0      0      0      0\n",
       "\u001b[36m                                                               2 columns omitted\u001b[0m, \u001b[1m1×11 DataFrame\u001b[0m\n",
       "\u001b[1m Row \u001b[0m│\u001b[1m ID     \u001b[0m\u001b[1m bus        \u001b[0m\u001b[1m Pg    \u001b[0m\u001b[1m Qg    \u001b[0m\u001b[1m Qmax    \u001b[0m\u001b[1m Qmin    \u001b[0m\u001b[1m Vg      \u001b[0m\u001b[1m mBase   \u001b[0m\u001b[1m s\u001b[0m ⋯\n",
       "     │\u001b[90m String \u001b[0m\u001b[90m String     \u001b[0m\u001b[90m Int64 \u001b[0m\u001b[90m Int64 \u001b[0m\u001b[90m Float64 \u001b[0m\u001b[90m Float64 \u001b[0m\u001b[90m Float64 \u001b[0m\u001b[90m Float64 \u001b[0m\u001b[90m I\u001b[0m ⋯\n",
       "─────┼──────────────────────────────────────────────────────────────────────────\n",
       "   1 │ 1       trans_grid    100      0   1000.0  -1000.0      1.1    100.0    ⋯\n",
       "\u001b[36m                                                               3 columns omitted\u001b[0m, \u001b[1m4×4 DataFrame\u001b[0m\n",
       "\u001b[1m Row \u001b[0m│\u001b[1m ID     \u001b[0m\u001b[1m bus    \u001b[0m\u001b[1m P     \u001b[0m\u001b[1m ref_demand \u001b[0m\n",
       "     │\u001b[90m String \u001b[0m\u001b[90m String \u001b[0m\u001b[90m Int64 \u001b[0m\u001b[90m Int64      \u001b[0m\n",
       "─────┼───────────────────────────────────\n",
       "   1 │ load_a  bus_a       5           5\n",
       "   2 │ load_b  bus_b       4           4\n",
       "   3 │ load_c  bus_c       3           3\n",
       "   4 │ load_d  bus_d       2           2, \u001b[1m8×4 DataFrame\u001b[0m\n",
       "\u001b[1m Row \u001b[0m│\u001b[1m f_bus      \u001b[0m\u001b[1m t_bus  \u001b[0m\u001b[1m breaker \u001b[0m\u001b[1m closed \u001b[0m\n",
       "     │\u001b[90m String     \u001b[0m\u001b[90m String \u001b[0m\u001b[90m Bool    \u001b[0m\u001b[90m Bool   \u001b[0m\n",
       "─────┼─────────────────────────────────────\n",
       "   1 │ trans_grid  bus_1      true    true\n",
       "   2 │ bus_1       bus_2     false    true\n",
       "   3 │ bus_2       bus_3     false    true\n",
       "   4 │ bus_3       bus_4     false    true\n",
       "   5 │ bus_1       bus_a     false    true\n",
       "   6 │ bus_2       bus_b     false    true\n",
       "   7 │ bus_3       bus_c     false    true\n",
       "   8 │ bus_4       bus_d     false    true, \u001b[1m0×0 DataFrame\u001b[0m, \u001b[1m8×9 DataFrame\u001b[0m\n",
       "\u001b[1m Row \u001b[0m│\u001b[1m ID            \u001b[0m\u001b[1m f_bus      \u001b[0m\u001b[1m t_bus  \u001b[0m\u001b[1m repairTime \u001b[0m\u001b[1m temporaryFaultFrequency \u001b[0m\u001b[1m\u001b[0m ⋯\n",
       "     │\u001b[90m String        \u001b[0m\u001b[90m String     \u001b[0m\u001b[90m String \u001b[0m\u001b[90m Float64    \u001b[0m\u001b[90m Float64                 \u001b[0m\u001b[90m\u001b[0m ⋯\n",
       "─────┼──────────────────────────────────────────────────────────────────────────\n",
       "   1 │ line_1_rel     trans_grid  bus_1          4.0                     0.01  ⋯\n",
       "   2 │ line_2_rel     bus_1       bus_2          4.0                     0.01\n",
       "   3 │ line_3_rel     bus_2       bus_3          4.0                     0.01\n",
       "   4 │ line_4_rel     bus_3       bus_4          4.0                     0.01\n",
       "   5 │ section_a_rel  bus_1       bus_a          2.0                     0.01  ⋯\n",
       "   6 │ section_b_rel  bus_2       bus_b          2.0                     0.01\n",
       "   7 │ section_c_rel  bus_3       bus_c          2.0                     0.01\n",
       "   8 │ section_d_rel  bus_4       bus_d          2.0                     0.01\n",
       "\u001b[36m                                                               4 columns omitted\u001b[0m, \u001b[1m0×0 DataFrame\u001b[0m, \u001b[1m0×0 DataFrame\u001b[0m, \u001b[1m0×0 DataFrame\u001b[0m, 9), \"trans_grid\", {9, 8} directed Int64 metagraph with Float64 weights defined by :weight (default weight 1.0))"
      ]
     },
     "execution_count": 30,
     "metadata": {},
     "output_type": "execute_result"
    }
   ],
   "source": [
    "network = RadialPowerGraph(case)"
   ]
  },
  {
   "cell_type": "code",
   "execution_count": 5,
   "id": "f766e23f-344a-401a-8e98-bf06dd47053a",
   "metadata": {},
   "outputs": [
    {
     "data": {
      "image/svg+xml": [
       "<?xml version=\"1.0\" encoding=\"utf-8\"?>\n",
       "<svg xmlns=\"http://www.w3.org/2000/svg\" xmlns:xlink=\"http://www.w3.org/1999/xlink\" width=\"600\" height=\"400\" viewBox=\"0 0 2400 1600\">\n",
       "<defs>\n",
       "  <clipPath id=\"clip750\">\n",
       "    <rect x=\"0\" y=\"0\" width=\"2400\" height=\"1600\"/>\n",
       "  </clipPath>\n",
       "</defs>\n",
       "<path clip-path=\"url(#clip750)\" d=\"M0 1600 L2400 1600 L2400 0 L0 0  Z\" fill=\"#ffffff\" fill-rule=\"evenodd\" fill-opacity=\"1\"/>\n",
       "<defs>\n",
       "  <clipPath id=\"clip751\">\n",
       "    <rect x=\"480\" y=\"0\" width=\"1681\" height=\"1600\"/>\n",
       "  </clipPath>\n",
       "</defs>\n",
       "<path clip-path=\"url(#clip750)\" d=\"M447.244 1552.76 L1952.76 1552.76 L1952.76 47.2441 L447.244 47.2441  Z\" fill=\"#ffffff\" fill-rule=\"evenodd\" fill-opacity=\"1\"/>\n",
       "<defs>\n",
       "  <clipPath id=\"clip752\">\n",
       "    <rect x=\"447\" y=\"47\" width=\"1507\" height=\"1507\"/>\n",
       "  </clipPath>\n",
       "</defs>\n",
       "<polyline clip-path=\"url(#clip752)\" style=\"stroke:#000000; stroke-linecap:round; stroke-linejoin:round; stroke-width:4; stroke-opacity:1; fill:none\" points=\"881.292,641.471 1140.52,622.425 \"/>\n",
       "<polyline clip-path=\"url(#clip752)\" style=\"stroke:#000000; stroke-linecap:round; stroke-linejoin:round; stroke-width:4; stroke-opacity:1; fill:none\" points=\"1103.3,607.111 1140.52,622.425 1105.94,643.014 \"/>\n",
       "<polyline clip-path=\"url(#clip752)\" style=\"stroke:#000000; stroke-linecap:round; stroke-linejoin:round; stroke-width:4; stroke-opacity:1; fill:none\" points=\"1140.52,622.425 881.292,641.471 \"/>\n",
       "<polyline clip-path=\"url(#clip752)\" style=\"stroke:#000000; stroke-linecap:round; stroke-linejoin:round; stroke-width:4; stroke-opacity:1; fill:none\" points=\"881.292,641.471 690.093,471.436 \"/>\n",
       "<polyline clip-path=\"url(#clip752)\" style=\"stroke:#000000; stroke-linecap:round; stroke-linejoin:round; stroke-width:4; stroke-opacity:1; fill:none\" points=\"705.032,508.81 690.093,471.436 728.956,481.909 \"/>\n",
       "<polyline clip-path=\"url(#clip752)\" style=\"stroke:#000000; stroke-linecap:round; stroke-linejoin:round; stroke-width:4; stroke-opacity:1; fill:none\" points=\"690.093,471.436 881.292,641.471 \"/>\n",
       "<polyline clip-path=\"url(#clip752)\" style=\"stroke:#000000; stroke-linecap:round; stroke-linejoin:round; stroke-width:4; stroke-opacity:1; fill:none\" points=\"1193.78,594.982 1407.74,749.875 \"/>\n",
       "<polyline clip-path=\"url(#clip752)\" style=\"stroke:#000000; stroke-linecap:round; stroke-linejoin:round; stroke-width:4; stroke-opacity:1; fill:none\" points=\"1389.13,714.184 1407.74,749.875 1368.02,743.344 \"/>\n",
       "<polyline clip-path=\"url(#clip752)\" style=\"stroke:#000000; stroke-linecap:round; stroke-linejoin:round; stroke-width:4; stroke-opacity:1; fill:none\" points=\"1407.74,749.875 1193.78,594.982 \"/>\n",
       "<polyline clip-path=\"url(#clip752)\" style=\"stroke:#000000; stroke-linecap:round; stroke-linejoin:round; stroke-width:4; stroke-opacity:1; fill:none\" points=\"1193.78,594.982 1255.92,322.166 \"/>\n",
       "<polyline clip-path=\"url(#clip752)\" style=\"stroke:#000000; stroke-linecap:round; stroke-linejoin:round; stroke-width:4; stroke-opacity:1; fill:none\" points=\"1230.37,353.27 1255.92,322.166 1265.48,361.264 \"/>\n",
       "<polyline clip-path=\"url(#clip752)\" style=\"stroke:#000000; stroke-linecap:round; stroke-linejoin:round; stroke-width:4; stroke-opacity:1; fill:none\" points=\"1255.92,322.166 1193.78,594.982 \"/>\n",
       "<polyline clip-path=\"url(#clip752)\" style=\"stroke:#000000; stroke-linecap:round; stroke-linejoin:round; stroke-width:4; stroke-opacity:1; fill:none\" points=\"1468.62,764.132 1531.16,1019.74 \"/>\n",
       "<polyline clip-path=\"url(#clip752)\" style=\"stroke:#000000; stroke-linecap:round; stroke-linejoin:round; stroke-width:4; stroke-opacity:1; fill:none\" points=\"1540.08,980.491 1531.16,1019.74 1505.12,989.047 \"/>\n",
       "<polyline clip-path=\"url(#clip752)\" style=\"stroke:#000000; stroke-linecap:round; stroke-linejoin:round; stroke-width:4; stroke-opacity:1; fill:none\" points=\"1531.16,1019.74 1468.62,764.132 \"/>\n",
       "<polyline clip-path=\"url(#clip752)\" style=\"stroke:#000000; stroke-linecap:round; stroke-linejoin:round; stroke-width:4; stroke-opacity:1; fill:none\" points=\"1468.62,764.132 1697.27,644.454 \"/>\n",
       "<polyline clip-path=\"url(#clip752)\" style=\"stroke:#000000; stroke-linecap:round; stroke-linejoin:round; stroke-width:4; stroke-opacity:1; fill:none\" points=\"1657.02,645.201 1697.27,644.454 1673.72,677.096 \"/>\n",
       "<polyline clip-path=\"url(#clip752)\" style=\"stroke:#000000; stroke-linecap:round; stroke-linejoin:round; stroke-width:4; stroke-opacity:1; fill:none\" points=\"1697.27,644.454 1468.62,764.132 \"/>\n",
       "<polyline clip-path=\"url(#clip752)\" style=\"stroke:#000000; stroke-linecap:round; stroke-linejoin:round; stroke-width:4; stroke-opacity:1; fill:none\" points=\"1570.02,1072.12 1669.8,1296.98 \"/>\n",
       "<polyline clip-path=\"url(#clip752)\" style=\"stroke:#000000; stroke-linecap:round; stroke-linejoin:round; stroke-width:4; stroke-opacity:1; fill:none\" points=\"1671.65,1256.78 1669.8,1296.98 1638.74,1271.38 \"/>\n",
       "<polyline clip-path=\"url(#clip752)\" style=\"stroke:#000000; stroke-linecap:round; stroke-linejoin:round; stroke-width:4; stroke-opacity:1; fill:none\" points=\"1669.8,1296.98 1570.02,1072.12 \"/>\n",
       "<polyline clip-path=\"url(#clip752)\" style=\"stroke:#000000; stroke-linecap:round; stroke-linejoin:round; stroke-width:4; stroke-opacity:1; fill:none\" points=\"676.251,882.087 829.868,672.098 \"/>\n",
       "<polyline clip-path=\"url(#clip752)\" style=\"stroke:#000000; stroke-linecap:round; stroke-linejoin:round; stroke-width:4; stroke-opacity:1; fill:none\" points=\"794.085,690.526 829.868,672.098 823.14,711.781 \"/>\n",
       "<polyline clip-path=\"url(#clip752)\" style=\"stroke:#000000; stroke-linecap:round; stroke-linejoin:round; stroke-width:4; stroke-opacity:1; fill:none\" points=\"829.868,672.098 676.251,882.087 \"/>\n",
       "<path clip-path=\"url(#clip752)\" d=\"M950.399 641.471 L915.845 581.622 L846.738 581.622 L812.185 641.471 L846.738 701.319 L915.845 701.319 L950.399 641.471 L950.399 641.471  Z\" fill=\"#009af9\" fill-rule=\"evenodd\" fill-opacity=\"1\"/>\n",
       "<polyline clip-path=\"url(#clip752)\" style=\"stroke:#000000; stroke-linecap:round; stroke-linejoin:round; stroke-width:4; stroke-opacity:1; fill:none\" points=\"950.399,641.471 915.845,581.622 846.738,581.622 812.185,641.471 846.738,701.319 915.845,701.319 950.399,641.471 \"/>\n",
       "<path clip-path=\"url(#clip752)\" d=\"M1262.89 594.982 L1228.34 535.134 L1159.23 535.134 L1124.68 594.982 L1159.23 654.831 L1228.34 654.831 L1262.89 594.982 L1262.89 594.982  Z\" fill=\"#009af9\" fill-rule=\"evenodd\" fill-opacity=\"1\"/>\n",
       "<polyline clip-path=\"url(#clip752)\" style=\"stroke:#000000; stroke-linecap:round; stroke-linejoin:round; stroke-width:4; stroke-opacity:1; fill:none\" points=\"1262.89,594.982 1228.34,535.134 1159.23,535.134 1124.68,594.982 1159.23,654.831 1228.34,654.831 1262.89,594.982 \"/>\n",
       "<path clip-path=\"url(#clip752)\" d=\"M1537.72 764.132 L1503.17 704.284 L1434.06 704.284 L1399.51 764.132 L1434.06 823.981 L1503.17 823.981 L1537.72 764.132 L1537.72 764.132  Z\" fill=\"#009af9\" fill-rule=\"evenodd\" fill-opacity=\"1\"/>\n",
       "<polyline clip-path=\"url(#clip752)\" style=\"stroke:#000000; stroke-linecap:round; stroke-linejoin:round; stroke-width:4; stroke-opacity:1; fill:none\" points=\"1537.72,764.132 1503.17,704.284 1434.06,704.284 1399.51,764.132 1434.06,823.981 1503.17,823.981 1537.72,764.132 \"/>\n",
       "<path clip-path=\"url(#clip752)\" d=\"M1639.13 1072.12 L1604.57 1012.27 L1535.47 1012.27 L1500.91 1072.12 L1535.47 1131.97 L1604.57 1131.97 L1639.13 1072.12 L1639.13 1072.12  Z\" fill=\"#009af9\" fill-rule=\"evenodd\" fill-opacity=\"1\"/>\n",
       "<polyline clip-path=\"url(#clip752)\" style=\"stroke:#000000; stroke-linecap:round; stroke-linejoin:round; stroke-width:4; stroke-opacity:1; fill:none\" points=\"1639.13,1072.12 1604.57,1012.27 1535.47,1012.27 1500.91,1072.12 1535.47,1131.97 1604.57,1131.97 1639.13,1072.12 \"/>\n",
       "<path clip-path=\"url(#clip752)\" d=\"M731.424 411.588 L696.871 351.739 L627.764 351.739 L593.21 411.588 L627.764 471.436 L696.871 471.436 L731.424 411.588 L731.424 411.588  Z\" fill=\"#009af9\" fill-rule=\"evenodd\" fill-opacity=\"1\"/>\n",
       "<polyline clip-path=\"url(#clip752)\" style=\"stroke:#000000; stroke-linecap:round; stroke-linejoin:round; stroke-width:4; stroke-opacity:1; fill:none\" points=\"731.424,411.588 696.871,351.739 627.764,351.739 593.21,411.588 627.764,471.436 696.871,471.436 731.424,411.588 \"/>\n",
       "<path clip-path=\"url(#clip752)\" d=\"M1315.93 262.317 L1281.37 202.469 L1212.26 202.469 L1177.71 262.317 L1212.26 322.166 L1281.37 322.166 L1315.93 262.317 L1315.93 262.317  Z\" fill=\"#009af9\" fill-rule=\"evenodd\" fill-opacity=\"1\"/>\n",
       "<polyline clip-path=\"url(#clip752)\" style=\"stroke:#000000; stroke-linecap:round; stroke-linejoin:round; stroke-width:4; stroke-opacity:1; fill:none\" points=\"1315.93,262.317 1281.37,202.469 1212.26,202.469 1177.71,262.317 1212.26,322.166 1281.37,322.166 1315.93,262.317 \"/>\n",
       "<path clip-path=\"url(#clip752)\" d=\"M1806.79 594.762 L1772.24 534.913 L1703.13 534.913 L1668.58 594.762 L1703.13 654.61 L1772.24 654.61 L1806.79 594.762 L1806.79 594.762  Z\" fill=\"#009af9\" fill-rule=\"evenodd\" fill-opacity=\"1\"/>\n",
       "<polyline clip-path=\"url(#clip752)\" style=\"stroke:#000000; stroke-linecap:round; stroke-linejoin:round; stroke-width:4; stroke-opacity:1; fill:none\" points=\"1806.79,594.762 1772.24,534.913 1703.13,534.913 1668.58,594.762 1703.13,654.61 1772.24,654.61 1806.79,594.762 \"/>\n",
       "<path clip-path=\"url(#clip752)\" d=\"M1784.51 1337.68 L1749.96 1277.83 L1680.85 1277.83 L1646.3 1337.68 L1680.85 1397.53 L1749.96 1397.53 L1784.51 1337.68 L1784.51 1337.68  Z\" fill=\"#009af9\" fill-rule=\"evenodd\" fill-opacity=\"1\"/>\n",
       "<polyline clip-path=\"url(#clip752)\" style=\"stroke:#000000; stroke-linecap:round; stroke-linejoin:round; stroke-width:4; stroke-opacity:1; fill:none\" points=\"1784.51,1337.68 1749.96,1277.83 1680.85,1277.83 1646.3,1337.68 1680.85,1397.53 1749.96,1397.53 1784.51,1337.68 \"/>\n",
       "<path clip-path=\"url(#clip752)\" d=\"M796.573 882.087 L736.412 777.885 L616.09 777.885 L555.929 882.087 L616.09 986.289 L736.412 986.289 L796.573 882.087 L796.573 882.087  Z\" fill=\"#009af9\" fill-rule=\"evenodd\" fill-opacity=\"1\"/>\n",
       "<polyline clip-path=\"url(#clip752)\" style=\"stroke:#000000; stroke-linecap:round; stroke-linejoin:round; stroke-width:4; stroke-opacity:1; fill:none\" points=\"796.573,882.087 736.412,777.885 616.09,777.885 555.929,882.087 616.09,986.289 736.412,986.289 796.573,882.087 \"/>\n",
       "<path clip-path=\"url(#clip752)\" d=\"M881.292 641.871 L880.945 641.671 L880.945 641.271 L881.292 641.071 L881.638 641.271 L881.638 641.671 Z\" fill=\"#009af9\" fill-rule=\"evenodd\" fill-opacity=\"1\" stroke=\"#000000\" stroke-opacity=\"1\" stroke-width=\"3.2\"/>\n",
       "<path clip-path=\"url(#clip752)\" d=\"M1193.78 595.382 L1193.44 595.182 L1193.44 594.782 L1193.78 594.582 L1194.13 594.782 L1194.13 595.182 Z\" fill=\"#009af9\" fill-rule=\"evenodd\" fill-opacity=\"1\" stroke=\"#000000\" stroke-opacity=\"1\" stroke-width=\"3.2\"/>\n",
       "<path clip-path=\"url(#clip752)\" d=\"M1468.62 764.532 L1468.27 764.332 L1468.27 763.932 L1468.62 763.732 L1468.96 763.932 L1468.96 764.332 Z\" fill=\"#009af9\" fill-rule=\"evenodd\" fill-opacity=\"1\" stroke=\"#000000\" stroke-opacity=\"1\" stroke-width=\"3.2\"/>\n",
       "<path clip-path=\"url(#clip752)\" d=\"M1570.02 1072.52 L1569.67 1072.32 L1569.67 1071.92 L1570.02 1071.72 L1570.37 1071.92 L1570.37 1072.32 Z\" fill=\"#009af9\" fill-rule=\"evenodd\" fill-opacity=\"1\" stroke=\"#000000\" stroke-opacity=\"1\" stroke-width=\"3.2\"/>\n",
       "<path clip-path=\"url(#clip752)\" d=\"M662.317 411.988 L661.971 411.788 L661.971 411.388 L662.317 411.188 L662.664 411.388 L662.664 411.788 Z\" fill=\"#009af9\" fill-rule=\"evenodd\" fill-opacity=\"1\" stroke=\"#000000\" stroke-opacity=\"1\" stroke-width=\"3.2\"/>\n",
       "<path clip-path=\"url(#clip752)\" d=\"M1246.82 262.717 L1246.47 262.517 L1246.47 262.117 L1246.82 261.917 L1247.16 262.117 L1247.16 262.517 Z\" fill=\"#009af9\" fill-rule=\"evenodd\" fill-opacity=\"1\" stroke=\"#000000\" stroke-opacity=\"1\" stroke-width=\"3.2\"/>\n",
       "<path clip-path=\"url(#clip752)\" d=\"M1737.68 595.162 L1737.34 594.962 L1737.34 594.562 L1737.68 594.362 L1738.03 594.562 L1738.03 594.962 Z\" fill=\"#009af9\" fill-rule=\"evenodd\" fill-opacity=\"1\" stroke=\"#000000\" stroke-opacity=\"1\" stroke-width=\"3.2\"/>\n",
       "<path clip-path=\"url(#clip752)\" d=\"M1715.41 1338.08 L1715.06 1337.88 L1715.06 1337.48 L1715.41 1337.28 L1715.75 1337.48 L1715.75 1337.88 Z\" fill=\"#009af9\" fill-rule=\"evenodd\" fill-opacity=\"1\" stroke=\"#000000\" stroke-opacity=\"1\" stroke-width=\"3.2\"/>\n",
       "<path clip-path=\"url(#clip752)\" d=\"M676.251 882.487 L675.905 882.287 L675.905 881.887 L676.251 881.687 L676.597 881.887 L676.597 882.287 Z\" fill=\"#009af9\" fill-rule=\"evenodd\" fill-opacity=\"1\" stroke=\"#000000\" stroke-opacity=\"1\" stroke-width=\"3.2\"/>\n",
       "<path clip-path=\"url(#clip750)\" d=\"M840.833 645.268 Q840.833 641.157 839.132 638.827 Q837.451 636.478 834.494 636.478 Q831.536 636.478 829.835 638.827 Q828.154 641.157 828.154 645.268 Q828.154 649.38 829.835 651.729 Q831.536 654.059 834.494 654.059 Q837.451 654.059 839.132 651.729 Q840.833 649.38 840.833 645.268 M828.154 637.349 Q829.329 635.323 831.111 634.351 Q832.914 633.359 835.405 633.359 Q839.537 633.359 842.109 636.64 Q844.702 639.921 844.702 645.268 Q844.702 650.615 842.109 653.897 Q839.537 657.178 835.405 657.178 Q832.914 657.178 831.111 656.206 Q829.329 655.213 828.154 653.188 L828.154 656.591 L824.407 656.591 L824.407 625.075 L828.154 625.075 L828.154 637.349 Z\" fill=\"#000000\" fill-rule=\"nonzero\" fill-opacity=\"1\" /><path clip-path=\"url(#clip750)\" d=\"M850.495 647.638 L850.495 633.906 L854.222 633.906 L854.222 647.496 Q854.222 650.717 855.477 652.337 Q856.733 653.937 859.245 653.937 Q862.263 653.937 864.004 652.013 Q865.767 650.089 865.767 646.767 L865.767 633.906 L869.493 633.906 L869.493 656.591 L865.767 656.591 L865.767 653.107 Q864.41 655.173 862.607 656.185 Q860.825 657.178 858.455 657.178 Q854.546 657.178 852.52 654.747 Q850.495 652.317 850.495 647.638 M859.873 633.359 L859.873 633.359 Z\" fill=\"#000000\" fill-rule=\"nonzero\" fill-opacity=\"1\" /><path clip-path=\"url(#clip750)\" d=\"M891.632 634.574 L891.632 638.098 Q890.052 637.288 888.35 636.883 Q886.649 636.478 884.826 636.478 Q882.051 636.478 880.654 637.329 Q879.276 638.179 879.276 639.881 Q879.276 641.177 880.269 641.926 Q881.261 642.655 884.259 643.324 L885.535 643.607 Q889.505 644.458 891.166 646.018 Q892.847 647.557 892.847 650.332 Q892.847 653.492 890.335 655.335 Q887.844 657.178 883.469 657.178 Q881.646 657.178 879.661 656.813 Q877.697 656.469 875.509 655.76 L875.509 651.912 Q877.575 652.985 879.58 653.532 Q881.585 654.059 883.55 654.059 Q886.183 654.059 887.601 653.168 Q889.019 652.256 889.019 650.615 Q889.019 649.096 887.986 648.286 Q886.973 647.476 883.51 646.727 L882.213 646.423 Q878.75 645.694 877.21 644.195 Q875.671 642.676 875.671 640.043 Q875.671 636.842 877.94 635.101 Q880.208 633.359 884.381 633.359 Q886.446 633.359 888.269 633.662 Q890.092 633.966 891.632 634.574 Z\" fill=\"#000000\" fill-rule=\"nonzero\" fill-opacity=\"1\" /><path clip-path=\"url(#clip750)\" d=\"M916.018 663.477 L916.018 666.374 L894.467 666.374 L894.467 663.477 L916.018 663.477 Z\" fill=\"#000000\" fill-rule=\"nonzero\" fill-opacity=\"1\" /><path clip-path=\"url(#clip750)\" d=\"M920.758 653.147 L927.442 653.147 L927.442 630.077 L920.17 631.536 L920.17 627.809 L927.401 626.351 L931.493 626.351 L931.493 653.147 L938.177 653.147 L938.177 656.591 L920.758 656.591 L920.758 653.147 Z\" fill=\"#000000\" fill-rule=\"nonzero\" fill-opacity=\"1\" /><path clip-path=\"url(#clip750)\" d=\"M1153.49 598.78 Q1153.49 594.668 1151.79 592.339 Q1150.1 589.989 1147.15 589.989 Q1144.19 589.989 1142.49 592.339 Q1140.81 594.668 1140.81 598.78 Q1140.81 602.891 1142.49 605.241 Q1144.19 607.57 1147.15 607.57 Q1150.1 607.57 1151.79 605.241 Q1153.49 602.891 1153.49 598.78 M1140.81 590.86 Q1141.98 588.835 1143.76 587.863 Q1145.57 586.87 1148.06 586.87 Q1152.19 586.87 1154.76 590.151 Q1157.36 593.433 1157.36 598.78 Q1157.36 604.127 1154.76 607.408 Q1152.19 610.689 1148.06 610.689 Q1145.57 610.689 1143.76 609.717 Q1141.98 608.725 1140.81 606.699 L1140.81 610.102 L1137.06 610.102 L1137.06 578.586 L1140.81 578.586 L1140.81 590.86 Z\" fill=\"#000000\" fill-rule=\"nonzero\" fill-opacity=\"1\" /><path clip-path=\"url(#clip750)\" d=\"M1163.15 601.15 L1163.15 587.417 L1166.87 587.417 L1166.87 601.008 Q1166.87 604.228 1168.13 605.849 Q1169.39 607.449 1171.9 607.449 Q1174.92 607.449 1176.66 605.525 Q1178.42 603.6 1178.42 600.279 L1178.42 587.417 L1182.15 587.417 L1182.15 610.102 L1178.42 610.102 L1178.42 606.618 Q1177.06 608.684 1175.26 609.697 Q1173.48 610.689 1171.11 610.689 Q1167.2 610.689 1165.17 608.259 Q1163.15 605.828 1163.15 601.15 M1172.53 586.87 L1172.53 586.87 Z\" fill=\"#000000\" fill-rule=\"nonzero\" fill-opacity=\"1\" /><path clip-path=\"url(#clip750)\" d=\"M1204.29 588.085 L1204.29 591.61 Q1202.71 590.799 1201 590.394 Q1199.3 589.989 1197.48 589.989 Q1194.7 589.989 1193.31 590.84 Q1191.93 591.691 1191.93 593.392 Q1191.93 594.688 1192.92 595.438 Q1193.91 596.167 1196.91 596.835 L1198.19 597.119 Q1202.16 597.97 1203.82 599.529 Q1205.5 601.069 1205.5 603.843 Q1205.5 607.003 1202.99 608.846 Q1200.5 610.689 1196.12 610.689 Q1194.3 610.689 1192.31 610.325 Q1190.35 609.98 1188.16 609.272 L1188.16 605.423 Q1190.23 606.497 1192.23 607.044 Q1194.24 607.57 1196.2 607.57 Q1198.84 607.57 1200.25 606.679 Q1201.67 605.768 1201.67 604.127 Q1201.67 602.608 1200.64 601.798 Q1199.63 600.987 1196.16 600.238 L1194.87 599.934 Q1191.4 599.205 1189.86 597.706 Q1188.32 596.187 1188.32 593.554 Q1188.32 590.354 1190.59 588.612 Q1192.86 586.87 1197.03 586.87 Q1199.1 586.87 1200.92 587.174 Q1202.75 587.478 1204.29 588.085 Z\" fill=\"#000000\" fill-rule=\"nonzero\" fill-opacity=\"1\" /><path clip-path=\"url(#clip750)\" d=\"M1228.67 616.989 L1228.67 619.885 L1207.12 619.885 L1207.12 616.989 L1228.67 616.989 Z\" fill=\"#000000\" fill-rule=\"nonzero\" fill-opacity=\"1\" /><path clip-path=\"url(#clip750)\" d=\"M1236.23 606.659 L1250.51 606.659 L1250.51 610.102 L1231.3 610.102 L1231.3 606.659 Q1233.63 604.248 1237.64 600.198 Q1241.67 596.126 1242.71 594.952 Q1244.67 592.744 1245.44 591.225 Q1246.23 589.685 1246.23 588.207 Q1246.23 585.797 1244.53 584.278 Q1242.85 582.758 1240.14 582.758 Q1238.21 582.758 1236.06 583.427 Q1233.94 584.095 1231.51 585.452 L1231.51 581.32 Q1233.98 580.328 1236.13 579.822 Q1238.27 579.315 1240.05 579.315 Q1244.75 579.315 1247.55 581.665 Q1250.34 584.014 1250.34 587.944 Q1250.34 589.807 1249.63 591.488 Q1248.95 593.149 1247.1 595.417 Q1246.6 596.005 1243.88 598.82 Q1241.17 601.615 1236.23 606.659 Z\" fill=\"#000000\" fill-rule=\"nonzero\" fill-opacity=\"1\" /><path clip-path=\"url(#clip750)\" d=\"M1427.9 767.93 Q1427.9 763.818 1426.2 761.489 Q1424.52 759.139 1421.56 759.139 Q1418.61 759.139 1416.91 761.489 Q1415.22 763.818 1415.22 767.93 Q1415.22 772.041 1416.91 774.391 Q1418.61 776.72 1421.56 776.72 Q1424.52 776.72 1426.2 774.391 Q1427.9 772.041 1427.9 767.93 M1415.22 760.01 Q1416.4 757.985 1418.18 757.013 Q1419.98 756.02 1422.48 756.02 Q1426.61 756.02 1429.18 759.301 Q1431.77 762.583 1431.77 767.93 Q1431.77 773.277 1429.18 776.558 Q1426.61 779.839 1422.48 779.839 Q1419.98 779.839 1418.18 778.867 Q1416.4 777.875 1415.22 775.849 L1415.22 779.252 L1411.48 779.252 L1411.48 747.736 L1415.22 747.736 L1415.22 760.01 Z\" fill=\"#000000\" fill-rule=\"nonzero\" fill-opacity=\"1\" /><path clip-path=\"url(#clip750)\" d=\"M1437.56 770.3 L1437.56 756.567 L1441.29 756.567 L1441.29 770.158 Q1441.29 773.378 1442.55 774.999 Q1443.8 776.599 1446.31 776.599 Q1449.33 776.599 1451.07 774.675 Q1452.84 772.75 1452.84 769.429 L1452.84 756.567 L1456.56 756.567 L1456.56 779.252 L1452.84 779.252 L1452.84 775.768 Q1451.48 777.834 1449.68 778.847 Q1447.89 779.839 1445.52 779.839 Q1441.62 779.839 1439.59 777.409 Q1437.56 774.978 1437.56 770.3 M1446.94 756.02 L1446.94 756.02 Z\" fill=\"#000000\" fill-rule=\"nonzero\" fill-opacity=\"1\" /><path clip-path=\"url(#clip750)\" d=\"M1478.7 757.235 L1478.7 760.76 Q1477.12 759.95 1475.42 759.544 Q1473.72 759.139 1471.9 759.139 Q1469.12 759.139 1467.72 759.99 Q1466.35 760.841 1466.35 762.542 Q1466.35 763.838 1467.34 764.588 Q1468.33 765.317 1471.33 765.985 L1472.61 766.269 Q1476.58 767.12 1478.24 768.679 Q1479.92 770.219 1479.92 772.993 Q1479.92 776.153 1477.41 777.996 Q1474.91 779.839 1470.54 779.839 Q1468.72 779.839 1466.73 779.475 Q1464.77 779.131 1462.58 778.422 L1462.58 774.573 Q1464.65 775.647 1466.65 776.194 Q1468.66 776.72 1470.62 776.72 Q1473.25 776.72 1474.67 775.829 Q1476.09 774.918 1476.09 773.277 Q1476.09 771.758 1475.06 770.948 Q1474.04 770.138 1470.58 769.388 L1469.28 769.084 Q1465.82 768.355 1464.28 766.856 Q1462.74 765.337 1462.74 762.704 Q1462.74 759.504 1465.01 757.762 Q1467.28 756.02 1471.45 756.02 Q1473.52 756.02 1475.34 756.324 Q1477.16 756.628 1478.7 757.235 Z\" fill=\"#000000\" fill-rule=\"nonzero\" fill-opacity=\"1\" /><path clip-path=\"url(#clip750)\" d=\"M1503.09 786.139 L1503.09 789.035 L1481.54 789.035 L1481.54 786.139 L1503.09 786.139 Z\" fill=\"#000000\" fill-rule=\"nonzero\" fill-opacity=\"1\" /><path clip-path=\"url(#clip750)\" d=\"M1519.51 762.947 Q1522.45 763.575 1524.09 765.56 Q1525.75 767.545 1525.75 770.462 Q1525.75 774.938 1522.67 777.389 Q1519.6 779.839 1513.92 779.839 Q1512.02 779.839 1510 779.455 Q1507.99 779.09 1505.84 778.341 L1505.84 774.391 Q1507.54 775.383 1509.57 775.89 Q1511.6 776.396 1513.8 776.396 Q1517.65 776.396 1519.66 774.877 Q1521.68 773.358 1521.68 770.462 Q1521.68 767.788 1519.8 766.289 Q1517.93 764.77 1514.59 764.77 L1511.07 764.77 L1511.07 761.408 L1514.75 761.408 Q1517.77 761.408 1519.37 760.213 Q1520.97 758.998 1520.97 756.729 Q1520.97 754.4 1519.31 753.164 Q1517.67 751.908 1514.59 751.908 Q1512.91 751.908 1510.99 752.273 Q1509.06 752.638 1506.75 753.407 L1506.75 749.762 Q1509.08 749.113 1511.11 748.789 Q1513.15 748.465 1514.96 748.465 Q1519.62 748.465 1522.33 750.592 Q1525.04 752.698 1525.04 756.304 Q1525.04 758.815 1523.61 760.557 Q1522.17 762.279 1519.51 762.947 Z\" fill=\"#000000\" fill-rule=\"nonzero\" fill-opacity=\"1\" /><path clip-path=\"url(#clip750)\" d=\"M1528.81 1075.92 Q1528.81 1071.81 1527.11 1069.48 Q1525.43 1067.13 1522.47 1067.13 Q1519.51 1067.13 1517.81 1069.48 Q1516.13 1071.81 1516.13 1075.92 Q1516.13 1080.03 1517.81 1082.38 Q1519.51 1084.71 1522.47 1084.71 Q1525.43 1084.71 1527.11 1082.38 Q1528.81 1080.03 1528.81 1075.92 M1516.13 1068 Q1517.31 1065.97 1519.09 1065 Q1520.89 1064.01 1523.38 1064.01 Q1527.52 1064.01 1530.09 1067.29 Q1532.68 1070.57 1532.68 1075.92 Q1532.68 1081.27 1530.09 1084.55 Q1527.52 1087.83 1523.38 1087.83 Q1520.89 1087.83 1519.09 1086.86 Q1517.31 1085.86 1516.13 1083.84 L1516.13 1087.24 L1512.39 1087.24 L1512.39 1055.72 L1516.13 1055.72 L1516.13 1068 Z\" fill=\"#000000\" fill-rule=\"nonzero\" fill-opacity=\"1\" /><path clip-path=\"url(#clip750)\" d=\"M1538.47 1078.29 L1538.47 1064.56 L1542.2 1064.56 L1542.2 1078.15 Q1542.2 1081.37 1543.46 1082.99 Q1544.71 1084.59 1547.22 1084.59 Q1550.24 1084.59 1551.98 1082.66 Q1553.75 1080.74 1553.75 1077.42 L1553.75 1064.56 L1557.47 1064.56 L1557.47 1087.24 L1553.75 1087.24 L1553.75 1083.76 Q1552.39 1085.82 1550.59 1086.84 Q1548.8 1087.83 1546.43 1087.83 Q1542.52 1087.83 1540.5 1085.4 Q1538.47 1082.97 1538.47 1078.29 M1547.85 1064.01 L1547.85 1064.01 Z\" fill=\"#000000\" fill-rule=\"nonzero\" fill-opacity=\"1\" /><path clip-path=\"url(#clip750)\" d=\"M1579.61 1065.22 L1579.61 1068.75 Q1578.03 1067.94 1576.33 1067.53 Q1574.63 1067.13 1572.8 1067.13 Q1570.03 1067.13 1568.63 1067.98 Q1567.25 1068.83 1567.25 1070.53 Q1567.25 1071.83 1568.25 1072.58 Q1569.24 1073.31 1572.24 1073.97 L1573.51 1074.26 Q1577.48 1075.11 1579.14 1076.67 Q1580.83 1078.21 1580.83 1080.98 Q1580.83 1084.14 1578.31 1085.98 Q1575.82 1087.83 1571.45 1087.83 Q1569.62 1087.83 1567.64 1087.46 Q1565.67 1087.12 1563.49 1086.41 L1563.49 1082.56 Q1565.55 1083.64 1567.56 1084.18 Q1569.56 1084.71 1571.53 1084.71 Q1574.16 1084.71 1575.58 1083.82 Q1577 1082.91 1577 1081.27 Q1577 1079.75 1575.96 1078.94 Q1574.95 1078.13 1571.49 1077.38 L1570.19 1077.07 Q1566.73 1076.34 1565.19 1074.84 Q1563.65 1073.33 1563.65 1070.69 Q1563.65 1067.49 1565.92 1065.75 Q1568.19 1064.01 1572.36 1064.01 Q1574.42 1064.01 1576.25 1064.31 Q1578.07 1064.62 1579.61 1065.22 Z\" fill=\"#000000\" fill-rule=\"nonzero\" fill-opacity=\"1\" /><path clip-path=\"url(#clip750)\" d=\"M1604 1094.13 L1604 1097.02 L1582.45 1097.02 L1582.45 1094.13 L1604 1094.13 Z\" fill=\"#000000\" fill-rule=\"nonzero\" fill-opacity=\"1\" /><path clip-path=\"url(#clip750)\" d=\"M1619.27 1060.57 L1608.94 1076.71 L1619.27 1076.71 L1619.27 1060.57 M1618.19 1057 L1623.34 1057 L1623.34 1076.71 L1627.65 1076.71 L1627.65 1080.11 L1623.34 1080.11 L1623.34 1087.24 L1619.27 1087.24 L1619.27 1080.11 L1605.62 1080.11 L1605.62 1076.16 L1618.19 1057 Z\" fill=\"#000000\" fill-rule=\"nonzero\" fill-opacity=\"1\" /><path clip-path=\"url(#clip750)\" d=\"M622.315 415.386 Q622.315 411.274 620.613 408.945 Q618.932 406.595 615.975 406.595 Q613.018 406.595 611.316 408.945 Q609.635 411.274 609.635 415.386 Q609.635 419.497 611.316 421.847 Q613.018 424.176 615.975 424.176 Q618.932 424.176 620.613 421.847 Q622.315 419.497 622.315 415.386 M609.635 407.466 Q610.81 405.441 612.592 404.468 Q614.395 403.476 616.886 403.476 Q621.018 403.476 623.591 406.757 Q626.183 410.038 626.183 415.386 Q626.183 420.733 623.591 424.014 Q621.018 427.295 616.886 427.295 Q614.395 427.295 612.592 426.323 Q610.81 425.331 609.635 423.305 L609.635 426.708 L605.888 426.708 L605.888 395.192 L609.635 395.192 L609.635 407.466 Z\" fill=\"#000000\" fill-rule=\"nonzero\" fill-opacity=\"1\" /><path clip-path=\"url(#clip750)\" d=\"M631.976 417.755 L631.976 404.023 L635.703 404.023 L635.703 417.614 Q635.703 420.834 636.959 422.454 Q638.214 424.054 640.726 424.054 Q643.744 424.054 645.486 422.13 Q647.248 420.206 647.248 416.884 L647.248 404.023 L650.975 404.023 L650.975 426.708 L647.248 426.708 L647.248 423.224 Q645.891 425.29 644.088 426.303 Q642.306 427.295 639.936 427.295 Q636.027 427.295 634.001 424.865 Q631.976 422.434 631.976 417.755 M641.354 403.476 L641.354 403.476 Z\" fill=\"#000000\" fill-rule=\"nonzero\" fill-opacity=\"1\" /><path clip-path=\"url(#clip750)\" d=\"M673.113 404.691 L673.113 408.215 Q671.533 407.405 669.832 407 Q668.13 406.595 666.307 406.595 Q663.532 406.595 662.135 407.446 Q660.758 408.296 660.758 409.998 Q660.758 411.294 661.75 412.044 Q662.743 412.773 665.74 413.441 L667.016 413.725 Q670.986 414.575 672.647 416.135 Q674.328 417.674 674.328 420.449 Q674.328 423.609 671.817 425.452 Q669.325 427.295 664.95 427.295 Q663.127 427.295 661.142 426.931 Q659.178 426.586 656.99 425.877 L656.99 422.029 Q659.056 423.103 661.061 423.649 Q663.067 424.176 665.031 424.176 Q667.664 424.176 669.082 423.285 Q670.5 422.373 670.5 420.733 Q670.5 419.214 669.467 418.403 Q668.454 417.593 664.991 416.844 L663.695 416.54 Q660.231 415.811 658.692 414.312 Q657.152 412.793 657.152 410.16 Q657.152 406.96 659.421 405.218 Q661.689 403.476 665.862 403.476 Q667.928 403.476 669.751 403.78 Q671.574 404.084 673.113 404.691 Z\" fill=\"#000000\" fill-rule=\"nonzero\" fill-opacity=\"1\" /><path clip-path=\"url(#clip750)\" d=\"M697.499 433.594 L697.499 436.491 L675.949 436.491 L675.949 433.594 L697.499 433.594 Z\" fill=\"#000000\" fill-rule=\"nonzero\" fill-opacity=\"1\" /><path clip-path=\"url(#clip750)\" d=\"M711.313 415.305 Q706.796 415.305 705.054 416.338 Q703.312 417.37 703.312 419.862 Q703.312 421.847 704.609 423.021 Q705.925 424.176 708.173 424.176 Q711.272 424.176 713.136 421.989 Q715.019 419.781 715.019 416.135 L715.019 415.305 L711.313 415.305 M718.746 413.765 L718.746 426.708 L715.019 426.708 L715.019 423.265 Q713.743 425.331 711.84 426.323 Q709.936 427.295 707.181 427.295 Q703.697 427.295 701.631 425.351 Q699.586 423.386 699.586 420.105 Q699.586 416.277 702.138 414.332 Q704.71 412.388 709.794 412.388 L715.019 412.388 L715.019 412.023 Q715.019 409.451 713.318 408.053 Q711.637 406.636 708.579 406.636 Q706.634 406.636 704.791 407.101 Q702.948 407.567 701.246 408.499 L701.246 405.056 Q703.292 404.266 705.216 403.881 Q707.14 403.476 708.963 403.476 Q713.885 403.476 716.316 406.028 Q718.746 408.58 718.746 413.765 Z\" fill=\"#000000\" fill-rule=\"nonzero\" fill-opacity=\"1\" /><path clip-path=\"url(#clip750)\" d=\"M1205.61 266.115 Q1205.61 262.003 1203.91 259.674 Q1202.23 257.324 1199.27 257.324 Q1196.31 257.324 1194.61 259.674 Q1192.93 262.003 1192.93 266.115 Q1192.93 270.227 1194.61 272.576 Q1196.31 274.905 1199.27 274.905 Q1202.23 274.905 1203.91 272.576 Q1205.61 270.227 1205.61 266.115 M1192.93 258.195 Q1194.11 256.17 1195.89 255.198 Q1197.69 254.205 1200.18 254.205 Q1204.31 254.205 1206.89 257.487 Q1209.48 260.768 1209.48 266.115 Q1209.48 271.462 1206.89 274.743 Q1204.31 278.025 1200.18 278.025 Q1197.69 278.025 1195.89 277.052 Q1194.11 276.06 1192.93 274.034 L1192.93 277.437 L1189.18 277.437 L1189.18 245.921 L1192.93 245.921 L1192.93 258.195 Z\" fill=\"#000000\" fill-rule=\"nonzero\" fill-opacity=\"1\" /><path clip-path=\"url(#clip750)\" d=\"M1215.27 268.485 L1215.27 254.752 L1219 254.752 L1219 268.343 Q1219 271.563 1220.25 273.184 Q1221.51 274.784 1224.02 274.784 Q1227.04 274.784 1228.78 272.86 Q1230.54 270.936 1230.54 267.614 L1230.54 254.752 L1234.27 254.752 L1234.27 277.437 L1230.54 277.437 L1230.54 273.953 Q1229.19 276.019 1227.38 277.032 Q1225.6 278.025 1223.23 278.025 Q1219.32 278.025 1217.3 275.594 Q1215.27 273.164 1215.27 268.485 M1224.65 254.205 L1224.65 254.205 Z\" fill=\"#000000\" fill-rule=\"nonzero\" fill-opacity=\"1\" /><path clip-path=\"url(#clip750)\" d=\"M1256.41 255.421 L1256.41 258.945 Q1254.83 258.135 1253.13 257.73 Q1251.43 257.324 1249.6 257.324 Q1246.83 257.324 1245.43 258.175 Q1244.05 259.026 1244.05 260.727 Q1244.05 262.024 1245.05 262.773 Q1246.04 263.502 1249.04 264.17 L1250.31 264.454 Q1254.28 265.305 1255.94 266.864 Q1257.62 268.404 1257.62 271.179 Q1257.62 274.338 1255.11 276.181 Q1252.62 278.025 1248.25 278.025 Q1246.42 278.025 1244.44 277.66 Q1242.47 277.316 1240.29 276.607 L1240.29 272.758 Q1242.35 273.832 1244.36 274.379 Q1246.36 274.905 1248.33 274.905 Q1250.96 274.905 1252.38 274.014 Q1253.8 273.103 1253.8 271.462 Q1253.8 269.943 1252.76 269.133 Q1251.75 268.323 1248.29 267.573 L1246.99 267.269 Q1243.53 266.54 1241.99 265.041 Q1240.45 263.522 1240.45 260.889 Q1240.45 257.689 1242.72 255.947 Q1244.99 254.205 1249.16 254.205 Q1251.22 254.205 1253.05 254.509 Q1254.87 254.813 1256.41 255.421 Z\" fill=\"#000000\" fill-rule=\"nonzero\" fill-opacity=\"1\" /><path clip-path=\"url(#clip750)\" d=\"M1280.8 284.324 L1280.8 287.22 L1259.24 287.22 L1259.24 284.324 L1280.8 284.324 Z\" fill=\"#000000\" fill-rule=\"nonzero\" fill-opacity=\"1\" /><path clip-path=\"url(#clip750)\" d=\"M1300.58 266.115 Q1300.58 262.003 1298.88 259.674 Q1297.2 257.324 1294.24 257.324 Q1291.29 257.324 1289.59 259.674 Q1287.9 262.003 1287.9 266.115 Q1287.9 270.227 1289.59 272.576 Q1291.29 274.905 1294.24 274.905 Q1297.2 274.905 1298.88 272.576 Q1300.58 270.227 1300.58 266.115 M1287.9 258.195 Q1289.08 256.17 1290.86 255.198 Q1292.66 254.205 1295.16 254.205 Q1299.29 254.205 1301.86 257.487 Q1304.45 260.768 1304.45 266.115 Q1304.45 271.462 1301.86 274.743 Q1299.29 278.025 1295.16 278.025 Q1292.66 278.025 1290.86 277.052 Q1289.08 276.06 1287.9 274.034 L1287.9 277.437 L1284.16 277.437 L1284.16 245.921 L1287.9 245.921 L1287.9 258.195 Z\" fill=\"#000000\" fill-rule=\"nonzero\" fill-opacity=\"1\" /><path clip-path=\"url(#clip750)\" d=\"M1698.39 598.56 Q1698.39 594.448 1696.69 592.119 Q1695.01 589.769 1692.05 589.769 Q1689.09 589.769 1687.39 592.119 Q1685.71 594.448 1685.71 598.56 Q1685.71 602.671 1687.39 605.021 Q1689.09 607.35 1692.05 607.35 Q1695.01 607.35 1696.69 605.021 Q1698.39 602.671 1698.39 598.56 M1685.71 590.64 Q1686.88 588.615 1688.67 587.642 Q1690.47 586.65 1692.96 586.65 Q1697.09 586.65 1699.67 589.931 Q1702.26 593.212 1702.26 598.56 Q1702.26 603.907 1699.67 607.188 Q1697.09 610.469 1692.96 610.469 Q1690.47 610.469 1688.67 609.497 Q1686.88 608.505 1685.71 606.479 L1685.71 609.882 L1681.96 609.882 L1681.96 578.366 L1685.71 578.366 L1685.71 590.64 Z\" fill=\"#000000\" fill-rule=\"nonzero\" fill-opacity=\"1\" /><path clip-path=\"url(#clip750)\" d=\"M1708.05 600.929 L1708.05 587.197 L1711.78 587.197 L1711.78 600.788 Q1711.78 604.008 1713.03 605.628 Q1714.29 607.229 1716.8 607.229 Q1719.82 607.229 1721.56 605.304 Q1723.32 603.38 1723.32 600.058 L1723.32 587.197 L1727.05 587.197 L1727.05 609.882 L1723.32 609.882 L1723.32 606.398 Q1721.97 608.464 1720.16 609.477 Q1718.38 610.469 1716.01 610.469 Q1712.1 610.469 1710.08 608.039 Q1708.05 605.608 1708.05 600.929 M1717.43 586.65 L1717.43 586.65 Z\" fill=\"#000000\" fill-rule=\"nonzero\" fill-opacity=\"1\" /><path clip-path=\"url(#clip750)\" d=\"M1749.19 587.865 L1749.19 591.39 Q1747.61 590.579 1745.91 590.174 Q1744.2 589.769 1742.38 589.769 Q1739.61 589.769 1738.21 590.62 Q1736.83 591.471 1736.83 593.172 Q1736.83 594.468 1737.82 595.218 Q1738.82 595.947 1741.81 596.615 L1743.09 596.899 Q1747.06 597.749 1748.72 599.309 Q1750.4 600.848 1750.4 603.623 Q1750.4 606.783 1747.89 608.626 Q1745.4 610.469 1741.02 610.469 Q1739.2 610.469 1737.22 610.105 Q1735.25 609.76 1733.06 609.051 L1733.06 605.203 Q1735.13 606.277 1737.14 606.823 Q1739.14 607.35 1741.11 607.35 Q1743.74 607.35 1745.16 606.459 Q1746.57 605.547 1746.57 603.907 Q1746.57 602.388 1745.54 601.578 Q1744.53 600.767 1741.07 600.018 L1739.77 599.714 Q1736.31 598.985 1734.77 597.486 Q1733.23 595.967 1733.23 593.334 Q1733.23 590.134 1735.5 588.392 Q1737.76 586.65 1741.94 586.65 Q1744 586.65 1745.83 586.954 Q1747.65 587.258 1749.19 587.865 Z\" fill=\"#000000\" fill-rule=\"nonzero\" fill-opacity=\"1\" /><path clip-path=\"url(#clip750)\" d=\"M1773.57 616.768 L1773.57 619.665 L1752.02 619.665 L1752.02 616.768 L1773.57 616.768 Z\" fill=\"#000000\" fill-rule=\"nonzero\" fill-opacity=\"1\" /><path clip-path=\"url(#clip750)\" d=\"M1793.4 588.068 L1793.4 591.552 Q1791.82 590.681 1790.22 590.255 Q1788.64 589.81 1787.02 589.81 Q1783.4 589.81 1781.39 592.119 Q1779.39 594.407 1779.39 598.56 Q1779.39 602.712 1781.39 605.021 Q1783.4 607.31 1787.02 607.31 Q1788.64 607.31 1790.22 606.884 Q1791.82 606.439 1793.4 605.568 L1793.4 609.011 Q1791.84 609.74 1790.16 610.105 Q1788.5 610.469 1786.62 610.469 Q1781.49 610.469 1778.48 607.249 Q1775.46 604.028 1775.46 598.56 Q1775.46 593.01 1778.5 589.83 Q1781.55 586.65 1786.86 586.65 Q1788.58 586.65 1790.22 587.015 Q1791.86 587.359 1793.4 588.068 Z\" fill=\"#000000\" fill-rule=\"nonzero\" fill-opacity=\"1\" /><path clip-path=\"url(#clip750)\" d=\"M1674.95 1341.48 Q1674.95 1337.37 1673.25 1335.04 Q1671.57 1332.69 1668.61 1332.69 Q1665.65 1332.69 1663.95 1335.04 Q1662.27 1337.37 1662.27 1341.48 Q1662.27 1345.59 1663.95 1347.94 Q1665.65 1350.27 1668.61 1350.27 Q1671.57 1350.27 1673.25 1347.94 Q1674.95 1345.59 1674.95 1341.48 M1662.27 1333.56 Q1663.44 1331.54 1665.23 1330.56 Q1667.03 1329.57 1669.52 1329.57 Q1673.65 1329.57 1676.22 1332.85 Q1678.82 1336.13 1678.82 1341.48 Q1678.82 1346.83 1676.22 1350.11 Q1673.65 1353.39 1669.52 1353.39 Q1667.03 1353.39 1665.23 1352.42 Q1663.44 1351.43 1662.27 1349.4 L1662.27 1352.8 L1658.52 1352.8 L1658.52 1321.29 L1662.27 1321.29 L1662.27 1333.56 Z\" fill=\"#000000\" fill-rule=\"nonzero\" fill-opacity=\"1\" /><path clip-path=\"url(#clip750)\" d=\"M1684.61 1343.85 L1684.61 1330.12 L1688.34 1330.12 L1688.34 1343.71 Q1688.34 1346.93 1689.59 1348.55 Q1690.85 1350.15 1693.36 1350.15 Q1696.38 1350.15 1698.12 1348.23 Q1699.88 1346.3 1699.88 1342.98 L1699.88 1330.12 L1703.61 1330.12 L1703.61 1352.8 L1699.88 1352.8 L1699.88 1349.32 Q1698.52 1351.38 1696.72 1352.4 Q1694.94 1353.39 1692.57 1353.39 Q1688.66 1353.39 1686.63 1350.96 Q1684.61 1348.53 1684.61 1343.85 M1693.99 1329.57 L1693.99 1329.57 Z\" fill=\"#000000\" fill-rule=\"nonzero\" fill-opacity=\"1\" /><path clip-path=\"url(#clip750)\" d=\"M1725.75 1330.79 L1725.75 1334.31 Q1724.17 1333.5 1722.47 1333.1 Q1720.76 1332.69 1718.94 1332.69 Q1716.17 1332.69 1714.77 1333.54 Q1713.39 1334.39 1713.39 1336.09 Q1713.39 1337.39 1714.38 1338.14 Q1715.38 1338.87 1718.37 1339.54 L1719.65 1339.82 Q1723.62 1340.67 1725.28 1342.23 Q1726.96 1343.77 1726.96 1346.54 Q1726.96 1349.7 1724.45 1351.55 Q1721.96 1353.39 1717.58 1353.39 Q1715.76 1353.39 1713.78 1353.03 Q1711.81 1352.68 1709.62 1351.97 L1709.62 1348.12 Q1711.69 1349.2 1713.69 1349.74 Q1715.7 1350.27 1717.66 1350.27 Q1720.3 1350.27 1721.72 1349.38 Q1723.13 1348.47 1723.13 1346.83 Q1723.13 1345.31 1722.1 1344.5 Q1721.09 1343.69 1717.62 1342.94 L1716.33 1342.64 Q1712.86 1341.91 1711.33 1340.41 Q1709.79 1338.89 1709.79 1336.25 Q1709.79 1333.05 1712.05 1331.31 Q1714.32 1329.57 1718.5 1329.57 Q1720.56 1329.57 1722.38 1329.87 Q1724.21 1330.18 1725.75 1330.79 Z\" fill=\"#000000\" fill-rule=\"nonzero\" fill-opacity=\"1\" /><path clip-path=\"url(#clip750)\" d=\"M1750.13 1359.69 L1750.13 1362.59 L1728.58 1362.59 L1728.58 1359.69 L1750.13 1359.69 Z\" fill=\"#000000\" fill-rule=\"nonzero\" fill-opacity=\"1\" /><path clip-path=\"url(#clip750)\" d=\"M1768.56 1333.56 L1768.56 1321.29 L1772.29 1321.29 L1772.29 1352.8 L1768.56 1352.8 L1768.56 1349.4 Q1767.39 1351.43 1765.59 1352.42 Q1763.8 1353.39 1761.29 1353.39 Q1757.18 1353.39 1754.59 1350.11 Q1752.02 1346.83 1752.02 1341.48 Q1752.02 1336.13 1754.59 1332.85 Q1757.18 1329.57 1761.29 1329.57 Q1763.8 1329.57 1765.59 1330.56 Q1767.39 1331.54 1768.56 1333.56 M1755.86 1341.48 Q1755.86 1345.59 1757.55 1347.94 Q1759.25 1350.27 1762.2 1350.27 Q1765.16 1350.27 1766.86 1347.94 Q1768.56 1345.59 1768.56 1341.48 Q1768.56 1337.37 1766.86 1335.04 Q1765.16 1332.69 1762.2 1332.69 Q1759.25 1332.69 1757.55 1335.04 Q1755.86 1337.37 1755.86 1341.48 Z\" fill=\"#000000\" fill-rule=\"nonzero\" fill-opacity=\"1\" /><path clip-path=\"url(#clip750)\" d=\"M580.862 868.081 L580.862 874.522 L588.539 874.522 L588.539 877.418 L580.862 877.418 L580.862 889.733 Q580.862 892.508 581.612 893.298 Q582.381 894.088 584.711 894.088 L588.539 894.088 L588.539 897.207 L584.711 897.207 Q580.397 897.207 578.756 895.607 Q577.115 893.987 577.115 889.733 L577.115 877.418 L574.381 877.418 L574.381 874.522 L577.115 874.522 L577.115 868.081 L580.862 868.081 Z\" fill=\"#000000\" fill-rule=\"nonzero\" fill-opacity=\"1\" /><path clip-path=\"url(#clip750)\" d=\"M606.586 878.006 Q605.958 877.641 605.208 877.479 Q604.479 877.297 603.588 877.297 Q600.428 877.297 598.727 879.363 Q597.046 881.409 597.046 885.257 L597.046 897.207 L593.299 897.207 L593.299 874.522 L597.046 874.522 L597.046 878.046 Q598.22 875.98 600.104 874.988 Q601.988 873.975 604.682 873.975 Q605.067 873.975 605.532 874.036 Q605.998 874.076 606.565 874.178 L606.586 878.006 Z\" fill=\"#000000\" fill-rule=\"nonzero\" fill-opacity=\"1\" /><path clip-path=\"url(#clip750)\" d=\"M620.804 885.804 Q616.288 885.804 614.546 886.837 Q612.804 887.87 612.804 890.361 Q612.804 892.346 614.1 893.521 Q615.417 894.675 617.665 894.675 Q620.764 894.675 622.627 892.488 Q624.511 890.28 624.511 886.634 L624.511 885.804 L620.804 885.804 M628.238 884.264 L628.238 897.207 L624.511 897.207 L624.511 893.764 Q623.235 895.83 621.331 896.822 Q619.427 897.794 616.672 897.794 Q613.189 897.794 611.123 895.85 Q609.077 893.885 609.077 890.604 Q609.077 886.776 611.629 884.832 Q614.201 882.887 619.285 882.887 L624.511 882.887 L624.511 882.523 Q624.511 879.95 622.809 878.553 Q621.128 877.135 618.07 877.135 Q616.125 877.135 614.282 877.601 Q612.439 878.067 610.738 878.998 L610.738 875.555 Q612.783 874.765 614.708 874.38 Q616.632 873.975 618.455 873.975 Q623.377 873.975 625.807 876.527 Q628.238 879.079 628.238 884.264 Z\" fill=\"#000000\" fill-rule=\"nonzero\" fill-opacity=\"1\" /><path clip-path=\"url(#clip750)\" d=\"M654.771 883.515 L654.771 897.207 L651.044 897.207 L651.044 883.637 Q651.044 880.416 649.789 878.816 Q648.533 877.216 646.021 877.216 Q643.003 877.216 641.261 879.14 Q639.519 881.064 639.519 884.386 L639.519 897.207 L635.772 897.207 L635.772 874.522 L639.519 874.522 L639.519 878.046 Q640.856 876.001 642.659 874.988 Q644.482 873.975 646.852 873.975 Q650.761 873.975 652.766 876.406 Q654.771 878.816 654.771 883.515 Z\" fill=\"#000000\" fill-rule=\"nonzero\" fill-opacity=\"1\" /><path clip-path=\"url(#clip750)\" d=\"M676.666 875.19 L676.666 878.715 Q675.086 877.905 673.385 877.499 Q671.684 877.094 669.861 877.094 Q667.086 877.094 665.688 877.945 Q664.311 878.796 664.311 880.497 Q664.311 881.793 665.303 882.543 Q666.296 883.272 669.294 883.94 L670.57 884.224 Q674.54 885.075 676.2 886.634 Q677.882 888.174 677.882 890.948 Q677.882 894.108 675.37 895.951 Q672.879 897.794 668.504 897.794 Q666.681 897.794 664.696 897.43 Q662.731 897.086 660.544 896.377 L660.544 892.528 Q662.61 893.602 664.615 894.149 Q666.62 894.675 668.585 894.675 Q671.218 894.675 672.636 893.784 Q674.053 892.873 674.053 891.232 Q674.053 889.713 673.02 888.903 Q672.008 888.093 668.544 887.343 L667.248 887.039 Q663.784 886.31 662.245 884.811 Q660.706 883.292 660.706 880.659 Q660.706 877.459 662.974 875.717 Q665.243 873.975 669.415 873.975 Q671.481 873.975 673.304 874.279 Q675.127 874.583 676.666 875.19 Z\" fill=\"#000000\" fill-rule=\"nonzero\" fill-opacity=\"1\" /><path clip-path=\"url(#clip750)\" d=\"M701.053 904.094 L701.053 906.99 L679.502 906.99 L679.502 904.094 L701.053 904.094 Z\" fill=\"#000000\" fill-rule=\"nonzero\" fill-opacity=\"1\" /><path clip-path=\"url(#clip750)\" d=\"M719.484 885.601 Q719.484 881.55 717.803 879.322 Q716.142 877.094 713.124 877.094 Q710.127 877.094 708.446 879.322 Q706.785 881.55 706.785 885.601 Q706.785 889.632 708.446 891.86 Q710.127 894.088 713.124 894.088 Q716.142 894.088 717.803 891.86 Q719.484 889.632 719.484 885.601 M723.211 894.392 Q723.211 900.185 720.639 903 Q718.066 905.836 712.76 905.836 Q710.795 905.836 709.053 905.532 Q707.311 905.248 705.671 904.641 L705.671 901.015 Q707.311 901.906 708.911 902.331 Q710.512 902.757 712.172 902.757 Q715.838 902.757 717.661 900.833 Q719.484 898.929 719.484 895.06 L719.484 893.217 Q718.33 895.222 716.527 896.215 Q714.724 897.207 712.213 897.207 Q708.041 897.207 705.488 894.027 Q702.936 890.847 702.936 885.601 Q702.936 880.335 705.488 877.155 Q708.041 873.975 712.213 873.975 Q714.724 873.975 716.527 874.968 Q718.33 875.96 719.484 877.965 L719.484 874.522 L723.211 874.522 L723.211 894.392 Z\" fill=\"#000000\" fill-rule=\"nonzero\" fill-opacity=\"1\" /><path clip-path=\"url(#clip750)\" d=\"M744.033 878.006 Q743.405 877.641 742.655 877.479 Q741.926 877.297 741.035 877.297 Q737.875 877.297 736.174 879.363 Q734.493 881.409 734.493 885.257 L734.493 897.207 L730.746 897.207 L730.746 874.522 L734.493 874.522 L734.493 878.046 Q735.668 875.98 737.551 874.988 Q739.435 873.975 742.129 873.975 Q742.514 873.975 742.98 874.036 Q743.445 874.076 744.013 874.178 L744.033 878.006 Z\" fill=\"#000000\" fill-rule=\"nonzero\" fill-opacity=\"1\" /><path clip-path=\"url(#clip750)\" d=\"M747.942 874.522 L751.669 874.522 L751.669 897.207 L747.942 897.207 L747.942 874.522 M747.942 865.691 L751.669 865.691 L751.669 870.41 L747.942 870.41 L747.942 865.691 Z\" fill=\"#000000\" fill-rule=\"nonzero\" fill-opacity=\"1\" /><path clip-path=\"url(#clip750)\" d=\"M774.394 877.965 L774.394 865.691 L778.121 865.691 L778.121 897.207 L774.394 897.207 L774.394 893.804 Q773.22 895.83 771.417 896.822 Q769.635 897.794 767.123 897.794 Q763.011 897.794 760.419 894.513 Q757.846 891.232 757.846 885.885 Q757.846 880.538 760.419 877.256 Q763.011 873.975 767.123 873.975 Q769.635 873.975 771.417 874.968 Q773.22 875.94 774.394 877.965 M761.695 885.885 Q761.695 889.996 763.376 892.346 Q765.077 894.675 768.034 894.675 Q770.992 894.675 772.693 892.346 Q774.394 889.996 774.394 885.885 Q774.394 881.773 772.693 879.444 Q770.992 877.094 768.034 877.094 Q765.077 877.094 763.376 879.444 Q761.695 881.773 761.695 885.885 Z\" fill=\"#000000\" fill-rule=\"nonzero\" fill-opacity=\"1\" /></svg>\n"
      ]
     },
     "execution_count": 5,
     "metadata": {},
     "output_type": "execute_result"
    }
   ],
   "source": [
    "graphplot(network.G, curves=false, names=[props(network.G, v)[:name] for v in 1:nv(network.G)]\n",
    ")"
   ]
  },
  {
   "cell_type": "code",
   "execution_count": 6,
   "id": "315ce2d1-d539-4a1e-ac8d-0767e3148445",
   "metadata": {},
   "outputs": [
    {
     "data": {
      "image/svg+xml": [
       "<?xml version=\"1.0\" encoding=\"utf-8\"?>\n",
       "<svg xmlns=\"http://www.w3.org/2000/svg\" xmlns:xlink=\"http://www.w3.org/1999/xlink\" width=\"600\" height=\"400\" viewBox=\"0 0 2400 1600\">\n",
       "<defs>\n",
       "  <clipPath id=\"clip780\">\n",
       "    <rect x=\"0\" y=\"0\" width=\"2400\" height=\"1600\"/>\n",
       "  </clipPath>\n",
       "</defs>\n",
       "<path clip-path=\"url(#clip780)\" d=\"M0 1600 L2400 1600 L2400 0 L0 0  Z\" fill=\"#ffffff\" fill-rule=\"evenodd\" fill-opacity=\"1\"/>\n",
       "<defs>\n",
       "  <clipPath id=\"clip781\">\n",
       "    <rect x=\"480\" y=\"0\" width=\"1681\" height=\"1600\"/>\n",
       "  </clipPath>\n",
       "</defs>\n",
       "<path clip-path=\"url(#clip780)\" d=\"M447.244 1552.76 L1952.76 1552.76 L1952.76 47.2441 L447.244 47.2441  Z\" fill=\"#ffffff\" fill-rule=\"evenodd\" fill-opacity=\"1\"/>\n",
       "<defs>\n",
       "  <clipPath id=\"clip782\">\n",
       "    <rect x=\"447\" y=\"47\" width=\"1507\" height=\"1507\"/>\n",
       "  </clipPath>\n",
       "</defs>\n",
       "<polyline clip-path=\"url(#clip782)\" style=\"stroke:#000000; stroke-linecap:round; stroke-linejoin:round; stroke-width:4; stroke-opacity:1; fill:none\" points=\"1470.39,262.317 1477.12,499.826 \"/>\n",
       "<polyline clip-path=\"url(#clip782)\" style=\"stroke:#000000; stroke-linecap:round; stroke-linejoin:round; stroke-width:4; stroke-opacity:1; fill:none\" points=\"1494.1,463.33 1477.12,499.826 1458.11,464.351 \"/>\n",
       "<polyline clip-path=\"url(#clip782)\" style=\"stroke:#000000; stroke-linecap:round; stroke-linejoin:round; stroke-width:4; stroke-opacity:1; fill:none\" points=\"1477.12,499.826 1470.39,262.317 \"/>\n",
       "<polyline clip-path=\"url(#clip782)\" style=\"stroke:#000000; stroke-linecap:round; stroke-linejoin:round; stroke-width:4; stroke-opacity:1; fill:none\" points=\"1451.01,559.675 1676.87,609.85 \"/>\n",
       "<polyline clip-path=\"url(#clip782)\" style=\"stroke:#000000; stroke-linecap:round; stroke-linejoin:round; stroke-width:4; stroke-opacity:1; fill:none\" points=\"1645.63,584.472 1676.87,609.85 1637.83,619.615 \"/>\n",
       "<polyline clip-path=\"url(#clip782)\" style=\"stroke:#000000; stroke-linecap:round; stroke-linejoin:round; stroke-width:4; stroke-opacity:1; fill:none\" points=\"1676.87,609.85 1451.01,559.675 \"/>\n",
       "<polyline clip-path=\"url(#clip782)\" style=\"stroke:#000000; stroke-linecap:round; stroke-linejoin:round; stroke-width:4; stroke-opacity:1; fill:none\" points=\"1451.01,559.675 1262.79,715.809 \"/>\n",
       "<polyline clip-path=\"url(#clip782)\" style=\"stroke:#000000; stroke-linecap:round; stroke-linejoin:round; stroke-width:4; stroke-opacity:1; fill:none\" points=\"1301.99,706.679 1262.79,715.809 1279.01,678.971 \"/>\n",
       "<polyline clip-path=\"url(#clip782)\" style=\"stroke:#000000; stroke-linecap:round; stroke-linejoin:round; stroke-width:4; stroke-opacity:1; fill:none\" points=\"1262.79,715.809 1451.01,559.675 \"/>\n",
       "<polyline clip-path=\"url(#clip782)\" style=\"stroke:#000000; stroke-linecap:round; stroke-linejoin:round; stroke-width:4; stroke-opacity:1; fill:none\" points=\"1203.06,732.043 1006.43,600.03 \"/>\n",
       "<polyline clip-path=\"url(#clip782)\" style=\"stroke:#000000; stroke-linecap:round; stroke-linejoin:round; stroke-width:4; stroke-opacity:1; fill:none\" points=\"1026.28,635.041 1006.43,600.03 1046.35,605.152 \"/>\n",
       "<polyline clip-path=\"url(#clip782)\" style=\"stroke:#000000; stroke-linecap:round; stroke-linejoin:round; stroke-width:4; stroke-opacity:1; fill:none\" points=\"1006.43,600.03 1203.06,732.043 \"/>\n",
       "<polyline clip-path=\"url(#clip782)\" style=\"stroke:#000000; stroke-linecap:round; stroke-linejoin:round; stroke-width:4; stroke-opacity:1; fill:none\" points=\"1203.06,732.043 1173.27,976.133 \"/>\n",
       "<polyline clip-path=\"url(#clip782)\" style=\"stroke:#000000; stroke-linecap:round; stroke-linejoin:round; stroke-width:4; stroke-opacity:1; fill:none\" points=\"1195.49,942.579 1173.27,976.133 1159.76,938.218 \"/>\n",
       "<polyline clip-path=\"url(#clip782)\" style=\"stroke:#000000; stroke-linecap:round; stroke-linejoin:round; stroke-width:4; stroke-opacity:1; fill:none\" points=\"1173.27,976.133 1203.06,732.043 \"/>\n",
       "<polyline clip-path=\"url(#clip782)\" style=\"stroke:#000000; stroke-linecap:round; stroke-linejoin:round; stroke-width:4; stroke-opacity:1; fill:none\" points=\"1137.78,1034.37 1270.51,1238.2 \"/>\n",
       "<polyline clip-path=\"url(#clip782)\" style=\"stroke:#000000; stroke-linecap:round; stroke-linejoin:round; stroke-width:4; stroke-opacity:1; fill:none\" points=\"1265.95,1198.21 1270.51,1238.2 1235.78,1217.85 \"/>\n",
       "<polyline clip-path=\"url(#clip782)\" style=\"stroke:#000000; stroke-linecap:round; stroke-linejoin:round; stroke-width:4; stroke-opacity:1; fill:none\" points=\"1270.51,1238.2 1137.78,1034.37 \"/>\n",
       "<polyline clip-path=\"url(#clip782)\" style=\"stroke:#000000; stroke-linecap:round; stroke-linejoin:round; stroke-width:4; stroke-opacity:1; fill:none\" points=\"1137.78,1034.37 946.595,1165.88 \"/>\n",
       "<polyline clip-path=\"url(#clip782)\" style=\"stroke:#000000; stroke-linecap:round; stroke-linejoin:round; stroke-width:4; stroke-opacity:1; fill:none\" points=\"986.456,1160.31 946.595,1165.88 966.053,1130.65 \"/>\n",
       "<polyline clip-path=\"url(#clip782)\" style=\"stroke:#000000; stroke-linecap:round; stroke-linejoin:round; stroke-width:4; stroke-opacity:1; fill:none\" points=\"946.595,1165.88 1137.78,1034.37 \"/>\n",
       "<polyline clip-path=\"url(#clip782)\" style=\"stroke:#000000; stroke-linecap:round; stroke-linejoin:round; stroke-width:4; stroke-opacity:1; fill:none\" points=\"883.131,1175.66 722.259,1321.81 \"/>\n",
       "<polyline clip-path=\"url(#clip782)\" style=\"stroke:#000000; stroke-linecap:round; stroke-linejoin:round; stroke-width:4; stroke-opacity:1; fill:none\" points=\"761.009,1310.92 722.259,1321.81 736.801,1284.28 \"/>\n",
       "<polyline clip-path=\"url(#clip782)\" style=\"stroke:#000000; stroke-linecap:round; stroke-linejoin:round; stroke-width:4; stroke-opacity:1; fill:none\" points=\"722.259,1321.81 883.131,1175.66 \"/>\n",
       "<path clip-path=\"url(#clip782)\" d=\"M1590.71 262.317 L1530.55 158.115 L1410.22 158.115 L1350.06 262.317 L1410.22 366.519 L1530.55 366.519 L1590.71 262.317 L1590.71 262.317  Z\" fill=\"#009af9\" fill-rule=\"evenodd\" fill-opacity=\"1\"/>\n",
       "<polyline clip-path=\"url(#clip782)\" style=\"stroke:#000000; stroke-linecap:round; stroke-linejoin:round; stroke-width:4; stroke-opacity:1; fill:none\" points=\"1590.71,262.317 1530.55,158.115 1410.22,158.115 1350.06,262.317 1410.22,366.519 1530.55,366.519 1590.71,262.317 \"/>\n",
       "<path clip-path=\"url(#clip782)\" d=\"M1520.12 559.675 L1485.57 499.826 L1416.46 499.826 L1381.91 559.675 L1416.46 619.523 L1485.57 619.523 L1520.12 559.675 L1520.12 559.675  Z\" fill=\"#009af9\" fill-rule=\"evenodd\" fill-opacity=\"1\"/>\n",
       "<polyline clip-path=\"url(#clip782)\" style=\"stroke:#000000; stroke-linecap:round; stroke-linejoin:round; stroke-width:4; stroke-opacity:1; fill:none\" points=\"1520.12,559.675 1485.57,499.826 1416.46,499.826 1381.91,559.675 1416.46,619.523 1485.57,619.523 1520.12,559.675 \"/>\n",
       "<path clip-path=\"url(#clip782)\" d=\"M1806.79 595.478 L1772.24 535.63 L1703.13 535.63 L1668.58 595.478 L1703.13 655.327 L1772.24 655.327 L1806.79 595.478 L1806.79 595.478  Z\" fill=\"#009af9\" fill-rule=\"evenodd\" fill-opacity=\"1\"/>\n",
       "<polyline clip-path=\"url(#clip782)\" style=\"stroke:#000000; stroke-linecap:round; stroke-linejoin:round; stroke-width:4; stroke-opacity:1; fill:none\" points=\"1806.79,595.478 1772.24,535.63 1703.13,535.63 1668.58,595.478 1703.13,655.327 1772.24,655.327 1806.79,595.478 \"/>\n",
       "<path clip-path=\"url(#clip782)\" d=\"M1272.16 732.043 L1237.61 672.195 L1168.5 672.195 L1133.95 732.043 L1168.5 791.891 L1237.61 791.891 L1272.16 732.043 L1272.16 732.043  Z\" fill=\"#009af9\" fill-rule=\"evenodd\" fill-opacity=\"1\"/>\n",
       "<polyline clip-path=\"url(#clip782)\" style=\"stroke:#000000; stroke-linecap:round; stroke-linejoin:round; stroke-width:4; stroke-opacity:1; fill:none\" points=\"1272.16,732.043 1237.61,672.195 1168.5,672.195 1133.95,732.043 1168.5,791.891 1237.61,791.891 1272.16,732.043 \"/>\n",
       "<path clip-path=\"url(#clip782)\" d=\"M1040.41 541.159 L1005.86 481.311 L936.754 481.311 L902.2 541.159 L936.754 601.007 L1005.86 601.007 L1040.41 541.159 L1040.41 541.159  Z\" fill=\"#009af9\" fill-rule=\"evenodd\" fill-opacity=\"1\"/>\n",
       "<polyline clip-path=\"url(#clip782)\" style=\"stroke:#000000; stroke-linecap:round; stroke-linejoin:round; stroke-width:4; stroke-opacity:1; fill:none\" points=\"1040.41,541.159 1005.86,481.311 936.754,481.311 902.2,541.159 936.754,601.007 1005.86,601.007 1040.41,541.159 \"/>\n",
       "<path clip-path=\"url(#clip782)\" d=\"M1206.89 1034.37 L1172.33 974.52 L1103.23 974.52 L1068.67 1034.37 L1103.23 1094.22 L1172.33 1094.22 L1206.89 1034.37 L1206.89 1034.37  Z\" fill=\"#009af9\" fill-rule=\"evenodd\" fill-opacity=\"1\"/>\n",
       "<polyline clip-path=\"url(#clip782)\" style=\"stroke:#000000; stroke-linecap:round; stroke-linejoin:round; stroke-width:4; stroke-opacity:1; fill:none\" points=\"1206.89,1034.37 1172.33,974.52 1103.23,974.52 1068.67,1034.37 1103.23,1094.22 1172.33,1094.22 1206.89,1034.37 1206.89,1034.37 \"/>\n",
       "<path clip-path=\"url(#clip782)\" d=\"M1390.22 1270.25 L1355.67 1210.4 L1286.56 1210.4 L1252.01 1270.25 L1286.56 1330.1 L1355.67 1330.1 L1390.22 1270.25 L1390.22 1270.25  Z\" fill=\"#009af9\" fill-rule=\"evenodd\" fill-opacity=\"1\"/>\n",
       "<polyline clip-path=\"url(#clip782)\" style=\"stroke:#000000; stroke-linecap:round; stroke-linejoin:round; stroke-width:4; stroke-opacity:1; fill:none\" points=\"1390.22,1270.25 1355.67,1210.4 1286.56,1210.4 1252.01,1270.25 1286.56,1330.1 1355.67,1330.1 1390.22,1270.25 \"/>\n",
       "<path clip-path=\"url(#clip782)\" d=\"M952.238 1175.66 L917.685 1115.81 L848.577 1115.81 L814.024 1175.66 L848.577 1235.51 L917.685 1235.51 L952.238 1175.66 L952.238 1175.66  Z\" fill=\"#009af9\" fill-rule=\"evenodd\" fill-opacity=\"1\"/>\n",
       "<polyline clip-path=\"url(#clip782)\" style=\"stroke:#000000; stroke-linecap:round; stroke-linejoin:round; stroke-width:4; stroke-opacity:1; fill:none\" points=\"952.238,1175.66 917.685,1115.81 848.577,1115.81 814.024,1175.66 848.577,1235.51 917.685,1235.51 952.238,1175.66 \"/>\n",
       "<path clip-path=\"url(#clip782)\" d=\"M731.424 1337.68 L696.871 1277.83 L627.764 1277.83 L593.21 1337.68 L627.764 1397.53 L696.871 1397.53 L731.424 1337.68 L731.424 1337.68  Z\" fill=\"#009af9\" fill-rule=\"evenodd\" fill-opacity=\"1\"/>\n",
       "<polyline clip-path=\"url(#clip782)\" style=\"stroke:#000000; stroke-linecap:round; stroke-linejoin:round; stroke-width:4; stroke-opacity:1; fill:none\" points=\"731.424,1337.68 696.871,1277.83 627.764,1277.83 593.21,1337.68 627.764,1397.53 696.871,1397.53 731.424,1337.68 \"/>\n",
       "<path clip-path=\"url(#clip782)\" d=\"M1470.39 262.717 L1470.04 262.517 L1470.04 262.117 L1470.39 261.917 L1470.73 262.117 L1470.73 262.517 Z\" fill=\"#009af9\" fill-rule=\"evenodd\" fill-opacity=\"1\" stroke=\"#000000\" stroke-opacity=\"1\" stroke-width=\"3.2\"/>\n",
       "<path clip-path=\"url(#clip782)\" d=\"M1451.01 560.075 L1450.67 559.875 L1450.67 559.475 L1451.01 559.275 L1451.36 559.475 L1451.36 559.875 Z\" fill=\"#009af9\" fill-rule=\"evenodd\" fill-opacity=\"1\" stroke=\"#000000\" stroke-opacity=\"1\" stroke-width=\"3.2\"/>\n",
       "<path clip-path=\"url(#clip782)\" d=\"M1737.68 595.878 L1737.34 595.678 L1737.34 595.278 L1737.68 595.078 L1738.03 595.278 L1738.03 595.678 Z\" fill=\"#009af9\" fill-rule=\"evenodd\" fill-opacity=\"1\" stroke=\"#000000\" stroke-opacity=\"1\" stroke-width=\"3.2\"/>\n",
       "<path clip-path=\"url(#clip782)\" d=\"M1203.06 732.443 L1202.71 732.243 L1202.71 731.843 L1203.06 731.643 L1203.4 731.843 L1203.4 732.243 Z\" fill=\"#009af9\" fill-rule=\"evenodd\" fill-opacity=\"1\" stroke=\"#000000\" stroke-opacity=\"1\" stroke-width=\"3.2\"/>\n",
       "<path clip-path=\"url(#clip782)\" d=\"M971.307 541.559 L970.961 541.359 L970.961 540.959 L971.307 540.759 L971.654 540.959 L971.654 541.359 Z\" fill=\"#009af9\" fill-rule=\"evenodd\" fill-opacity=\"1\" stroke=\"#000000\" stroke-opacity=\"1\" stroke-width=\"3.2\"/>\n",
       "<path clip-path=\"url(#clip782)\" d=\"M1137.78 1034.77 L1137.43 1034.57 L1137.43 1034.17 L1137.78 1033.97 L1138.13 1034.17 L1138.13 1034.57 Z\" fill=\"#009af9\" fill-rule=\"evenodd\" fill-opacity=\"1\" stroke=\"#000000\" stroke-opacity=\"1\" stroke-width=\"3.2\"/>\n",
       "<path clip-path=\"url(#clip782)\" d=\"M1321.11 1270.65 L1320.77 1270.45 L1320.77 1270.05 L1321.11 1269.85 L1321.46 1270.05 L1321.46 1270.45 Z\" fill=\"#009af9\" fill-rule=\"evenodd\" fill-opacity=\"1\" stroke=\"#000000\" stroke-opacity=\"1\" stroke-width=\"3.2\"/>\n",
       "<path clip-path=\"url(#clip782)\" d=\"M883.131 1176.06 L882.785 1175.86 L882.785 1175.46 L883.131 1175.26 L883.477 1175.46 L883.477 1175.86 Z\" fill=\"#009af9\" fill-rule=\"evenodd\" fill-opacity=\"1\" stroke=\"#000000\" stroke-opacity=\"1\" stroke-width=\"3.2\"/>\n",
       "<path clip-path=\"url(#clip782)\" d=\"M662.317 1338.08 L661.971 1337.88 L661.971 1337.48 L662.317 1337.28 L662.664 1337.48 L662.664 1337.88 Z\" fill=\"#009af9\" fill-rule=\"evenodd\" fill-opacity=\"1\" stroke=\"#000000\" stroke-opacity=\"1\" stroke-width=\"3.2\"/>\n",
       "<path clip-path=\"url(#clip780)\" d=\"M1375 248.311 L1375 254.752 L1382.67 254.752 L1382.67 257.649 L1375 257.649 L1375 269.963 Q1375 272.738 1375.75 273.528 Q1376.52 274.318 1378.85 274.318 L1382.67 274.318 L1382.67 277.437 L1378.85 277.437 Q1374.53 277.437 1372.89 275.837 Q1371.25 274.217 1371.25 269.963 L1371.25 257.649 L1368.52 257.649 L1368.52 254.752 L1371.25 254.752 L1371.25 248.311 L1375 248.311 Z\" fill=\"#000000\" fill-rule=\"nonzero\" fill-opacity=\"1\" /><path clip-path=\"url(#clip780)\" d=\"M1400.72 258.236 Q1400.09 257.871 1399.34 257.709 Q1398.61 257.527 1397.72 257.527 Q1394.56 257.527 1392.86 259.593 Q1391.18 261.639 1391.18 265.487 L1391.18 277.437 L1387.43 277.437 L1387.43 254.752 L1391.18 254.752 L1391.18 258.276 Q1392.35 256.21 1394.24 255.218 Q1396.12 254.205 1398.82 254.205 Q1399.2 254.205 1399.67 254.266 Q1400.13 254.307 1400.7 254.408 L1400.72 258.236 Z\" fill=\"#000000\" fill-rule=\"nonzero\" fill-opacity=\"1\" /><path clip-path=\"url(#clip780)\" d=\"M1414.94 266.034 Q1410.42 266.034 1408.68 267.067 Q1406.94 268.1 1406.94 270.591 Q1406.94 272.576 1408.23 273.751 Q1409.55 274.905 1411.8 274.905 Q1414.9 274.905 1416.76 272.718 Q1418.65 270.51 1418.65 266.864 L1418.65 266.034 L1414.94 266.034 M1422.37 264.495 L1422.37 277.437 L1418.65 277.437 L1418.65 273.994 Q1417.37 276.06 1415.47 277.052 Q1413.56 278.025 1410.81 278.025 Q1407.32 278.025 1405.26 276.08 Q1403.21 274.115 1403.21 270.834 Q1403.21 267.006 1405.76 265.062 Q1408.34 263.117 1413.42 263.117 L1418.65 263.117 L1418.65 262.753 Q1418.65 260.18 1416.94 258.783 Q1415.26 257.365 1412.2 257.365 Q1410.26 257.365 1408.42 257.831 Q1406.57 258.297 1404.87 259.228 L1404.87 255.785 Q1406.92 254.995 1408.84 254.61 Q1410.77 254.205 1412.59 254.205 Q1417.51 254.205 1419.94 256.757 Q1422.37 259.309 1422.37 264.495 Z\" fill=\"#000000\" fill-rule=\"nonzero\" fill-opacity=\"1\" /><path clip-path=\"url(#clip780)\" d=\"M1448.91 263.745 L1448.91 277.437 L1445.18 277.437 L1445.18 263.867 Q1445.18 260.646 1443.92 259.046 Q1442.67 257.446 1440.16 257.446 Q1437.14 257.446 1435.4 259.37 Q1433.65 261.294 1433.65 264.616 L1433.65 277.437 L1429.91 277.437 L1429.91 254.752 L1433.65 254.752 L1433.65 258.276 Q1434.99 256.231 1436.79 255.218 Q1438.62 254.205 1440.99 254.205 Q1444.9 254.205 1446.9 256.636 Q1448.91 259.046 1448.91 263.745 Z\" fill=\"#000000\" fill-rule=\"nonzero\" fill-opacity=\"1\" /><path clip-path=\"url(#clip780)\" d=\"M1470.8 255.421 L1470.8 258.945 Q1469.22 258.135 1467.52 257.73 Q1465.82 257.324 1464 257.324 Q1461.22 257.324 1459.82 258.175 Q1458.45 259.026 1458.45 260.727 Q1458.45 262.024 1459.44 262.773 Q1460.43 263.502 1463.43 264.17 L1464.7 264.454 Q1468.67 265.305 1470.33 266.864 Q1472.02 268.404 1472.02 271.179 Q1472.02 274.338 1469.5 276.181 Q1467.01 278.025 1462.64 278.025 Q1460.82 278.025 1458.83 277.66 Q1456.87 277.316 1454.68 276.607 L1454.68 272.758 Q1456.74 273.832 1458.75 274.379 Q1460.75 274.905 1462.72 274.905 Q1465.35 274.905 1466.77 274.014 Q1468.19 273.103 1468.19 271.462 Q1468.19 269.943 1467.15 269.133 Q1466.14 268.323 1462.68 267.573 L1461.38 267.269 Q1457.92 266.54 1456.38 265.041 Q1454.84 263.522 1454.84 260.889 Q1454.84 257.689 1457.11 255.947 Q1459.38 254.205 1463.55 254.205 Q1465.62 254.205 1467.44 254.509 Q1469.26 254.813 1470.8 255.421 Z\" fill=\"#000000\" fill-rule=\"nonzero\" fill-opacity=\"1\" /><path clip-path=\"url(#clip780)\" d=\"M1495.19 284.324 L1495.19 287.22 L1473.64 287.22 L1473.64 284.324 L1495.19 284.324 Z\" fill=\"#000000\" fill-rule=\"nonzero\" fill-opacity=\"1\" /><path clip-path=\"url(#clip780)\" d=\"M1513.62 265.831 Q1513.62 261.78 1511.94 259.552 Q1510.28 257.324 1507.26 257.324 Q1504.26 257.324 1502.58 259.552 Q1500.92 261.78 1500.92 265.831 Q1500.92 269.862 1502.58 272.09 Q1504.26 274.318 1507.26 274.318 Q1510.28 274.318 1511.94 272.09 Q1513.62 269.862 1513.62 265.831 M1517.35 274.622 Q1517.35 280.415 1514.77 283.23 Q1512.2 286.066 1506.89 286.066 Q1504.93 286.066 1503.19 285.762 Q1501.45 285.478 1499.81 284.871 L1499.81 281.245 Q1501.45 282.136 1503.05 282.562 Q1504.65 282.987 1506.31 282.987 Q1509.97 282.987 1511.8 281.063 Q1513.62 279.159 1513.62 275.29 L1513.62 273.447 Q1512.46 275.452 1510.66 276.445 Q1508.86 277.437 1506.35 277.437 Q1502.18 277.437 1499.62 274.257 Q1497.07 271.077 1497.07 265.831 Q1497.07 260.565 1499.62 257.385 Q1502.18 254.205 1506.35 254.205 Q1508.86 254.205 1510.66 255.198 Q1512.46 256.19 1513.62 258.195 L1513.62 254.752 L1517.35 254.752 L1517.35 274.622 Z\" fill=\"#000000\" fill-rule=\"nonzero\" fill-opacity=\"1\" /><path clip-path=\"url(#clip780)\" d=\"M1538.17 258.236 Q1537.54 257.871 1536.79 257.709 Q1536.06 257.527 1535.17 257.527 Q1532.01 257.527 1530.31 259.593 Q1528.63 261.639 1528.63 265.487 L1528.63 277.437 L1524.88 277.437 L1524.88 254.752 L1528.63 254.752 L1528.63 258.276 Q1529.8 256.21 1531.69 255.218 Q1533.57 254.205 1536.26 254.205 Q1536.65 254.205 1537.11 254.266 Q1537.58 254.307 1538.15 254.408 L1538.17 258.236 Z\" fill=\"#000000\" fill-rule=\"nonzero\" fill-opacity=\"1\" /><path clip-path=\"url(#clip780)\" d=\"M1542.08 254.752 L1545.8 254.752 L1545.8 277.437 L1542.08 277.437 L1542.08 254.752 M1542.08 245.921 L1545.8 245.921 L1545.8 250.64 L1542.08 250.64 L1542.08 245.921 Z\" fill=\"#000000\" fill-rule=\"nonzero\" fill-opacity=\"1\" /><path clip-path=\"url(#clip780)\" d=\"M1568.53 258.195 L1568.53 245.921 L1572.26 245.921 L1572.26 277.437 L1568.53 277.437 L1568.53 274.034 Q1567.35 276.06 1565.55 277.052 Q1563.77 278.025 1561.26 278.025 Q1557.15 278.025 1554.55 274.743 Q1551.98 271.462 1551.98 266.115 Q1551.98 260.768 1554.55 257.487 Q1557.15 254.205 1561.26 254.205 Q1563.77 254.205 1565.55 255.198 Q1567.35 256.17 1568.53 258.195 M1555.83 266.115 Q1555.83 270.227 1557.51 272.576 Q1559.21 274.905 1562.17 274.905 Q1565.13 274.905 1566.83 272.576 Q1568.53 270.227 1568.53 266.115 Q1568.53 262.003 1566.83 259.674 Q1565.13 257.324 1562.17 257.324 Q1559.21 257.324 1557.51 259.674 Q1555.83 262.003 1555.83 266.115 Z\" fill=\"#000000\" fill-rule=\"nonzero\" fill-opacity=\"1\" /><path clip-path=\"url(#clip780)\" d=\"M1410.56 563.472 Q1410.56 559.361 1408.85 557.031 Q1407.17 554.682 1404.22 554.682 Q1401.26 554.682 1399.56 557.031 Q1397.88 559.361 1397.88 563.472 Q1397.88 567.584 1399.56 569.934 Q1401.26 572.263 1404.22 572.263 Q1407.17 572.263 1408.85 569.934 Q1410.56 567.584 1410.56 563.472 M1397.88 555.553 Q1399.05 553.527 1400.83 552.555 Q1402.64 551.563 1405.13 551.563 Q1409.26 551.563 1411.83 554.844 Q1414.42 558.125 1414.42 563.472 Q1414.42 568.82 1411.83 572.101 Q1409.26 575.382 1405.13 575.382 Q1402.64 575.382 1400.83 574.41 Q1399.05 573.417 1397.88 571.392 L1397.88 574.795 L1394.13 574.795 L1394.13 543.279 L1397.88 543.279 L1397.88 555.553 Z\" fill=\"#000000\" fill-rule=\"nonzero\" fill-opacity=\"1\" /><path clip-path=\"url(#clip780)\" d=\"M1420.22 565.842 L1420.22 552.11 L1423.94 552.11 L1423.94 565.7 Q1423.94 568.921 1425.2 570.541 Q1426.46 572.141 1428.97 572.141 Q1431.99 572.141 1433.73 570.217 Q1435.49 568.293 1435.49 564.971 L1435.49 552.11 L1439.22 552.11 L1439.22 574.795 L1435.49 574.795 L1435.49 571.311 Q1434.13 573.377 1432.33 574.39 Q1430.55 575.382 1428.18 575.382 Q1424.27 575.382 1422.24 572.952 Q1420.22 570.521 1420.22 565.842 M1429.6 551.563 L1429.6 551.563 Z\" fill=\"#000000\" fill-rule=\"nonzero\" fill-opacity=\"1\" /><path clip-path=\"url(#clip780)\" d=\"M1461.35 552.778 L1461.35 556.302 Q1459.77 555.492 1458.07 555.087 Q1456.37 554.682 1454.55 554.682 Q1451.77 554.682 1450.38 555.533 Q1449 556.383 1449 558.085 Q1449 559.381 1449.99 560.13 Q1450.98 560.86 1453.98 561.528 L1455.26 561.812 Q1459.23 562.662 1460.89 564.222 Q1462.57 565.761 1462.57 568.536 Q1462.57 571.696 1460.06 573.539 Q1457.57 575.382 1453.19 575.382 Q1451.37 575.382 1449.38 575.017 Q1447.42 574.673 1445.23 573.964 L1445.23 570.116 Q1447.3 571.189 1449.3 571.736 Q1451.31 572.263 1453.27 572.263 Q1455.91 572.263 1457.32 571.372 Q1458.74 570.46 1458.74 568.82 Q1458.74 567.3 1457.71 566.49 Q1456.7 565.68 1453.23 564.931 L1451.94 564.627 Q1448.47 563.898 1446.93 562.399 Q1445.39 560.88 1445.39 558.247 Q1445.39 555.047 1447.66 553.305 Q1449.93 551.563 1454.1 551.563 Q1456.17 551.563 1457.99 551.867 Q1459.81 552.17 1461.35 552.778 Z\" fill=\"#000000\" fill-rule=\"nonzero\" fill-opacity=\"1\" /><path clip-path=\"url(#clip780)\" d=\"M1485.74 581.681 L1485.74 584.578 L1464.19 584.578 L1464.19 581.681 L1485.74 581.681 Z\" fill=\"#000000\" fill-rule=\"nonzero\" fill-opacity=\"1\" /><path clip-path=\"url(#clip780)\" d=\"M1490.48 571.351 L1497.16 571.351 L1497.16 548.282 L1489.89 549.74 L1489.89 546.013 L1497.12 544.555 L1501.22 544.555 L1501.22 571.351 L1507.9 571.351 L1507.9 574.795 L1490.48 574.795 L1490.48 571.351 Z\" fill=\"#000000\" fill-rule=\"nonzero\" fill-opacity=\"1\" /><path clip-path=\"url(#clip780)\" d=\"M1697.68 599.276 Q1697.68 595.164 1695.98 592.835 Q1694.3 590.485 1691.34 590.485 Q1688.38 590.485 1686.68 592.835 Q1685 595.164 1685 599.276 Q1685 603.388 1686.68 605.737 Q1688.38 608.066 1691.34 608.066 Q1694.3 608.066 1695.98 605.737 Q1697.68 603.388 1697.68 599.276 M1685 591.356 Q1686.18 589.331 1687.96 588.359 Q1689.76 587.366 1692.25 587.366 Q1696.38 587.366 1698.96 590.648 Q1701.55 593.929 1701.55 599.276 Q1701.55 604.623 1698.96 607.904 Q1696.38 611.186 1692.25 611.186 Q1689.76 611.186 1687.96 610.213 Q1686.18 609.221 1685 607.195 L1685 610.598 L1681.25 610.598 L1681.25 579.082 L1685 579.082 L1685 591.356 Z\" fill=\"#000000\" fill-rule=\"nonzero\" fill-opacity=\"1\" /><path clip-path=\"url(#clip780)\" d=\"M1707.34 601.646 L1707.34 587.913 L1711.07 587.913 L1711.07 601.504 Q1711.07 604.724 1712.32 606.345 Q1713.58 607.945 1716.09 607.945 Q1719.11 607.945 1720.85 606.021 Q1722.61 604.097 1722.61 600.775 L1722.61 587.913 L1726.34 587.913 L1726.34 610.598 L1722.61 610.598 L1722.61 607.114 Q1721.26 609.18 1719.45 610.193 Q1717.67 611.186 1715.3 611.186 Q1711.39 611.186 1709.37 608.755 Q1707.34 606.325 1707.34 601.646 M1716.72 587.366 L1716.72 587.366 Z\" fill=\"#000000\" fill-rule=\"nonzero\" fill-opacity=\"1\" /><path clip-path=\"url(#clip780)\" d=\"M1748.48 588.582 L1748.48 592.106 Q1746.9 591.296 1745.2 590.891 Q1743.5 590.485 1741.67 590.485 Q1738.9 590.485 1737.5 591.336 Q1736.12 592.187 1736.12 593.888 Q1736.12 595.185 1737.12 595.934 Q1738.11 596.663 1741.11 597.332 L1742.38 597.615 Q1746.35 598.466 1748.01 600.025 Q1749.69 601.565 1749.69 604.34 Q1749.69 607.499 1747.18 609.342 Q1744.69 611.186 1740.32 611.186 Q1738.49 611.186 1736.51 610.821 Q1734.54 610.477 1732.36 609.768 L1732.36 605.919 Q1734.42 606.993 1736.43 607.54 Q1738.43 608.066 1740.4 608.066 Q1743.03 608.066 1744.45 607.175 Q1745.87 606.264 1745.87 604.623 Q1745.87 603.104 1744.83 602.294 Q1743.82 601.484 1740.36 600.734 L1739.06 600.43 Q1735.6 599.701 1734.06 598.202 Q1732.52 596.683 1732.52 594.05 Q1732.52 590.85 1734.79 589.108 Q1737.05 587.366 1741.23 587.366 Q1743.29 587.366 1745.12 587.67 Q1746.94 587.974 1748.48 588.582 Z\" fill=\"#000000\" fill-rule=\"nonzero\" fill-opacity=\"1\" /><path clip-path=\"url(#clip780)\" d=\"M1772.86 617.485 L1772.86 620.381 L1751.31 620.381 L1751.31 617.485 L1772.86 617.485 Z\" fill=\"#000000\" fill-rule=\"nonzero\" fill-opacity=\"1\" /><path clip-path=\"url(#clip780)\" d=\"M1786.68 599.195 Q1782.16 599.195 1780.42 600.228 Q1778.68 601.261 1778.68 603.752 Q1778.68 605.737 1779.97 606.912 Q1781.29 608.066 1783.54 608.066 Q1786.64 608.066 1788.5 605.879 Q1790.39 603.671 1790.39 600.025 L1790.39 599.195 L1786.68 599.195 M1794.11 597.656 L1794.11 610.598 L1790.39 610.598 L1790.39 607.155 Q1789.11 609.221 1787.21 610.213 Q1785.3 611.186 1782.55 611.186 Q1779.06 611.186 1777 609.241 Q1774.95 607.276 1774.95 603.995 Q1774.95 600.167 1777.5 598.223 Q1780.08 596.278 1785.16 596.278 L1790.39 596.278 L1790.39 595.914 Q1790.39 593.341 1788.68 591.944 Q1787 590.526 1783.94 590.526 Q1782 590.526 1780.16 590.992 Q1778.31 591.458 1776.61 592.389 L1776.61 588.946 Q1778.66 588.156 1780.58 587.771 Q1782.51 587.366 1784.33 587.366 Q1789.25 587.366 1791.68 589.918 Q1794.11 592.47 1794.11 597.656 Z\" fill=\"#000000\" fill-rule=\"nonzero\" fill-opacity=\"1\" /><path clip-path=\"url(#clip780)\" d=\"M1162.76 735.841 Q1162.76 731.729 1161.06 729.4 Q1159.38 727.05 1156.42 727.05 Q1153.46 727.05 1151.76 729.4 Q1150.08 731.729 1150.08 735.841 Q1150.08 739.952 1151.76 742.302 Q1153.46 744.631 1156.42 744.631 Q1159.38 744.631 1161.06 742.302 Q1162.76 739.952 1162.76 735.841 M1150.08 727.921 Q1151.26 725.896 1153.04 724.924 Q1154.84 723.931 1157.33 723.931 Q1161.46 723.931 1164.04 727.212 Q1166.63 730.494 1166.63 735.841 Q1166.63 741.188 1164.04 744.469 Q1161.46 747.75 1157.33 747.75 Q1154.84 747.75 1153.04 746.778 Q1151.26 745.786 1150.08 743.76 L1150.08 747.163 L1146.33 747.163 L1146.33 715.647 L1150.08 715.647 L1150.08 727.921 Z\" fill=\"#000000\" fill-rule=\"nonzero\" fill-opacity=\"1\" /><path clip-path=\"url(#clip780)\" d=\"M1172.42 738.211 L1172.42 724.478 L1176.15 724.478 L1176.15 738.069 Q1176.15 741.289 1177.4 742.91 Q1178.66 744.51 1181.17 744.51 Q1184.19 744.51 1185.93 742.585 Q1187.69 740.661 1187.69 737.34 L1187.69 724.478 L1191.42 724.478 L1191.42 747.163 L1187.69 747.163 L1187.69 743.679 Q1186.34 745.745 1184.53 746.758 Q1182.75 747.75 1180.38 747.75 Q1176.47 747.75 1174.45 745.32 Q1172.42 742.889 1172.42 738.211 M1181.8 723.931 L1181.8 723.931 Z\" fill=\"#000000\" fill-rule=\"nonzero\" fill-opacity=\"1\" /><path clip-path=\"url(#clip780)\" d=\"M1213.56 725.146 L1213.56 728.671 Q1211.98 727.86 1210.28 727.455 Q1208.58 727.05 1206.75 727.05 Q1203.98 727.05 1202.58 727.901 Q1201.2 728.752 1201.2 730.453 Q1201.2 731.749 1202.2 732.499 Q1203.19 733.228 1206.19 733.896 L1207.46 734.18 Q1211.43 735.031 1213.09 736.59 Q1214.77 738.129 1214.77 740.904 Q1214.77 744.064 1212.26 745.907 Q1209.77 747.75 1205.4 747.75 Q1203.57 747.75 1201.59 747.386 Q1199.62 747.041 1197.44 746.333 L1197.44 742.484 Q1199.5 743.558 1201.51 744.105 Q1203.51 744.631 1205.48 744.631 Q1208.11 744.631 1209.53 743.74 Q1210.95 742.829 1210.95 741.188 Q1210.95 739.669 1209.91 738.859 Q1208.9 738.048 1205.44 737.299 L1204.14 736.995 Q1200.68 736.266 1199.14 734.767 Q1197.6 733.248 1197.6 730.615 Q1197.6 727.415 1199.87 725.673 Q1202.13 723.931 1206.31 723.931 Q1208.37 723.931 1210.2 724.235 Q1212.02 724.539 1213.56 725.146 Z\" fill=\"#000000\" fill-rule=\"nonzero\" fill-opacity=\"1\" /><path clip-path=\"url(#clip780)\" d=\"M1237.94 754.05 L1237.94 756.946 L1216.39 756.946 L1216.39 754.05 L1237.94 754.05 Z\" fill=\"#000000\" fill-rule=\"nonzero\" fill-opacity=\"1\" /><path clip-path=\"url(#clip780)\" d=\"M1245.5 743.72 L1259.78 743.72 L1259.78 747.163 L1240.58 747.163 L1240.58 743.72 Q1242.91 741.309 1246.92 737.259 Q1250.95 733.187 1251.98 732.013 Q1253.95 729.805 1254.72 728.286 Q1255.51 726.746 1255.51 725.268 Q1255.51 722.858 1253.8 721.338 Q1252.12 719.819 1249.41 719.819 Q1247.48 719.819 1245.34 720.488 Q1243.21 721.156 1240.78 722.513 L1240.78 718.381 Q1243.25 717.389 1245.4 716.882 Q1247.55 716.376 1249.33 716.376 Q1254.03 716.376 1256.82 718.726 Q1259.62 721.075 1259.62 725.005 Q1259.62 726.868 1258.91 728.549 Q1258.22 730.21 1256.38 732.478 Q1255.87 733.066 1253.16 735.881 Q1250.44 738.676 1245.5 743.72 Z\" fill=\"#000000\" fill-rule=\"nonzero\" fill-opacity=\"1\" /><path clip-path=\"url(#clip780)\" d=\"M930.1 544.957 Q930.1 540.845 928.398 538.516 Q926.717 536.166 923.76 536.166 Q920.803 536.166 919.101 538.516 Q917.42 540.845 917.42 544.957 Q917.42 549.068 919.101 551.418 Q920.803 553.747 923.76 553.747 Q926.717 553.747 928.398 551.418 Q930.1 549.068 930.1 544.957 M917.42 537.037 Q918.595 535.012 920.377 534.04 Q922.18 533.047 924.671 533.047 Q928.803 533.047 931.376 536.328 Q933.968 539.61 933.968 544.957 Q933.968 550.304 931.376 553.585 Q928.803 556.866 924.671 556.866 Q922.18 556.866 920.377 555.894 Q918.595 554.902 917.42 552.876 L917.42 556.279 L913.673 556.279 L913.673 524.763 L917.42 524.763 L917.42 537.037 Z\" fill=\"#000000\" fill-rule=\"nonzero\" fill-opacity=\"1\" /><path clip-path=\"url(#clip780)\" d=\"M939.761 547.326 L939.761 533.594 L943.488 533.594 L943.488 547.185 Q943.488 550.405 944.744 552.026 Q945.999 553.626 948.511 553.626 Q951.529 553.626 953.271 551.701 Q955.033 549.777 955.033 546.456 L955.033 533.594 L958.76 533.594 L958.76 556.279 L955.033 556.279 L955.033 552.795 Q953.676 554.861 951.873 555.874 Q950.091 556.866 947.721 556.866 Q943.812 556.866 941.786 554.436 Q939.761 552.005 939.761 547.326 M949.139 533.047 L949.139 533.047 Z\" fill=\"#000000\" fill-rule=\"nonzero\" fill-opacity=\"1\" /><path clip-path=\"url(#clip780)\" d=\"M980.898 534.262 L980.898 537.787 Q979.318 536.976 977.617 536.571 Q975.915 536.166 974.092 536.166 Q971.318 536.166 969.92 537.017 Q968.543 537.868 968.543 539.569 Q968.543 540.865 969.535 541.615 Q970.528 542.344 973.525 543.012 L974.801 543.296 Q978.771 544.147 980.432 545.706 Q982.113 547.245 982.113 550.02 Q982.113 553.18 979.602 555.023 Q977.11 556.866 972.735 556.866 Q970.912 556.866 968.928 556.502 Q966.963 556.157 964.775 555.449 L964.775 551.6 Q966.841 552.674 968.847 553.221 Q970.852 553.747 972.816 553.747 Q975.449 553.747 976.867 552.856 Q978.285 551.945 978.285 550.304 Q978.285 548.785 977.252 547.975 Q976.239 547.164 972.776 546.415 L971.48 546.111 Q968.016 545.382 966.477 543.883 Q964.937 542.364 964.937 539.731 Q964.937 536.531 967.206 534.789 Q969.474 533.047 973.647 533.047 Q975.713 533.047 977.536 533.351 Q979.359 533.655 980.898 534.262 Z\" fill=\"#000000\" fill-rule=\"nonzero\" fill-opacity=\"1\" /><path clip-path=\"url(#clip780)\" d=\"M1005.28 563.166 L1005.28 566.062 L983.734 566.062 L983.734 563.166 L1005.28 563.166 Z\" fill=\"#000000\" fill-rule=\"nonzero\" fill-opacity=\"1\" /><path clip-path=\"url(#clip780)\" d=\"M1025.07 544.957 Q1025.07 540.845 1023.37 538.516 Q1021.69 536.166 1018.73 536.166 Q1015.78 536.166 1014.07 538.516 Q1012.39 540.845 1012.39 544.957 Q1012.39 549.068 1014.07 551.418 Q1015.78 553.747 1018.73 553.747 Q1021.69 553.747 1023.37 551.418 Q1025.07 549.068 1025.07 544.957 M1012.39 537.037 Q1013.57 535.012 1015.35 534.04 Q1017.15 533.047 1019.64 533.047 Q1023.78 533.047 1026.35 536.328 Q1028.94 539.61 1028.94 544.957 Q1028.94 550.304 1026.35 553.585 Q1023.78 556.866 1019.64 556.866 Q1017.15 556.866 1015.35 555.894 Q1013.57 554.902 1012.39 552.876 L1012.39 556.279 L1008.65 556.279 L1008.65 524.763 L1012.39 524.763 L1012.39 537.037 Z\" fill=\"#000000\" fill-rule=\"nonzero\" fill-opacity=\"1\" /><path clip-path=\"url(#clip780)\" d=\"M1097.07 1038.17 Q1097.07 1034.05 1095.37 1031.73 Q1093.69 1029.38 1090.73 1029.38 Q1087.77 1029.38 1086.07 1031.73 Q1084.39 1034.05 1084.39 1038.17 Q1084.39 1042.28 1086.07 1044.63 Q1087.77 1046.96 1090.73 1046.96 Q1093.69 1046.96 1095.37 1044.63 Q1097.07 1042.28 1097.07 1038.17 M1084.39 1030.25 Q1085.56 1028.22 1087.35 1027.25 Q1089.15 1026.26 1091.64 1026.26 Q1095.77 1026.26 1098.35 1029.54 Q1100.94 1032.82 1100.94 1038.17 Q1100.94 1043.51 1098.35 1046.79 Q1095.77 1050.08 1091.64 1050.08 Q1089.15 1050.08 1087.35 1049.1 Q1085.56 1048.11 1084.39 1046.09 L1084.39 1049.49 L1080.64 1049.49 L1080.64 1017.97 L1084.39 1017.97 L1084.39 1030.25 Z\" fill=\"#000000\" fill-rule=\"nonzero\" fill-opacity=\"1\" /><path clip-path=\"url(#clip780)\" d=\"M1106.73 1040.54 L1106.73 1026.8 L1110.46 1026.8 L1110.46 1040.39 Q1110.46 1043.61 1111.71 1045.23 Q1112.97 1046.84 1115.48 1046.84 Q1118.5 1046.84 1120.24 1044.91 Q1122 1042.99 1122 1039.66 L1122 1026.8 L1125.73 1026.8 L1125.73 1049.49 L1122 1049.49 L1122 1046 Q1120.65 1048.07 1118.84 1049.08 Q1117.06 1050.08 1114.69 1050.08 Q1110.78 1050.08 1108.76 1047.65 Q1106.73 1045.21 1106.73 1040.54 M1116.11 1026.26 L1116.11 1026.26 Z\" fill=\"#000000\" fill-rule=\"nonzero\" fill-opacity=\"1\" /><path clip-path=\"url(#clip780)\" d=\"M1147.87 1027.47 L1147.87 1031 Q1146.29 1030.19 1144.59 1029.78 Q1142.89 1029.38 1141.06 1029.38 Q1138.29 1029.38 1136.89 1030.23 Q1135.51 1031.08 1135.51 1032.78 Q1135.51 1034.07 1136.51 1034.82 Q1137.5 1035.55 1140.5 1036.22 L1141.77 1036.51 Q1145.74 1037.36 1147.4 1038.92 Q1149.08 1040.45 1149.08 1043.23 Q1149.08 1046.39 1146.57 1048.23 Q1144.08 1050.08 1139.71 1050.08 Q1137.88 1050.08 1135.9 1049.71 Q1133.93 1049.37 1131.75 1048.66 L1131.75 1044.81 Q1133.81 1045.88 1135.82 1046.43 Q1137.82 1046.96 1139.79 1046.96 Q1142.42 1046.96 1143.84 1046.07 Q1145.26 1045.15 1145.26 1043.51 Q1145.26 1041.99 1144.22 1041.18 Q1143.21 1040.37 1139.75 1039.62 L1138.45 1039.32 Q1134.99 1038.59 1133.45 1037.09 Q1131.91 1035.57 1131.91 1032.94 Q1131.91 1029.74 1134.18 1028 Q1136.44 1026.26 1140.62 1026.26 Q1142.68 1026.26 1144.51 1026.56 Q1146.33 1026.86 1147.87 1027.47 Z\" fill=\"#000000\" fill-rule=\"nonzero\" fill-opacity=\"1\" /><path clip-path=\"url(#clip780)\" d=\"M1172.25 1056.37 L1172.25 1059.27 L1150.7 1059.27 L1150.7 1056.37 L1172.25 1056.37 Z\" fill=\"#000000\" fill-rule=\"nonzero\" fill-opacity=\"1\" /><path clip-path=\"url(#clip780)\" d=\"M1188.68 1033.18 Q1191.62 1033.81 1193.26 1035.8 Q1194.92 1037.78 1194.92 1040.7 Q1194.92 1045.17 1191.84 1047.63 Q1188.76 1050.08 1183.09 1050.08 Q1181.19 1050.08 1179.16 1049.69 Q1177.16 1049.33 1175.01 1048.58 L1175.01 1044.63 Q1176.71 1045.62 1178.74 1046.13 Q1180.76 1046.63 1182.97 1046.63 Q1186.82 1046.63 1188.82 1045.11 Q1190.85 1043.59 1190.85 1040.7 Q1190.85 1038.02 1188.96 1036.53 Q1187.1 1035.01 1183.76 1035.01 L1180.23 1035.01 L1180.23 1031.64 L1183.92 1031.64 Q1186.94 1031.64 1188.54 1030.45 Q1190.14 1029.23 1190.14 1026.97 Q1190.14 1024.64 1188.48 1023.4 Q1186.84 1022.14 1183.76 1022.14 Q1182.08 1022.14 1180.15 1022.51 Q1178.23 1022.87 1175.92 1023.64 L1175.92 1020 Q1178.25 1019.35 1180.28 1019.03 Q1182.32 1018.7 1184.12 1018.7 Q1188.78 1018.7 1191.5 1020.83 Q1194.21 1022.93 1194.21 1026.54 Q1194.21 1029.05 1192.77 1030.79 Q1191.33 1032.52 1188.68 1033.18 Z\" fill=\"#000000\" fill-rule=\"nonzero\" fill-opacity=\"1\" /><path clip-path=\"url(#clip780)\" d=\"M1281.82 1274.05 Q1281.82 1269.94 1280.12 1267.61 Q1278.44 1265.26 1275.48 1265.26 Q1272.52 1265.26 1270.82 1267.61 Q1269.14 1269.94 1269.14 1274.05 Q1269.14 1278.16 1270.82 1280.51 Q1272.52 1282.84 1275.48 1282.84 Q1278.44 1282.84 1280.12 1280.51 Q1281.82 1278.16 1281.82 1274.05 M1269.14 1266.13 Q1270.32 1264.1 1272.1 1263.13 Q1273.9 1262.14 1276.39 1262.14 Q1280.52 1262.14 1283.1 1265.42 Q1285.69 1268.7 1285.69 1274.05 Q1285.69 1279.39 1283.1 1282.68 Q1280.52 1285.96 1276.39 1285.96 Q1273.9 1285.96 1272.1 1284.98 Q1270.32 1283.99 1269.14 1281.97 L1269.14 1285.37 L1265.39 1285.37 L1265.39 1253.85 L1269.14 1253.85 L1269.14 1266.13 Z\" fill=\"#000000\" fill-rule=\"nonzero\" fill-opacity=\"1\" /><path clip-path=\"url(#clip780)\" d=\"M1291.48 1276.42 L1291.48 1262.68 L1295.21 1262.68 L1295.21 1276.28 Q1295.21 1279.5 1296.46 1281.12 Q1297.72 1282.72 1300.23 1282.72 Q1303.25 1282.72 1304.99 1280.79 Q1306.75 1278.87 1306.75 1275.55 L1306.75 1262.68 L1310.48 1262.68 L1310.48 1285.37 L1306.75 1285.37 L1306.75 1281.89 Q1305.4 1283.95 1303.59 1284.96 Q1301.81 1285.96 1299.44 1285.96 Q1295.53 1285.96 1293.51 1283.53 Q1291.48 1281.1 1291.48 1276.42 M1300.86 1262.14 L1300.86 1262.14 Z\" fill=\"#000000\" fill-rule=\"nonzero\" fill-opacity=\"1\" /><path clip-path=\"url(#clip780)\" d=\"M1332.62 1263.35 L1332.62 1266.88 Q1331.04 1266.07 1329.34 1265.66 Q1327.64 1265.26 1325.81 1265.26 Q1323.04 1265.26 1321.64 1266.11 Q1320.26 1266.96 1320.26 1268.66 Q1320.26 1269.96 1321.26 1270.71 Q1322.25 1271.43 1325.25 1272.1 L1326.52 1272.39 Q1330.49 1273.24 1332.15 1274.8 Q1333.83 1276.34 1333.83 1279.11 Q1333.83 1282.27 1331.32 1284.11 Q1328.83 1285.96 1324.46 1285.96 Q1322.63 1285.96 1320.65 1285.59 Q1318.68 1285.25 1316.5 1284.54 L1316.5 1280.69 Q1318.56 1281.76 1320.57 1282.31 Q1322.57 1282.84 1324.54 1282.84 Q1327.17 1282.84 1328.59 1281.95 Q1330.01 1281.04 1330.01 1279.39 Q1330.01 1277.88 1328.97 1277.07 Q1327.96 1276.25 1324.5 1275.51 L1323.2 1275.2 Q1319.74 1274.47 1318.2 1272.97 Q1316.66 1271.45 1316.66 1268.82 Q1316.66 1265.62 1318.93 1263.88 Q1321.19 1262.14 1325.37 1262.14 Q1327.43 1262.14 1329.26 1262.44 Q1331.08 1262.75 1332.62 1263.35 Z\" fill=\"#000000\" fill-rule=\"nonzero\" fill-opacity=\"1\" /><path clip-path=\"url(#clip780)\" d=\"M1357 1292.26 L1357 1295.15 L1335.45 1295.15 L1335.45 1292.26 L1357 1292.26 Z\" fill=\"#000000\" fill-rule=\"nonzero\" fill-opacity=\"1\" /><path clip-path=\"url(#clip780)\" d=\"M1376.83 1263.56 L1376.83 1267.04 Q1375.25 1266.17 1373.65 1265.74 Q1372.07 1265.3 1370.45 1265.3 Q1366.83 1265.3 1364.82 1267.61 Q1362.82 1269.9 1362.82 1274.05 Q1362.82 1278.2 1364.82 1280.51 Q1366.83 1282.8 1370.45 1282.8 Q1372.07 1282.8 1373.65 1282.37 Q1375.25 1281.93 1376.83 1281.06 L1376.83 1284.5 Q1375.27 1285.23 1373.59 1285.59 Q1371.93 1285.96 1370.05 1285.96 Q1364.92 1285.96 1361.91 1282.74 Q1358.89 1279.52 1358.89 1274.05 Q1358.89 1268.5 1361.93 1265.32 Q1364.98 1262.14 1370.29 1262.14 Q1372.01 1262.14 1373.65 1262.5 Q1375.29 1262.85 1376.83 1263.56 Z\" fill=\"#000000\" fill-rule=\"nonzero\" fill-opacity=\"1\" /><path clip-path=\"url(#clip780)\" d=\"M841.923 1179.46 Q841.923 1175.34 840.222 1173.02 Q838.541 1170.67 835.584 1170.67 Q832.626 1170.67 830.925 1173.02 Q829.244 1175.34 829.244 1179.46 Q829.244 1183.57 830.925 1185.92 Q832.626 1188.25 835.584 1188.25 Q838.541 1188.25 840.222 1185.92 Q841.923 1183.57 841.923 1179.46 M829.244 1171.54 Q830.419 1169.51 832.201 1168.54 Q834.004 1167.55 836.495 1167.55 Q840.627 1167.55 843.199 1170.83 Q845.792 1174.11 845.792 1179.46 Q845.792 1184.8 843.199 1188.08 Q840.627 1191.37 836.495 1191.37 Q834.004 1191.37 832.201 1190.39 Q830.419 1189.4 829.244 1187.38 L829.244 1190.78 L825.497 1190.78 L825.497 1159.26 L829.244 1159.26 L829.244 1171.54 Z\" fill=\"#000000\" fill-rule=\"nonzero\" fill-opacity=\"1\" /><path clip-path=\"url(#clip780)\" d=\"M851.585 1181.83 L851.585 1168.09 L855.311 1168.09 L855.311 1181.68 Q855.311 1184.9 856.567 1186.52 Q857.823 1188.12 860.335 1188.12 Q863.352 1188.12 865.094 1186.2 Q866.856 1184.28 866.856 1180.95 L866.856 1168.09 L870.583 1168.09 L870.583 1190.78 L866.856 1190.78 L866.856 1187.29 Q865.499 1189.36 863.697 1190.37 Q861.914 1191.37 859.545 1191.37 Q855.635 1191.37 853.61 1188.94 Q851.585 1186.5 851.585 1181.83 M860.962 1167.55 L860.962 1167.55 Z\" fill=\"#000000\" fill-rule=\"nonzero\" fill-opacity=\"1\" /><path clip-path=\"url(#clip780)\" d=\"M892.722 1168.76 L892.722 1172.29 Q891.142 1171.48 889.44 1171.07 Q887.739 1170.67 885.916 1170.67 Q883.141 1170.67 881.744 1171.52 Q880.366 1172.37 880.366 1174.07 Q880.366 1175.36 881.359 1176.11 Q882.351 1176.84 885.349 1177.51 L886.625 1177.8 Q890.595 1178.65 892.256 1180.21 Q893.937 1181.74 893.937 1184.52 Q893.937 1187.68 891.425 1189.52 Q888.934 1191.37 884.559 1191.37 Q882.736 1191.37 880.751 1191 Q878.786 1190.66 876.599 1189.95 L876.599 1186.1 Q878.665 1187.17 880.67 1187.72 Q882.675 1188.25 884.64 1188.25 Q887.273 1188.25 888.691 1187.36 Q890.109 1186.44 890.109 1184.8 Q890.109 1183.28 889.076 1182.47 Q888.063 1181.66 884.599 1180.91 L883.303 1180.61 Q879.84 1179.88 878.3 1178.38 Q876.761 1176.86 876.761 1174.23 Q876.761 1171.03 879.029 1169.29 Q881.298 1167.55 885.47 1167.55 Q887.536 1167.55 889.359 1167.85 Q891.182 1168.15 892.722 1168.76 Z\" fill=\"#000000\" fill-rule=\"nonzero\" fill-opacity=\"1\" /><path clip-path=\"url(#clip780)\" d=\"M917.108 1197.66 L917.108 1200.56 L895.557 1200.56 L895.557 1197.66 L917.108 1197.66 Z\" fill=\"#000000\" fill-rule=\"nonzero\" fill-opacity=\"1\" /><path clip-path=\"url(#clip780)\" d=\"M932.38 1164.1 L922.05 1180.25 L932.38 1180.25 L932.38 1164.1 M931.306 1160.54 L936.451 1160.54 L936.451 1180.25 L940.765 1180.25 L940.765 1183.65 L936.451 1183.65 L936.451 1190.78 L932.38 1190.78 L932.38 1183.65 L918.728 1183.65 L918.728 1179.7 L931.306 1160.54 Z\" fill=\"#000000\" fill-rule=\"nonzero\" fill-opacity=\"1\" /><path clip-path=\"url(#clip780)\" d=\"M621.859 1341.48 Q621.859 1337.37 620.157 1335.04 Q618.476 1332.69 615.519 1332.69 Q612.562 1332.69 610.861 1335.04 Q609.179 1337.37 609.179 1341.48 Q609.179 1345.59 610.861 1347.94 Q612.562 1350.27 615.519 1350.27 Q618.476 1350.27 620.157 1347.94 Q621.859 1345.59 621.859 1341.48 M609.179 1333.56 Q610.354 1331.54 612.137 1330.56 Q613.939 1329.57 616.431 1329.57 Q620.563 1329.57 623.135 1332.85 Q625.727 1336.13 625.727 1341.48 Q625.727 1346.83 623.135 1350.11 Q620.563 1353.39 616.431 1353.39 Q613.939 1353.39 612.137 1352.42 Q610.354 1351.43 609.179 1349.4 L609.179 1352.8 L605.432 1352.8 L605.432 1321.29 L609.179 1321.29 L609.179 1333.56 Z\" fill=\"#000000\" fill-rule=\"nonzero\" fill-opacity=\"1\" /><path clip-path=\"url(#clip780)\" d=\"M631.52 1343.85 L631.52 1330.12 L635.247 1330.12 L635.247 1343.71 Q635.247 1346.93 636.503 1348.55 Q637.759 1350.15 640.27 1350.15 Q643.288 1350.15 645.03 1348.23 Q646.792 1346.3 646.792 1342.98 L646.792 1330.12 L650.519 1330.12 L650.519 1352.8 L646.792 1352.8 L646.792 1349.32 Q645.435 1351.38 643.632 1352.4 Q641.85 1353.39 639.48 1353.39 Q635.571 1353.39 633.546 1350.96 Q631.52 1348.53 631.52 1343.85 M640.898 1329.57 L640.898 1329.57 Z\" fill=\"#000000\" fill-rule=\"nonzero\" fill-opacity=\"1\" /><path clip-path=\"url(#clip780)\" d=\"M672.657 1330.79 L672.657 1334.31 Q671.077 1333.5 669.376 1333.1 Q667.675 1332.69 665.852 1332.69 Q663.077 1332.69 661.679 1333.54 Q660.302 1334.39 660.302 1336.09 Q660.302 1337.39 661.294 1338.14 Q662.287 1338.87 665.284 1339.54 L666.561 1339.82 Q670.53 1340.67 672.191 1342.23 Q673.872 1343.77 673.872 1346.54 Q673.872 1349.7 671.361 1351.55 Q668.87 1353.39 664.495 1353.39 Q662.672 1353.39 660.687 1353.03 Q658.722 1352.68 656.535 1351.97 L656.535 1348.12 Q658.601 1349.2 660.606 1349.74 Q662.611 1350.27 664.576 1350.27 Q667.209 1350.27 668.626 1349.38 Q670.044 1348.47 670.044 1346.83 Q670.044 1345.31 669.011 1344.5 Q667.999 1343.69 664.535 1342.94 L663.239 1342.64 Q659.775 1341.91 658.236 1340.41 Q656.697 1338.89 656.697 1336.25 Q656.697 1333.05 658.965 1331.31 Q661.234 1329.57 665.406 1329.57 Q667.472 1329.57 669.295 1329.87 Q671.118 1330.18 672.657 1330.79 Z\" fill=\"#000000\" fill-rule=\"nonzero\" fill-opacity=\"1\" /><path clip-path=\"url(#clip780)\" d=\"M697.044 1359.69 L697.044 1362.59 L675.493 1362.59 L675.493 1359.69 L697.044 1359.69 Z\" fill=\"#000000\" fill-rule=\"nonzero\" fill-opacity=\"1\" /><path clip-path=\"url(#clip780)\" d=\"M715.475 1333.56 L715.475 1321.29 L719.202 1321.29 L719.202 1352.8 L715.475 1352.8 L715.475 1349.4 Q714.3 1351.43 712.498 1352.42 Q710.715 1353.39 708.204 1353.39 Q704.092 1353.39 701.5 1350.11 Q698.927 1346.83 698.927 1341.48 Q698.927 1336.13 701.5 1332.85 Q704.092 1329.57 708.204 1329.57 Q710.715 1329.57 712.498 1330.56 Q714.3 1331.54 715.475 1333.56 M702.776 1341.48 Q702.776 1345.59 704.457 1347.94 Q706.158 1350.27 709.115 1350.27 Q712.072 1350.27 713.774 1347.94 Q715.475 1345.59 715.475 1341.48 Q715.475 1337.37 713.774 1335.04 Q712.072 1332.69 709.115 1332.69 Q706.158 1332.69 704.457 1335.04 Q702.776 1337.37 702.776 1341.48 Z\" fill=\"#000000\" fill-rule=\"nonzero\" fill-opacity=\"1\" /></svg>\n"
      ]
     },
     "execution_count": 6,
     "metadata": {},
     "output_type": "execute_result"
    }
   ],
   "source": [
    "graphplot(network.radial, curves=false, names=[props(network.radial, v)[:name] for v in 1:nv(network.radial)]\n",
    ")"
   ]
  },
  {
   "cell_type": "code",
   "execution_count": 31,
   "id": "03450640-6069-4618-9787-8287b3b13f9d",
   "metadata": {},
   "outputs": [
    {
     "name": "stderr",
     "output_type": "stream",
     "text": [
      "\u001b[36m\u001b[1m[ \u001b[22m\u001b[39m\u001b[36m\u001b[1mInfo: \u001b[22m\u001b[39mProcessing line RelDist.Branch{String}(\"trans_grid\", \"bus_1\")\n",
      "\u001b[36m\u001b[1m[ \u001b[22m\u001b[39m\u001b[36m\u001b[1mInfo: \u001b[22m\u001b[39mProcessing line RelDist.Branch{String}(\"bus_1\", \"bus_2\")\n",
      "\u001b[36m\u001b[1m[ \u001b[22m\u001b[39m\u001b[36m\u001b[1mInfo: \u001b[22m\u001b[39mProcessing line RelDist.Branch{String}(\"bus_2\", \"bus_3\")\n",
      "\u001b[36m\u001b[1m[ \u001b[22m\u001b[39m\u001b[36m\u001b[1mInfo: \u001b[22m\u001b[39mProcessing line RelDist.Branch{String}(\"bus_3\", \"bus_4\")\n",
      "\u001b[36m\u001b[1m[ \u001b[22m\u001b[39m\u001b[36m\u001b[1mInfo: \u001b[22m\u001b[39mProcessing line RelDist.Branch{String}(\"bus_4\", \"bus_d\")\n",
      "\u001b[36m\u001b[1m[ \u001b[22m\u001b[39m\u001b[36m\u001b[1mInfo: \u001b[22m\u001b[39mProcessing line RelDist.Branch{String}(\"bus_3\", \"bus_c\")\n",
      "\u001b[36m\u001b[1m[ \u001b[22m\u001b[39m\u001b[36m\u001b[1mInfo: \u001b[22m\u001b[39mProcessing line RelDist.Branch{String}(\"bus_2\", \"bus_b\")\n",
      "\u001b[36m\u001b[1m[ \u001b[22m\u001b[39m\u001b[36m\u001b[1mInfo: \u001b[22m\u001b[39mProcessing line RelDist.Branch{String}(\"bus_1\", \"bus_a\")\n"
     ]
    },
    {
     "data": {
      "text/plain": [
       "(RelStruct([4.0 4.0 … 0.5 0.5; 4.0 4.0 … 0.5 0.5; 4.0 4.0 … 2.0 0.5; 4.0 4.0 … 2.0 2.0], [1.0 0.5 … 2.0 1.0; 0.8 0.4 … 1.6 0.8; 0.6000000000000001 0.30000000000000004 … 1.2000000000000002 0.6000000000000001; 0.4 0.2 … 0.8 0.4], [4.0 2.0 … 1.0 0.5; 3.2 1.6 … 0.8 0.4; 2.4000000000000004 1.2000000000000002 … 2.4000000000000004 0.30000000000000004; 1.6 0.8 … 1.6 0.8], [4.0 2.0 … 1.0 0.5; 3.2 1.6 … 0.8 0.4; 2.4000000000000004 1.2000000000000002 … 2.4000000000000004 0.30000000000000004; 1.6 0.8 … 1.6 0.8]), RelStruct([0.002 0.002 … 0.002 0.002; 0.002 0.002 … 0.002 0.002; 0.002 0.002 … 0.002 0.002; 0.002 0.002 … 0.002 0.002], [0.05 0.05 … 0.05 0.05; 0.04 0.04 … 0.04 0.04; 0.03 0.03 … 0.03 0.03; 0.02 0.02 … 0.02 0.02], [0.0001 0.0001 … 0.0001 0.0001; 8.0e-5 8.0e-5 … 8.0e-5 8.0e-5; 6.0e-5 6.0e-5 … 6.0e-5 6.0e-5; 4.0e-5 4.0e-5 … 4.0e-5 4.0e-5], [0.0001 0.0001 … 0.0001 0.0001; 8.0e-5 8.0e-5 … 8.0e-5 8.0e-5; 6.0e-5 6.0e-5 … 6.0e-5 6.0e-5; 4.0e-5 4.0e-5 … 4.0e-5 4.0e-5]), RelDist.Load[RelDist.Load(\"load_a\", \"bus_a\", 5), RelDist.Load(\"load_b\", \"bus_b\", 4), RelDist.Load(\"load_c\", \"bus_c\", 3), RelDist.Load(\"load_d\", \"bus_d\", 2)], \u001b[1m8×4 DataFrame\u001b[0m\n",
       "\u001b[1m Row \u001b[0m│\u001b[1m index \u001b[0m\u001b[1m f_bus      \u001b[0m\u001b[1m t_bus  \u001b[0m\u001b[1m name      \u001b[0m\n",
       "     │\u001b[90m Int64 \u001b[0m\u001b[90m String     \u001b[0m\u001b[90m String \u001b[0m\u001b[90m String    \u001b[0m\n",
       "─────┼──────────────────────────────────────\n",
       "   1 │     1  trans_grid  bus_1   line_1\n",
       "   2 │     2  bus_1       bus_2   line_2\n",
       "   3 │     3  bus_2       bus_3   line_3\n",
       "   4 │     4  bus_3       bus_4   line_4\n",
       "   5 │     5  bus_1       bus_a   section_a\n",
       "   6 │     6  bus_2       bus_b   section_b\n",
       "   7 │     7  bus_3       bus_c   section_c\n",
       "   8 │     8  bus_4       bus_d   section_d)"
      ]
     },
     "execution_count": 31,
     "metadata": {},
     "output_type": "execute_result"
    }
   ],
   "source": [
    "res, rest, L, edge_pos = relrad_calc(interruption, cost_functions, network)"
   ]
  },
  {
   "cell_type": "code",
   "execution_count": 8,
   "id": "278ac978-6348-4959-9ded-5fd10a3ef045",
   "metadata": {},
   "outputs": [
    {
     "data": {
      "text/plain": [
       "4×8 Matrix{Float64}:\n",
       " 0.0001  0.0001  0.0001  0.0001  0.0001  0.0001  0.0001  0.0001\n",
       " 8.0e-5  8.0e-5  8.0e-5  8.0e-5  8.0e-5  8.0e-5  8.0e-5  8.0e-5\n",
       " 6.0e-5  6.0e-5  6.0e-5  6.0e-5  6.0e-5  6.0e-5  6.0e-5  6.0e-5\n",
       " 4.0e-5  4.0e-5  4.0e-5  4.0e-5  4.0e-5  4.0e-5  4.0e-5  4.0e-5"
      ]
     },
     "execution_count": 8,
     "metadata": {},
     "output_type": "execute_result"
    }
   ],
   "source": [
    "rest.ENS"
   ]
  },
  {
   "cell_type": "code",
   "execution_count": 35,
   "id": "377f6df3-9b87-493e-bfd7-12fb73ede5bf",
   "metadata": {},
   "outputs": [
    {
     "data": {
      "text/plain": [
       "8×4 adjoint(::Matrix{Float64}) with eltype Float64:\n",
       " 4.0   3.2  2.4  1.6\n",
       " 2.0   1.6  1.2  0.8\n",
       " 0.75  4.8  3.6  2.4\n",
       " 0.5   0.4  2.4  1.6\n",
       " 2.0   1.6  1.2  0.8\n",
       " 1.5   4.8  3.6  2.4\n",
       " 1.0   0.8  2.4  1.6\n",
       " 0.5   0.4  0.3  0.8"
      ]
     },
     "execution_count": 35,
     "metadata": {},
     "output_type": "execute_result"
    }
   ],
   "source": [
    "res.ENS'"
   ]
  },
  {
   "cell_type": "code",
   "execution_count": 43,
   "id": "9482b1c8-5950-43a8-9ab5-e41905b3d0ef",
   "metadata": {},
   "outputs": [
    {
     "data": {
      "text/plain": [
       "{9, 8} undirected Int64 metagraph with Float64 weights defined by :weight (default weight 1.0)"
      ]
     },
     "execution_count": 43,
     "metadata": {},
     "output_type": "execute_result"
    }
   ],
   "source": [
    "copy_g = MetaGraph(copy(network.G))"
   ]
  },
  {
   "cell_type": "code",
   "execution_count": 44,
   "id": "57285283-7742-4a92-9fdb-94ab33965408",
   "metadata": {},
   "outputs": [
    {
     "data": {
      "text/plain": [
       "{0, 0} directed Int64 metagraph with Float64 weights defined by :weight (default weight 1.0)"
      ]
     },
     "execution_count": 44,
     "metadata": {},
     "output_type": "execute_result"
    }
   ],
   "source": [
    "newgraph = MetaDiGraph()"
   ]
  },
  {
   "cell_type": "code",
   "execution_count": 51,
   "id": "2ef02c0e-de9e-41a9-8fe9-ccd0c4c5ff63",
   "metadata": {},
   "outputs": [
    {
     "data": {
      "text/plain": [
       "2-element Vector{Int64}:\n",
       " 3\n",
       " 4"
      ]
     },
     "execution_count": 51,
     "metadata": {},
     "output_type": "execute_result"
    }
   ],
   "source": [
    "neighbors(network.radial, 2)"
   ]
  },
  {
   "cell_type": "code",
   "execution_count": 10,
   "id": "b9160e46-5eea-4447-9f76-974c1df13b45",
   "metadata": {},
   "outputs": [
    {
     "data": {
      "text/plain": [
       "4×1 Matrix{Float64}:\n",
       " 8.000000000000002e-7\n",
       " 6.4e-7\n",
       " 4.800000000000001e-7\n",
       " 3.2e-7"
      ]
     },
     "execution_count": 10,
     "metadata": {},
     "output_type": "execute_result"
    }
   ],
   "source": [
    "sum(rest.ENS; dims=2)/1000"
   ]
  },
  {
   "cell_type": "code",
   "execution_count": 32,
   "id": "4036f343-4c33-4f6e-9d70-28e13c5679e0",
   "metadata": {},
   "outputs": [
    {
     "data": {
      "text/plain": [
       "4×1 Matrix{Float64}:\n",
       " 12.25\n",
       " 17.6\n",
       " 17.1\n",
       " 12.0"
      ]
     },
     "execution_count": 32,
     "metadata": {},
     "output_type": "execute_result"
    }
   ],
   "source": [
    "sum(res.ENS; dims=2)"
   ]
  },
  {
   "cell_type": "code",
   "execution_count": 12,
   "id": "dd61cd8c-ed26-495b-b47e-ebb47f8b2aea",
   "metadata": {},
   "outputs": [
    {
     "data": {
      "text/plain": [
       "4-element Vector{RelDist.Load}:\n",
       " RelDist.Load(\"load_a\", \"bus_a\", 5)\n",
       " RelDist.Load(\"load_b\", \"bus_b\", 4)\n",
       " RelDist.Load(\"load_c\", \"bus_c\", 3)\n",
       " RelDist.Load(\"load_d\", \"bus_d\", 2)"
      ]
     },
     "execution_count": 12,
     "metadata": {},
     "output_type": "execute_result"
    }
   ],
   "source": [
    "L"
   ]
  },
  {
   "cell_type": "code",
   "execution_count": 13,
   "id": "3dfc7816-4e75-4c7a-afb7-09b284eea767",
   "metadata": {},
   "outputs": [
    {
     "data": {
      "text/html": [
       "<div><div style = \"float: left;\"><span>9×13 DataFrame</span></div><div style = \"clear: both;\"></div></div><div class = \"data-frame\" style = \"overflow-x: scroll;\"><table class = \"data-frame\" style = \"margin-bottom: 6px;\"><thead><tr class = \"header\"><th class = \"rowNumber\" style = \"font-weight: bold; text-align: right;\">Row</th><th style = \"text-align: left;\">ID</th><th style = \"text-align: left;\">type</th><th style = \"text-align: left;\">Pd</th><th style = \"text-align: left;\">Qd</th><th style = \"text-align: left;\">Gs</th><th style = \"text-align: left;\">Bs</th><th style = \"text-align: left;\">area_num</th><th style = \"text-align: left;\">Vm</th><th style = \"text-align: left;\">Va</th><th style = \"text-align: left;\">baseKV</th><th style = \"text-align: left;\">zone</th><th style = \"text-align: left;\">max_Vm</th><th style = \"text-align: left;\">min_Vm</th></tr><tr class = \"subheader headerLastRow\"><th class = \"rowNumber\" style = \"font-weight: bold; text-align: right;\"></th><th title = \"String\" style = \"text-align: left;\">String</th><th title = \"Int64\" style = \"text-align: left;\">Int64</th><th title = \"Float64\" style = \"text-align: left;\">Float64</th><th title = \"Float64\" style = \"text-align: left;\">Float64</th><th title = \"Float64\" style = \"text-align: left;\">Float64</th><th title = \"Float64\" style = \"text-align: left;\">Float64</th><th title = \"Int64\" style = \"text-align: left;\">Int64</th><th title = \"Float64\" style = \"text-align: left;\">Float64</th><th title = \"Float64\" style = \"text-align: left;\">Float64</th><th title = \"Float64\" style = \"text-align: left;\">Float64</th><th title = \"Int64\" style = \"text-align: left;\">Int64</th><th title = \"Float64\" style = \"text-align: left;\">Float64</th><th title = \"Float64\" style = \"text-align: left;\">Float64</th></tr></thead><tbody><tr><td class = \"rowNumber\" style = \"font-weight: bold; text-align: right;\">1</td><td style = \"text-align: left;\">bus_1</td><td style = \"text-align: right;\">1</td><td style = \"text-align: right;\">0.0</td><td style = \"text-align: right;\">0.0</td><td style = \"text-align: right;\">0.0</td><td style = \"text-align: right;\">0.0</td><td style = \"text-align: right;\">1</td><td style = \"text-align: right;\">1.0</td><td style = \"text-align: right;\">0.0</td><td style = \"text-align: right;\">240.0</td><td style = \"text-align: right;\">1</td><td style = \"text-align: right;\">1.1</td><td style = \"text-align: right;\">0.9</td></tr><tr><td class = \"rowNumber\" style = \"font-weight: bold; text-align: right;\">2</td><td style = \"text-align: left;\">bus_2</td><td style = \"text-align: right;\">1</td><td style = \"text-align: right;\">0.0</td><td style = \"text-align: right;\">0.0</td><td style = \"text-align: right;\">0.0</td><td style = \"text-align: right;\">0.0</td><td style = \"text-align: right;\">1</td><td style = \"text-align: right;\">1.0</td><td style = \"text-align: right;\">0.0</td><td style = \"text-align: right;\">240.0</td><td style = \"text-align: right;\">1</td><td style = \"text-align: right;\">1.1</td><td style = \"text-align: right;\">0.9</td></tr><tr><td class = \"rowNumber\" style = \"font-weight: bold; text-align: right;\">3</td><td style = \"text-align: left;\">bus_3</td><td style = \"text-align: right;\">1</td><td style = \"text-align: right;\">0.0</td><td style = \"text-align: right;\">0.0</td><td style = \"text-align: right;\">0.0</td><td style = \"text-align: right;\">0.0</td><td style = \"text-align: right;\">1</td><td style = \"text-align: right;\">1.0</td><td style = \"text-align: right;\">0.0</td><td style = \"text-align: right;\">240.0</td><td style = \"text-align: right;\">1</td><td style = \"text-align: right;\">1.1</td><td style = \"text-align: right;\">0.9</td></tr><tr><td class = \"rowNumber\" style = \"font-weight: bold; text-align: right;\">4</td><td style = \"text-align: left;\">bus_4</td><td style = \"text-align: right;\">1</td><td style = \"text-align: right;\">0.0</td><td style = \"text-align: right;\">0.0</td><td style = \"text-align: right;\">0.0</td><td style = \"text-align: right;\">0.0</td><td style = \"text-align: right;\">1</td><td style = \"text-align: right;\">1.0</td><td style = \"text-align: right;\">0.0</td><td style = \"text-align: right;\">240.0</td><td style = \"text-align: right;\">1</td><td style = \"text-align: right;\">1.1</td><td style = \"text-align: right;\">0.9</td></tr><tr><td class = \"rowNumber\" style = \"font-weight: bold; text-align: right;\">5</td><td style = \"text-align: left;\">bus_a</td><td style = \"text-align: right;\">1</td><td style = \"text-align: right;\">0.0</td><td style = \"text-align: right;\">0.0</td><td style = \"text-align: right;\">0.0</td><td style = \"text-align: right;\">0.0</td><td style = \"text-align: right;\">1</td><td style = \"text-align: right;\">1.0</td><td style = \"text-align: right;\">0.0</td><td style = \"text-align: right;\">240.0</td><td style = \"text-align: right;\">1</td><td style = \"text-align: right;\">1.1</td><td style = \"text-align: right;\">0.9</td></tr><tr><td class = \"rowNumber\" style = \"font-weight: bold; text-align: right;\">6</td><td style = \"text-align: left;\">bus_b</td><td style = \"text-align: right;\">1</td><td style = \"text-align: right;\">0.0</td><td style = \"text-align: right;\">0.0</td><td style = \"text-align: right;\">0.0</td><td style = \"text-align: right;\">0.0</td><td style = \"text-align: right;\">1</td><td style = \"text-align: right;\">1.0</td><td style = \"text-align: right;\">0.0</td><td style = \"text-align: right;\">240.0</td><td style = \"text-align: right;\">1</td><td style = \"text-align: right;\">1.1</td><td style = \"text-align: right;\">0.9</td></tr><tr><td class = \"rowNumber\" style = \"font-weight: bold; text-align: right;\">7</td><td style = \"text-align: left;\">bus_c</td><td style = \"text-align: right;\">1</td><td style = \"text-align: right;\">0.0</td><td style = \"text-align: right;\">0.0</td><td style = \"text-align: right;\">0.0</td><td style = \"text-align: right;\">0.0</td><td style = \"text-align: right;\">1</td><td style = \"text-align: right;\">1.0</td><td style = \"text-align: right;\">0.0</td><td style = \"text-align: right;\">240.0</td><td style = \"text-align: right;\">1</td><td style = \"text-align: right;\">1.1</td><td style = \"text-align: right;\">0.9</td></tr><tr><td class = \"rowNumber\" style = \"font-weight: bold; text-align: right;\">8</td><td style = \"text-align: left;\">bus_d</td><td style = \"text-align: right;\">1</td><td style = \"text-align: right;\">0.0</td><td style = \"text-align: right;\">0.0</td><td style = \"text-align: right;\">0.0</td><td style = \"text-align: right;\">0.0</td><td style = \"text-align: right;\">1</td><td style = \"text-align: right;\">1.0</td><td style = \"text-align: right;\">0.0</td><td style = \"text-align: right;\">240.0</td><td style = \"text-align: right;\">1</td><td style = \"text-align: right;\">1.1</td><td style = \"text-align: right;\">0.9</td></tr><tr><td class = \"rowNumber\" style = \"font-weight: bold; text-align: right;\">9</td><td style = \"text-align: left;\">trans_grid</td><td style = \"text-align: right;\">3</td><td style = \"text-align: right;\">0.0</td><td style = \"text-align: right;\">0.0</td><td style = \"text-align: right;\">0.0</td><td style = \"text-align: right;\">0.0</td><td style = \"text-align: right;\">1</td><td style = \"text-align: right;\">1.0</td><td style = \"text-align: right;\">0.0</td><td style = \"text-align: right;\">240.0</td><td style = \"text-align: right;\">1</td><td style = \"text-align: right;\">1.1</td><td style = \"text-align: right;\">0.9</td></tr></tbody></table></div>"
      ],
      "text/latex": [
       "\\begin{tabular}{r|cccccccccc}\n",
       "\t& ID & type & Pd & Qd & Gs & Bs & area\\_num & Vm & Va & \\\\\n",
       "\t\\hline\n",
       "\t& String & Int64 & Float64 & Float64 & Float64 & Float64 & Int64 & Float64 & Float64 & \\\\\n",
       "\t\\hline\n",
       "\t1 & bus\\_1 & 1 & 0.0 & 0.0 & 0.0 & 0.0 & 1 & 1.0 & 0.0 & $\\dots$ \\\\\n",
       "\t2 & bus\\_2 & 1 & 0.0 & 0.0 & 0.0 & 0.0 & 1 & 1.0 & 0.0 & $\\dots$ \\\\\n",
       "\t3 & bus\\_3 & 1 & 0.0 & 0.0 & 0.0 & 0.0 & 1 & 1.0 & 0.0 & $\\dots$ \\\\\n",
       "\t4 & bus\\_4 & 1 & 0.0 & 0.0 & 0.0 & 0.0 & 1 & 1.0 & 0.0 & $\\dots$ \\\\\n",
       "\t5 & bus\\_a & 1 & 0.0 & 0.0 & 0.0 & 0.0 & 1 & 1.0 & 0.0 & $\\dots$ \\\\\n",
       "\t6 & bus\\_b & 1 & 0.0 & 0.0 & 0.0 & 0.0 & 1 & 1.0 & 0.0 & $\\dots$ \\\\\n",
       "\t7 & bus\\_c & 1 & 0.0 & 0.0 & 0.0 & 0.0 & 1 & 1.0 & 0.0 & $\\dots$ \\\\\n",
       "\t8 & bus\\_d & 1 & 0.0 & 0.0 & 0.0 & 0.0 & 1 & 1.0 & 0.0 & $\\dots$ \\\\\n",
       "\t9 & trans\\_grid & 3 & 0.0 & 0.0 & 0.0 & 0.0 & 1 & 1.0 & 0.0 & $\\dots$ \\\\\n",
       "\\end{tabular}\n"
      ],
      "text/plain": [
       "\u001b[1m9×13 DataFrame\u001b[0m\n",
       "\u001b[1m Row \u001b[0m│\u001b[1m ID         \u001b[0m\u001b[1m type  \u001b[0m\u001b[1m Pd      \u001b[0m\u001b[1m Qd      \u001b[0m\u001b[1m Gs      \u001b[0m\u001b[1m Bs      \u001b[0m\u001b[1m area_num \u001b[0m\u001b[1m Vm    \u001b[0m ⋯\n",
       "     │\u001b[90m String     \u001b[0m\u001b[90m Int64 \u001b[0m\u001b[90m Float64 \u001b[0m\u001b[90m Float64 \u001b[0m\u001b[90m Float64 \u001b[0m\u001b[90m Float64 \u001b[0m\u001b[90m Int64    \u001b[0m\u001b[90m Float6\u001b[0m ⋯\n",
       "─────┼──────────────────────────────────────────────────────────────────────────\n",
       "   1 │ bus_1           1      0.0      0.0      0.0      0.0         1      1. ⋯\n",
       "   2 │ bus_2           1      0.0      0.0      0.0      0.0         1      1.\n",
       "   3 │ bus_3           1      0.0      0.0      0.0      0.0         1      1.\n",
       "   4 │ bus_4           1      0.0      0.0      0.0      0.0         1      1.\n",
       "   5 │ bus_a           1      0.0      0.0      0.0      0.0         1      1. ⋯\n",
       "   6 │ bus_b           1      0.0      0.0      0.0      0.0         1      1.\n",
       "   7 │ bus_c           1      0.0      0.0      0.0      0.0         1      1.\n",
       "   8 │ bus_d           1      0.0      0.0      0.0      0.0         1      1.\n",
       "   9 │ trans_grid      3      0.0      0.0      0.0      0.0         1      1. ⋯\n",
       "\u001b[36m                                                               6 columns omitted\u001b[0m"
      ]
     },
     "execution_count": 13,
     "metadata": {},
     "output_type": "execute_result"
    }
   ],
   "source": [
    "case.bus"
   ]
  },
  {
   "cell_type": "code",
   "execution_count": 14,
   "id": "b57a3955-c895-4154-a580-8a3c9ca2c838",
   "metadata": {},
   "outputs": [
    {
     "data": {
      "text/html": [
       "<div><div style = \"float: left;\"><span>4×4 DataFrame</span></div><div style = \"clear: both;\"></div></div><div class = \"data-frame\" style = \"overflow-x: scroll;\"><table class = \"data-frame\" style = \"margin-bottom: 6px;\"><thead><tr class = \"header\"><th class = \"rowNumber\" style = \"font-weight: bold; text-align: right;\">Row</th><th style = \"text-align: left;\">ID</th><th style = \"text-align: left;\">bus</th><th style = \"text-align: left;\">P</th><th style = \"text-align: left;\">ref_demand</th></tr><tr class = \"subheader headerLastRow\"><th class = \"rowNumber\" style = \"font-weight: bold; text-align: right;\"></th><th title = \"String\" style = \"text-align: left;\">String</th><th title = \"String\" style = \"text-align: left;\">String</th><th title = \"Int64\" style = \"text-align: left;\">Int64</th><th title = \"Int64\" style = \"text-align: left;\">Int64</th></tr></thead><tbody><tr><td class = \"rowNumber\" style = \"font-weight: bold; text-align: right;\">1</td><td style = \"text-align: left;\">load_a</td><td style = \"text-align: left;\">bus_a</td><td style = \"text-align: right;\">5</td><td style = \"text-align: right;\">5</td></tr><tr><td class = \"rowNumber\" style = \"font-weight: bold; text-align: right;\">2</td><td style = \"text-align: left;\">load_b</td><td style = \"text-align: left;\">bus_b</td><td style = \"text-align: right;\">4</td><td style = \"text-align: right;\">4</td></tr><tr><td class = \"rowNumber\" style = \"font-weight: bold; text-align: right;\">3</td><td style = \"text-align: left;\">load_c</td><td style = \"text-align: left;\">bus_c</td><td style = \"text-align: right;\">3</td><td style = \"text-align: right;\">3</td></tr><tr><td class = \"rowNumber\" style = \"font-weight: bold; text-align: right;\">4</td><td style = \"text-align: left;\">load_d</td><td style = \"text-align: left;\">bus_d</td><td style = \"text-align: right;\">2</td><td style = \"text-align: right;\">2</td></tr></tbody></table></div>"
      ],
      "text/latex": [
       "\\begin{tabular}{r|cccc}\n",
       "\t& ID & bus & P & ref\\_demand\\\\\n",
       "\t\\hline\n",
       "\t& String & String & Int64 & Int64\\\\\n",
       "\t\\hline\n",
       "\t1 & load\\_a & bus\\_a & 5 & 5 \\\\\n",
       "\t2 & load\\_b & bus\\_b & 4 & 4 \\\\\n",
       "\t3 & load\\_c & bus\\_c & 3 & 3 \\\\\n",
       "\t4 & load\\_d & bus\\_d & 2 & 2 \\\\\n",
       "\\end{tabular}\n"
      ],
      "text/plain": [
       "\u001b[1m4×4 DataFrame\u001b[0m\n",
       "\u001b[1m Row \u001b[0m│\u001b[1m ID     \u001b[0m\u001b[1m bus    \u001b[0m\u001b[1m P     \u001b[0m\u001b[1m ref_demand \u001b[0m\n",
       "     │\u001b[90m String \u001b[0m\u001b[90m String \u001b[0m\u001b[90m Int64 \u001b[0m\u001b[90m Int64      \u001b[0m\n",
       "─────┼───────────────────────────────────\n",
       "   1 │ load_a  bus_a       5           5\n",
       "   2 │ load_b  bus_b       4           4\n",
       "   3 │ load_c  bus_c       3           3\n",
       "   4 │ load_d  bus_d       2           2"
      ]
     },
     "execution_count": 14,
     "metadata": {},
     "output_type": "execute_result"
    }
   ],
   "source": [
    "case.load"
   ]
  },
  {
   "cell_type": "code",
   "execution_count": 15,
   "id": "eb7175ab-27ba-4866-ba38-2f00e105cb32",
   "metadata": {},
   "outputs": [
    {
     "data": {
      "text/plain": [
       "2-element Vector{Int64}:\n",
       " 3\n",
       " 4"
      ]
     },
     "execution_count": 15,
     "metadata": {},
     "output_type": "execute_result"
    }
   ],
   "source": [
    "neighbors(network.radial, 2)"
   ]
  },
  {
   "cell_type": "code",
   "execution_count": 16,
   "id": "0e5777eb-ae1c-4b17-b866-e91934bdcf7d",
   "metadata": {},
   "outputs": [
    {
     "data": {
      "text/plain": [
       "\"trans_grid\""
      ]
     },
     "execution_count": 16,
     "metadata": {},
     "output_type": "execute_result"
    }
   ],
   "source": [
    "network.G[9, :name]"
   ]
  },
  {
   "cell_type": "code",
   "execution_count": 17,
   "id": "30c91f0e-a0e1-452e-8f79-9c57a703aa56",
   "metadata": {},
   "outputs": [
    {
     "data": {
      "text/plain": [
       "1"
      ]
     },
     "execution_count": 17,
     "metadata": {},
     "output_type": "execute_result"
    }
   ],
   "source": [
    "network.radial[\"trans_grid\", :name]"
   ]
  },
  {
   "cell_type": "code",
   "execution_count": 18,
   "id": "6f84dfb7-0a71-4e54-8e26-340529513f3a",
   "metadata": {},
   "outputs": [
    {
     "data": {
      "text/plain": [
       "\"trans_grid\""
      ]
     },
     "execution_count": 18,
     "metadata": {},
     "output_type": "execute_result"
    }
   ],
   "source": [
    "network.ref_bus"
   ]
  },
  {
   "cell_type": "code",
   "execution_count": 19,
   "id": "165e4cdc-7c64-4e63-bdc2-b79b3a76ed25",
   "metadata": {},
   "outputs": [
    {
     "ename": "LoadError",
     "evalue": "syntax: incomplete: premature end of input",
     "output_type": "error",
     "traceback": [
      "syntax: incomplete: premature end of input",
      "",
      "Stacktrace:",
      " [1] top-level scope",
      "   @ In[19]:1"
     ]
    }
   ],
   "source": [
    "get_bus_data("
   ]
  },
  {
   "cell_type": "code",
   "execution_count": 20,
   "id": "f6540902-c4b2-45c6-98f3-41ff223c2fab",
   "metadata": {},
   "outputs": [
    {
     "data": {
      "text/plain": [
       "true"
      ]
     },
     "execution_count": 20,
     "metadata": {},
     "output_type": "execute_result"
    }
   ],
   "source": [
    "!isempty(case.load)"
   ]
  },
  {
   "cell_type": "code",
   "execution_count": 21,
   "id": "8ea36a9c-a9db-4a63-b8bb-af33635bb2b6",
   "metadata": {},
   "outputs": [
    {
     "data": {
      "text/html": [
       "<div><div style = \"float: left;\"><span>9×13 DataFrame</span></div><div style = \"clear: both;\"></div></div><div class = \"data-frame\" style = \"overflow-x: scroll;\"><table class = \"data-frame\" style = \"margin-bottom: 6px;\"><thead><tr class = \"header\"><th class = \"rowNumber\" style = \"font-weight: bold; text-align: right;\">Row</th><th style = \"text-align: left;\">ID</th><th style = \"text-align: left;\">type</th><th style = \"text-align: left;\">Pd</th><th style = \"text-align: left;\">Qd</th><th style = \"text-align: left;\">Gs</th><th style = \"text-align: left;\">Bs</th><th style = \"text-align: left;\">area_num</th><th style = \"text-align: left;\">Vm</th><th style = \"text-align: left;\">Va</th><th style = \"text-align: left;\">baseKV</th><th style = \"text-align: left;\">zone</th><th style = \"text-align: left;\">max_Vm</th><th style = \"text-align: left;\">min_Vm</th></tr><tr class = \"subheader headerLastRow\"><th class = \"rowNumber\" style = \"font-weight: bold; text-align: right;\"></th><th title = \"String\" style = \"text-align: left;\">String</th><th title = \"Int64\" style = \"text-align: left;\">Int64</th><th title = \"Float64\" style = \"text-align: left;\">Float64</th><th title = \"Float64\" style = \"text-align: left;\">Float64</th><th title = \"Float64\" style = \"text-align: left;\">Float64</th><th title = \"Float64\" style = \"text-align: left;\">Float64</th><th title = \"Int64\" style = \"text-align: left;\">Int64</th><th title = \"Float64\" style = \"text-align: left;\">Float64</th><th title = \"Float64\" style = \"text-align: left;\">Float64</th><th title = \"Float64\" style = \"text-align: left;\">Float64</th><th title = \"Int64\" style = \"text-align: left;\">Int64</th><th title = \"Float64\" style = \"text-align: left;\">Float64</th><th title = \"Float64\" style = \"text-align: left;\">Float64</th></tr></thead><tbody><tr><td class = \"rowNumber\" style = \"font-weight: bold; text-align: right;\">1</td><td style = \"text-align: left;\">bus_1</td><td style = \"text-align: right;\">1</td><td style = \"text-align: right;\">0.0</td><td style = \"text-align: right;\">0.0</td><td style = \"text-align: right;\">0.0</td><td style = \"text-align: right;\">0.0</td><td style = \"text-align: right;\">1</td><td style = \"text-align: right;\">1.0</td><td style = \"text-align: right;\">0.0</td><td style = \"text-align: right;\">240.0</td><td style = \"text-align: right;\">1</td><td style = \"text-align: right;\">1.1</td><td style = \"text-align: right;\">0.9</td></tr><tr><td class = \"rowNumber\" style = \"font-weight: bold; text-align: right;\">2</td><td style = \"text-align: left;\">bus_2</td><td style = \"text-align: right;\">1</td><td style = \"text-align: right;\">0.0</td><td style = \"text-align: right;\">0.0</td><td style = \"text-align: right;\">0.0</td><td style = \"text-align: right;\">0.0</td><td style = \"text-align: right;\">1</td><td style = \"text-align: right;\">1.0</td><td style = \"text-align: right;\">0.0</td><td style = \"text-align: right;\">240.0</td><td style = \"text-align: right;\">1</td><td style = \"text-align: right;\">1.1</td><td style = \"text-align: right;\">0.9</td></tr><tr><td class = \"rowNumber\" style = \"font-weight: bold; text-align: right;\">3</td><td style = \"text-align: left;\">bus_3</td><td style = \"text-align: right;\">1</td><td style = \"text-align: right;\">0.0</td><td style = \"text-align: right;\">0.0</td><td style = \"text-align: right;\">0.0</td><td style = \"text-align: right;\">0.0</td><td style = \"text-align: right;\">1</td><td style = \"text-align: right;\">1.0</td><td style = \"text-align: right;\">0.0</td><td style = \"text-align: right;\">240.0</td><td style = \"text-align: right;\">1</td><td style = \"text-align: right;\">1.1</td><td style = \"text-align: right;\">0.9</td></tr><tr><td class = \"rowNumber\" style = \"font-weight: bold; text-align: right;\">4</td><td style = \"text-align: left;\">bus_4</td><td style = \"text-align: right;\">1</td><td style = \"text-align: right;\">0.0</td><td style = \"text-align: right;\">0.0</td><td style = \"text-align: right;\">0.0</td><td style = \"text-align: right;\">0.0</td><td style = \"text-align: right;\">1</td><td style = \"text-align: right;\">1.0</td><td style = \"text-align: right;\">0.0</td><td style = \"text-align: right;\">240.0</td><td style = \"text-align: right;\">1</td><td style = \"text-align: right;\">1.1</td><td style = \"text-align: right;\">0.9</td></tr><tr><td class = \"rowNumber\" style = \"font-weight: bold; text-align: right;\">5</td><td style = \"text-align: left;\">bus_a</td><td style = \"text-align: right;\">1</td><td style = \"text-align: right;\">0.0</td><td style = \"text-align: right;\">0.0</td><td style = \"text-align: right;\">0.0</td><td style = \"text-align: right;\">0.0</td><td style = \"text-align: right;\">1</td><td style = \"text-align: right;\">1.0</td><td style = \"text-align: right;\">0.0</td><td style = \"text-align: right;\">240.0</td><td style = \"text-align: right;\">1</td><td style = \"text-align: right;\">1.1</td><td style = \"text-align: right;\">0.9</td></tr><tr><td class = \"rowNumber\" style = \"font-weight: bold; text-align: right;\">6</td><td style = \"text-align: left;\">bus_b</td><td style = \"text-align: right;\">1</td><td style = \"text-align: right;\">0.0</td><td style = \"text-align: right;\">0.0</td><td style = \"text-align: right;\">0.0</td><td style = \"text-align: right;\">0.0</td><td style = \"text-align: right;\">1</td><td style = \"text-align: right;\">1.0</td><td style = \"text-align: right;\">0.0</td><td style = \"text-align: right;\">240.0</td><td style = \"text-align: right;\">1</td><td style = \"text-align: right;\">1.1</td><td style = \"text-align: right;\">0.9</td></tr><tr><td class = \"rowNumber\" style = \"font-weight: bold; text-align: right;\">7</td><td style = \"text-align: left;\">bus_c</td><td style = \"text-align: right;\">1</td><td style = \"text-align: right;\">0.0</td><td style = \"text-align: right;\">0.0</td><td style = \"text-align: right;\">0.0</td><td style = \"text-align: right;\">0.0</td><td style = \"text-align: right;\">1</td><td style = \"text-align: right;\">1.0</td><td style = \"text-align: right;\">0.0</td><td style = \"text-align: right;\">240.0</td><td style = \"text-align: right;\">1</td><td style = \"text-align: right;\">1.1</td><td style = \"text-align: right;\">0.9</td></tr><tr><td class = \"rowNumber\" style = \"font-weight: bold; text-align: right;\">8</td><td style = \"text-align: left;\">bus_d</td><td style = \"text-align: right;\">1</td><td style = \"text-align: right;\">0.0</td><td style = \"text-align: right;\">0.0</td><td style = \"text-align: right;\">0.0</td><td style = \"text-align: right;\">0.0</td><td style = \"text-align: right;\">1</td><td style = \"text-align: right;\">1.0</td><td style = \"text-align: right;\">0.0</td><td style = \"text-align: right;\">240.0</td><td style = \"text-align: right;\">1</td><td style = \"text-align: right;\">1.1</td><td style = \"text-align: right;\">0.9</td></tr><tr><td class = \"rowNumber\" style = \"font-weight: bold; text-align: right;\">9</td><td style = \"text-align: left;\">trans_grid</td><td style = \"text-align: right;\">3</td><td style = \"text-align: right;\">0.0</td><td style = \"text-align: right;\">0.0</td><td style = \"text-align: right;\">0.0</td><td style = \"text-align: right;\">0.0</td><td style = \"text-align: right;\">1</td><td style = \"text-align: right;\">1.0</td><td style = \"text-align: right;\">0.0</td><td style = \"text-align: right;\">240.0</td><td style = \"text-align: right;\">1</td><td style = \"text-align: right;\">1.1</td><td style = \"text-align: right;\">0.9</td></tr></tbody></table></div>"
      ],
      "text/latex": [
       "\\begin{tabular}{r|cccccccccc}\n",
       "\t& ID & type & Pd & Qd & Gs & Bs & area\\_num & Vm & Va & \\\\\n",
       "\t\\hline\n",
       "\t& String & Int64 & Float64 & Float64 & Float64 & Float64 & Int64 & Float64 & Float64 & \\\\\n",
       "\t\\hline\n",
       "\t1 & bus\\_1 & 1 & 0.0 & 0.0 & 0.0 & 0.0 & 1 & 1.0 & 0.0 & $\\dots$ \\\\\n",
       "\t2 & bus\\_2 & 1 & 0.0 & 0.0 & 0.0 & 0.0 & 1 & 1.0 & 0.0 & $\\dots$ \\\\\n",
       "\t3 & bus\\_3 & 1 & 0.0 & 0.0 & 0.0 & 0.0 & 1 & 1.0 & 0.0 & $\\dots$ \\\\\n",
       "\t4 & bus\\_4 & 1 & 0.0 & 0.0 & 0.0 & 0.0 & 1 & 1.0 & 0.0 & $\\dots$ \\\\\n",
       "\t5 & bus\\_a & 1 & 0.0 & 0.0 & 0.0 & 0.0 & 1 & 1.0 & 0.0 & $\\dots$ \\\\\n",
       "\t6 & bus\\_b & 1 & 0.0 & 0.0 & 0.0 & 0.0 & 1 & 1.0 & 0.0 & $\\dots$ \\\\\n",
       "\t7 & bus\\_c & 1 & 0.0 & 0.0 & 0.0 & 0.0 & 1 & 1.0 & 0.0 & $\\dots$ \\\\\n",
       "\t8 & bus\\_d & 1 & 0.0 & 0.0 & 0.0 & 0.0 & 1 & 1.0 & 0.0 & $\\dots$ \\\\\n",
       "\t9 & trans\\_grid & 3 & 0.0 & 0.0 & 0.0 & 0.0 & 1 & 1.0 & 0.0 & $\\dots$ \\\\\n",
       "\\end{tabular}\n"
      ],
      "text/plain": [
       "\u001b[1m9×13 DataFrame\u001b[0m\n",
       "\u001b[1m Row \u001b[0m│\u001b[1m ID         \u001b[0m\u001b[1m type  \u001b[0m\u001b[1m Pd      \u001b[0m\u001b[1m Qd      \u001b[0m\u001b[1m Gs      \u001b[0m\u001b[1m Bs      \u001b[0m\u001b[1m area_num \u001b[0m\u001b[1m Vm    \u001b[0m ⋯\n",
       "     │\u001b[90m String     \u001b[0m\u001b[90m Int64 \u001b[0m\u001b[90m Float64 \u001b[0m\u001b[90m Float64 \u001b[0m\u001b[90m Float64 \u001b[0m\u001b[90m Float64 \u001b[0m\u001b[90m Int64    \u001b[0m\u001b[90m Float6\u001b[0m ⋯\n",
       "─────┼──────────────────────────────────────────────────────────────────────────\n",
       "   1 │ bus_1           1      0.0      0.0      0.0      0.0         1      1. ⋯\n",
       "   2 │ bus_2           1      0.0      0.0      0.0      0.0         1      1.\n",
       "   3 │ bus_3           1      0.0      0.0      0.0      0.0         1      1.\n",
       "   4 │ bus_4           1      0.0      0.0      0.0      0.0         1      1.\n",
       "   5 │ bus_a           1      0.0      0.0      0.0      0.0         1      1. ⋯\n",
       "   6 │ bus_b           1      0.0      0.0      0.0      0.0         1      1.\n",
       "   7 │ bus_c           1      0.0      0.0      0.0      0.0         1      1.\n",
       "   8 │ bus_d           1      0.0      0.0      0.0      0.0         1      1.\n",
       "   9 │ trans_grid      3      0.0      0.0      0.0      0.0         1      1. ⋯\n",
       "\u001b[36m                                                               6 columns omitted\u001b[0m"
      ]
     },
     "execution_count": 21,
     "metadata": {},
     "output_type": "execute_result"
    }
   ],
   "source": [
    "case.bus"
   ]
  },
  {
   "cell_type": "code",
   "execution_count": 22,
   "id": "0f3fd3e4-a809-4528-8700-a7b7bfbbbfb9",
   "metadata": {},
   "outputs": [
    {
     "data": {
      "text/plain": [
       "\"L_bus_a\""
      ]
     },
     "execution_count": 22,
     "metadata": {},
     "output_type": "execute_result"
    }
   ],
   "source": [
    "string(\"L_\", \"bus_a\")"
   ]
  },
  {
   "cell_type": "code",
   "execution_count": 23,
   "id": "e1f4e490-3bed-4656-9966-d376f68c6855",
   "metadata": {},
   "outputs": [
    {
     "data": {
      "text/plain": [
       "4-element Vector{RelDist.Load}:\n",
       " RelDist.Load(\"load_a\", \"bus_a\", 5)\n",
       " RelDist.Load(\"load_b\", \"bus_b\", 4)\n",
       " RelDist.Load(\"load_c\", \"bus_c\", 3)\n",
       " RelDist.Load(\"load_d\", \"bus_d\", 2)"
      ]
     },
     "execution_count": 23,
     "metadata": {},
     "output_type": "execute_result"
    }
   ],
   "source": [
    "get_loads(case)"
   ]
  },
  {
   "cell_type": "code",
   "execution_count": 24,
   "id": "37eec253-2f1a-4abc-ace9-1437a0cfc631",
   "metadata": {},
   "outputs": [
    {
     "data": {
      "text/html": [
       "<div><div style = \"float: left;\"><span>8×9 DataFrame</span></div><div style = \"clear: both;\"></div></div><div class = \"data-frame\" style = \"overflow-x: scroll;\"><table class = \"data-frame\" style = \"margin-bottom: 6px;\"><thead><tr class = \"header\"><th class = \"rowNumber\" style = \"font-weight: bold; text-align: right;\">Row</th><th style = \"text-align: left;\">ID</th><th style = \"text-align: left;\">f_bus</th><th style = \"text-align: left;\">t_bus</th><th style = \"text-align: left;\">repairTime</th><th style = \"text-align: left;\">temporaryFaultFrequency</th><th style = \"text-align: left;\">permanentFaultFrequency</th><th style = \"text-align: left;\">sectioningTime</th><th style = \"text-align: left;\">temporaryFaultTime</th><th style = \"text-align: left;\">capacity</th></tr><tr class = \"subheader headerLastRow\"><th class = \"rowNumber\" style = \"font-weight: bold; text-align: right;\"></th><th title = \"String\" style = \"text-align: left;\">String</th><th title = \"String\" style = \"text-align: left;\">String</th><th title = \"String\" style = \"text-align: left;\">String</th><th title = \"Float64\" style = \"text-align: left;\">Float64</th><th title = \"Float64\" style = \"text-align: left;\">Float64</th><th title = \"Float64\" style = \"text-align: left;\">Float64</th><th title = \"Float64\" style = \"text-align: left;\">Float64</th><th title = \"Float64\" style = \"text-align: left;\">Float64</th><th title = \"Int64\" style = \"text-align: left;\">Int64</th></tr></thead><tbody><tr><td class = \"rowNumber\" style = \"font-weight: bold; text-align: right;\">1</td><td style = \"text-align: left;\">line_1_rel</td><td style = \"text-align: left;\">trans_grid</td><td style = \"text-align: left;\">bus_1</td><td style = \"text-align: right;\">4.0</td><td style = \"text-align: right;\">0.01</td><td style = \"text-align: right;\">0.2</td><td style = \"text-align: right;\">0.5</td><td style = \"text-align: right;\">0.002</td><td style = \"text-align: right;\">10</td></tr><tr><td class = \"rowNumber\" style = \"font-weight: bold; text-align: right;\">2</td><td style = \"text-align: left;\">line_2_rel</td><td style = \"text-align: left;\">bus_1</td><td style = \"text-align: left;\">bus_2</td><td style = \"text-align: right;\">4.0</td><td style = \"text-align: right;\">0.01</td><td style = \"text-align: right;\">0.1</td><td style = \"text-align: right;\">0.5</td><td style = \"text-align: right;\">0.002</td><td style = \"text-align: right;\">10</td></tr><tr><td class = \"rowNumber\" style = \"font-weight: bold; text-align: right;\">3</td><td style = \"text-align: left;\">line_3_rel</td><td style = \"text-align: left;\">bus_2</td><td style = \"text-align: left;\">bus_3</td><td style = \"text-align: right;\">4.0</td><td style = \"text-align: right;\">0.01</td><td style = \"text-align: right;\">0.3</td><td style = \"text-align: right;\">0.5</td><td style = \"text-align: right;\">0.002</td><td style = \"text-align: right;\">10</td></tr><tr><td class = \"rowNumber\" style = \"font-weight: bold; text-align: right;\">4</td><td style = \"text-align: left;\">line_4_rel</td><td style = \"text-align: left;\">bus_3</td><td style = \"text-align: left;\">bus_4</td><td style = \"text-align: right;\">4.0</td><td style = \"text-align: right;\">0.01</td><td style = \"text-align: right;\">0.3</td><td style = \"text-align: right;\">0.5</td><td style = \"text-align: right;\">0.002</td><td style = \"text-align: right;\">10</td></tr><tr><td class = \"rowNumber\" style = \"font-weight: bold; text-align: right;\">5</td><td style = \"text-align: left;\">line_a_rel</td><td style = \"text-align: left;\">bus_1</td><td style = \"text-align: left;\">bus_a</td><td style = \"text-align: right;\">2.0</td><td style = \"text-align: right;\">0.01</td><td style = \"text-align: right;\">0.2</td><td style = \"text-align: right;\">0.5</td><td style = \"text-align: right;\">0.002</td><td style = \"text-align: right;\">10</td></tr><tr><td class = \"rowNumber\" style = \"font-weight: bold; text-align: right;\">6</td><td style = \"text-align: left;\">line_b_rel</td><td style = \"text-align: left;\">bus_2</td><td style = \"text-align: left;\">bus_b</td><td style = \"text-align: right;\">2.0</td><td style = \"text-align: right;\">0.01</td><td style = \"text-align: right;\">0.6</td><td style = \"text-align: right;\">0.5</td><td style = \"text-align: right;\">0.002</td><td style = \"text-align: right;\">10</td></tr><tr><td class = \"rowNumber\" style = \"font-weight: bold; text-align: right;\">7</td><td style = \"text-align: left;\">line_c_rel</td><td style = \"text-align: left;\">bus_3</td><td style = \"text-align: left;\">bus_c</td><td style = \"text-align: right;\">2.0</td><td style = \"text-align: right;\">0.01</td><td style = \"text-align: right;\">0.4</td><td style = \"text-align: right;\">0.5</td><td style = \"text-align: right;\">0.002</td><td style = \"text-align: right;\">10</td></tr><tr><td class = \"rowNumber\" style = \"font-weight: bold; text-align: right;\">8</td><td style = \"text-align: left;\">line_d_rel</td><td style = \"text-align: left;\">bus_4</td><td style = \"text-align: left;\">bus_d</td><td style = \"text-align: right;\">2.0</td><td style = \"text-align: right;\">0.01</td><td style = \"text-align: right;\">0.2</td><td style = \"text-align: right;\">0.5</td><td style = \"text-align: right;\">0.002</td><td style = \"text-align: right;\">10</td></tr></tbody></table></div>"
      ],
      "text/latex": [
       "\\begin{tabular}{r|ccccccc}\n",
       "\t& ID & f\\_bus & t\\_bus & repairTime & temporaryFaultFrequency & permanentFaultFrequency & \\\\\n",
       "\t\\hline\n",
       "\t& String & String & String & Float64 & Float64 & Float64 & \\\\\n",
       "\t\\hline\n",
       "\t1 & line\\_1\\_rel & trans\\_grid & bus\\_1 & 4.0 & 0.01 & 0.2 & $\\dots$ \\\\\n",
       "\t2 & line\\_2\\_rel & bus\\_1 & bus\\_2 & 4.0 & 0.01 & 0.1 & $\\dots$ \\\\\n",
       "\t3 & line\\_3\\_rel & bus\\_2 & bus\\_3 & 4.0 & 0.01 & 0.3 & $\\dots$ \\\\\n",
       "\t4 & line\\_4\\_rel & bus\\_3 & bus\\_4 & 4.0 & 0.01 & 0.3 & $\\dots$ \\\\\n",
       "\t5 & line\\_a\\_rel & bus\\_1 & bus\\_a & 2.0 & 0.01 & 0.2 & $\\dots$ \\\\\n",
       "\t6 & line\\_b\\_rel & bus\\_2 & bus\\_b & 2.0 & 0.01 & 0.6 & $\\dots$ \\\\\n",
       "\t7 & line\\_c\\_rel & bus\\_3 & bus\\_c & 2.0 & 0.01 & 0.4 & $\\dots$ \\\\\n",
       "\t8 & line\\_d\\_rel & bus\\_4 & bus\\_d & 2.0 & 0.01 & 0.2 & $\\dots$ \\\\\n",
       "\\end{tabular}\n"
      ],
      "text/plain": [
       "\u001b[1m8×9 DataFrame\u001b[0m\n",
       "\u001b[1m Row \u001b[0m│\u001b[1m ID         \u001b[0m\u001b[1m f_bus      \u001b[0m\u001b[1m t_bus  \u001b[0m\u001b[1m repairTime \u001b[0m\u001b[1m temporaryFaultFrequency \u001b[0m\u001b[1m pe\u001b[0m ⋯\n",
       "     │\u001b[90m String     \u001b[0m\u001b[90m String     \u001b[0m\u001b[90m String \u001b[0m\u001b[90m Float64    \u001b[0m\u001b[90m Float64                 \u001b[0m\u001b[90m Fl\u001b[0m ⋯\n",
       "─────┼──────────────────────────────────────────────────────────────────────────\n",
       "   1 │ line_1_rel  trans_grid  bus_1          4.0                     0.01     ⋯\n",
       "   2 │ line_2_rel  bus_1       bus_2          4.0                     0.01\n",
       "   3 │ line_3_rel  bus_2       bus_3          4.0                     0.01\n",
       "   4 │ line_4_rel  bus_3       bus_4          4.0                     0.01\n",
       "   5 │ line_a_rel  bus_1       bus_a          2.0                     0.01     ⋯\n",
       "   6 │ line_b_rel  bus_2       bus_b          2.0                     0.01\n",
       "   7 │ line_c_rel  bus_3       bus_c          2.0                     0.01\n",
       "   8 │ line_d_rel  bus_4       bus_d          2.0                     0.01\n",
       "\u001b[36m                                                               4 columns omitted\u001b[0m"
      ]
     },
     "execution_count": 24,
     "metadata": {},
     "output_type": "execute_result"
    }
   ],
   "source": [
    "case.reldata"
   ]
  },
  {
   "cell_type": "code",
   "execution_count": null,
   "id": "8c925441-eee8-4546-af86-c58499eda736",
   "metadata": {},
   "outputs": [],
   "source": []
  }
 ],
 "metadata": {
  "jupytext": {
   "formats": "ipynb,Rmd,auto:light"
  },
  "kernelspec": {
   "display_name": "Julia 1.8.5",
   "language": "julia",
   "name": "julia-1.8"
  },
  "language_info": {
   "file_extension": ".jl",
   "mimetype": "application/julia",
   "name": "julia",
   "version": "1.8.5"
  }
 },
 "nbformat": 4,
 "nbformat_minor": 5
}
