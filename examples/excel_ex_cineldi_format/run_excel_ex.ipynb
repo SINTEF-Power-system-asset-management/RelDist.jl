{
 "cells": [
  {
   "cell_type": "code",
   "execution_count": 1,
   "id": "d1f98357-d21c-471e-a41b-5a1475fe6729",
   "metadata": {},
   "outputs": [
    {
     "name": "stderr",
     "output_type": "stream",
     "text": [
      "\u001b[36m\u001b[1m[ \u001b[22m\u001b[39m\u001b[36m\u001b[1mInfo: \u001b[22m\u001b[39mPrecompiling Plots [91a5bcdd-55d7-5caf-9e0b-520d859cae80]\n",
      "\u001b[33m\u001b[1m┌ \u001b[22m\u001b[39m\u001b[33m\u001b[1mWarning: \u001b[22m\u001b[39mbackend `GR` is not installed.\n",
      "\u001b[33m\u001b[1m└ \u001b[22m\u001b[39m\u001b[90m@ Plots ~/.julia/packages/Plots/B5j7d/src/backends.jl:43\u001b[39m\n",
      "\u001b[36m\u001b[1m[ \u001b[22m\u001b[39m\u001b[36m\u001b[1mInfo: \u001b[22m\u001b[39mPrecompiling GraphRecipes [bd48cda9-67a9-57be-86fa-5b3c104eda73]\n"
     ]
    }
   ],
   "source": [
    "using RelDist\n",
    "using SintPowerGraphs\n",
    "using SintPowerCase\n",
    "using DataFrames\n",
    "using MetaGraphs\n",
    "using Graphs\n",
    "\n",
    "using Plots\n",
    "using GraphRecipes"
   ]
  },
  {
   "cell_type": "code",
   "execution_count": 2,
   "id": "22d1c846-02ff-4c9a-9b13-38d86e1f4ade",
   "metadata": {},
   "outputs": [
    {
     "data": {
      "text/plain": [
       "Dict{String, RelDist.PieceWiseCost} with 1 entry:\n",
       "  \"agriculture\" => PieceWiseCost(RelDist.Piece[Piece(Bound(0.0, 0.017), 0.0, 1.…"
      ]
     },
     "execution_count": 2,
     "metadata": {},
     "output_type": "execute_result"
    }
   ],
   "source": [
    "network_filename = joinpath(@__DIR__, \"excel_test.toml\")\n",
    "interruption_filename = joinpath(@__DIR__, \"../../databases/interruption_FASIT2.json\")\n",
    "cost_filename = joinpath(@__DIR__, \"../../databases/cost_functions_dummy.json\")\n",
    "\n",
    "interruption = read_interruption(interruption_filename)\n",
    "cost_functions = read_cost_functions(cost_filename)"
   ]
  },
  {
   "cell_type": "code",
   "execution_count": 3,
   "id": "5b88faac-9965-4323-b087-2ef444bab368",
   "metadata": {},
   "outputs": [
    {
     "data": {
      "text/plain": [
       "Case(100.0, \u001b[1m9×13 DataFrame\u001b[0m\n",
       "\u001b[1m Row \u001b[0m│\u001b[1m ID         \u001b[0m\u001b[1m type  \u001b[0m\u001b[1m Pd      \u001b[0m\u001b[1m Qd      \u001b[0m\u001b[1m Gs      \u001b[0m\u001b[1m Bs      \u001b[0m\u001b[1m area_num \u001b[0m\u001b[1m Vm    \u001b[0m ⋯\n",
       "     │\u001b[90m String     \u001b[0m\u001b[90m Int64 \u001b[0m\u001b[90m Float64 \u001b[0m\u001b[90m Float64 \u001b[0m\u001b[90m Float64 \u001b[0m\u001b[90m Float64 \u001b[0m\u001b[90m Int64    \u001b[0m\u001b[90m Float6\u001b[0m ⋯\n",
       "─────┼──────────────────────────────────────────────────────────────────────────\n",
       "   1 │ bus_1           1      0.0      0.0      0.0      0.0         1      1. ⋯\n",
       "   2 │ bus_2           1      0.0      0.0      0.0      0.0         1      1.\n",
       "   3 │ bus_3           1      0.0      0.0      0.0      0.0         1      1.\n",
       "   4 │ bus_4           1      0.0      0.0      0.0      0.0         1      1.\n",
       "   5 │ bus_a           1      0.0      0.0      0.0      0.0         1      1. ⋯\n",
       "   6 │ bus_b           1      0.0      0.0      0.0      0.0         1      1.\n",
       "   7 │ bus_c           1      0.0      0.0      0.0      0.0         1      1.\n",
       "   8 │ bus_d           1      0.0      0.0      0.0      0.0         1      1.\n",
       "   9 │ trans_grid      3      0.0      0.0      0.0      0.0         1      1. ⋯\n",
       "\u001b[36m                                                               6 columns omitted\u001b[0m, \u001b[1m8×11 DataFrame\u001b[0m\n",
       "\u001b[1m Row \u001b[0m│\u001b[1m ID        \u001b[0m\u001b[1m f_bus      \u001b[0m\u001b[1m t_bus  \u001b[0m\u001b[1m r     \u001b[0m\u001b[1m x     \u001b[0m\u001b[1m b     \u001b[0m\u001b[1m rateA \u001b[0m\u001b[1m rateB \u001b[0m\u001b[1m rateC\u001b[0m ⋯\n",
       "     │\u001b[90m String    \u001b[0m\u001b[90m String     \u001b[0m\u001b[90m String \u001b[0m\u001b[90m Int64 \u001b[0m\u001b[90m Int64 \u001b[0m\u001b[90m Int64 \u001b[0m\u001b[90m Int64 \u001b[0m\u001b[90m Int64 \u001b[0m\u001b[90m Int64\u001b[0m ⋯\n",
       "─────┼──────────────────────────────────────────────────────────────────────────\n",
       "   1 │ line_1     trans_grid  bus_1       0      0      0      0      0      0 ⋯\n",
       "   2 │ line_2     bus_1       bus_2       0      0      0      0      0      0\n",
       "   3 │ line_3     bus_2       bus_3       0      0      0      0      0      0\n",
       "   4 │ line_4     bus_3       bus_4       0      0      0      0      0      0\n",
       "   5 │ section_a  bus_1       bus_a       0      0      0      0      0      0 ⋯\n",
       "   6 │ section_b  bus_2       bus_b       0      0      0      0      0      0\n",
       "   7 │ section_c  bus_3       bus_c       0      0      0      0      0      0\n",
       "   8 │ section_d  bus_4       bus_d       0      0      0      0      0      0\n",
       "\u001b[36m                                                               2 columns omitted\u001b[0m, \u001b[1m1×11 DataFrame\u001b[0m\n",
       "\u001b[1m Row \u001b[0m│\u001b[1m ID     \u001b[0m\u001b[1m bus        \u001b[0m\u001b[1m Pg    \u001b[0m\u001b[1m Qg    \u001b[0m\u001b[1m Qmax    \u001b[0m\u001b[1m Qmin    \u001b[0m\u001b[1m Vg      \u001b[0m\u001b[1m mBase   \u001b[0m\u001b[1m s\u001b[0m ⋯\n",
       "     │\u001b[90m String \u001b[0m\u001b[90m String     \u001b[0m\u001b[90m Int64 \u001b[0m\u001b[90m Int64 \u001b[0m\u001b[90m Float64 \u001b[0m\u001b[90m Float64 \u001b[0m\u001b[90m Float64 \u001b[0m\u001b[90m Float64 \u001b[0m\u001b[90m I\u001b[0m ⋯\n",
       "─────┼──────────────────────────────────────────────────────────────────────────\n",
       "   1 │ 1       trans_grid    100      0   1000.0  -1000.0      1.1    100.0    ⋯\n",
       "\u001b[36m                                                               3 columns omitted\u001b[0m, \u001b[1m4×4 DataFrame\u001b[0m\n",
       "\u001b[1m Row \u001b[0m│\u001b[1m ID     \u001b[0m\u001b[1m bus    \u001b[0m\u001b[1m P     \u001b[0m\u001b[1m ref_demand \u001b[0m\n",
       "     │\u001b[90m String \u001b[0m\u001b[90m String \u001b[0m\u001b[90m Int64 \u001b[0m\u001b[90m Int64      \u001b[0m\n",
       "─────┼───────────────────────────────────\n",
       "   1 │ load_a  bus_a       5           5\n",
       "   2 │ load_b  bus_b       4           4\n",
       "   3 │ load_c  bus_c       3           3\n",
       "   4 │ load_d  bus_d       2           2, \u001b[1m8×4 DataFrame\u001b[0m\n",
       "\u001b[1m Row \u001b[0m│\u001b[1m f_bus      \u001b[0m\u001b[1m t_bus  \u001b[0m\u001b[1m breaker \u001b[0m\u001b[1m closed \u001b[0m\n",
       "     │\u001b[90m String     \u001b[0m\u001b[90m String \u001b[0m\u001b[90m Bool    \u001b[0m\u001b[90m Bool   \u001b[0m\n",
       "─────┼─────────────────────────────────────\n",
       "   1 │ trans_grid  bus_1      true    true\n",
       "   2 │ bus_1       bus_2     false    true\n",
       "   3 │ bus_2       bus_3     false    true\n",
       "   4 │ bus_3       bus_4     false    true\n",
       "   5 │ bus_1       bus_a     false    true\n",
       "   6 │ bus_2       bus_b     false    true\n",
       "   7 │ bus_3       bus_c     false    true\n",
       "   8 │ bus_4       bus_d     false    true, \u001b[1m0×0 DataFrame\u001b[0m, \u001b[1m8×9 DataFrame\u001b[0m\n",
       "\u001b[1m Row \u001b[0m│\u001b[1m ID            \u001b[0m\u001b[1m f_bus      \u001b[0m\u001b[1m t_bus  \u001b[0m\u001b[1m repairTime \u001b[0m\u001b[1m temporaryFaultFrequency \u001b[0m\u001b[1m\u001b[0m ⋯\n",
       "     │\u001b[90m String        \u001b[0m\u001b[90m String     \u001b[0m\u001b[90m String \u001b[0m\u001b[90m Float64    \u001b[0m\u001b[90m Float64                 \u001b[0m\u001b[90m\u001b[0m ⋯\n",
       "─────┼──────────────────────────────────────────────────────────────────────────\n",
       "   1 │ line_1_rel     trans_grid  bus_1          4.0                     0.01  ⋯\n",
       "   2 │ line_2_rel     bus_1       bus_2          4.0                     0.01\n",
       "   3 │ line_3_rel     bus_2       bus_3          4.0                     0.01\n",
       "   4 │ line_4_rel     bus_3       bus_4          4.0                     0.01\n",
       "   5 │ section_a_rel  bus_1       bus_a          2.0                     0.01  ⋯\n",
       "   6 │ section_b_rel  bus_2       bus_b          2.0                     0.01\n",
       "   7 │ section_c_rel  bus_3       bus_c          2.0                     0.01\n",
       "   8 │ section_d_rel  bus_4       bus_d          2.0                     0.01\n",
       "\u001b[36m                                                               4 columns omitted\u001b[0m, \u001b[1m0×0 DataFrame\u001b[0m, \u001b[1m0×0 DataFrame\u001b[0m, \u001b[1m0×0 DataFrame\u001b[0m, 9)"
      ]
     },
     "execution_count": 3,
     "metadata": {},
     "output_type": "execute_result"
    }
   ],
   "source": [
    "case = Case(network_filename)"
   ]
  },
  {
   "cell_type": "code",
   "execution_count": 4,
   "id": "11d3df1f-1bc3-4221-8ebb-4a15ee4eb06d",
   "metadata": {},
   "outputs": [
    {
     "data": {
      "text/plain": [
       "RadialPowerGraph({9, 8} directed Int64 metagraph with Float64 weights defined by :weight (default weight 1.0), Case(100.0, \u001b[1m9×13 DataFrame\u001b[0m\n",
       "\u001b[1m Row \u001b[0m│\u001b[1m ID         \u001b[0m\u001b[1m type  \u001b[0m\u001b[1m Pd      \u001b[0m\u001b[1m Qd      \u001b[0m\u001b[1m Gs      \u001b[0m\u001b[1m Bs      \u001b[0m\u001b[1m area_num \u001b[0m\u001b[1m Vm    \u001b[0m ⋯\n",
       "     │\u001b[90m String     \u001b[0m\u001b[90m Int64 \u001b[0m\u001b[90m Float64 \u001b[0m\u001b[90m Float64 \u001b[0m\u001b[90m Float64 \u001b[0m\u001b[90m Float64 \u001b[0m\u001b[90m Int64    \u001b[0m\u001b[90m Float6\u001b[0m ⋯\n",
       "─────┼──────────────────────────────────────────────────────────────────────────\n",
       "   1 │ bus_1           1      0.0      0.0      0.0      0.0         1      1. ⋯\n",
       "   2 │ bus_2           1      0.0      0.0      0.0      0.0         1      1.\n",
       "   3 │ bus_3           1      0.0      0.0      0.0      0.0         1      1.\n",
       "   4 │ bus_4           1      0.0      0.0      0.0      0.0         1      1.\n",
       "   5 │ bus_a           1      0.0      0.0      0.0      0.0         1      1. ⋯\n",
       "   6 │ bus_b           1      0.0      0.0      0.0      0.0         1      1.\n",
       "   7 │ bus_c           1      0.0      0.0      0.0      0.0         1      1.\n",
       "   8 │ bus_d           1      0.0      0.0      0.0      0.0         1      1.\n",
       "   9 │ trans_grid      3      0.0      0.0      0.0      0.0         1      1. ⋯\n",
       "\u001b[36m                                                               6 columns omitted\u001b[0m, \u001b[1m8×11 DataFrame\u001b[0m\n",
       "\u001b[1m Row \u001b[0m│\u001b[1m ID        \u001b[0m\u001b[1m f_bus      \u001b[0m\u001b[1m t_bus  \u001b[0m\u001b[1m r     \u001b[0m\u001b[1m x     \u001b[0m\u001b[1m b     \u001b[0m\u001b[1m rateA \u001b[0m\u001b[1m rateB \u001b[0m\u001b[1m rateC\u001b[0m ⋯\n",
       "     │\u001b[90m String    \u001b[0m\u001b[90m String     \u001b[0m\u001b[90m String \u001b[0m\u001b[90m Int64 \u001b[0m\u001b[90m Int64 \u001b[0m\u001b[90m Int64 \u001b[0m\u001b[90m Int64 \u001b[0m\u001b[90m Int64 \u001b[0m\u001b[90m Int64\u001b[0m ⋯\n",
       "─────┼──────────────────────────────────────────────────────────────────────────\n",
       "   1 │ line_1     trans_grid  bus_1       0      0      0      0      0      0 ⋯\n",
       "   2 │ line_2     bus_1       bus_2       0      0      0      0      0      0\n",
       "   3 │ line_3     bus_2       bus_3       0      0      0      0      0      0\n",
       "   4 │ line_4     bus_3       bus_4       0      0      0      0      0      0\n",
       "   5 │ section_a  bus_1       bus_a       0      0      0      0      0      0 ⋯\n",
       "   6 │ section_b  bus_2       bus_b       0      0      0      0      0      0\n",
       "   7 │ section_c  bus_3       bus_c       0      0      0      0      0      0\n",
       "   8 │ section_d  bus_4       bus_d       0      0      0      0      0      0\n",
       "\u001b[36m                                                               2 columns omitted\u001b[0m, \u001b[1m1×11 DataFrame\u001b[0m\n",
       "\u001b[1m Row \u001b[0m│\u001b[1m ID     \u001b[0m\u001b[1m bus        \u001b[0m\u001b[1m Pg    \u001b[0m\u001b[1m Qg    \u001b[0m\u001b[1m Qmax    \u001b[0m\u001b[1m Qmin    \u001b[0m\u001b[1m Vg      \u001b[0m\u001b[1m mBase   \u001b[0m\u001b[1m s\u001b[0m ⋯\n",
       "     │\u001b[90m String \u001b[0m\u001b[90m String     \u001b[0m\u001b[90m Int64 \u001b[0m\u001b[90m Int64 \u001b[0m\u001b[90m Float64 \u001b[0m\u001b[90m Float64 \u001b[0m\u001b[90m Float64 \u001b[0m\u001b[90m Float64 \u001b[0m\u001b[90m I\u001b[0m ⋯\n",
       "─────┼──────────────────────────────────────────────────────────────────────────\n",
       "   1 │ 1       trans_grid    100      0   1000.0  -1000.0      1.1    100.0    ⋯\n",
       "\u001b[36m                                                               3 columns omitted\u001b[0m, \u001b[1m4×4 DataFrame\u001b[0m\n",
       "\u001b[1m Row \u001b[0m│\u001b[1m ID     \u001b[0m\u001b[1m bus    \u001b[0m\u001b[1m P     \u001b[0m\u001b[1m ref_demand \u001b[0m\n",
       "     │\u001b[90m String \u001b[0m\u001b[90m String \u001b[0m\u001b[90m Int64 \u001b[0m\u001b[90m Int64      \u001b[0m\n",
       "─────┼───────────────────────────────────\n",
       "   1 │ load_a  bus_a       5           5\n",
       "   2 │ load_b  bus_b       4           4\n",
       "   3 │ load_c  bus_c       3           3\n",
       "   4 │ load_d  bus_d       2           2, \u001b[1m8×4 DataFrame\u001b[0m\n",
       "\u001b[1m Row \u001b[0m│\u001b[1m f_bus      \u001b[0m\u001b[1m t_bus  \u001b[0m\u001b[1m breaker \u001b[0m\u001b[1m closed \u001b[0m\n",
       "     │\u001b[90m String     \u001b[0m\u001b[90m String \u001b[0m\u001b[90m Bool    \u001b[0m\u001b[90m Bool   \u001b[0m\n",
       "─────┼─────────────────────────────────────\n",
       "   1 │ trans_grid  bus_1      true    true\n",
       "   2 │ bus_1       bus_2     false    true\n",
       "   3 │ bus_2       bus_3     false    true\n",
       "   4 │ bus_3       bus_4     false    true\n",
       "   5 │ bus_1       bus_a     false    true\n",
       "   6 │ bus_2       bus_b     false    true\n",
       "   7 │ bus_3       bus_c     false    true\n",
       "   8 │ bus_4       bus_d     false    true, \u001b[1m0×0 DataFrame\u001b[0m, \u001b[1m8×9 DataFrame\u001b[0m\n",
       "\u001b[1m Row \u001b[0m│\u001b[1m ID            \u001b[0m\u001b[1m f_bus      \u001b[0m\u001b[1m t_bus  \u001b[0m\u001b[1m repairTime \u001b[0m\u001b[1m temporaryFaultFrequency \u001b[0m\u001b[1m\u001b[0m ⋯\n",
       "     │\u001b[90m String        \u001b[0m\u001b[90m String     \u001b[0m\u001b[90m String \u001b[0m\u001b[90m Float64    \u001b[0m\u001b[90m Float64                 \u001b[0m\u001b[90m\u001b[0m ⋯\n",
       "─────┼──────────────────────────────────────────────────────────────────────────\n",
       "   1 │ line_1_rel     trans_grid  bus_1          4.0                     0.01  ⋯\n",
       "   2 │ line_2_rel     bus_1       bus_2          4.0                     0.01\n",
       "   3 │ line_3_rel     bus_2       bus_3          4.0                     0.01\n",
       "   4 │ line_4_rel     bus_3       bus_4          4.0                     0.01\n",
       "   5 │ section_a_rel  bus_1       bus_a          2.0                     0.01  ⋯\n",
       "   6 │ section_b_rel  bus_2       bus_b          2.0                     0.01\n",
       "   7 │ section_c_rel  bus_3       bus_c          2.0                     0.01\n",
       "   8 │ section_d_rel  bus_4       bus_d          2.0                     0.01\n",
       "\u001b[36m                                                               4 columns omitted\u001b[0m, \u001b[1m0×0 DataFrame\u001b[0m, \u001b[1m0×0 DataFrame\u001b[0m, \u001b[1m0×0 DataFrame\u001b[0m, 9), \"trans_grid\", {9, 8} directed Int64 metagraph with Float64 weights defined by :weight (default weight 1.0))"
      ]
     },
     "execution_count": 4,
     "metadata": {},
     "output_type": "execute_result"
    }
   ],
   "source": [
    "network = RadialPowerGraph(case)"
   ]
  },
  {
   "cell_type": "code",
   "execution_count": 5,
   "id": "f766e23f-344a-401a-8e98-bf06dd47053a",
   "metadata": {},
   "outputs": [
    {
     "data": {
      "image/svg+xml": [
       "<?xml version=\"1.0\" encoding=\"utf-8\"?>\n",
       "<svg xmlns=\"http://www.w3.org/2000/svg\" xmlns:xlink=\"http://www.w3.org/1999/xlink\" width=\"600\" height=\"400\" viewBox=\"0 0 2400 1600\">\n",
       "<defs>\n",
       "  <clipPath id=\"clip070\">\n",
       "    <rect x=\"0\" y=\"0\" width=\"2400\" height=\"1600\"/>\n",
       "  </clipPath>\n",
       "</defs>\n",
       "<path clip-path=\"url(#clip070)\" d=\"M0 1600 L2400 1600 L2400 0 L0 0  Z\" fill=\"#ffffff\" fill-rule=\"evenodd\" fill-opacity=\"1\"/>\n",
       "<defs>\n",
       "  <clipPath id=\"clip071\">\n",
       "    <rect x=\"480\" y=\"0\" width=\"1681\" height=\"1600\"/>\n",
       "  </clipPath>\n",
       "</defs>\n",
       "<path clip-path=\"url(#clip070)\" d=\"M447.244 1552.76 L1952.76 1552.76 L1952.76 47.2441 L447.244 47.2441  Z\" fill=\"#ffffff\" fill-rule=\"evenodd\" fill-opacity=\"1\"/>\n",
       "<defs>\n",
       "  <clipPath id=\"clip072\">\n",
       "    <rect x=\"447\" y=\"47\" width=\"1507\" height=\"1507\"/>\n",
       "  </clipPath>\n",
       "</defs>\n",
       "<polyline clip-path=\"url(#clip072)\" style=\"stroke:#000000; stroke-linecap:round; stroke-linejoin:round; stroke-width:4; stroke-opacity:1; fill:none\" points=\"912.301,551.317 965.785,798.157 \"/>\n",
       "<polyline clip-path=\"url(#clip072)\" style=\"stroke:#000000; stroke-linecap:round; stroke-linejoin:round; stroke-width:4; stroke-opacity:1; fill:none\" points=\"975.754,759.162 965.785,798.157 940.57,766.785 \"/>\n",
       "<polyline clip-path=\"url(#clip072)\" style=\"stroke:#000000; stroke-linecap:round; stroke-linejoin:round; stroke-width:4; stroke-opacity:1; fill:none\" points=\"965.785,798.157 912.301,551.317 \"/>\n",
       "<polyline clip-path=\"url(#clip072)\" style=\"stroke:#000000; stroke-linecap:round; stroke-linejoin:round; stroke-width:4; stroke-opacity:1; fill:none\" points=\"912.301,551.317 707.405,498.012 \"/>\n",
       "<polyline clip-path=\"url(#clip072)\" style=\"stroke:#000000; stroke-linecap:round; stroke-linejoin:round; stroke-width:4; stroke-opacity:1; fill:none\" points=\"737.713,524.496 707.405,498.012 746.777,489.656 \"/>\n",
       "<polyline clip-path=\"url(#clip072)\" style=\"stroke:#000000; stroke-linecap:round; stroke-linejoin:round; stroke-width:4; stroke-opacity:1; fill:none\" points=\"707.405,498.012 912.301,551.317 \"/>\n",
       "<polyline clip-path=\"url(#clip072)\" style=\"stroke:#000000; stroke-linecap:round; stroke-linejoin:round; stroke-width:4; stroke-opacity:1; fill:none\" points=\"1004.28,851.184 1174.47,1005.5 \"/>\n",
       "<polyline clip-path=\"url(#clip072)\" style=\"stroke:#000000; stroke-linecap:round; stroke-linejoin:round; stroke-width:4; stroke-opacity:1; fill:none\" points=\"1159.89,967.985 1174.47,1005.5 1135.71,994.654 \"/>\n",
       "<polyline clip-path=\"url(#clip072)\" style=\"stroke:#000000; stroke-linecap:round; stroke-linejoin:round; stroke-width:4; stroke-opacity:1; fill:none\" points=\"1174.47,1005.5 1004.28,851.184 \"/>\n",
       "<polyline clip-path=\"url(#clip072)\" style=\"stroke:#000000; stroke-linecap:round; stroke-linejoin:round; stroke-width:4; stroke-opacity:1; fill:none\" points=\"1004.28,851.184 846.514,1022.32 \"/>\n",
       "<polyline clip-path=\"url(#clip072)\" style=\"stroke:#000000; stroke-linecap:round; stroke-linejoin:round; stroke-width:4; stroke-opacity:1; fill:none\" points=\"884.149,1008.05 846.514,1022.32 857.68,983.647 \"/>\n",
       "<polyline clip-path=\"url(#clip072)\" style=\"stroke:#000000; stroke-linecap:round; stroke-linejoin:round; stroke-width:4; stroke-opacity:1; fill:none\" points=\"846.514,1022.32 1004.28,851.184 \"/>\n",
       "<polyline clip-path=\"url(#clip072)\" style=\"stroke:#000000; stroke-linecap:round; stroke-linejoin:round; stroke-width:4; stroke-opacity:1; fill:none\" points=\"1233.65,1022.7 1441.14,1010 \"/>\n",
       "<polyline clip-path=\"url(#clip072)\" style=\"stroke:#000000; stroke-linecap:round; stroke-linejoin:round; stroke-width:4; stroke-opacity:1; fill:none\" points=\"1404.11,994.232 1441.14,1010 1406.31,1030.16 \"/>\n",
       "<polyline clip-path=\"url(#clip072)\" style=\"stroke:#000000; stroke-linecap:round; stroke-linejoin:round; stroke-width:4; stroke-opacity:1; fill:none\" points=\"1441.14,1010 1233.65,1022.7 \"/>\n",
       "<polyline clip-path=\"url(#clip072)\" style=\"stroke:#000000; stroke-linecap:round; stroke-linejoin:round; stroke-width:4; stroke-opacity:1; fill:none\" points=\"1233.65,1022.7 1244.46,1277.83 \"/>\n",
       "<polyline clip-path=\"url(#clip072)\" style=\"stroke:#000000; stroke-linecap:round; stroke-linejoin:round; stroke-width:4; stroke-opacity:1; fill:none\" points=\"1260.92,1241.1 1244.46,1277.83 1224.95,1242.63 \"/>\n",
       "<polyline clip-path=\"url(#clip072)\" style=\"stroke:#000000; stroke-linecap:round; stroke-linejoin:round; stroke-width:4; stroke-opacity:1; fill:none\" points=\"1244.46,1277.83 1233.65,1022.7 \"/>\n",
       "<polyline clip-path=\"url(#clip072)\" style=\"stroke:#000000; stroke-linecap:round; stroke-linejoin:round; stroke-width:4; stroke-opacity:1; fill:none\" points=\"1491.87,978.177 1680.83,1012.81 \"/>\n",
       "<polyline clip-path=\"url(#clip072)\" style=\"stroke:#000000; stroke-linecap:round; stroke-linejoin:round; stroke-width:4; stroke-opacity:1; fill:none\" points=\"1648.67,988.614 1680.83,1012.81 1642.18,1024.02 \"/>\n",
       "<polyline clip-path=\"url(#clip072)\" style=\"stroke:#000000; stroke-linecap:round; stroke-linejoin:round; stroke-width:4; stroke-opacity:1; fill:none\" points=\"1680.83,1012.81 1491.87,978.177 \"/>\n",
       "<polyline clip-path=\"url(#clip072)\" style=\"stroke:#000000; stroke-linecap:round; stroke-linejoin:round; stroke-width:4; stroke-opacity:1; fill:none\" points=\"1000.48,262.317 909.559,491.468 \"/>\n",
       "<polyline clip-path=\"url(#clip072)\" style=\"stroke:#000000; stroke-linecap:round; stroke-linejoin:round; stroke-width:4; stroke-opacity:1; fill:none\" points=\"939.567,464.644 909.559,491.468 906.105,451.367 \"/>\n",
       "<polyline clip-path=\"url(#clip072)\" style=\"stroke:#000000; stroke-linecap:round; stroke-linejoin:round; stroke-width:4; stroke-opacity:1; fill:none\" points=\"909.559,491.468 1000.48,262.317 \"/>\n",
       "<path clip-path=\"url(#clip072)\" d=\"M981.408 551.317 L946.854 491.468 L877.747 491.468 L843.194 551.317 L877.747 611.165 L946.854 611.165 L981.408 551.317 L981.408 551.317  Z\" fill=\"#009af9\" fill-rule=\"evenodd\" fill-opacity=\"1\"/>\n",
       "<polyline clip-path=\"url(#clip072)\" style=\"stroke:#000000; stroke-linecap:round; stroke-linejoin:round; stroke-width:4; stroke-opacity:1; fill:none\" points=\"981.408,551.317 946.854,491.468 877.747,491.468 843.194,551.317 877.747,611.165 946.854,611.165 981.408,551.317 \"/>\n",
       "<path clip-path=\"url(#clip072)\" d=\"M1073.38 851.184 L1038.83 791.335 L969.724 791.335 L935.17 851.184 L969.724 911.032 L1038.83 911.032 L1073.38 851.184 L1073.38 851.184  Z\" fill=\"#009af9\" fill-rule=\"evenodd\" fill-opacity=\"1\"/>\n",
       "<polyline clip-path=\"url(#clip072)\" style=\"stroke:#000000; stroke-linecap:round; stroke-linejoin:round; stroke-width:4; stroke-opacity:1; fill:none\" points=\"1073.38,851.184 1038.83,791.335 969.724,791.335 935.17,851.184 969.724,911.032 1038.83,911.032 1073.38,851.184 \"/>\n",
       "<path clip-path=\"url(#clip072)\" d=\"M1302.75 1022.7 L1268.2 962.855 L1199.09 962.855 L1164.54 1022.7 L1199.09 1082.55 L1268.2 1082.55 L1302.75 1022.7 L1302.75 1022.7  Z\" fill=\"#009af9\" fill-rule=\"evenodd\" fill-opacity=\"1\"/>\n",
       "<polyline clip-path=\"url(#clip072)\" style=\"stroke:#000000; stroke-linecap:round; stroke-linejoin:round; stroke-width:4; stroke-opacity:1; fill:none\" points=\"1302.75,1022.7 1268.2,962.855 1199.09,962.855 1164.54,1022.7 1199.09,1082.55 1268.2,1082.55 1302.75,1022.7 \"/>\n",
       "<path clip-path=\"url(#clip072)\" d=\"M1560.98 978.177 L1526.43 918.329 L1457.32 918.329 L1422.77 978.177 L1457.32 1038.03 L1526.43 1038.03 L1560.98 978.177 L1560.98 978.177  Z\" fill=\"#009af9\" fill-rule=\"evenodd\" fill-opacity=\"1\"/>\n",
       "<polyline clip-path=\"url(#clip072)\" style=\"stroke:#000000; stroke-linecap:round; stroke-linejoin:round; stroke-width:4; stroke-opacity:1; fill:none\" points=\"1560.98,978.177 1526.43,918.329 1457.32,918.329 1422.77,978.177 1457.32,1038.03 1526.43,1038.03 1560.98,978.177 \"/>\n",
       "<path clip-path=\"url(#clip072)\" d=\"M731.424 456.41 L696.871 396.561 L627.764 396.561 L593.21 456.41 L627.764 516.258 L696.871 516.258 L731.424 456.41 L731.424 456.41  Z\" fill=\"#009af9\" fill-rule=\"evenodd\" fill-opacity=\"1\"/>\n",
       "<polyline clip-path=\"url(#clip072)\" style=\"stroke:#000000; stroke-linecap:round; stroke-linejoin:round; stroke-width:4; stroke-opacity:1; fill:none\" points=\"731.424,456.41 696.871,396.561 627.764,396.561 593.21,456.41 627.764,516.258 696.871,516.258 731.424,456.41 \"/>\n",
       "<path clip-path=\"url(#clip072)\" d=\"M859.412 1044.66 L824.858 984.808 L755.751 984.808 L721.198 1044.66 L755.751 1104.51 L824.858 1104.51 L859.412 1044.66 L859.412 1044.66  Z\" fill=\"#009af9\" fill-rule=\"evenodd\" fill-opacity=\"1\"/>\n",
       "<polyline clip-path=\"url(#clip072)\" style=\"stroke:#000000; stroke-linecap:round; stroke-linejoin:round; stroke-width:4; stroke-opacity:1; fill:none\" points=\"859.412,1044.66 824.858,984.808 755.751,984.808 721.198,1044.66 755.751,1104.51 824.858,1104.51 859.412,1044.66 \"/>\n",
       "<path clip-path=\"url(#clip072)\" d=\"M1290.52 1337.68 L1255.97 1277.83 L1186.86 1277.83 L1152.31 1337.68 L1186.86 1397.53 L1255.97 1397.53 L1290.52 1337.68 L1290.52 1337.68  Z\" fill=\"#009af9\" fill-rule=\"evenodd\" fill-opacity=\"1\"/>\n",
       "<polyline clip-path=\"url(#clip072)\" style=\"stroke:#000000; stroke-linecap:round; stroke-linejoin:round; stroke-width:4; stroke-opacity:1; fill:none\" points=\"1290.52,1337.68 1255.97,1277.83 1186.86,1277.83 1152.31,1337.68 1186.86,1397.53 1255.97,1397.53 1290.52,1337.68 \"/>\n",
       "<path clip-path=\"url(#clip072)\" d=\"M1806.79 991.581 L1772.24 931.732 L1703.13 931.732 L1668.58 991.581 L1703.13 1051.43 L1772.24 1051.43 L1806.79 991.581 L1806.79 991.581  Z\" fill=\"#009af9\" fill-rule=\"evenodd\" fill-opacity=\"1\"/>\n",
       "<polyline clip-path=\"url(#clip072)\" style=\"stroke:#000000; stroke-linecap:round; stroke-linejoin:round; stroke-width:4; stroke-opacity:1; fill:none\" points=\"1806.79,991.581 1772.24,931.732 1703.13,931.732 1668.58,991.581 1703.13,1051.43 1772.24,1051.43 1806.79,991.581 \"/>\n",
       "<path clip-path=\"url(#clip072)\" d=\"M1120.8 262.317 L1060.64 158.115 L940.319 158.115 L880.157 262.317 L940.319 366.519 L1060.64 366.519 L1120.8 262.317 L1120.8 262.317  Z\" fill=\"#009af9\" fill-rule=\"evenodd\" fill-opacity=\"1\"/>\n",
       "<polyline clip-path=\"url(#clip072)\" style=\"stroke:#000000; stroke-linecap:round; stroke-linejoin:round; stroke-width:4; stroke-opacity:1; fill:none\" points=\"1120.8,262.317 1060.64,158.115 940.319,158.115 880.157,262.317 940.319,366.519 1060.64,366.519 1120.8,262.317 \"/>\n",
       "<path clip-path=\"url(#clip072)\" d=\"M912.301 551.717 L911.954 551.517 L911.954 551.117 L912.301 550.917 L912.647 551.117 L912.647 551.517 Z\" fill=\"#009af9\" fill-rule=\"evenodd\" fill-opacity=\"1\" stroke=\"#000000\" stroke-opacity=\"1\" stroke-width=\"3.2\"/>\n",
       "<path clip-path=\"url(#clip072)\" d=\"M1004.28 851.584 L1003.93 851.384 L1003.93 850.984 L1004.28 850.784 L1004.62 850.984 L1004.62 851.384 Z\" fill=\"#009af9\" fill-rule=\"evenodd\" fill-opacity=\"1\" stroke=\"#000000\" stroke-opacity=\"1\" stroke-width=\"3.2\"/>\n",
       "<path clip-path=\"url(#clip072)\" d=\"M1233.65 1023.1 L1233.3 1022.9 L1233.3 1022.5 L1233.65 1022.3 L1233.99 1022.5 L1233.99 1022.9 Z\" fill=\"#009af9\" fill-rule=\"evenodd\" fill-opacity=\"1\" stroke=\"#000000\" stroke-opacity=\"1\" stroke-width=\"3.2\"/>\n",
       "<path clip-path=\"url(#clip072)\" d=\"M1491.87 978.577 L1491.53 978.377 L1491.53 977.977 L1491.87 977.777 L1492.22 977.977 L1492.22 978.377 Z\" fill=\"#009af9\" fill-rule=\"evenodd\" fill-opacity=\"1\" stroke=\"#000000\" stroke-opacity=\"1\" stroke-width=\"3.2\"/>\n",
       "<path clip-path=\"url(#clip072)\" d=\"M662.317 456.81 L661.971 456.61 L661.971 456.21 L662.317 456.01 L662.664 456.21 L662.664 456.61 Z\" fill=\"#009af9\" fill-rule=\"evenodd\" fill-opacity=\"1\" stroke=\"#000000\" stroke-opacity=\"1\" stroke-width=\"3.2\"/>\n",
       "<path clip-path=\"url(#clip072)\" d=\"M790.305 1045.06 L789.958 1044.86 L789.958 1044.46 L790.305 1044.26 L790.651 1044.46 L790.651 1044.86 Z\" fill=\"#009af9\" fill-rule=\"evenodd\" fill-opacity=\"1\" stroke=\"#000000\" stroke-opacity=\"1\" stroke-width=\"3.2\"/>\n",
       "<path clip-path=\"url(#clip072)\" d=\"M1221.41 1338.08 L1221.07 1337.88 L1221.07 1337.48 L1221.41 1337.28 L1221.76 1337.48 L1221.76 1337.88 Z\" fill=\"#009af9\" fill-rule=\"evenodd\" fill-opacity=\"1\" stroke=\"#000000\" stroke-opacity=\"1\" stroke-width=\"3.2\"/>\n",
       "<path clip-path=\"url(#clip072)\" d=\"M1737.68 991.981 L1737.34 991.781 L1737.34 991.381 L1737.68 991.181 L1738.03 991.381 L1738.03 991.781 Z\" fill=\"#009af9\" fill-rule=\"evenodd\" fill-opacity=\"1\" stroke=\"#000000\" stroke-opacity=\"1\" stroke-width=\"3.2\"/>\n",
       "<path clip-path=\"url(#clip072)\" d=\"M1000.48 262.717 L1000.13 262.517 L1000.13 262.117 L1000.48 261.917 L1000.83 262.117 L1000.83 262.517 Z\" fill=\"#009af9\" fill-rule=\"evenodd\" fill-opacity=\"1\" stroke=\"#000000\" stroke-opacity=\"1\" stroke-width=\"3.2\"/>\n",
       "<path clip-path=\"url(#clip070)\" d=\"M871.842 555.114 Q871.842 551.003 870.141 548.673 Q868.46 546.324 865.503 546.324 Q862.546 546.324 860.844 548.673 Q859.163 551.003 859.163 555.114 Q859.163 559.226 860.844 561.575 Q862.546 563.905 865.503 563.905 Q868.46 563.905 870.141 561.575 Q871.842 559.226 871.842 555.114 M859.163 547.195 Q860.338 545.169 862.12 544.197 Q863.923 543.205 866.414 543.205 Q870.546 543.205 873.118 546.486 Q875.711 549.767 875.711 555.114 Q875.711 560.461 873.118 563.743 Q870.546 567.024 866.414 567.024 Q863.923 567.024 862.12 566.052 Q860.338 565.059 859.163 563.034 L859.163 566.437 L855.416 566.437 L855.416 534.92 L859.163 534.92 L859.163 547.195 Z\" fill=\"#000000\" fill-rule=\"nonzero\" fill-opacity=\"1\" /><path clip-path=\"url(#clip070)\" d=\"M881.504 557.484 L881.504 543.751 L885.231 543.751 L885.231 557.342 Q885.231 560.563 886.486 562.183 Q887.742 563.783 890.254 563.783 Q893.272 563.783 895.014 561.859 Q896.776 559.935 896.776 556.613 L896.776 543.751 L900.503 543.751 L900.503 566.437 L896.776 566.437 L896.776 562.953 Q895.419 565.019 893.616 566.031 Q891.834 567.024 889.464 567.024 Q885.555 567.024 883.529 564.593 Q881.504 562.163 881.504 557.484 M890.882 543.205 L890.882 543.205 Z\" fill=\"#000000\" fill-rule=\"nonzero\" fill-opacity=\"1\" /><path clip-path=\"url(#clip070)\" d=\"M922.641 544.42 L922.641 547.944 Q921.061 547.134 919.36 546.729 Q917.658 546.324 915.835 546.324 Q913.06 546.324 911.663 547.174 Q910.286 548.025 910.286 549.727 Q910.286 551.023 911.278 551.772 Q912.27 552.501 915.268 553.17 L916.544 553.453 Q920.514 554.304 922.175 555.864 Q923.856 557.403 923.856 560.178 Q923.856 563.338 921.344 565.181 Q918.853 567.024 914.478 567.024 Q912.655 567.024 910.67 566.659 Q908.706 566.315 906.518 565.606 L906.518 561.758 Q908.584 562.831 910.589 563.378 Q912.595 563.905 914.559 563.905 Q917.192 563.905 918.61 563.014 Q920.028 562.102 920.028 560.461 Q920.028 558.942 918.995 558.132 Q917.982 557.322 914.519 556.573 L913.222 556.269 Q909.759 555.54 908.22 554.041 Q906.68 552.522 906.68 549.889 Q906.68 546.688 908.949 544.946 Q911.217 543.205 915.39 543.205 Q917.456 543.205 919.279 543.508 Q921.101 543.812 922.641 544.42 Z\" fill=\"#000000\" fill-rule=\"nonzero\" fill-opacity=\"1\" /><path clip-path=\"url(#clip070)\" d=\"M947.027 573.323 L947.027 576.219 L925.476 576.219 L925.476 573.323 L947.027 573.323 Z\" fill=\"#000000\" fill-rule=\"nonzero\" fill-opacity=\"1\" /><path clip-path=\"url(#clip070)\" d=\"M951.767 562.993 L958.451 562.993 L958.451 539.923 L951.179 541.382 L951.179 537.655 L958.41 536.197 L962.502 536.197 L962.502 562.993 L969.186 562.993 L969.186 566.437 L951.767 566.437 L951.767 562.993 Z\" fill=\"#000000\" fill-rule=\"nonzero\" fill-opacity=\"1\" /><path clip-path=\"url(#clip070)\" d=\"M963.981 854.981 Q963.981 850.87 962.28 848.54 Q960.599 846.191 957.641 846.191 Q954.684 846.191 952.983 848.54 Q951.302 850.87 951.302 854.981 Q951.302 859.093 952.983 861.442 Q954.684 863.772 957.641 863.772 Q960.599 863.772 962.28 861.442 Q963.981 859.093 963.981 854.981 M951.302 847.062 Q952.477 845.036 954.259 844.064 Q956.062 843.072 958.553 843.072 Q962.685 843.072 965.257 846.353 Q967.85 849.634 967.85 854.981 Q967.85 860.328 965.257 863.61 Q962.685 866.891 958.553 866.891 Q956.062 866.891 954.259 865.919 Q952.477 864.926 951.302 862.901 L951.302 866.304 L947.555 866.304 L947.555 834.788 L951.302 834.788 L951.302 847.062 Z\" fill=\"#000000\" fill-rule=\"nonzero\" fill-opacity=\"1\" /><path clip-path=\"url(#clip070)\" d=\"M973.643 857.351 L973.643 843.619 L977.369 843.619 L977.369 857.209 Q977.369 860.43 978.625 862.05 Q979.881 863.65 982.393 863.65 Q985.41 863.65 987.152 861.726 Q988.914 859.802 988.914 856.48 L988.914 843.619 L992.641 843.619 L992.641 866.304 L988.914 866.304 L988.914 862.82 Q987.557 864.886 985.755 865.898 Q983.972 866.891 981.603 866.891 Q977.693 866.891 975.668 864.46 Q973.643 862.03 973.643 857.351 M983.02 843.072 L983.02 843.072 Z\" fill=\"#000000\" fill-rule=\"nonzero\" fill-opacity=\"1\" /><path clip-path=\"url(#clip070)\" d=\"M1014.78 844.287 L1014.78 847.811 Q1013.2 847.001 1011.5 846.596 Q1009.8 846.191 1007.97 846.191 Q1005.2 846.191 1003.8 847.042 Q1002.42 847.892 1002.42 849.594 Q1002.42 850.89 1003.42 851.639 Q1004.41 852.368 1007.41 853.037 L1008.68 853.32 Q1012.65 854.171 1014.31 855.731 Q1015.99 857.27 1015.99 860.045 Q1015.99 863.205 1013.48 865.048 Q1010.99 866.891 1006.62 866.891 Q1004.79 866.891 1002.81 866.526 Q1000.84 866.182 998.657 865.473 L998.657 861.625 Q1000.72 862.698 1002.73 863.245 Q1004.73 863.772 1006.7 863.772 Q1009.33 863.772 1010.75 862.881 Q1012.17 861.969 1012.17 860.328 Q1012.17 858.809 1011.13 857.999 Q1010.12 857.189 1006.66 856.44 L1005.36 856.136 Q1001.9 855.407 1000.36 853.908 Q998.819 852.389 998.819 849.756 Q998.819 846.555 1001.09 844.814 Q1003.36 843.072 1007.53 843.072 Q1009.59 843.072 1011.42 843.375 Q1013.24 843.679 1014.78 844.287 Z\" fill=\"#000000\" fill-rule=\"nonzero\" fill-opacity=\"1\" /><path clip-path=\"url(#clip070)\" d=\"M1039.17 873.19 L1039.17 876.087 L1017.62 876.087 L1017.62 873.19 L1039.17 873.19 Z\" fill=\"#000000\" fill-rule=\"nonzero\" fill-opacity=\"1\" /><path clip-path=\"url(#clip070)\" d=\"M1046.72 862.86 L1061 862.86 L1061 866.304 L1041.8 866.304 L1041.8 862.86 Q1044.13 860.45 1048.14 856.399 Q1052.17 852.328 1053.2 851.153 Q1055.17 848.945 1055.94 847.426 Q1056.73 845.887 1056.73 844.408 Q1056.73 841.998 1055.03 840.479 Q1053.34 838.96 1050.63 838.96 Q1048.71 838.96 1046.56 839.628 Q1044.43 840.297 1042 841.654 L1042 837.522 Q1044.47 836.529 1046.62 836.023 Q1048.77 835.517 1050.55 835.517 Q1055.25 835.517 1058.04 837.866 Q1060.84 840.216 1060.84 844.145 Q1060.84 846.009 1060.13 847.69 Q1059.44 849.351 1057.6 851.619 Q1057.09 852.206 1054.38 855.022 Q1051.66 857.817 1046.72 862.86 Z\" fill=\"#000000\" fill-rule=\"nonzero\" fill-opacity=\"1\" /><path clip-path=\"url(#clip070)\" d=\"M1192.93 1026.5 Q1192.93 1022.39 1191.23 1020.06 Q1189.55 1017.71 1186.59 1017.71 Q1183.64 1017.71 1181.94 1020.06 Q1180.25 1022.39 1180.25 1026.5 Q1180.25 1030.61 1181.94 1032.96 Q1183.64 1035.29 1186.59 1035.29 Q1189.55 1035.29 1191.23 1032.96 Q1192.93 1030.61 1192.93 1026.5 M1180.25 1018.58 Q1181.43 1016.56 1183.21 1015.58 Q1185.01 1014.59 1187.51 1014.59 Q1191.64 1014.59 1194.21 1017.87 Q1196.8 1021.15 1196.8 1026.5 Q1196.8 1031.85 1194.21 1035.13 Q1191.64 1038.41 1187.51 1038.41 Q1185.01 1038.41 1183.21 1037.44 Q1181.43 1036.45 1180.25 1034.42 L1180.25 1037.82 L1176.51 1037.82 L1176.51 1006.31 L1180.25 1006.31 L1180.25 1018.58 Z\" fill=\"#000000\" fill-rule=\"nonzero\" fill-opacity=\"1\" /><path clip-path=\"url(#clip070)\" d=\"M1202.6 1028.87 L1202.6 1015.14 L1206.32 1015.14 L1206.32 1028.73 Q1206.32 1031.95 1207.58 1033.57 Q1208.83 1035.17 1211.35 1035.17 Q1214.36 1035.17 1216.11 1033.25 Q1217.87 1031.32 1217.87 1028 L1217.87 1015.14 L1221.59 1015.14 L1221.59 1037.82 L1217.87 1037.82 L1217.87 1034.34 Q1216.51 1036.41 1214.71 1037.42 Q1212.93 1038.41 1210.56 1038.41 Q1206.65 1038.41 1204.62 1035.98 Q1202.6 1033.55 1202.6 1028.87 M1211.97 1014.59 L1211.97 1014.59 Z\" fill=\"#000000\" fill-rule=\"nonzero\" fill-opacity=\"1\" /><path clip-path=\"url(#clip070)\" d=\"M1243.73 1015.81 L1243.73 1019.33 Q1242.15 1018.52 1240.45 1018.12 Q1238.75 1017.71 1236.93 1017.71 Q1234.15 1017.71 1232.75 1018.56 Q1231.38 1019.41 1231.38 1021.11 Q1231.38 1022.41 1232.37 1023.16 Q1233.36 1023.89 1236.36 1024.56 L1237.64 1024.84 Q1241.61 1025.69 1243.27 1027.25 Q1244.95 1028.79 1244.95 1031.56 Q1244.95 1034.72 1242.44 1036.57 Q1239.94 1038.41 1235.57 1038.41 Q1233.75 1038.41 1231.76 1038.05 Q1229.8 1037.7 1227.61 1036.99 L1227.61 1033.14 Q1229.68 1034.22 1231.68 1034.76 Q1233.69 1035.29 1235.65 1035.29 Q1238.28 1035.29 1239.7 1034.4 Q1241.12 1033.49 1241.12 1031.85 Q1241.12 1030.33 1240.09 1029.52 Q1239.07 1028.71 1235.61 1027.96 L1234.31 1027.66 Q1230.85 1026.93 1229.31 1025.43 Q1227.77 1023.91 1227.77 1021.28 Q1227.77 1018.08 1230.04 1016.33 Q1232.31 1014.59 1236.48 1014.59 Q1238.55 1014.59 1240.37 1014.9 Q1242.19 1015.2 1243.73 1015.81 Z\" fill=\"#000000\" fill-rule=\"nonzero\" fill-opacity=\"1\" /><path clip-path=\"url(#clip070)\" d=\"M1268.12 1044.71 L1268.12 1047.61 L1246.57 1047.61 L1246.57 1044.71 L1268.12 1044.71 Z\" fill=\"#000000\" fill-rule=\"nonzero\" fill-opacity=\"1\" /><path clip-path=\"url(#clip070)\" d=\"M1284.55 1021.52 Q1287.48 1022.15 1289.12 1024.13 Q1290.78 1026.12 1290.78 1029.03 Q1290.78 1033.51 1287.7 1035.96 Q1284.63 1038.41 1278.95 1038.41 Q1277.05 1038.41 1275.03 1038.03 Q1273.02 1037.66 1270.87 1036.91 L1270.87 1032.96 Q1272.57 1033.95 1274.6 1034.46 Q1276.63 1034.97 1278.83 1034.97 Q1282.68 1034.97 1284.69 1033.45 Q1286.71 1031.93 1286.71 1029.03 Q1286.71 1026.36 1284.83 1024.86 Q1282.97 1023.34 1279.62 1023.34 L1276.1 1023.34 L1276.1 1019.98 L1279.79 1019.98 Q1282.8 1019.98 1284.4 1018.78 Q1286 1017.57 1286 1015.3 Q1286 1012.97 1284.34 1011.74 Q1282.7 1010.48 1279.62 1010.48 Q1277.94 1010.48 1276.02 1010.84 Q1274.09 1011.21 1271.78 1011.98 L1271.78 1008.33 Q1274.11 1007.68 1276.14 1007.36 Q1278.19 1007.04 1279.99 1007.04 Q1284.65 1007.04 1287.36 1009.16 Q1290.07 1011.27 1290.07 1014.87 Q1290.07 1017.39 1288.64 1019.13 Q1287.2 1020.85 1284.55 1021.52 Z\" fill=\"#000000\" fill-rule=\"nonzero\" fill-opacity=\"1\" /><path clip-path=\"url(#clip070)\" d=\"M1450.67 981.975 Q1450.67 977.863 1448.96 975.534 Q1447.28 973.185 1444.33 973.185 Q1441.37 973.185 1439.67 975.534 Q1437.99 977.863 1437.99 981.975 Q1437.99 986.087 1439.67 988.436 Q1441.37 990.766 1444.33 990.766 Q1447.28 990.766 1448.96 988.436 Q1450.67 986.087 1450.67 981.975 M1437.99 974.056 Q1439.16 972.03 1440.94 971.058 Q1442.75 970.065 1445.24 970.065 Q1449.37 970.065 1451.94 973.347 Q1454.53 976.628 1454.53 981.975 Q1454.53 987.322 1451.94 990.604 Q1449.37 993.885 1445.24 993.885 Q1442.75 993.885 1440.94 992.913 Q1439.16 991.92 1437.99 989.895 L1437.99 993.297 L1434.24 993.297 L1434.24 961.781 L1437.99 961.781 L1437.99 974.056 Z\" fill=\"#000000\" fill-rule=\"nonzero\" fill-opacity=\"1\" /><path clip-path=\"url(#clip070)\" d=\"M1460.33 984.345 L1460.33 970.612 L1464.05 970.612 L1464.05 984.203 Q1464.05 987.424 1465.31 989.044 Q1466.57 990.644 1469.08 990.644 Q1472.1 990.644 1473.84 988.72 Q1475.6 986.796 1475.6 983.474 L1475.6 970.612 L1479.33 970.612 L1479.33 993.297 L1475.6 993.297 L1475.6 989.814 Q1474.24 991.88 1472.44 992.892 Q1470.66 993.885 1468.29 993.885 Q1464.38 993.885 1462.35 991.454 Q1460.33 989.024 1460.33 984.345 M1469.71 970.065 L1469.71 970.065 Z\" fill=\"#000000\" fill-rule=\"nonzero\" fill-opacity=\"1\" /><path clip-path=\"url(#clip070)\" d=\"M1501.46 971.281 L1501.46 974.805 Q1499.88 973.995 1498.18 973.59 Q1496.48 973.185 1494.66 973.185 Q1491.88 973.185 1490.49 974.035 Q1489.11 974.886 1489.11 976.587 Q1489.11 977.884 1490.1 978.633 Q1491.09 979.362 1494.09 980.031 L1495.37 980.314 Q1499.34 981.165 1501 982.725 Q1502.68 984.264 1502.68 987.039 Q1502.68 990.198 1500.17 992.042 Q1497.68 993.885 1493.3 993.885 Q1491.48 993.885 1489.49 993.52 Q1487.53 993.176 1485.34 992.467 L1485.34 988.619 Q1487.41 989.692 1489.41 990.239 Q1491.42 990.766 1493.38 990.766 Q1496.02 990.766 1497.43 989.874 Q1498.85 988.963 1498.85 987.322 Q1498.85 985.803 1497.82 984.993 Q1496.81 984.183 1493.34 983.433 L1492.05 983.13 Q1488.58 982.4 1487.04 980.902 Q1485.5 979.383 1485.5 976.749 Q1485.5 973.549 1487.77 971.807 Q1490.04 970.065 1494.21 970.065 Q1496.28 970.065 1498.1 970.369 Q1499.92 970.673 1501.46 971.281 Z\" fill=\"#000000\" fill-rule=\"nonzero\" fill-opacity=\"1\" /><path clip-path=\"url(#clip070)\" d=\"M1525.85 1000.18 L1525.85 1003.08 L1504.3 1003.08 L1504.3 1000.18 L1525.85 1000.18 Z\" fill=\"#000000\" fill-rule=\"nonzero\" fill-opacity=\"1\" /><path clip-path=\"url(#clip070)\" d=\"M1541.12 966.622 L1530.79 982.765 L1541.12 982.765 L1541.12 966.622 M1540.05 963.057 L1545.19 963.057 L1545.19 982.765 L1549.51 982.765 L1549.51 986.168 L1545.19 986.168 L1545.19 993.297 L1541.12 993.297 L1541.12 986.168 L1527.47 986.168 L1527.47 982.218 L1540.05 963.057 Z\" fill=\"#000000\" fill-rule=\"nonzero\" fill-opacity=\"1\" /><path clip-path=\"url(#clip070)\" d=\"M622.315 460.207 Q622.315 456.096 620.613 453.766 Q618.932 451.417 615.975 451.417 Q613.018 451.417 611.316 453.766 Q609.635 456.096 609.635 460.207 Q609.635 464.319 611.316 466.669 Q613.018 468.998 615.975 468.998 Q618.932 468.998 620.613 466.669 Q622.315 464.319 622.315 460.207 M609.635 452.288 Q610.81 450.262 612.592 449.29 Q614.395 448.298 616.886 448.298 Q621.018 448.298 623.591 451.579 Q626.183 454.86 626.183 460.207 Q626.183 465.555 623.591 468.836 Q621.018 472.117 616.886 472.117 Q614.395 472.117 612.592 471.145 Q610.81 470.152 609.635 468.127 L609.635 471.53 L605.888 471.53 L605.888 440.014 L609.635 440.014 L609.635 452.288 Z\" fill=\"#000000\" fill-rule=\"nonzero\" fill-opacity=\"1\" /><path clip-path=\"url(#clip070)\" d=\"M631.976 462.577 L631.976 448.845 L635.703 448.845 L635.703 462.435 Q635.703 465.656 636.959 467.276 Q638.214 468.876 640.726 468.876 Q643.744 468.876 645.486 466.952 Q647.248 465.028 647.248 461.706 L647.248 448.845 L650.975 448.845 L650.975 471.53 L647.248 471.53 L647.248 468.046 Q645.891 470.112 644.088 471.125 Q642.306 472.117 639.936 472.117 Q636.027 472.117 634.001 469.686 Q631.976 467.256 631.976 462.577 M641.354 448.298 L641.354 448.298 Z\" fill=\"#000000\" fill-rule=\"nonzero\" fill-opacity=\"1\" /><path clip-path=\"url(#clip070)\" d=\"M673.113 449.513 L673.113 453.037 Q671.533 452.227 669.832 451.822 Q668.13 451.417 666.307 451.417 Q663.532 451.417 662.135 452.268 Q660.758 453.118 660.758 454.82 Q660.758 456.116 661.75 456.865 Q662.743 457.594 665.74 458.263 L667.016 458.546 Q670.986 459.397 672.647 460.957 Q674.328 462.496 674.328 465.271 Q674.328 468.431 671.817 470.274 Q669.325 472.117 664.95 472.117 Q663.127 472.117 661.142 471.752 Q659.178 471.408 656.99 470.699 L656.99 466.851 Q659.056 467.924 661.061 468.471 Q663.067 468.998 665.031 468.998 Q667.664 468.998 669.082 468.107 Q670.5 467.195 670.5 465.555 Q670.5 464.035 669.467 463.225 Q668.454 462.415 664.991 461.666 L663.695 461.362 Q660.231 460.633 658.692 459.134 Q657.152 457.615 657.152 454.982 Q657.152 451.781 659.421 450.04 Q661.689 448.298 665.862 448.298 Q667.928 448.298 669.751 448.601 Q671.574 448.905 673.113 449.513 Z\" fill=\"#000000\" fill-rule=\"nonzero\" fill-opacity=\"1\" /><path clip-path=\"url(#clip070)\" d=\"M697.499 478.416 L697.499 481.313 L675.949 481.313 L675.949 478.416 L697.499 478.416 Z\" fill=\"#000000\" fill-rule=\"nonzero\" fill-opacity=\"1\" /><path clip-path=\"url(#clip070)\" d=\"M711.313 460.126 Q706.796 460.126 705.054 461.159 Q703.312 462.192 703.312 464.684 Q703.312 466.669 704.609 467.843 Q705.925 468.998 708.173 468.998 Q711.272 468.998 713.136 466.81 Q715.019 464.603 715.019 460.957 L715.019 460.126 L711.313 460.126 M718.746 458.587 L718.746 471.53 L715.019 471.53 L715.019 468.086 Q713.743 470.152 711.84 471.145 Q709.936 472.117 707.181 472.117 Q703.697 472.117 701.631 470.173 Q699.586 468.208 699.586 464.927 Q699.586 461.099 702.138 459.154 Q704.71 457.21 709.794 457.21 L715.019 457.21 L715.019 456.845 Q715.019 454.273 713.318 452.875 Q711.637 451.457 708.579 451.457 Q706.634 451.457 704.791 451.923 Q702.948 452.389 701.246 453.321 L701.246 449.878 Q703.292 449.088 705.216 448.703 Q707.14 448.298 708.963 448.298 Q713.885 448.298 716.316 450.85 Q718.746 453.402 718.746 458.587 Z\" fill=\"#000000\" fill-rule=\"nonzero\" fill-opacity=\"1\" /><path clip-path=\"url(#clip070)\" d=\"M749.097 1048.45 Q749.097 1044.34 747.395 1042.01 Q745.714 1039.66 742.757 1039.66 Q739.8 1039.66 738.099 1042.01 Q736.418 1044.34 736.418 1048.45 Q736.418 1052.57 738.099 1054.92 Q739.8 1057.24 742.757 1057.24 Q745.714 1057.24 747.395 1054.92 Q749.097 1052.57 749.097 1048.45 M736.418 1040.53 Q737.592 1038.51 739.375 1037.54 Q741.177 1036.54 743.669 1036.54 Q747.801 1036.54 750.373 1039.83 Q752.965 1043.11 752.965 1048.45 Q752.965 1053.8 750.373 1057.08 Q747.801 1060.36 743.669 1060.36 Q741.177 1060.36 739.375 1059.39 Q737.592 1058.4 736.418 1056.37 L736.418 1059.78 L732.67 1059.78 L732.67 1028.26 L736.418 1028.26 L736.418 1040.53 Z\" fill=\"#000000\" fill-rule=\"nonzero\" fill-opacity=\"1\" /><path clip-path=\"url(#clip070)\" d=\"M758.758 1050.82 L758.758 1037.09 L762.485 1037.09 L762.485 1050.68 Q762.485 1053.9 763.741 1055.52 Q764.997 1057.12 767.508 1057.12 Q770.526 1057.12 772.268 1055.2 Q774.03 1053.27 774.03 1049.95 L774.03 1037.09 L777.757 1037.09 L777.757 1059.78 L774.03 1059.78 L774.03 1056.29 Q772.673 1058.36 770.87 1059.37 Q769.088 1060.36 766.718 1060.36 Q762.809 1060.36 760.784 1057.93 Q758.758 1055.5 758.758 1050.82 M768.136 1036.54 L768.136 1036.54 Z\" fill=\"#000000\" fill-rule=\"nonzero\" fill-opacity=\"1\" /><path clip-path=\"url(#clip070)\" d=\"M799.895 1037.76 L799.895 1041.28 Q798.315 1040.47 796.614 1040.07 Q794.913 1039.66 793.09 1039.66 Q790.315 1039.66 788.917 1040.51 Q787.54 1041.37 787.54 1043.07 Q787.54 1044.36 788.532 1045.11 Q789.525 1045.84 792.523 1046.51 L793.799 1046.79 Q797.768 1047.64 799.429 1049.2 Q801.11 1050.74 801.11 1053.52 Q801.11 1056.68 798.599 1058.52 Q796.108 1060.36 791.733 1060.36 Q789.91 1060.36 787.925 1060 Q785.96 1059.66 783.773 1058.95 L783.773 1055.1 Q785.839 1056.17 787.844 1056.72 Q789.849 1057.24 791.814 1057.24 Q794.447 1057.24 795.865 1056.35 Q797.282 1055.44 797.282 1053.8 Q797.282 1052.28 796.249 1051.47 Q795.237 1050.66 791.773 1049.91 L790.477 1049.61 Q787.013 1048.88 785.474 1047.38 Q783.935 1045.86 783.935 1043.23 Q783.935 1040.03 786.203 1038.29 Q788.472 1036.54 792.644 1036.54 Q794.71 1036.54 796.533 1036.85 Q798.356 1037.15 799.895 1037.76 Z\" fill=\"#000000\" fill-rule=\"nonzero\" fill-opacity=\"1\" /><path clip-path=\"url(#clip070)\" d=\"M824.282 1066.66 L824.282 1069.56 L802.731 1069.56 L802.731 1066.66 L824.282 1066.66 Z\" fill=\"#000000\" fill-rule=\"nonzero\" fill-opacity=\"1\" /><path clip-path=\"url(#clip070)\" d=\"M844.07 1048.45 Q844.07 1044.34 842.369 1042.01 Q840.688 1039.66 837.731 1039.66 Q834.773 1039.66 833.072 1042.01 Q831.391 1044.34 831.391 1048.45 Q831.391 1052.57 833.072 1054.92 Q834.773 1057.24 837.731 1057.24 Q840.688 1057.24 842.369 1054.92 Q844.07 1052.57 844.07 1048.45 M831.391 1040.53 Q832.566 1038.51 834.348 1037.54 Q836.151 1036.54 838.642 1036.54 Q842.774 1036.54 845.346 1039.83 Q847.939 1043.11 847.939 1048.45 Q847.939 1053.8 845.346 1057.08 Q842.774 1060.36 838.642 1060.36 Q836.151 1060.36 834.348 1059.39 Q832.566 1058.4 831.391 1056.37 L831.391 1059.78 L827.644 1059.78 L827.644 1028.26 L831.391 1028.26 L831.391 1040.53 Z\" fill=\"#000000\" fill-rule=\"nonzero\" fill-opacity=\"1\" /><path clip-path=\"url(#clip070)\" d=\"M1182.12 1341.48 Q1182.12 1337.37 1180.42 1335.04 Q1178.74 1332.69 1175.78 1332.69 Q1172.82 1332.69 1171.12 1335.04 Q1169.44 1337.37 1169.44 1341.48 Q1169.44 1345.59 1171.12 1347.94 Q1172.82 1350.27 1175.78 1350.27 Q1178.74 1350.27 1180.42 1347.94 Q1182.12 1345.59 1182.12 1341.48 M1169.44 1333.56 Q1170.61 1331.54 1172.4 1330.56 Q1174.2 1329.57 1176.69 1329.57 Q1180.82 1329.57 1183.4 1332.85 Q1185.99 1336.13 1185.99 1341.48 Q1185.99 1346.83 1183.4 1350.11 Q1180.82 1353.39 1176.69 1353.39 Q1174.2 1353.39 1172.4 1352.42 Q1170.61 1351.43 1169.44 1349.4 L1169.44 1352.8 L1165.69 1352.8 L1165.69 1321.29 L1169.44 1321.29 L1169.44 1333.56 Z\" fill=\"#000000\" fill-rule=\"nonzero\" fill-opacity=\"1\" /><path clip-path=\"url(#clip070)\" d=\"M1191.78 1343.85 L1191.78 1330.12 L1195.51 1330.12 L1195.51 1343.71 Q1195.51 1346.93 1196.76 1348.55 Q1198.02 1350.15 1200.53 1350.15 Q1203.55 1350.15 1205.29 1348.23 Q1207.05 1346.3 1207.05 1342.98 L1207.05 1330.12 L1210.78 1330.12 L1210.78 1352.8 L1207.05 1352.8 L1207.05 1349.32 Q1205.7 1351.38 1203.89 1352.4 Q1202.11 1353.39 1199.74 1353.39 Q1195.83 1353.39 1193.81 1350.96 Q1191.78 1348.53 1191.78 1343.85 M1201.16 1329.57 L1201.16 1329.57 Z\" fill=\"#000000\" fill-rule=\"nonzero\" fill-opacity=\"1\" /><path clip-path=\"url(#clip070)\" d=\"M1232.92 1330.79 L1232.92 1334.31 Q1231.34 1333.5 1229.64 1333.1 Q1227.94 1332.69 1226.11 1332.69 Q1223.34 1332.69 1221.94 1333.54 Q1220.56 1334.39 1220.56 1336.09 Q1220.56 1337.39 1221.56 1338.14 Q1222.55 1338.87 1225.55 1339.54 L1226.82 1339.82 Q1230.79 1340.67 1232.45 1342.23 Q1234.13 1343.77 1234.13 1346.54 Q1234.13 1349.7 1231.62 1351.55 Q1229.13 1353.39 1224.76 1353.39 Q1222.93 1353.39 1220.95 1353.03 Q1218.98 1352.68 1216.8 1351.97 L1216.8 1348.12 Q1218.86 1349.2 1220.87 1349.74 Q1222.87 1350.27 1224.84 1350.27 Q1227.47 1350.27 1228.89 1349.38 Q1230.31 1348.47 1230.31 1346.83 Q1230.31 1345.31 1229.27 1344.5 Q1228.26 1343.69 1224.8 1342.94 L1223.5 1342.64 Q1220.04 1341.91 1218.5 1340.41 Q1216.96 1338.89 1216.96 1336.25 Q1216.96 1333.05 1219.23 1331.31 Q1221.49 1329.57 1225.67 1329.57 Q1227.73 1329.57 1229.56 1329.87 Q1231.38 1330.18 1232.92 1330.79 Z\" fill=\"#000000\" fill-rule=\"nonzero\" fill-opacity=\"1\" /><path clip-path=\"url(#clip070)\" d=\"M1257.3 1359.69 L1257.3 1362.59 L1235.75 1362.59 L1235.75 1359.69 L1257.3 1359.69 Z\" fill=\"#000000\" fill-rule=\"nonzero\" fill-opacity=\"1\" /><path clip-path=\"url(#clip070)\" d=\"M1277.13 1330.99 L1277.13 1334.47 Q1275.55 1333.6 1273.95 1333.18 Q1272.37 1332.73 1270.75 1332.73 Q1267.13 1332.73 1265.12 1335.04 Q1263.12 1337.33 1263.12 1341.48 Q1263.12 1345.63 1265.12 1347.94 Q1267.13 1350.23 1270.75 1350.23 Q1272.37 1350.23 1273.95 1349.81 Q1275.55 1349.36 1277.13 1348.49 L1277.13 1351.93 Q1275.57 1352.66 1273.89 1353.03 Q1272.23 1353.39 1270.35 1353.39 Q1265.22 1353.39 1262.21 1350.17 Q1259.19 1346.95 1259.19 1341.48 Q1259.19 1335.93 1262.23 1332.75 Q1265.28 1329.57 1270.59 1329.57 Q1272.31 1329.57 1273.95 1329.94 Q1275.59 1330.28 1277.13 1330.99 Z\" fill=\"#000000\" fill-rule=\"nonzero\" fill-opacity=\"1\" /><path clip-path=\"url(#clip070)\" d=\"M1697.22 995.378 Q1697.22 991.267 1695.52 988.937 Q1693.84 986.588 1690.88 986.588 Q1687.93 986.588 1686.23 988.937 Q1684.55 991.267 1684.55 995.378 Q1684.55 999.49 1686.23 1001.84 Q1687.93 1004.17 1690.88 1004.17 Q1693.84 1004.17 1695.52 1001.84 Q1697.22 999.49 1697.22 995.378 M1684.55 987.459 Q1685.72 985.433 1687.5 984.461 Q1689.3 983.469 1691.8 983.469 Q1695.93 983.469 1698.5 986.75 Q1701.09 990.031 1701.09 995.378 Q1701.09 1000.73 1698.5 1004.01 Q1695.93 1007.29 1691.8 1007.29 Q1689.3 1007.29 1687.5 1006.32 Q1685.72 1005.32 1684.55 1003.3 L1684.55 1006.7 L1680.8 1006.7 L1680.8 975.185 L1684.55 975.185 L1684.55 987.459 Z\" fill=\"#000000\" fill-rule=\"nonzero\" fill-opacity=\"1\" /><path clip-path=\"url(#clip070)\" d=\"M1706.89 997.748 L1706.89 984.016 L1710.61 984.016 L1710.61 997.606 Q1710.61 1000.83 1711.87 1002.45 Q1713.12 1004.05 1715.64 1004.05 Q1718.65 1004.05 1720.4 1002.12 Q1722.16 1000.2 1722.16 996.877 L1722.16 984.016 L1725.88 984.016 L1725.88 1006.7 L1722.16 1006.7 L1722.16 1003.22 Q1720.8 1005.28 1719 1006.3 Q1717.22 1007.29 1714.85 1007.29 Q1710.94 1007.29 1708.91 1004.86 Q1706.89 1002.43 1706.89 997.748 M1716.26 983.469 L1716.26 983.469 Z\" fill=\"#000000\" fill-rule=\"nonzero\" fill-opacity=\"1\" /><path clip-path=\"url(#clip070)\" d=\"M1748.02 984.684 L1748.02 988.208 Q1746.44 987.398 1744.74 986.993 Q1743.04 986.588 1741.22 986.588 Q1738.44 986.588 1737.04 987.439 Q1735.67 988.289 1735.67 989.991 Q1735.67 991.287 1736.66 992.036 Q1737.65 992.766 1740.65 993.434 L1741.93 993.718 Q1745.9 994.568 1747.56 996.128 Q1749.24 997.667 1749.24 1000.44 Q1749.24 1003.6 1746.73 1005.44 Q1744.24 1007.29 1739.86 1007.29 Q1738.04 1007.29 1736.05 1006.92 Q1734.09 1006.58 1731.9 1005.87 L1731.9 1002.02 Q1733.97 1003.1 1735.97 1003.64 Q1737.98 1004.17 1739.94 1004.17 Q1742.57 1004.17 1743.99 1003.28 Q1745.41 1002.37 1745.41 1000.73 Q1745.41 999.206 1744.38 998.396 Q1743.36 997.586 1739.9 996.837 L1738.6 996.533 Q1735.14 995.804 1733.6 994.305 Q1732.06 992.786 1732.06 990.153 Q1732.06 986.953 1734.33 985.211 Q1736.6 983.469 1740.77 983.469 Q1742.84 983.469 1744.66 983.773 Q1746.48 984.076 1748.02 984.684 Z\" fill=\"#000000\" fill-rule=\"nonzero\" fill-opacity=\"1\" /><path clip-path=\"url(#clip070)\" d=\"M1772.41 1013.59 L1772.41 1016.48 L1750.86 1016.48 L1750.86 1013.59 L1772.41 1013.59 Z\" fill=\"#000000\" fill-rule=\"nonzero\" fill-opacity=\"1\" /><path clip-path=\"url(#clip070)\" d=\"M1790.84 987.459 L1790.84 975.185 L1794.57 975.185 L1794.57 1006.7 L1790.84 1006.7 L1790.84 1003.3 Q1789.67 1005.32 1787.86 1006.32 Q1786.08 1007.29 1783.57 1007.29 Q1779.46 1007.29 1776.87 1004.01 Q1774.29 1000.73 1774.29 995.378 Q1774.29 990.031 1776.87 986.75 Q1779.46 983.469 1783.57 983.469 Q1786.08 983.469 1787.86 984.461 Q1789.67 985.433 1790.84 987.459 M1778.14 995.378 Q1778.14 999.49 1779.82 1001.84 Q1781.52 1004.17 1784.48 1004.17 Q1787.44 1004.17 1789.14 1001.84 Q1790.84 999.49 1790.84 995.378 Q1790.84 991.267 1789.14 988.937 Q1787.44 986.588 1784.48 986.588 Q1781.52 986.588 1779.82 988.937 Q1778.14 991.267 1778.14 995.378 Z\" fill=\"#000000\" fill-rule=\"nonzero\" fill-opacity=\"1\" /><path clip-path=\"url(#clip070)\" d=\"M905.091 248.311 L905.091 254.752 L912.768 254.752 L912.768 257.649 L905.091 257.649 L905.091 269.963 Q905.091 272.738 905.841 273.528 Q906.61 274.318 908.94 274.318 L912.768 274.318 L912.768 277.437 L908.94 277.437 Q904.625 277.437 902.985 275.837 Q901.344 274.217 901.344 269.963 L901.344 257.649 L898.61 257.649 L898.61 254.752 L901.344 254.752 L901.344 248.311 L905.091 248.311 Z\" fill=\"#000000\" fill-rule=\"nonzero\" fill-opacity=\"1\" /><path clip-path=\"url(#clip070)\" d=\"M930.814 258.236 Q930.186 257.871 929.437 257.709 Q928.708 257.527 927.817 257.527 Q924.657 257.527 922.956 259.593 Q921.275 261.639 921.275 265.487 L921.275 277.437 L917.527 277.437 L917.527 254.752 L921.275 254.752 L921.275 258.276 Q922.449 256.21 924.333 255.218 Q926.217 254.205 928.91 254.205 Q929.295 254.205 929.761 254.266 Q930.227 254.307 930.794 254.408 L930.814 258.236 Z\" fill=\"#000000\" fill-rule=\"nonzero\" fill-opacity=\"1\" /><path clip-path=\"url(#clip070)\" d=\"M945.033 266.034 Q940.516 266.034 938.774 267.067 Q937.033 268.1 937.033 270.591 Q937.033 272.576 938.329 273.751 Q939.645 274.905 941.894 274.905 Q944.993 274.905 946.856 272.718 Q948.74 270.51 948.74 266.864 L948.74 266.034 L945.033 266.034 M952.466 264.495 L952.466 277.437 L948.74 277.437 L948.74 273.994 Q947.464 276.06 945.56 277.052 Q943.656 278.025 940.901 278.025 Q937.417 278.025 935.351 276.08 Q933.306 274.115 933.306 270.834 Q933.306 267.006 935.858 265.062 Q938.43 263.117 943.514 263.117 L948.74 263.117 L948.74 262.753 Q948.74 260.18 947.038 258.783 Q945.357 257.365 942.299 257.365 Q940.354 257.365 938.511 257.831 Q936.668 258.297 934.967 259.228 L934.967 255.785 Q937.012 254.995 938.936 254.61 Q940.861 254.205 942.684 254.205 Q947.605 254.205 950.036 256.757 Q952.466 259.309 952.466 264.495 Z\" fill=\"#000000\" fill-rule=\"nonzero\" fill-opacity=\"1\" /><path clip-path=\"url(#clip070)\" d=\"M979 263.745 L979 277.437 L975.273 277.437 L975.273 263.867 Q975.273 260.646 974.017 259.046 Q972.761 257.446 970.25 257.446 Q967.232 257.446 965.49 259.37 Q963.748 261.294 963.748 264.616 L963.748 277.437 L960.001 277.437 L960.001 254.752 L963.748 254.752 L963.748 258.276 Q965.085 256.231 966.888 255.218 Q968.711 254.205 971.08 254.205 Q974.989 254.205 976.995 256.636 Q979 259.046 979 263.745 Z\" fill=\"#000000\" fill-rule=\"nonzero\" fill-opacity=\"1\" /><path clip-path=\"url(#clip070)\" d=\"M1000.9 255.421 L1000.9 258.945 Q999.315 258.135 997.614 257.73 Q995.912 257.324 994.09 257.324 Q991.315 257.324 989.917 258.175 Q988.54 259.026 988.54 260.727 Q988.54 262.024 989.532 262.773 Q990.525 263.502 993.522 264.17 L994.798 264.454 Q998.768 265.305 1000.43 266.864 Q1002.11 268.404 1002.11 271.179 Q1002.11 274.338 999.599 276.181 Q997.107 278.025 992.732 278.025 Q990.91 278.025 988.925 277.66 Q986.96 277.316 984.772 276.607 L984.772 272.758 Q986.838 273.832 988.844 274.379 Q990.849 274.905 992.813 274.905 Q995.447 274.905 996.864 274.014 Q998.282 273.103 998.282 271.462 Q998.282 269.943 997.249 269.133 Q996.236 268.323 992.773 267.573 L991.477 267.269 Q988.013 266.54 986.474 265.041 Q984.934 263.522 984.934 260.889 Q984.934 257.689 987.203 255.947 Q989.471 254.205 993.644 254.205 Q995.71 254.205 997.533 254.509 Q999.356 254.813 1000.9 255.421 Z\" fill=\"#000000\" fill-rule=\"nonzero\" fill-opacity=\"1\" /><path clip-path=\"url(#clip070)\" d=\"M1025.28 284.324 L1025.28 287.22 L1003.73 287.22 L1003.73 284.324 L1025.28 284.324 Z\" fill=\"#000000\" fill-rule=\"nonzero\" fill-opacity=\"1\" /><path clip-path=\"url(#clip070)\" d=\"M1043.71 265.831 Q1043.71 261.78 1042.03 259.552 Q1040.37 257.324 1037.35 257.324 Q1034.36 257.324 1032.67 259.552 Q1031.01 261.78 1031.01 265.831 Q1031.01 269.862 1032.67 272.09 Q1034.36 274.318 1037.35 274.318 Q1040.37 274.318 1042.03 272.09 Q1043.71 269.862 1043.71 265.831 M1047.44 274.622 Q1047.44 280.415 1044.87 283.23 Q1042.3 286.066 1036.99 286.066 Q1035.02 286.066 1033.28 285.762 Q1031.54 285.478 1029.9 284.871 L1029.9 281.245 Q1031.54 282.136 1033.14 282.562 Q1034.74 282.987 1036.4 282.987 Q1040.07 282.987 1041.89 281.063 Q1043.71 279.159 1043.71 275.29 L1043.71 273.447 Q1042.56 275.452 1040.76 276.445 Q1038.95 277.437 1036.44 277.437 Q1032.27 277.437 1029.72 274.257 Q1027.17 271.077 1027.17 265.831 Q1027.17 260.565 1029.72 257.385 Q1032.27 254.205 1036.44 254.205 Q1038.95 254.205 1040.76 255.198 Q1042.56 256.19 1043.71 258.195 L1043.71 254.752 L1047.44 254.752 L1047.44 274.622 Z\" fill=\"#000000\" fill-rule=\"nonzero\" fill-opacity=\"1\" /><path clip-path=\"url(#clip070)\" d=\"M1068.26 258.236 Q1067.63 257.871 1066.88 257.709 Q1066.16 257.527 1065.26 257.527 Q1062.1 257.527 1060.4 259.593 Q1058.72 261.639 1058.72 265.487 L1058.72 277.437 L1054.97 277.437 L1054.97 254.752 L1058.72 254.752 L1058.72 258.276 Q1059.9 256.21 1061.78 255.218 Q1063.66 254.205 1066.36 254.205 Q1066.74 254.205 1067.21 254.266 Q1067.67 254.307 1068.24 254.408 L1068.26 258.236 Z\" fill=\"#000000\" fill-rule=\"nonzero\" fill-opacity=\"1\" /><path clip-path=\"url(#clip070)\" d=\"M1072.17 254.752 L1075.9 254.752 L1075.9 277.437 L1072.17 277.437 L1072.17 254.752 M1072.17 245.921 L1075.9 245.921 L1075.9 250.64 L1072.17 250.64 L1072.17 245.921 Z\" fill=\"#000000\" fill-rule=\"nonzero\" fill-opacity=\"1\" /><path clip-path=\"url(#clip070)\" d=\"M1098.62 258.195 L1098.62 245.921 L1102.35 245.921 L1102.35 277.437 L1098.62 277.437 L1098.62 274.034 Q1097.45 276.06 1095.65 277.052 Q1093.86 278.025 1091.35 278.025 Q1087.24 278.025 1084.65 274.743 Q1082.08 271.462 1082.08 266.115 Q1082.08 260.768 1084.65 257.487 Q1087.24 254.205 1091.35 254.205 Q1093.86 254.205 1095.65 255.198 Q1097.45 256.17 1098.62 258.195 M1085.92 266.115 Q1085.92 270.227 1087.6 272.576 Q1089.31 274.905 1092.26 274.905 Q1095.22 274.905 1096.92 272.576 Q1098.62 270.227 1098.62 266.115 Q1098.62 262.003 1096.92 259.674 Q1095.22 257.324 1092.26 257.324 Q1089.31 257.324 1087.6 259.674 Q1085.92 262.003 1085.92 266.115 Z\" fill=\"#000000\" fill-rule=\"nonzero\" fill-opacity=\"1\" /></svg>\n"
      ]
     },
     "execution_count": 5,
     "metadata": {},
     "output_type": "execute_result"
    }
   ],
   "source": [
    "graphplot(network.G, curves=false, names=[props(network.G, v)[:name] for v in 1:nv(network.G)]\n",
    ")"
   ]
  },
  {
   "cell_type": "code",
   "execution_count": 6,
   "id": "315ce2d1-d539-4a1e-ac8d-0767e3148445",
   "metadata": {},
   "outputs": [
    {
     "data": {
      "image/svg+xml": [
       "<?xml version=\"1.0\" encoding=\"utf-8\"?>\n",
       "<svg xmlns=\"http://www.w3.org/2000/svg\" xmlns:xlink=\"http://www.w3.org/1999/xlink\" width=\"600\" height=\"400\" viewBox=\"0 0 2400 1600\">\n",
       "<defs>\n",
       "  <clipPath id=\"clip100\">\n",
       "    <rect x=\"0\" y=\"0\" width=\"2400\" height=\"1600\"/>\n",
       "  </clipPath>\n",
       "</defs>\n",
       "<path clip-path=\"url(#clip100)\" d=\"M0 1600 L2400 1600 L2400 0 L0 0  Z\" fill=\"#ffffff\" fill-rule=\"evenodd\" fill-opacity=\"1\"/>\n",
       "<defs>\n",
       "  <clipPath id=\"clip101\">\n",
       "    <rect x=\"480\" y=\"0\" width=\"1681\" height=\"1600\"/>\n",
       "  </clipPath>\n",
       "</defs>\n",
       "<path clip-path=\"url(#clip100)\" d=\"M447.244 1552.76 L1952.76 1552.76 L1952.76 47.2441 L447.244 47.2441  Z\" fill=\"#ffffff\" fill-rule=\"evenodd\" fill-opacity=\"1\"/>\n",
       "<defs>\n",
       "  <clipPath id=\"clip102\">\n",
       "    <rect x=\"447\" y=\"47\" width=\"1507\" height=\"1507\"/>\n",
       "  </clipPath>\n",
       "</defs>\n",
       "<polyline clip-path=\"url(#clip102)\" style=\"stroke:#000000; stroke-linecap:round; stroke-linejoin:round; stroke-width:4; stroke-opacity:1; fill:none\" points=\"669.094,1256.02 885.338,1143.5 \"/>\n",
       "<polyline clip-path=\"url(#clip102)\" style=\"stroke:#000000; stroke-linecap:round; stroke-linejoin:round; stroke-width:4; stroke-opacity:1; fill:none\" points=\"845.094,1144.15 885.338,1143.5 861.711,1176.08 \"/>\n",
       "<polyline clip-path=\"url(#clip102)\" style=\"stroke:#000000; stroke-linecap:round; stroke-linejoin:round; stroke-width:4; stroke-opacity:1; fill:none\" points=\"885.338,1143.5 669.094,1256.02 \"/>\n",
       "<polyline clip-path=\"url(#clip102)\" style=\"stroke:#000000; stroke-linecap:round; stroke-linejoin:round; stroke-width:4; stroke-opacity:1; fill:none\" points=\"925.04,1092.57 1048.52,1303.12 \"/>\n",
       "<polyline clip-path=\"url(#clip102)\" style=\"stroke:#000000; stroke-linecap:round; stroke-linejoin:round; stroke-width:4; stroke-opacity:1; fill:none\" points=\"1045.84,1262.96 1048.52,1303.12 1014.78,1281.18 \"/>\n",
       "<polyline clip-path=\"url(#clip102)\" style=\"stroke:#000000; stroke-linecap:round; stroke-linejoin:round; stroke-width:4; stroke-opacity:1; fill:none\" points=\"1048.52,1303.12 925.04,1092.57 \"/>\n",
       "<polyline clip-path=\"url(#clip102)\" style=\"stroke:#000000; stroke-linecap:round; stroke-linejoin:round; stroke-width:4; stroke-opacity:1; fill:none\" points=\"925.04,1092.57 966.719,843.517 \"/>\n",
       "<polyline clip-path=\"url(#clip102)\" style=\"stroke:#000000; stroke-linecap:round; stroke-linejoin:round; stroke-width:4; stroke-opacity:1; fill:none\" points=\"943.024,876.052 966.719,843.517 978.53,881.994 \"/>\n",
       "<polyline clip-path=\"url(#clip102)\" style=\"stroke:#000000; stroke-linecap:round; stroke-linejoin:round; stroke-width:4; stroke-opacity:1; fill:none\" points=\"966.719,843.517 925.04,1092.57 \"/>\n",
       "<polyline clip-path=\"url(#clip102)\" style=\"stroke:#000000; stroke-linecap:round; stroke-linejoin:round; stroke-width:4; stroke-opacity:1; fill:none\" points=\"951.548,783.669 708.226,705.836 \"/>\n",
       "<polyline clip-path=\"url(#clip102)\" style=\"stroke:#000000; stroke-linecap:round; stroke-linejoin:round; stroke-width:4; stroke-opacity:1; fill:none\" points=\"737.031,733.948 708.226,705.836 747.999,699.66 \"/>\n",
       "<polyline clip-path=\"url(#clip102)\" style=\"stroke:#000000; stroke-linecap:round; stroke-linejoin:round; stroke-width:4; stroke-opacity:1; fill:none\" points=\"708.226,705.836 951.548,783.669 \"/>\n",
       "<polyline clip-path=\"url(#clip102)\" style=\"stroke:#000000; stroke-linecap:round; stroke-linejoin:round; stroke-width:4; stroke-opacity:1; fill:none\" points=\"951.548,783.669 1138.2,614.26 \"/>\n",
       "<polyline clip-path=\"url(#clip102)\" style=\"stroke:#000000; stroke-linecap:round; stroke-linejoin:round; stroke-width:4; stroke-opacity:1; fill:none\" points=\"1099.45,625.126 1138.2,614.26 1123.64,651.783 \"/>\n",
       "<polyline clip-path=\"url(#clip102)\" style=\"stroke:#000000; stroke-linecap:round; stroke-linejoin:round; stroke-width:4; stroke-opacity:1; fill:none\" points=\"1138.2,614.26 951.548,783.669 \"/>\n",
       "<polyline clip-path=\"url(#clip102)\" style=\"stroke:#000000; stroke-linecap:round; stroke-linejoin:round; stroke-width:4; stroke-opacity:1; fill:none\" points=\"1164.82,554.412 1069.16,322.166 \"/>\n",
       "<polyline clip-path=\"url(#clip102)\" style=\"stroke:#000000; stroke-linecap:round; stroke-linejoin:round; stroke-width:4; stroke-opacity:1; fill:none\" points=\"1066.22,362.308 1069.16,322.166 1099.51,348.597 \"/>\n",
       "<polyline clip-path=\"url(#clip102)\" style=\"stroke:#000000; stroke-linecap:round; stroke-linejoin:round; stroke-width:4; stroke-opacity:1; fill:none\" points=\"1069.16,322.166 1164.82,554.412 \"/>\n",
       "<polyline clip-path=\"url(#clip102)\" style=\"stroke:#000000; stroke-linecap:round; stroke-linejoin:round; stroke-width:4; stroke-opacity:1; fill:none\" points=\"1164.82,554.412 1411.79,545.884 \"/>\n",
       "<polyline clip-path=\"url(#clip102)\" style=\"stroke:#000000; stroke-linecap:round; stroke-linejoin:round; stroke-width:4; stroke-opacity:1; fill:none\" points=\"1375.19,529.137 1411.79,545.884 1376.43,565.116 \"/>\n",
       "<polyline clip-path=\"url(#clip102)\" style=\"stroke:#000000; stroke-linecap:round; stroke-linejoin:round; stroke-width:4; stroke-opacity:1; fill:none\" points=\"1411.79,545.884 1164.82,554.412 \"/>\n",
       "<polyline clip-path=\"url(#clip102)\" style=\"stroke:#000000; stroke-linecap:round; stroke-linejoin:round; stroke-width:4; stroke-opacity:1; fill:none\" points=\"1465.61,519.414 1690.13,471.033 \"/>\n",
       "<polyline clip-path=\"url(#clip102)\" style=\"stroke:#000000; stroke-linecap:round; stroke-linejoin:round; stroke-width:4; stroke-opacity:1; fill:none\" points=\"1651.15,461.02 1690.13,471.033 1658.73,496.213 \"/>\n",
       "<polyline clip-path=\"url(#clip102)\" style=\"stroke:#000000; stroke-linecap:round; stroke-linejoin:round; stroke-width:4; stroke-opacity:1; fill:none\" points=\"1690.13,471.033 1465.61,519.414 \"/>\n",
       "<path clip-path=\"url(#clip102)\" d=\"M789.416 1256.02 L729.255 1151.82 L608.933 1151.82 L548.772 1256.02 L608.933 1360.22 L729.255 1360.22 L789.416 1256.02 L789.416 1256.02  Z\" fill=\"#009af9\" fill-rule=\"evenodd\" fill-opacity=\"1\"/>\n",
       "<polyline clip-path=\"url(#clip102)\" style=\"stroke:#000000; stroke-linecap:round; stroke-linejoin:round; stroke-width:4; stroke-opacity:1; fill:none\" points=\"789.416,1256.02 729.255,1151.82 608.933,1151.82 548.772,1256.02 608.933,1360.22 729.255,1360.22 789.416,1256.02 \"/>\n",
       "<path clip-path=\"url(#clip102)\" d=\"M994.147 1092.57 L959.593 1032.72 L890.486 1032.72 L855.933 1092.57 L890.486 1152.42 L959.593 1152.42 L994.147 1092.57 L994.147 1092.57  Z\" fill=\"#009af9\" fill-rule=\"evenodd\" fill-opacity=\"1\"/>\n",
       "<polyline clip-path=\"url(#clip102)\" style=\"stroke:#000000; stroke-linecap:round; stroke-linejoin:round; stroke-width:4; stroke-opacity:1; fill:none\" points=\"994.147,1092.57 959.593,1032.72 890.486,1032.72 855.933,1092.57 890.486,1152.42 959.593,1152.42 994.147,1092.57 \"/>\n",
       "<path clip-path=\"url(#clip102)\" d=\"M1166.78 1337.68 L1132.23 1277.83 L1063.12 1277.83 L1028.57 1337.68 L1063.12 1397.53 L1132.23 1397.53 L1166.78 1337.68 L1166.78 1337.68  Z\" fill=\"#009af9\" fill-rule=\"evenodd\" fill-opacity=\"1\"/>\n",
       "<polyline clip-path=\"url(#clip102)\" style=\"stroke:#000000; stroke-linecap:round; stroke-linejoin:round; stroke-width:4; stroke-opacity:1; fill:none\" points=\"1166.78,1337.68 1132.23,1277.83 1063.12,1277.83 1028.57,1337.68 1063.12,1397.53 1132.23,1397.53 1166.78,1337.68 \"/>\n",
       "<path clip-path=\"url(#clip102)\" d=\"M1020.66 783.669 L986.102 723.82 L916.995 723.82 L882.441 783.669 L916.995 843.517 L986.102 843.517 L1020.66 783.669 L1020.66 783.669  Z\" fill=\"#009af9\" fill-rule=\"evenodd\" fill-opacity=\"1\"/>\n",
       "<polyline clip-path=\"url(#clip102)\" style=\"stroke:#000000; stroke-linecap:round; stroke-linejoin:round; stroke-width:4; stroke-opacity:1; fill:none\" points=\"1020.66,783.669 986.102,723.82 916.995,723.82 882.441,783.669 916.995,843.517 986.102,843.517 1020.66,783.669 1020.66,783.669 \"/>\n",
       "<path clip-path=\"url(#clip102)\" d=\"M731.424 665.656 L696.871 605.807 L627.764 605.807 L593.21 665.656 L627.764 725.504 L696.871 725.504 L731.424 665.656 L731.424 665.656  Z\" fill=\"#009af9\" fill-rule=\"evenodd\" fill-opacity=\"1\"/>\n",
       "<polyline clip-path=\"url(#clip102)\" style=\"stroke:#000000; stroke-linecap:round; stroke-linejoin:round; stroke-width:4; stroke-opacity:1; fill:none\" points=\"731.424,665.656 696.871,605.807 627.764,605.807 593.21,665.656 627.764,725.504 696.871,725.504 731.424,665.656 \"/>\n",
       "<path clip-path=\"url(#clip102)\" d=\"M1233.93 554.412 L1199.37 494.563 L1130.27 494.563 L1095.71 554.412 L1130.27 614.26 L1199.37 614.26 L1233.93 554.412 L1233.93 554.412  Z\" fill=\"#009af9\" fill-rule=\"evenodd\" fill-opacity=\"1\"/>\n",
       "<polyline clip-path=\"url(#clip102)\" style=\"stroke:#000000; stroke-linecap:round; stroke-linejoin:round; stroke-width:4; stroke-opacity:1; fill:none\" points=\"1233.93,554.412 1199.37,494.563 1130.27,494.563 1095.71,554.412 1130.27,614.26 1199.37,614.26 1233.93,554.412 1233.93,554.412 \"/>\n",
       "<path clip-path=\"url(#clip102)\" d=\"M1139.77 262.317 L1105.22 202.469 L1036.11 202.469 L1001.56 262.317 L1036.11 322.166 L1105.22 322.166 L1139.77 262.317 L1139.77 262.317  Z\" fill=\"#009af9\" fill-rule=\"evenodd\" fill-opacity=\"1\"/>\n",
       "<polyline clip-path=\"url(#clip102)\" style=\"stroke:#000000; stroke-linecap:round; stroke-linejoin:round; stroke-width:4; stroke-opacity:1; fill:none\" points=\"1139.77,262.317 1105.22,202.469 1036.11,202.469 1001.56,262.317 1036.11,322.166 1105.22,322.166 1139.77,262.317 \"/>\n",
       "<path clip-path=\"url(#clip102)\" d=\"M1534.72 519.414 L1500.17 459.566 L1431.06 459.566 L1396.51 519.414 L1431.06 579.263 L1500.17 579.263 L1534.72 519.414 L1534.72 519.414  Z\" fill=\"#009af9\" fill-rule=\"evenodd\" fill-opacity=\"1\"/>\n",
       "<polyline clip-path=\"url(#clip102)\" style=\"stroke:#000000; stroke-linecap:round; stroke-linejoin:round; stroke-width:4; stroke-opacity:1; fill:none\" points=\"1534.72,519.414 1500.17,459.566 1431.06,459.566 1396.51,519.414 1431.06,579.263 1500.17,579.263 1534.72,519.414 \"/>\n",
       "<path clip-path=\"url(#clip102)\" d=\"M1806.79 433.692 L1772.24 373.843 L1703.13 373.843 L1668.58 433.692 L1703.13 493.54 L1772.24 493.54 L1806.79 433.692 L1806.79 433.692  Z\" fill=\"#009af9\" fill-rule=\"evenodd\" fill-opacity=\"1\"/>\n",
       "<polyline clip-path=\"url(#clip102)\" style=\"stroke:#000000; stroke-linecap:round; stroke-linejoin:round; stroke-width:4; stroke-opacity:1; fill:none\" points=\"1806.79,433.692 1772.24,373.843 1703.13,373.843 1668.58,433.692 1703.13,493.54 1772.24,493.54 1806.79,433.692 \"/>\n",
       "<path clip-path=\"url(#clip102)\" d=\"M669.094 1256.42 L668.748 1256.22 L668.748 1255.82 L669.094 1255.62 L669.44 1255.82 L669.44 1256.22 Z\" fill=\"#009af9\" fill-rule=\"evenodd\" fill-opacity=\"1\" stroke=\"#000000\" stroke-opacity=\"1\" stroke-width=\"3.2\"/>\n",
       "<path clip-path=\"url(#clip102)\" d=\"M925.04 1092.97 L924.693 1092.77 L924.693 1092.37 L925.04 1092.17 L925.386 1092.37 L925.386 1092.77 Z\" fill=\"#009af9\" fill-rule=\"evenodd\" fill-opacity=\"1\" stroke=\"#000000\" stroke-opacity=\"1\" stroke-width=\"3.2\"/>\n",
       "<path clip-path=\"url(#clip102)\" d=\"M1097.68 1338.08 L1097.33 1337.88 L1097.33 1337.48 L1097.68 1337.28 L1098.02 1337.48 L1098.02 1337.88 Z\" fill=\"#009af9\" fill-rule=\"evenodd\" fill-opacity=\"1\" stroke=\"#000000\" stroke-opacity=\"1\" stroke-width=\"3.2\"/>\n",
       "<path clip-path=\"url(#clip102)\" d=\"M951.548 784.069 L951.202 783.869 L951.202 783.469 L951.548 783.269 L951.895 783.469 L951.895 783.869 Z\" fill=\"#009af9\" fill-rule=\"evenodd\" fill-opacity=\"1\" stroke=\"#000000\" stroke-opacity=\"1\" stroke-width=\"3.2\"/>\n",
       "<path clip-path=\"url(#clip102)\" d=\"M662.317 666.056 L661.971 665.856 L661.971 665.456 L662.317 665.256 L662.664 665.456 L662.664 665.856 Z\" fill=\"#009af9\" fill-rule=\"evenodd\" fill-opacity=\"1\" stroke=\"#000000\" stroke-opacity=\"1\" stroke-width=\"3.2\"/>\n",
       "<path clip-path=\"url(#clip102)\" d=\"M1164.82 554.812 L1164.47 554.612 L1164.47 554.212 L1164.82 554.012 L1165.17 554.212 L1165.17 554.612 Z\" fill=\"#009af9\" fill-rule=\"evenodd\" fill-opacity=\"1\" stroke=\"#000000\" stroke-opacity=\"1\" stroke-width=\"3.2\"/>\n",
       "<path clip-path=\"url(#clip102)\" d=\"M1070.66 262.717 L1070.32 262.517 L1070.32 262.117 L1070.66 261.917 L1071.01 262.117 L1071.01 262.517 Z\" fill=\"#009af9\" fill-rule=\"evenodd\" fill-opacity=\"1\" stroke=\"#000000\" stroke-opacity=\"1\" stroke-width=\"3.2\"/>\n",
       "<path clip-path=\"url(#clip102)\" d=\"M1465.61 519.814 L1465.27 519.614 L1465.27 519.214 L1465.61 519.014 L1465.96 519.214 L1465.96 519.614 Z\" fill=\"#009af9\" fill-rule=\"evenodd\" fill-opacity=\"1\" stroke=\"#000000\" stroke-opacity=\"1\" stroke-width=\"3.2\"/>\n",
       "<path clip-path=\"url(#clip102)\" d=\"M1737.68 434.092 L1737.34 433.892 L1737.34 433.492 L1737.68 433.292 L1738.03 433.492 L1738.03 433.892 Z\" fill=\"#009af9\" fill-rule=\"evenodd\" fill-opacity=\"1\" stroke=\"#000000\" stroke-opacity=\"1\" stroke-width=\"3.2\"/>\n",
       "<path clip-path=\"url(#clip100)\" d=\"M573.705 1242.02 L573.705 1248.46 L581.382 1248.46 L581.382 1251.35 L573.705 1251.35 L573.705 1263.67 Q573.705 1266.44 574.455 1267.23 Q575.224 1268.02 577.554 1268.02 L581.382 1268.02 L581.382 1271.14 L577.554 1271.14 Q573.239 1271.14 571.599 1269.54 Q569.958 1267.92 569.958 1263.67 L569.958 1251.35 L567.224 1251.35 L567.224 1248.46 L569.958 1248.46 L569.958 1242.02 L573.705 1242.02 Z\" fill=\"#000000\" fill-rule=\"nonzero\" fill-opacity=\"1\" /><path clip-path=\"url(#clip100)\" d=\"M599.429 1251.94 Q598.801 1251.58 598.051 1251.41 Q597.322 1251.23 596.431 1251.23 Q593.271 1251.23 591.57 1253.3 Q589.889 1255.34 589.889 1259.19 L589.889 1271.14 L586.142 1271.14 L586.142 1248.46 L589.889 1248.46 L589.889 1251.98 Q591.063 1249.91 592.947 1248.92 Q594.831 1247.91 597.525 1247.91 Q597.909 1247.91 598.375 1247.97 Q598.841 1248.01 599.408 1248.11 L599.429 1251.94 Z\" fill=\"#000000\" fill-rule=\"nonzero\" fill-opacity=\"1\" /><path clip-path=\"url(#clip100)\" d=\"M613.647 1259.74 Q609.13 1259.74 607.389 1260.77 Q605.647 1261.8 605.647 1264.3 Q605.647 1266.28 606.943 1267.46 Q608.26 1268.61 610.508 1268.61 Q613.607 1268.61 615.47 1266.42 Q617.354 1264.21 617.354 1260.57 L617.354 1259.74 L613.647 1259.74 M621.081 1258.2 L621.081 1271.14 L617.354 1271.14 L617.354 1267.7 Q616.078 1269.76 614.174 1270.76 Q612.27 1271.73 609.515 1271.73 Q606.032 1271.73 603.966 1269.78 Q601.92 1267.82 601.92 1264.54 Q601.92 1260.71 604.472 1258.77 Q607.044 1256.82 612.128 1256.82 L617.354 1256.82 L617.354 1256.46 Q617.354 1253.88 615.652 1252.49 Q613.971 1251.07 610.913 1251.07 Q608.968 1251.07 607.125 1251.54 Q605.282 1252 603.581 1252.93 L603.581 1249.49 Q605.626 1248.7 607.551 1248.31 Q609.475 1247.91 611.298 1247.91 Q616.22 1247.91 618.65 1250.46 Q621.081 1253.01 621.081 1258.2 Z\" fill=\"#000000\" fill-rule=\"nonzero\" fill-opacity=\"1\" /><path clip-path=\"url(#clip100)\" d=\"M647.614 1257.45 L647.614 1271.14 L643.887 1271.14 L643.887 1257.57 Q643.887 1254.35 642.631 1252.75 Q641.376 1251.15 638.864 1251.15 Q635.846 1251.15 634.104 1253.07 Q632.362 1255 632.362 1258.32 L632.362 1271.14 L628.615 1271.14 L628.615 1248.46 L632.362 1248.46 L632.362 1251.98 Q633.699 1249.93 635.502 1248.92 Q637.325 1247.91 639.695 1247.91 Q643.604 1247.91 645.609 1250.34 Q647.614 1252.75 647.614 1257.45 Z\" fill=\"#000000\" fill-rule=\"nonzero\" fill-opacity=\"1\" /><path clip-path=\"url(#clip100)\" d=\"M669.509 1249.12 L669.509 1252.65 Q667.929 1251.84 666.228 1251.43 Q664.527 1251.03 662.704 1251.03 Q659.929 1251.03 658.531 1251.88 Q657.154 1252.73 657.154 1254.43 Q657.154 1255.73 658.146 1256.48 Q659.139 1257.21 662.137 1257.87 L663.413 1258.16 Q667.382 1259.01 669.043 1260.57 Q670.724 1262.11 670.724 1264.88 Q670.724 1268.04 668.213 1269.89 Q665.722 1271.73 661.347 1271.73 Q659.524 1271.73 657.539 1271.36 Q655.574 1271.02 653.387 1270.31 L653.387 1266.46 Q655.453 1267.54 657.458 1268.08 Q659.463 1268.61 661.428 1268.61 Q664.061 1268.61 665.479 1267.72 Q666.896 1266.81 666.896 1265.17 Q666.896 1263.65 665.863 1262.84 Q664.851 1262.03 661.387 1261.28 L660.091 1260.97 Q656.627 1260.24 655.088 1258.75 Q653.549 1257.23 653.549 1254.59 Q653.549 1251.39 655.817 1249.65 Q658.086 1247.91 662.258 1247.91 Q664.324 1247.91 666.147 1248.21 Q667.97 1248.52 669.509 1249.12 Z\" fill=\"#000000\" fill-rule=\"nonzero\" fill-opacity=\"1\" /><path clip-path=\"url(#clip100)\" d=\"M693.896 1278.03 L693.896 1280.92 L672.345 1280.92 L672.345 1278.03 L693.896 1278.03 Z\" fill=\"#000000\" fill-rule=\"nonzero\" fill-opacity=\"1\" /><path clip-path=\"url(#clip100)\" d=\"M712.327 1259.54 Q712.327 1255.48 710.646 1253.26 Q708.985 1251.03 705.967 1251.03 Q702.97 1251.03 701.289 1253.26 Q699.628 1255.48 699.628 1259.54 Q699.628 1263.57 701.289 1265.79 Q702.97 1268.02 705.967 1268.02 Q708.985 1268.02 710.646 1265.79 Q712.327 1263.57 712.327 1259.54 M716.054 1268.33 Q716.054 1274.12 713.482 1276.93 Q710.909 1279.77 705.603 1279.77 Q703.638 1279.77 701.896 1279.47 Q700.154 1279.18 698.514 1278.57 L698.514 1274.95 Q700.154 1275.84 701.754 1276.27 Q703.354 1276.69 705.015 1276.69 Q708.681 1276.69 710.504 1274.77 Q712.327 1272.86 712.327 1268.99 L712.327 1267.15 Q711.173 1269.16 709.37 1270.15 Q707.567 1271.14 705.056 1271.14 Q700.883 1271.14 698.331 1267.96 Q695.779 1264.78 695.779 1259.54 Q695.779 1254.27 698.331 1251.09 Q700.883 1247.91 705.056 1247.91 Q707.567 1247.91 709.37 1248.9 Q711.173 1249.89 712.327 1251.9 L712.327 1248.46 L716.054 1248.46 L716.054 1268.33 Z\" fill=\"#000000\" fill-rule=\"nonzero\" fill-opacity=\"1\" /><path clip-path=\"url(#clip100)\" d=\"M736.876 1251.94 Q736.248 1251.58 735.498 1251.41 Q734.769 1251.23 733.878 1251.23 Q730.718 1251.23 729.017 1253.3 Q727.336 1255.34 727.336 1259.19 L727.336 1271.14 L723.589 1271.14 L723.589 1248.46 L727.336 1248.46 L727.336 1251.98 Q728.511 1249.91 730.394 1248.92 Q732.278 1247.91 734.972 1247.91 Q735.357 1247.91 735.822 1247.97 Q736.288 1248.01 736.855 1248.11 L736.876 1251.94 Z\" fill=\"#000000\" fill-rule=\"nonzero\" fill-opacity=\"1\" /><path clip-path=\"url(#clip100)\" d=\"M740.785 1248.46 L744.512 1248.46 L744.512 1271.14 L740.785 1271.14 L740.785 1248.46 M740.785 1239.63 L744.512 1239.63 L744.512 1244.34 L740.785 1244.34 L740.785 1239.63 Z\" fill=\"#000000\" fill-rule=\"nonzero\" fill-opacity=\"1\" /><path clip-path=\"url(#clip100)\" d=\"M767.237 1251.9 L767.237 1239.63 L770.964 1239.63 L770.964 1271.14 L767.237 1271.14 L767.237 1267.74 Q766.062 1269.76 764.26 1270.76 Q762.477 1271.73 759.966 1271.73 Q755.854 1271.73 753.262 1268.45 Q750.689 1265.17 750.689 1259.82 Q750.689 1254.47 753.262 1251.19 Q755.854 1247.91 759.966 1247.91 Q762.477 1247.91 764.26 1248.9 Q766.062 1249.87 767.237 1251.9 M754.538 1259.82 Q754.538 1263.93 756.219 1266.28 Q757.92 1268.61 760.877 1268.61 Q763.834 1268.61 765.536 1266.28 Q767.237 1263.93 767.237 1259.82 Q767.237 1255.71 765.536 1253.38 Q763.834 1251.03 760.877 1251.03 Q757.92 1251.03 756.219 1253.38 Q754.538 1255.71 754.538 1259.82 Z\" fill=\"#000000\" fill-rule=\"nonzero\" fill-opacity=\"1\" /><path clip-path=\"url(#clip100)\" d=\"M884.581 1096.37 Q884.581 1092.25 882.88 1089.92 Q881.199 1087.57 878.242 1087.57 Q875.285 1087.57 873.583 1089.92 Q871.902 1092.25 871.902 1096.37 Q871.902 1100.48 873.583 1102.83 Q875.285 1105.16 878.242 1105.16 Q881.199 1105.16 882.88 1102.83 Q884.581 1100.48 884.581 1096.37 M871.902 1088.45 Q873.077 1086.42 874.859 1085.45 Q876.662 1084.46 879.153 1084.46 Q883.285 1084.46 885.857 1087.74 Q888.45 1091.02 888.45 1096.37 Q888.45 1101.71 885.857 1104.99 Q883.285 1108.27 879.153 1108.27 Q876.662 1108.27 874.859 1107.3 Q873.077 1106.31 871.902 1104.28 L871.902 1107.69 L868.155 1107.69 L868.155 1076.17 L871.902 1076.17 L871.902 1088.45 Z\" fill=\"#000000\" fill-rule=\"nonzero\" fill-opacity=\"1\" /><path clip-path=\"url(#clip100)\" d=\"M894.243 1098.74 L894.243 1085 L897.97 1085 L897.97 1098.59 Q897.97 1101.81 899.225 1103.43 Q900.481 1105.03 902.993 1105.03 Q906.011 1105.03 907.753 1103.11 Q909.515 1101.19 909.515 1097.86 L909.515 1085 L913.241 1085 L913.241 1107.69 L909.515 1107.69 L909.515 1104.2 Q908.158 1106.27 906.355 1107.28 Q904.573 1108.27 902.203 1108.27 Q898.294 1108.27 896.268 1105.84 Q894.243 1103.41 894.243 1098.74 M903.621 1084.46 L903.621 1084.46 Z\" fill=\"#000000\" fill-rule=\"nonzero\" fill-opacity=\"1\" /><path clip-path=\"url(#clip100)\" d=\"M935.38 1085.67 L935.38 1089.2 Q933.8 1088.38 932.098 1087.98 Q930.397 1087.57 928.574 1087.57 Q925.799 1087.57 924.402 1088.43 Q923.024 1089.28 923.024 1090.98 Q923.024 1092.27 924.017 1093.02 Q925.009 1093.75 928.007 1094.42 L929.283 1094.7 Q933.253 1095.56 934.914 1097.11 Q936.595 1098.65 936.595 1101.43 Q936.595 1104.59 934.083 1106.43 Q931.592 1108.27 927.217 1108.27 Q925.394 1108.27 923.409 1107.91 Q921.445 1107.57 919.257 1106.86 L919.257 1103.01 Q921.323 1104.08 923.328 1104.63 Q925.333 1105.16 927.298 1105.16 Q929.931 1105.16 931.349 1104.26 Q932.767 1103.35 932.767 1101.71 Q932.767 1100.19 931.734 1099.38 Q930.721 1098.57 927.258 1097.82 L925.961 1097.52 Q922.498 1096.79 920.958 1095.29 Q919.419 1093.77 919.419 1091.14 Q919.419 1087.94 921.688 1086.2 Q923.956 1084.46 928.129 1084.46 Q930.195 1084.46 932.017 1084.76 Q933.84 1085.06 935.38 1085.67 Z\" fill=\"#000000\" fill-rule=\"nonzero\" fill-opacity=\"1\" /><path clip-path=\"url(#clip100)\" d=\"M959.766 1114.57 L959.766 1117.47 L938.215 1117.47 L938.215 1114.57 L959.766 1114.57 Z\" fill=\"#000000\" fill-rule=\"nonzero\" fill-opacity=\"1\" /><path clip-path=\"url(#clip100)\" d=\"M964.506 1104.24 L971.19 1104.24 L971.19 1081.17 L963.918 1082.63 L963.918 1078.91 L971.149 1077.45 L975.241 1077.45 L975.241 1104.24 L981.925 1104.24 L981.925 1107.69 L964.506 1107.69 L964.506 1104.24 Z\" fill=\"#000000\" fill-rule=\"nonzero\" fill-opacity=\"1\" /><path clip-path=\"url(#clip100)\" d=\"M1057.67 1341.48 Q1057.67 1337.37 1055.97 1335.04 Q1054.29 1332.69 1051.33 1332.69 Q1048.38 1332.69 1046.67 1335.04 Q1044.99 1337.37 1044.99 1341.48 Q1044.99 1345.59 1046.67 1347.94 Q1048.38 1350.27 1051.33 1350.27 Q1054.29 1350.27 1055.97 1347.94 Q1057.67 1345.59 1057.67 1341.48 M1044.99 1333.56 Q1046.17 1331.54 1047.95 1330.56 Q1049.75 1329.57 1052.24 1329.57 Q1056.38 1329.57 1058.95 1332.85 Q1061.54 1336.13 1061.54 1341.48 Q1061.54 1346.83 1058.95 1350.11 Q1056.38 1353.39 1052.24 1353.39 Q1049.75 1353.39 1047.95 1352.42 Q1046.17 1351.43 1044.99 1349.4 L1044.99 1352.8 L1041.25 1352.8 L1041.25 1321.29 L1044.99 1321.29 L1044.99 1333.56 Z\" fill=\"#000000\" fill-rule=\"nonzero\" fill-opacity=\"1\" /><path clip-path=\"url(#clip100)\" d=\"M1067.33 1343.85 L1067.33 1330.12 L1071.06 1330.12 L1071.06 1343.71 Q1071.06 1346.93 1072.32 1348.55 Q1073.57 1350.15 1076.08 1350.15 Q1079.1 1350.15 1080.84 1348.23 Q1082.61 1346.3 1082.61 1342.98 L1082.61 1330.12 L1086.33 1330.12 L1086.33 1352.8 L1082.61 1352.8 L1082.61 1349.32 Q1081.25 1351.38 1079.45 1352.4 Q1077.66 1353.39 1075.29 1353.39 Q1071.38 1353.39 1069.36 1350.96 Q1067.33 1348.53 1067.33 1343.85 M1076.71 1329.57 L1076.71 1329.57 Z\" fill=\"#000000\" fill-rule=\"nonzero\" fill-opacity=\"1\" /><path clip-path=\"url(#clip100)\" d=\"M1108.47 1330.79 L1108.47 1334.31 Q1106.89 1333.5 1105.19 1333.1 Q1103.49 1332.69 1101.67 1332.69 Q1098.89 1332.69 1097.49 1333.54 Q1096.12 1334.39 1096.12 1336.09 Q1096.12 1337.39 1097.11 1338.14 Q1098.1 1338.87 1101.1 1339.54 L1102.37 1339.82 Q1106.34 1340.67 1108 1342.23 Q1109.69 1343.77 1109.69 1346.54 Q1109.69 1349.7 1107.17 1351.55 Q1104.68 1353.39 1100.31 1353.39 Q1098.49 1353.39 1096.5 1353.03 Q1094.54 1352.68 1092.35 1351.97 L1092.35 1348.12 Q1094.41 1349.2 1096.42 1349.74 Q1098.42 1350.27 1100.39 1350.27 Q1103.02 1350.27 1104.44 1349.38 Q1105.86 1348.47 1105.86 1346.83 Q1105.86 1345.31 1104.82 1344.5 Q1103.81 1343.69 1100.35 1342.94 L1099.05 1342.64 Q1095.59 1341.91 1094.05 1340.41 Q1092.51 1338.89 1092.51 1336.25 Q1092.51 1333.05 1094.78 1331.31 Q1097.05 1329.57 1101.22 1329.57 Q1103.29 1329.57 1105.11 1329.87 Q1106.93 1330.18 1108.47 1330.79 Z\" fill=\"#000000\" fill-rule=\"nonzero\" fill-opacity=\"1\" /><path clip-path=\"url(#clip100)\" d=\"M1132.86 1359.69 L1132.86 1362.59 L1111.31 1362.59 L1111.31 1359.69 L1132.86 1359.69 Z\" fill=\"#000000\" fill-rule=\"nonzero\" fill-opacity=\"1\" /><path clip-path=\"url(#clip100)\" d=\"M1146.67 1341.4 Q1142.15 1341.4 1140.41 1342.43 Q1138.67 1343.47 1138.67 1345.96 Q1138.67 1347.94 1139.97 1349.12 Q1141.28 1350.27 1143.53 1350.27 Q1146.63 1350.27 1148.49 1348.08 Q1150.38 1345.88 1150.38 1342.23 L1150.38 1341.4 L1146.67 1341.4 M1154.1 1339.86 L1154.1 1352.8 L1150.38 1352.8 L1150.38 1349.36 Q1149.1 1351.43 1147.2 1352.42 Q1145.29 1353.39 1142.54 1353.39 Q1139.06 1353.39 1136.99 1351.45 Q1134.94 1349.48 1134.94 1346.2 Q1134.94 1342.37 1137.5 1340.43 Q1140.07 1338.48 1145.15 1338.48 L1150.38 1338.48 L1150.38 1338.12 Q1150.38 1335.55 1148.68 1334.15 Q1146.99 1332.73 1143.94 1332.73 Q1141.99 1332.73 1140.15 1333.2 Q1138.31 1333.66 1136.6 1334.59 L1136.6 1331.15 Q1138.65 1330.36 1140.57 1329.98 Q1142.5 1329.57 1144.32 1329.57 Q1149.24 1329.57 1151.67 1332.12 Q1154.1 1334.67 1154.1 1339.86 Z\" fill=\"#000000\" fill-rule=\"nonzero\" fill-opacity=\"1\" /><path clip-path=\"url(#clip100)\" d=\"M911.252 787.466 Q911.252 783.355 909.55 781.025 Q907.869 778.676 904.912 778.676 Q901.955 778.676 900.254 781.025 Q898.572 783.355 898.572 787.466 Q898.572 791.578 900.254 793.927 Q901.955 796.257 904.912 796.257 Q907.869 796.257 909.55 793.927 Q911.252 791.578 911.252 787.466 M898.572 779.547 Q899.747 777.521 901.53 776.549 Q903.332 775.557 905.824 775.557 Q909.955 775.557 912.528 778.838 Q915.12 782.119 915.12 787.466 Q915.12 792.813 912.528 796.095 Q909.955 799.376 905.824 799.376 Q903.332 799.376 901.53 798.404 Q899.747 797.411 898.572 795.386 L898.572 798.789 L894.825 798.789 L894.825 767.273 L898.572 767.273 L898.572 779.547 Z\" fill=\"#000000\" fill-rule=\"nonzero\" fill-opacity=\"1\" /><path clip-path=\"url(#clip100)\" d=\"M920.913 789.836 L920.913 776.104 L924.64 776.104 L924.64 789.694 Q924.64 792.915 925.896 794.535 Q927.152 796.135 929.663 796.135 Q932.681 796.135 934.423 794.211 Q936.185 792.287 936.185 788.965 L936.185 776.104 L939.912 776.104 L939.912 798.789 L936.185 798.789 L936.185 795.305 Q934.828 797.371 933.025 798.383 Q931.243 799.376 928.873 799.376 Q924.964 799.376 922.939 796.945 Q920.913 794.515 920.913 789.836 M930.291 775.557 L930.291 775.557 Z\" fill=\"#000000\" fill-rule=\"nonzero\" fill-opacity=\"1\" /><path clip-path=\"url(#clip100)\" d=\"M962.05 776.772 L962.05 780.296 Q960.47 779.486 958.769 779.081 Q957.068 778.676 955.245 778.676 Q952.47 778.676 951.072 779.527 Q949.695 780.377 949.695 782.079 Q949.695 783.375 950.687 784.124 Q951.68 784.853 954.677 785.522 L955.954 785.805 Q959.923 786.656 961.584 788.216 Q963.265 789.755 963.265 792.53 Q963.265 795.69 960.754 797.533 Q958.263 799.376 953.888 799.376 Q952.065 799.376 950.08 799.011 Q948.115 798.667 945.928 797.958 L945.928 794.11 Q947.993 795.183 949.999 795.73 Q952.004 796.257 953.969 796.257 Q956.602 796.257 958.019 795.366 Q959.437 794.454 959.437 792.813 Q959.437 791.294 958.404 790.484 Q957.392 789.674 953.928 788.925 L952.632 788.621 Q949.168 787.892 947.629 786.393 Q946.09 784.874 946.09 782.241 Q946.09 779.04 948.358 777.299 Q950.627 775.557 954.799 775.557 Q956.865 775.557 958.688 775.86 Q960.511 776.164 962.05 776.772 Z\" fill=\"#000000\" fill-rule=\"nonzero\" fill-opacity=\"1\" /><path clip-path=\"url(#clip100)\" d=\"M986.437 805.675 L986.437 808.571 L964.886 808.571 L964.886 805.675 L986.437 805.675 Z\" fill=\"#000000\" fill-rule=\"nonzero\" fill-opacity=\"1\" /><path clip-path=\"url(#clip100)\" d=\"M993.991 795.345 L1008.27 795.345 L1008.27 798.789 L989.07 798.789 L989.07 795.345 Q991.399 792.935 995.409 788.884 Q999.44 784.813 1000.47 783.638 Q1002.44 781.43 1003.21 779.911 Q1004 778.372 1004 776.893 Q1004 774.483 1002.3 772.964 Q1000.61 771.445 997.901 771.445 Q995.976 771.445 993.829 772.113 Q991.703 772.782 989.272 774.139 L989.272 770.007 Q991.743 769.014 993.89 768.508 Q996.037 768.002 997.82 768.002 Q1002.52 768.002 1005.31 770.351 Q1008.11 772.701 1008.11 776.63 Q1008.11 778.494 1007.4 780.175 Q1006.71 781.836 1004.87 784.104 Q1004.36 784.691 1001.65 787.507 Q998.934 790.302 993.991 795.345 Z\" fill=\"#000000\" fill-rule=\"nonzero\" fill-opacity=\"1\" /><path clip-path=\"url(#clip100)\" d=\"M621.109 669.454 Q621.109 665.342 619.408 663.013 Q617.727 660.663 614.77 660.663 Q611.813 660.663 610.111 663.013 Q608.43 665.342 608.43 669.454 Q608.43 673.565 610.111 675.915 Q611.813 678.244 614.77 678.244 Q617.727 678.244 619.408 675.915 Q621.109 673.565 621.109 669.454 M608.43 661.534 Q609.605 659.509 611.387 658.536 Q613.19 657.544 615.681 657.544 Q619.813 657.544 622.385 660.825 Q624.978 664.106 624.978 669.454 Q624.978 674.801 622.385 678.082 Q619.813 681.363 615.681 681.363 Q613.19 681.363 611.387 680.391 Q609.605 679.399 608.43 677.373 L608.43 680.776 L604.683 680.776 L604.683 649.26 L608.43 649.26 L608.43 661.534 Z\" fill=\"#000000\" fill-rule=\"nonzero\" fill-opacity=\"1\" /><path clip-path=\"url(#clip100)\" d=\"M630.771 671.823 L630.771 658.091 L634.498 658.091 L634.498 671.682 Q634.498 674.902 635.753 676.522 Q637.009 678.123 639.521 678.123 Q642.539 678.123 644.281 676.198 Q646.043 674.274 646.043 670.952 L646.043 658.091 L649.77 658.091 L649.77 680.776 L646.043 680.776 L646.043 677.292 Q644.686 679.358 642.883 680.371 Q641.101 681.363 638.731 681.363 Q634.822 681.363 632.796 678.933 Q630.771 676.502 630.771 671.823 M640.149 657.544 L640.149 657.544 Z\" fill=\"#000000\" fill-rule=\"nonzero\" fill-opacity=\"1\" /><path clip-path=\"url(#clip100)\" d=\"M671.908 658.759 L671.908 662.284 Q670.328 661.473 668.626 661.068 Q666.925 660.663 665.102 660.663 Q662.327 660.663 660.93 661.514 Q659.552 662.365 659.552 664.066 Q659.552 665.362 660.545 666.112 Q661.537 666.841 664.535 667.509 L665.811 667.793 Q669.781 668.643 671.442 670.203 Q673.123 671.742 673.123 674.517 Q673.123 677.677 670.611 679.52 Q668.12 681.363 663.745 681.363 Q661.922 681.363 659.937 680.999 Q657.973 680.654 655.785 679.945 L655.785 676.097 Q657.851 677.171 659.856 677.717 Q661.861 678.244 663.826 678.244 Q666.459 678.244 667.877 677.353 Q669.295 676.441 669.295 674.801 Q669.295 673.282 668.262 672.472 Q667.249 671.661 663.786 670.912 L662.489 670.608 Q659.026 669.879 657.487 668.38 Q655.947 666.861 655.947 664.228 Q655.947 661.028 658.216 659.286 Q660.484 657.544 664.657 657.544 Q666.723 657.544 668.545 657.848 Q670.368 658.152 671.908 658.759 Z\" fill=\"#000000\" fill-rule=\"nonzero\" fill-opacity=\"1\" /><path clip-path=\"url(#clip100)\" d=\"M696.294 687.662 L696.294 690.559 L674.743 690.559 L674.743 687.662 L696.294 687.662 Z\" fill=\"#000000\" fill-rule=\"nonzero\" fill-opacity=\"1\" /><path clip-path=\"url(#clip100)\" d=\"M716.083 669.454 Q716.083 665.342 714.381 663.013 Q712.7 660.663 709.743 660.663 Q706.786 660.663 705.085 663.013 Q703.404 665.342 703.404 669.454 Q703.404 673.565 705.085 675.915 Q706.786 678.244 709.743 678.244 Q712.7 678.244 714.381 675.915 Q716.083 673.565 716.083 669.454 M703.404 661.534 Q704.578 659.509 706.361 658.536 Q708.163 657.544 710.655 657.544 Q714.787 657.544 717.359 660.825 Q719.951 664.106 719.951 669.454 Q719.951 674.801 717.359 678.082 Q714.787 681.363 710.655 681.363 Q708.163 681.363 706.361 680.391 Q704.578 679.399 703.404 677.373 L703.404 680.776 L699.656 680.776 L699.656 649.26 L703.404 649.26 L703.404 661.534 Z\" fill=\"#000000\" fill-rule=\"nonzero\" fill-opacity=\"1\" /><path clip-path=\"url(#clip100)\" d=\"M1124.11 558.209 Q1124.11 554.098 1122.41 551.768 Q1120.73 549.419 1117.77 549.419 Q1114.81 549.419 1113.11 551.768 Q1111.43 554.098 1111.43 558.209 Q1111.43 562.321 1113.11 564.67 Q1114.81 567 1117.77 567 Q1120.73 567 1122.41 564.67 Q1124.11 562.321 1124.11 558.209 M1111.43 550.29 Q1112.6 548.264 1114.39 547.292 Q1116.19 546.3 1118.68 546.3 Q1122.81 546.3 1125.38 549.581 Q1127.98 552.862 1127.98 558.209 Q1127.98 563.556 1125.38 566.838 Q1122.81 570.119 1118.68 570.119 Q1116.19 570.119 1114.39 569.147 Q1112.6 568.154 1111.43 566.129 L1111.43 569.532 L1107.68 569.532 L1107.68 538.015 L1111.43 538.015 L1111.43 550.29 Z\" fill=\"#000000\" fill-rule=\"nonzero\" fill-opacity=\"1\" /><path clip-path=\"url(#clip100)\" d=\"M1133.77 560.579 L1133.77 546.846 L1137.5 546.846 L1137.5 560.437 Q1137.5 563.658 1138.75 565.278 Q1140.01 566.878 1142.52 566.878 Q1145.54 566.878 1147.28 564.954 Q1149.04 563.03 1149.04 559.708 L1149.04 546.846 L1152.77 546.846 L1152.77 569.532 L1149.04 569.532 L1149.04 566.048 Q1147.68 568.114 1145.88 569.126 Q1144.1 570.119 1141.73 570.119 Q1137.82 570.119 1135.79 567.688 Q1133.77 565.258 1133.77 560.579 M1143.15 546.3 L1143.15 546.3 Z\" fill=\"#000000\" fill-rule=\"nonzero\" fill-opacity=\"1\" /><path clip-path=\"url(#clip100)\" d=\"M1174.91 547.515 L1174.91 551.039 Q1173.33 550.229 1171.63 549.824 Q1169.92 549.419 1168.1 549.419 Q1165.33 549.419 1163.93 550.269 Q1162.55 551.12 1162.55 552.822 Q1162.55 554.118 1163.54 554.867 Q1164.54 555.596 1167.53 556.265 L1168.81 556.548 Q1172.78 557.399 1174.44 558.959 Q1176.12 560.498 1176.12 563.273 Q1176.12 566.433 1173.61 568.276 Q1171.12 570.119 1166.74 570.119 Q1164.92 570.119 1162.94 569.754 Q1160.97 569.41 1158.78 568.701 L1158.78 564.853 Q1160.85 565.926 1162.85 566.473 Q1164.86 567 1166.82 567 Q1169.46 567 1170.88 566.109 Q1172.29 565.197 1172.29 563.556 Q1172.29 562.037 1171.26 561.227 Q1170.25 560.417 1166.78 559.668 L1165.49 559.364 Q1162.02 558.635 1160.49 557.136 Q1158.95 555.617 1158.95 552.984 Q1158.95 549.783 1161.21 548.041 Q1163.48 546.3 1167.66 546.3 Q1169.72 546.3 1171.54 546.603 Q1173.37 546.907 1174.91 547.515 Z\" fill=\"#000000\" fill-rule=\"nonzero\" fill-opacity=\"1\" /><path clip-path=\"url(#clip100)\" d=\"M1199.29 576.418 L1199.29 579.314 L1177.74 579.314 L1177.74 576.418 L1199.29 576.418 Z\" fill=\"#000000\" fill-rule=\"nonzero\" fill-opacity=\"1\" /><path clip-path=\"url(#clip100)\" d=\"M1215.72 553.227 Q1218.66 553.855 1220.3 555.839 Q1221.96 557.824 1221.96 560.741 Q1221.96 565.217 1218.88 567.668 Q1215.8 570.119 1210.13 570.119 Q1208.22 570.119 1206.2 569.734 Q1204.19 569.369 1202.05 568.62 L1202.05 564.67 Q1203.75 565.663 1205.77 566.169 Q1207.8 566.676 1210.01 566.676 Q1213.86 566.676 1215.86 565.157 Q1217.89 563.637 1217.89 560.741 Q1217.89 558.067 1216 556.569 Q1214.14 555.05 1210.8 555.05 L1207.27 555.05 L1207.27 551.687 L1210.96 551.687 Q1213.98 551.687 1215.58 550.492 Q1217.18 549.277 1217.18 547.008 Q1217.18 544.679 1215.52 543.444 Q1213.88 542.188 1210.8 542.188 Q1209.12 542.188 1207.19 542.553 Q1205.27 542.917 1202.96 543.687 L1202.96 540.041 Q1205.29 539.393 1207.31 539.069 Q1209.36 538.745 1211.16 538.745 Q1215.82 538.745 1218.53 540.871 Q1221.25 542.978 1221.25 546.583 Q1221.25 549.095 1219.81 550.837 Q1218.37 552.558 1215.72 553.227 Z\" fill=\"#000000\" fill-rule=\"nonzero\" fill-opacity=\"1\" /><path clip-path=\"url(#clip100)\" d=\"M1031.37 266.115 Q1031.37 262.003 1029.67 259.674 Q1027.99 257.324 1025.03 257.324 Q1022.07 257.324 1020.37 259.674 Q1018.69 262.003 1018.69 266.115 Q1018.69 270.227 1020.37 272.576 Q1022.07 274.905 1025.03 274.905 Q1027.99 274.905 1029.67 272.576 Q1031.37 270.227 1031.37 266.115 M1018.69 258.195 Q1019.87 256.17 1021.65 255.198 Q1023.45 254.205 1025.94 254.205 Q1030.07 254.205 1032.65 257.487 Q1035.24 260.768 1035.24 266.115 Q1035.24 271.462 1032.65 274.743 Q1030.07 278.025 1025.94 278.025 Q1023.45 278.025 1021.65 277.052 Q1019.87 276.06 1018.69 274.034 L1018.69 277.437 L1014.94 277.437 L1014.94 245.921 L1018.69 245.921 L1018.69 258.195 Z\" fill=\"#000000\" fill-rule=\"nonzero\" fill-opacity=\"1\" /><path clip-path=\"url(#clip100)\" d=\"M1041.03 268.485 L1041.03 254.752 L1044.76 254.752 L1044.76 268.343 Q1044.76 271.563 1046.01 273.184 Q1047.27 274.784 1049.78 274.784 Q1052.8 274.784 1054.54 272.86 Q1056.3 270.936 1056.3 267.614 L1056.3 254.752 L1060.03 254.752 L1060.03 277.437 L1056.3 277.437 L1056.3 273.953 Q1054.95 276.019 1053.14 277.032 Q1051.36 278.025 1048.99 278.025 Q1045.08 278.025 1043.06 275.594 Q1041.03 273.164 1041.03 268.485 M1050.41 254.205 L1050.41 254.205 Z\" fill=\"#000000\" fill-rule=\"nonzero\" fill-opacity=\"1\" /><path clip-path=\"url(#clip100)\" d=\"M1082.17 255.421 L1082.17 258.945 Q1080.59 258.135 1078.89 257.73 Q1077.19 257.324 1075.36 257.324 Q1072.59 257.324 1071.19 258.175 Q1069.81 259.026 1069.81 260.727 Q1069.81 262.024 1070.81 262.773 Q1071.8 263.502 1074.8 264.17 L1076.07 264.454 Q1080.04 265.305 1081.7 266.864 Q1083.38 268.404 1083.38 271.179 Q1083.38 274.338 1080.87 276.181 Q1078.38 278.025 1074.01 278.025 Q1072.18 278.025 1070.2 277.66 Q1068.23 277.316 1066.05 276.607 L1066.05 272.758 Q1068.11 273.832 1070.12 274.379 Q1072.12 274.905 1074.09 274.905 Q1076.72 274.905 1078.14 274.014 Q1079.56 273.103 1079.56 271.462 Q1079.56 269.943 1078.52 269.133 Q1077.51 268.323 1074.05 267.573 L1072.75 267.269 Q1069.29 266.54 1067.75 265.041 Q1066.21 263.522 1066.21 260.889 Q1066.21 257.689 1068.48 255.947 Q1070.75 254.205 1074.92 254.205 Q1076.98 254.205 1078.81 254.509 Q1080.63 254.813 1082.17 255.421 Z\" fill=\"#000000\" fill-rule=\"nonzero\" fill-opacity=\"1\" /><path clip-path=\"url(#clip100)\" d=\"M1106.56 284.324 L1106.56 287.22 L1085 287.22 L1085 284.324 L1106.56 284.324 Z\" fill=\"#000000\" fill-rule=\"nonzero\" fill-opacity=\"1\" /><path clip-path=\"url(#clip100)\" d=\"M1126.38 255.623 L1126.38 259.107 Q1124.8 258.236 1123.2 257.811 Q1121.62 257.365 1120 257.365 Q1116.38 257.365 1114.37 259.674 Q1112.37 261.963 1112.37 266.115 Q1112.37 270.267 1114.37 272.576 Q1116.38 274.865 1120 274.865 Q1121.62 274.865 1123.2 274.44 Q1124.8 273.994 1126.38 273.123 L1126.38 276.566 Q1124.83 277.295 1123.14 277.66 Q1121.48 278.025 1119.6 278.025 Q1114.47 278.025 1111.46 274.804 Q1108.44 271.584 1108.44 266.115 Q1108.44 260.565 1111.48 257.385 Q1114.54 254.205 1119.84 254.205 Q1121.56 254.205 1123.2 254.57 Q1124.85 254.914 1126.38 255.623 Z\" fill=\"#000000\" fill-rule=\"nonzero\" fill-opacity=\"1\" /><path clip-path=\"url(#clip100)\" d=\"M1424.4 523.212 Q1424.4 519.1 1422.7 516.771 Q1421.02 514.422 1418.07 514.422 Q1415.11 514.422 1413.41 516.771 Q1411.73 519.1 1411.73 523.212 Q1411.73 527.324 1413.41 529.673 Q1415.11 532.002 1418.07 532.002 Q1421.02 532.002 1422.7 529.673 Q1424.4 527.324 1424.4 523.212 M1411.73 515.293 Q1412.9 513.267 1414.68 512.295 Q1416.49 511.302 1418.98 511.302 Q1423.11 511.302 1425.68 514.584 Q1428.27 517.865 1428.27 523.212 Q1428.27 528.559 1425.68 531.84 Q1423.11 535.122 1418.98 535.122 Q1416.49 535.122 1414.68 534.149 Q1412.9 533.157 1411.73 531.132 L1411.73 534.534 L1407.98 534.534 L1407.98 503.018 L1411.73 503.018 L1411.73 515.293 Z\" fill=\"#000000\" fill-rule=\"nonzero\" fill-opacity=\"1\" /><path clip-path=\"url(#clip100)\" d=\"M1434.07 525.582 L1434.07 511.849 L1437.79 511.849 L1437.79 525.44 Q1437.79 528.66 1439.05 530.281 Q1440.3 531.881 1442.82 531.881 Q1445.83 531.881 1447.58 529.957 Q1449.34 528.033 1449.34 524.711 L1449.34 511.849 L1453.06 511.849 L1453.06 534.534 L1449.34 534.534 L1449.34 531.051 Q1447.98 533.116 1446.18 534.129 Q1444.4 535.122 1442.03 535.122 Q1438.12 535.122 1436.09 532.691 Q1434.07 530.261 1434.07 525.582 M1443.44 511.302 L1443.44 511.302 Z\" fill=\"#000000\" fill-rule=\"nonzero\" fill-opacity=\"1\" /><path clip-path=\"url(#clip100)\" d=\"M1475.2 512.518 L1475.2 516.042 Q1473.62 515.232 1471.92 514.827 Q1470.22 514.422 1468.4 514.422 Q1465.62 514.422 1464.23 515.272 Q1462.85 516.123 1462.85 517.824 Q1462.85 519.121 1463.84 519.87 Q1464.83 520.599 1467.83 521.268 L1469.11 521.551 Q1473.08 522.402 1474.74 523.961 Q1476.42 525.501 1476.42 528.276 Q1476.42 531.435 1473.91 533.279 Q1471.42 535.122 1467.04 535.122 Q1465.22 535.122 1463.23 534.757 Q1461.27 534.413 1459.08 533.704 L1459.08 529.856 Q1461.15 530.929 1463.15 531.476 Q1465.16 532.002 1467.12 532.002 Q1469.75 532.002 1471.17 531.111 Q1472.59 530.2 1472.59 528.559 Q1472.59 527.04 1471.56 526.23 Q1470.54 525.42 1467.08 524.67 L1465.78 524.367 Q1462.32 523.637 1460.78 522.139 Q1459.24 520.619 1459.24 517.986 Q1459.24 514.786 1461.51 513.044 Q1463.78 511.302 1467.95 511.302 Q1470.02 511.302 1471.84 511.606 Q1473.66 511.91 1475.2 512.518 Z\" fill=\"#000000\" fill-rule=\"nonzero\" fill-opacity=\"1\" /><path clip-path=\"url(#clip100)\" d=\"M1499.59 541.421 L1499.59 544.317 L1478.04 544.317 L1478.04 541.421 L1499.59 541.421 Z\" fill=\"#000000\" fill-rule=\"nonzero\" fill-opacity=\"1\" /><path clip-path=\"url(#clip100)\" d=\"M1514.86 507.859 L1504.53 524.002 L1514.86 524.002 L1514.86 507.859 M1513.79 504.294 L1518.93 504.294 L1518.93 524.002 L1523.25 524.002 L1523.25 527.405 L1518.93 527.405 L1518.93 534.534 L1514.86 534.534 L1514.86 527.405 L1501.21 527.405 L1501.21 523.455 L1513.79 504.294 Z\" fill=\"#000000\" fill-rule=\"nonzero\" fill-opacity=\"1\" /><path clip-path=\"url(#clip100)\" d=\"M1697.22 437.489 Q1697.22 433.378 1695.52 431.048 Q1693.84 428.699 1690.88 428.699 Q1687.93 428.699 1686.23 431.048 Q1684.55 433.378 1684.55 437.489 Q1684.55 441.601 1686.23 443.951 Q1687.93 446.28 1690.88 446.28 Q1693.84 446.28 1695.52 443.951 Q1697.22 441.601 1697.22 437.489 M1684.55 429.57 Q1685.72 427.544 1687.5 426.572 Q1689.3 425.58 1691.8 425.58 Q1695.93 425.58 1698.5 428.861 Q1701.09 432.142 1701.09 437.489 Q1701.09 442.837 1698.5 446.118 Q1695.93 449.399 1691.8 449.399 Q1689.3 449.399 1687.5 448.427 Q1685.72 447.434 1684.55 445.409 L1684.55 448.812 L1680.8 448.812 L1680.8 417.296 L1684.55 417.296 L1684.55 429.57 Z\" fill=\"#000000\" fill-rule=\"nonzero\" fill-opacity=\"1\" /><path clip-path=\"url(#clip100)\" d=\"M1706.89 439.859 L1706.89 426.127 L1710.61 426.127 L1710.61 439.717 Q1710.61 442.938 1711.87 444.558 Q1713.12 446.158 1715.64 446.158 Q1718.65 446.158 1720.4 444.234 Q1722.16 442.31 1722.16 438.988 L1722.16 426.127 L1725.88 426.127 L1725.88 448.812 L1722.16 448.812 L1722.16 445.328 Q1720.8 447.394 1719 448.407 Q1717.22 449.399 1714.85 449.399 Q1710.94 449.399 1708.91 446.968 Q1706.89 444.538 1706.89 439.859 M1716.26 425.58 L1716.26 425.58 Z\" fill=\"#000000\" fill-rule=\"nonzero\" fill-opacity=\"1\" /><path clip-path=\"url(#clip100)\" d=\"M1748.02 426.795 L1748.02 430.319 Q1746.44 429.509 1744.74 429.104 Q1743.04 428.699 1741.22 428.699 Q1738.44 428.699 1737.04 429.55 Q1735.67 430.4 1735.67 432.102 Q1735.67 433.398 1736.66 434.147 Q1737.65 434.877 1740.65 435.545 L1741.93 435.828 Q1745.9 436.679 1747.56 438.239 Q1749.24 439.778 1749.24 442.553 Q1749.24 445.713 1746.73 447.556 Q1744.24 449.399 1739.86 449.399 Q1738.04 449.399 1736.05 449.034 Q1734.09 448.69 1731.9 447.981 L1731.9 444.133 Q1733.97 445.206 1735.97 445.753 Q1737.98 446.28 1739.94 446.28 Q1742.57 446.28 1743.99 445.389 Q1745.41 444.477 1745.41 442.837 Q1745.41 441.317 1744.38 440.507 Q1743.36 439.697 1739.9 438.948 L1738.6 438.644 Q1735.14 437.915 1733.6 436.416 Q1732.06 434.897 1732.06 432.264 Q1732.06 429.063 1734.33 427.322 Q1736.6 425.58 1740.77 425.58 Q1742.84 425.58 1744.66 425.884 Q1746.48 426.187 1748.02 426.795 Z\" fill=\"#000000\" fill-rule=\"nonzero\" fill-opacity=\"1\" /><path clip-path=\"url(#clip100)\" d=\"M1772.41 455.698 L1772.41 458.595 L1750.86 458.595 L1750.86 455.698 L1772.41 455.698 Z\" fill=\"#000000\" fill-rule=\"nonzero\" fill-opacity=\"1\" /><path clip-path=\"url(#clip100)\" d=\"M1790.84 429.57 L1790.84 417.296 L1794.57 417.296 L1794.57 448.812 L1790.84 448.812 L1790.84 445.409 Q1789.67 447.434 1787.86 448.427 Q1786.08 449.399 1783.57 449.399 Q1779.46 449.399 1776.87 446.118 Q1774.29 442.837 1774.29 437.489 Q1774.29 432.142 1776.87 428.861 Q1779.46 425.58 1783.57 425.58 Q1786.08 425.58 1787.86 426.572 Q1789.67 427.544 1790.84 429.57 M1778.14 437.489 Q1778.14 441.601 1779.82 443.951 Q1781.52 446.28 1784.48 446.28 Q1787.44 446.28 1789.14 443.951 Q1790.84 441.601 1790.84 437.489 Q1790.84 433.378 1789.14 431.048 Q1787.44 428.699 1784.48 428.699 Q1781.52 428.699 1779.82 431.048 Q1778.14 433.378 1778.14 437.489 Z\" fill=\"#000000\" fill-rule=\"nonzero\" fill-opacity=\"1\" /></svg>\n"
      ]
     },
     "execution_count": 6,
     "metadata": {},
     "output_type": "execute_result"
    }
   ],
   "source": [
    "graphplot(network.radial, curves=false, names=[props(network.radial, v)[:name] for v in 1:nv(network.radial)]\n",
    ")"
   ]
  },
  {
   "cell_type": "code",
   "execution_count": 7,
   "id": "03450640-6069-4618-9787-8287b3b13f9d",
   "metadata": {},
   "outputs": [
    {
     "name": "stderr",
     "output_type": "stream",
     "text": [
      "\u001b[36m\u001b[1m[ \u001b[22m\u001b[39m\u001b[36m\u001b[1mInfo: \u001b[22m\u001b[39mProcessing line RelDist.Branch{String}(\"trans_grid\", \"bus_1\")\n",
      "\u001b[36m\u001b[1m[ \u001b[22m\u001b[39m\u001b[36m\u001b[1mInfo: \u001b[22m\u001b[39mProcessing line RelDist.Branch{String}(\"bus_1\", \"bus_2\")\n",
      "\u001b[36m\u001b[1m[ \u001b[22m\u001b[39m\u001b[36m\u001b[1mInfo: \u001b[22m\u001b[39mProcessing line RelDist.Branch{String}(\"bus_2\", \"bus_3\")\n",
      "\u001b[36m\u001b[1m[ \u001b[22m\u001b[39m\u001b[36m\u001b[1mInfo: \u001b[22m\u001b[39mProcessing line RelDist.Branch{String}(\"bus_3\", \"bus_4\")\n",
      "\u001b[36m\u001b[1m[ \u001b[22m\u001b[39m\u001b[36m\u001b[1mInfo: \u001b[22m\u001b[39mProcessing line RelDist.Branch{String}(\"bus_4\", \"bus_d\")\n",
      "\u001b[36m\u001b[1m[ \u001b[22m\u001b[39m\u001b[36m\u001b[1mInfo: \u001b[22m\u001b[39mProcessing line RelDist.Branch{String}(\"bus_3\", \"bus_c\")\n",
      "\u001b[36m\u001b[1m[ \u001b[22m\u001b[39m\u001b[36m\u001b[1mInfo: \u001b[22m\u001b[39mProcessing line RelDist.Branch{String}(\"bus_2\", \"bus_b\")\n",
      "\u001b[36m\u001b[1m[ \u001b[22m\u001b[39m\u001b[36m\u001b[1mInfo: \u001b[22m\u001b[39mProcessing line RelDist.Branch{String}(\"bus_1\", \"bus_a\")\n"
     ]
    },
    {
     "data": {
      "text/plain": [
       "(RelStruct([4.0 0.5 … 0.5 0.5; 4.0 4.0 … 0.5 0.5; 4.0 4.0 … 2.0 0.5; 4.0 4.0 … 0.5 2.0], [1.0 0.5 … 2.0 1.0; 0.8 0.4 … 1.6 0.8; 0.6000000000000001 0.30000000000000004 … 1.2000000000000002 0.6000000000000001; 0.4 0.2 … 0.8 0.4], [4.0 0.25 … 1.0 0.5; 3.2 1.6 … 0.8 0.4; 2.4000000000000004 1.2000000000000002 … 2.4000000000000004 0.30000000000000004; 1.6 0.8 … 0.4 0.8], [4.0 0.25 … 1.0 0.5; 3.2 1.6 … 0.8 0.4; 2.4000000000000004 1.2000000000000002 … 2.4000000000000004 0.30000000000000004; 1.6 0.8 … 0.4 0.8]), RelStruct([0.002 0.002 … 0.002 0.002; 0.002 0.002 … 0.002 0.002; 0.002 0.002 … 0.002 0.002; 0.002 0.002 … 0.002 0.002], [0.05 0.05 … 0.05 0.05; 0.04 0.04 … 0.04 0.04; 0.03 0.03 … 0.03 0.03; 0.02 0.02 … 0.02 0.02], [0.0001 0.0001 … 0.0001 0.0001; 8.0e-5 8.0e-5 … 8.0e-5 8.0e-5; 6.0e-5 6.0e-5 … 6.0e-5 6.0e-5; 4.0e-5 4.0e-5 … 4.0e-5 4.0e-5], [0.0001 0.0001 … 0.0001 0.0001; 8.0e-5 8.0e-5 … 8.0e-5 8.0e-5; 6.0e-5 6.0e-5 … 6.0e-5 6.0e-5; 4.0e-5 4.0e-5 … 4.0e-5 4.0e-5]), RelDist.Load[RelDist.Load(\"load_a\", \"bus_a\", 5), RelDist.Load(\"load_b\", \"bus_b\", 4), RelDist.Load(\"load_c\", \"bus_c\", 3), RelDist.Load(\"load_d\", \"bus_d\", 2)], \u001b[1m8×4 DataFrame\u001b[0m\n",
       "\u001b[1m Row \u001b[0m│\u001b[1m index \u001b[0m\u001b[1m f_bus      \u001b[0m\u001b[1m t_bus  \u001b[0m\u001b[1m name      \u001b[0m\n",
       "     │\u001b[90m Int64 \u001b[0m\u001b[90m String     \u001b[0m\u001b[90m String \u001b[0m\u001b[90m String    \u001b[0m\n",
       "─────┼──────────────────────────────────────\n",
       "   1 │     1  trans_grid  bus_1   line_1\n",
       "   2 │     2  bus_1       bus_2   line_2\n",
       "   3 │     3  bus_2       bus_3   line_3\n",
       "   4 │     4  bus_3       bus_4   line_4\n",
       "   5 │     5  bus_1       bus_a   section_a\n",
       "   6 │     6  bus_2       bus_b   section_b\n",
       "   7 │     7  bus_3       bus_c   section_c\n",
       "   8 │     8  bus_4       bus_d   section_d)"
      ]
     },
     "execution_count": 7,
     "metadata": {},
     "output_type": "execute_result"
    }
   ],
   "source": [
    "res, rest, L, edge_pos = relrad_calc(interruption, cost_functions, network)"
   ]
  },
  {
   "cell_type": "code",
   "execution_count": 8,
   "id": "278ac978-6348-4959-9ded-5fd10a3ef045",
   "metadata": {},
   "outputs": [
    {
     "data": {
      "text/plain": [
       "4×8 Matrix{Float64}:\n",
       " 0.0001  0.0001  0.0001  0.0001  0.0001  0.0001  0.0001  0.0001\n",
       " 8.0e-5  8.0e-5  8.0e-5  8.0e-5  8.0e-5  8.0e-5  8.0e-5  8.0e-5\n",
       " 6.0e-5  6.0e-5  6.0e-5  6.0e-5  6.0e-5  6.0e-5  6.0e-5  6.0e-5\n",
       " 4.0e-5  4.0e-5  4.0e-5  4.0e-5  4.0e-5  4.0e-5  4.0e-5  4.0e-5"
      ]
     },
     "execution_count": 8,
     "metadata": {},
     "output_type": "execute_result"
    }
   ],
   "source": [
    "rest.ENS"
   ]
  },
  {
   "cell_type": "code",
   "execution_count": 9,
   "id": "377f6df3-9b87-493e-bfd7-12fb73ede5bf",
   "metadata": {},
   "outputs": [
    {
     "data": {
      "text/plain": [
       "8×4 adjoint(::Matrix{Float64}) with eltype Float64:\n",
       " 4.0   3.2  2.4  1.6\n",
       " 0.25  1.6  1.2  0.8\n",
       " 0.75  0.6  3.6  2.4\n",
       " 0.5   0.4  0.3  1.6\n",
       " 2.0   0.4  0.3  0.2\n",
       " 1.5   4.8  0.9  0.6\n",
       " 1.0   0.8  2.4  0.4\n",
       " 0.5   0.4  0.3  0.8"
      ]
     },
     "execution_count": 9,
     "metadata": {},
     "output_type": "execute_result"
    }
   ],
   "source": [
    "res.ENS'"
   ]
  },
  {
   "cell_type": "code",
   "execution_count": 10,
   "id": "9482b1c8-5950-43a8-9ab5-e41905b3d0ef",
   "metadata": {},
   "outputs": [
    {
     "data": {
      "text/plain": [
       "{9, 8} undirected Int64 metagraph with Float64 weights defined by :weight (default weight 1.0)"
      ]
     },
     "execution_count": 10,
     "metadata": {},
     "output_type": "execute_result"
    }
   ],
   "source": [
    "copy_g = MetaGraph(copy(network.G))"
   ]
  },
  {
   "cell_type": "code",
   "execution_count": 11,
   "id": "ce90177e-bb13-4bd8-931d-39fdfc3ef141",
   "metadata": {},
   "outputs": [
    {
     "data": {
      "text/plain": [
       "3-element Vector{Int64}:\n",
       " 2\n",
       " 5\n",
       " 9"
      ]
     },
     "execution_count": 11,
     "metadata": {},
     "output_type": "execute_result"
    }
   ],
   "source": [
    "all_neighbors(network.G, 1)"
   ]
  },
  {
   "cell_type": "code",
   "execution_count": 12,
   "id": "77cd0214-16da-4c69-b155-fdf90ed0c425",
   "metadata": {},
   "outputs": [
    {
     "data": {
      "text/html": [
       "<div><div style = \"float: left;\"><span>8×4 DataFrame</span></div><div style = \"clear: both;\"></div></div><div class = \"data-frame\" style = \"overflow-x: scroll;\"><table class = \"data-frame\" style = \"margin-bottom: 6px;\"><thead><tr class = \"header\"><th class = \"rowNumber\" style = \"font-weight: bold; text-align: right;\">Row</th><th style = \"text-align: left;\">f_bus</th><th style = \"text-align: left;\">t_bus</th><th style = \"text-align: left;\">breaker</th><th style = \"text-align: left;\">closed</th></tr><tr class = \"subheader headerLastRow\"><th class = \"rowNumber\" style = \"font-weight: bold; text-align: right;\"></th><th title = \"String\" style = \"text-align: left;\">String</th><th title = \"String\" style = \"text-align: left;\">String</th><th title = \"Bool\" style = \"text-align: left;\">Bool</th><th title = \"Bool\" style = \"text-align: left;\">Bool</th></tr></thead><tbody><tr><td class = \"rowNumber\" style = \"font-weight: bold; text-align: right;\">1</td><td style = \"text-align: left;\">trans_grid</td><td style = \"text-align: left;\">bus_1</td><td style = \"text-align: right;\">true</td><td style = \"text-align: right;\">true</td></tr><tr><td class = \"rowNumber\" style = \"font-weight: bold; text-align: right;\">2</td><td style = \"text-align: left;\">bus_1</td><td style = \"text-align: left;\">bus_2</td><td style = \"text-align: right;\">false</td><td style = \"text-align: right;\">true</td></tr><tr><td class = \"rowNumber\" style = \"font-weight: bold; text-align: right;\">3</td><td style = \"text-align: left;\">bus_2</td><td style = \"text-align: left;\">bus_3</td><td style = \"text-align: right;\">false</td><td style = \"text-align: right;\">true</td></tr><tr><td class = \"rowNumber\" style = \"font-weight: bold; text-align: right;\">4</td><td style = \"text-align: left;\">bus_3</td><td style = \"text-align: left;\">bus_4</td><td style = \"text-align: right;\">false</td><td style = \"text-align: right;\">true</td></tr><tr><td class = \"rowNumber\" style = \"font-weight: bold; text-align: right;\">5</td><td style = \"text-align: left;\">bus_1</td><td style = \"text-align: left;\">bus_a</td><td style = \"text-align: right;\">false</td><td style = \"text-align: right;\">true</td></tr><tr><td class = \"rowNumber\" style = \"font-weight: bold; text-align: right;\">6</td><td style = \"text-align: left;\">bus_2</td><td style = \"text-align: left;\">bus_b</td><td style = \"text-align: right;\">false</td><td style = \"text-align: right;\">true</td></tr><tr><td class = \"rowNumber\" style = \"font-weight: bold; text-align: right;\">7</td><td style = \"text-align: left;\">bus_3</td><td style = \"text-align: left;\">bus_c</td><td style = \"text-align: right;\">false</td><td style = \"text-align: right;\">true</td></tr><tr><td class = \"rowNumber\" style = \"font-weight: bold; text-align: right;\">8</td><td style = \"text-align: left;\">bus_4</td><td style = \"text-align: left;\">bus_d</td><td style = \"text-align: right;\">false</td><td style = \"text-align: right;\">true</td></tr></tbody></table></div>"
      ],
      "text/latex": [
       "\\begin{tabular}{r|cccc}\n",
       "\t& f\\_bus & t\\_bus & breaker & closed\\\\\n",
       "\t\\hline\n",
       "\t& String & String & Bool & Bool\\\\\n",
       "\t\\hline\n",
       "\t1 & trans\\_grid & bus\\_1 & 1 & 1 \\\\\n",
       "\t2 & bus\\_1 & bus\\_2 & 0 & 1 \\\\\n",
       "\t3 & bus\\_2 & bus\\_3 & 0 & 1 \\\\\n",
       "\t4 & bus\\_3 & bus\\_4 & 0 & 1 \\\\\n",
       "\t5 & bus\\_1 & bus\\_a & 0 & 1 \\\\\n",
       "\t6 & bus\\_2 & bus\\_b & 0 & 1 \\\\\n",
       "\t7 & bus\\_3 & bus\\_c & 0 & 1 \\\\\n",
       "\t8 & bus\\_4 & bus\\_d & 0 & 1 \\\\\n",
       "\\end{tabular}\n"
      ],
      "text/plain": [
       "\u001b[1m8×4 DataFrame\u001b[0m\n",
       "\u001b[1m Row \u001b[0m│\u001b[1m f_bus      \u001b[0m\u001b[1m t_bus  \u001b[0m\u001b[1m breaker \u001b[0m\u001b[1m closed \u001b[0m\n",
       "     │\u001b[90m String     \u001b[0m\u001b[90m String \u001b[0m\u001b[90m Bool    \u001b[0m\u001b[90m Bool   \u001b[0m\n",
       "─────┼─────────────────────────────────────\n",
       "   1 │ trans_grid  bus_1      true    true\n",
       "   2 │ bus_1       bus_2     false    true\n",
       "   3 │ bus_2       bus_3     false    true\n",
       "   4 │ bus_3       bus_4     false    true\n",
       "   5 │ bus_1       bus_a     false    true\n",
       "   6 │ bus_2       bus_b     false    true\n",
       "   7 │ bus_3       bus_c     false    true\n",
       "   8 │ bus_4       bus_d     false    true"
      ]
     },
     "execution_count": 12,
     "metadata": {},
     "output_type": "execute_result"
    }
   ],
   "source": [
    "network.mpc.switch"
   ]
  },
  {
   "cell_type": "code",
   "execution_count": 13,
   "id": "45bb9b9a-b78c-4c79-ac01-649f0cb69749",
   "metadata": {},
   "outputs": [
    {
     "data": {
      "text/plain": [
       "\"bus_a\""
      ]
     },
     "execution_count": 13,
     "metadata": {},
     "output_type": "execute_result"
    }
   ],
   "source": [
    "network.G[5, :name]"
   ]
  },
  {
   "cell_type": "code",
   "execution_count": 14,
   "id": "e83442ca-0d14-41fe-984d-c33a28d1131a",
   "metadata": {},
   "outputs": [
    {
     "data": {
      "text/plain": [
       "\"trans_grid\""
      ]
     },
     "execution_count": 14,
     "metadata": {},
     "output_type": "execute_result"
    }
   ],
   "source": [
    "network.G[9, :name]"
   ]
  },
  {
   "cell_type": "code",
   "execution_count": 15,
   "id": "57285283-7742-4a92-9fdb-94ab33965408",
   "metadata": {},
   "outputs": [
    {
     "data": {
      "text/plain": [
       "{0, 0} directed Int64 metagraph with Float64 weights defined by :weight (default weight 1.0)"
      ]
     },
     "execution_count": 15,
     "metadata": {},
     "output_type": "execute_result"
    }
   ],
   "source": [
    "newgraph = MetaDiGraph()"
   ]
  },
  {
   "cell_type": "code",
   "execution_count": 16,
   "id": "2ef02c0e-de9e-41a9-8fe9-ccd0c4c5ff63",
   "metadata": {},
   "outputs": [
    {
     "data": {
      "text/plain": [
       "2-element Vector{Int64}:\n",
       " 3\n",
       " 4"
      ]
     },
     "execution_count": 16,
     "metadata": {},
     "output_type": "execute_result"
    }
   ],
   "source": [
    "neighbors(network.radial, 2)"
   ]
  },
  {
   "cell_type": "code",
   "execution_count": 17,
   "id": "b9160e46-5eea-4447-9f76-974c1df13b45",
   "metadata": {},
   "outputs": [
    {
     "data": {
      "text/plain": [
       "4×1 Matrix{Float64}:\n",
       " 8.000000000000002e-7\n",
       " 6.4e-7\n",
       " 4.800000000000001e-7\n",
       " 3.2e-7"
      ]
     },
     "execution_count": 17,
     "metadata": {},
     "output_type": "execute_result"
    }
   ],
   "source": [
    "sum(rest.ENS; dims=2)/1000"
   ]
  },
  {
   "cell_type": "code",
   "execution_count": 18,
   "id": "4036f343-4c33-4f6e-9d70-28e13c5679e0",
   "metadata": {},
   "outputs": [
    {
     "data": {
      "text/plain": [
       "4×1 Matrix{Float64}:\n",
       " 10.5\n",
       " 12.200000000000001\n",
       " 11.4\n",
       "  8.4"
      ]
     },
     "execution_count": 18,
     "metadata": {},
     "output_type": "execute_result"
    }
   ],
   "source": [
    "sum(res.ENS; dims=2)"
   ]
  }
 ],
 "metadata": {
  "jupytext": {
   "formats": "ipynb,Rmd,auto:light"
  },
  "kernelspec": {
   "display_name": "Julia 1.8.5",
   "language": "julia",
   "name": "julia-1.8"
  },
  "language_info": {
   "file_extension": ".jl",
   "mimetype": "application/julia",
   "name": "julia",
   "version": "1.8.5"
  }
 },
 "nbformat": 4,
 "nbformat_minor": 5
}
