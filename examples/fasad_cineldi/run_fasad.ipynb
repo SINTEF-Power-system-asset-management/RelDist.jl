{
 "cells": [
  {
   "cell_type": "code",
   "execution_count": 1,
   "id": "d1f98357-d21c-471e-a41b-5a1475fe6729",
   "metadata": {},
   "outputs": [],
   "source": [
    "using RelDist\n",
    "using SintPowerGraphs\n",
    "using SintPowerCase\n",
    "using DataFrames\n",
    "using MetaGraphs\n",
    "using Graphs\n",
    "\n",
    "using Plots\n",
    "using GraphRecipes"
   ]
  },
  {
   "cell_type": "code",
   "execution_count": 16,
   "id": "22d1c846-02ff-4c9a-9b13-38d86e1f4ade",
   "metadata": {},
   "outputs": [
    {
     "data": {
      "text/plain": [
       "Dict{String, RelDist.PieceWiseCost} with 1 entry:\n",
       "  \"agriculture\" => PieceWiseCost(RelDist.Piece[Piece(Bound(0.0, 0.017), 0.0, 1.…"
      ]
     },
     "execution_count": 16,
     "metadata": {},
     "output_type": "execute_result"
    }
   ],
   "source": [
    "network_filename = joinpath(@__DIR__, \"excel_test.toml\")\n",
    "interruption_filename = joinpath(@__DIR__, \"../../databases/interruption_FASIT2.json\")\n",
    "cost_filename = joinpath(@__DIR__, \"../../databases/cost_functions_dummy.json\")\n",
    "\n",
    "interruption = read_interruption(interruption_filename)\n",
    "cost_functions = read_cost_functions(cost_filename)"
   ]
  },
  {
   "cell_type": "code",
   "execution_count": 17,
   "id": "5b88faac-9965-4323-b087-2ef444bab368",
   "metadata": {},
   "outputs": [
    {
     "data": {
      "text/plain": [
       "Case(100.0, \u001b[1m5×13 DataFrame\u001b[0m\n",
       "\u001b[1m Row \u001b[0m│\u001b[1m ID     \u001b[0m\u001b[1m type  \u001b[0m\u001b[1m Pd      \u001b[0m\u001b[1m Qd      \u001b[0m\u001b[1m Gs      \u001b[0m\u001b[1m Bs      \u001b[0m\u001b[1m area_num \u001b[0m\u001b[1m Vm      \u001b[0m\u001b[1m V\u001b[0m ⋯\n",
       "     │\u001b[90m String \u001b[0m\u001b[90m Int64 \u001b[0m\u001b[90m Float64 \u001b[0m\u001b[90m Float64 \u001b[0m\u001b[90m Float64 \u001b[0m\u001b[90m Float64 \u001b[0m\u001b[90m Int64    \u001b[0m\u001b[90m Float64 \u001b[0m\u001b[90m F\u001b[0m ⋯\n",
       "─────┼──────────────────────────────────────────────────────────────────────────\n",
       "   1 │ L1          1      5.0      0.0      0.0      0.0         1      1.0    ⋯\n",
       "   2 │ L2          1      4.0      0.0      0.0      0.0         1      1.0\n",
       "   3 │ L3          1      3.0      0.0      0.0      0.0         1      1.0\n",
       "   4 │ L4          1      2.0      0.0      0.0      0.0         1      1.0\n",
       "   5 │ T1          3      0.0      0.0      0.0      0.0         1      1.0    ⋯\n",
       "\u001b[36m                                                               5 columns omitted\u001b[0m, \u001b[1m6×11 DataFrame\u001b[0m\n",
       "\u001b[1m Row \u001b[0m│\u001b[1m ID     \u001b[0m\u001b[1m f_bus  \u001b[0m\u001b[1m t_bus  \u001b[0m\u001b[1m r     \u001b[0m\u001b[1m x     \u001b[0m\u001b[1m b     \u001b[0m\u001b[1m rateA \u001b[0m\u001b[1m rateB \u001b[0m\u001b[1m rateC \u001b[0m\u001b[1m ratio\u001b[0m ⋯\n",
       "     │\u001b[90m String \u001b[0m\u001b[90m String \u001b[0m\u001b[90m String \u001b[0m\u001b[90m Int64 \u001b[0m\u001b[90m Int64 \u001b[0m\u001b[90m Int64 \u001b[0m\u001b[90m Int64 \u001b[0m\u001b[90m Int64 \u001b[0m\u001b[90m Int64 \u001b[0m\u001b[90m Int64\u001b[0m ⋯\n",
       "─────┼──────────────────────────────────────────────────────────────────────────\n",
       "   1 │ K1      T1      L1          0      0      0      0      0      0      0 ⋯\n",
       "   2 │ K2      L1      L2          0      0      0      0      0      0      0\n",
       "   3 │ K3      L1      L3          0      0      0      0      0      0      0\n",
       "   4 │ K4      L3      L4          0      0      0      0      0      0      0\n",
       "   5 │ K5      L2      T1          0      0      0      0      0      0      0 ⋯\n",
       "   6 │ K6      L3      T1          0      0      0      0      0      0      0\n",
       "\u001b[36m                                                                1 column omitted\u001b[0m, \u001b[1m1×11 DataFrame\u001b[0m\n",
       "\u001b[1m Row \u001b[0m│\u001b[1m ID     \u001b[0m\u001b[1m bus    \u001b[0m\u001b[1m Pg    \u001b[0m\u001b[1m Qg    \u001b[0m\u001b[1m Qmax    \u001b[0m\u001b[1m Qmin    \u001b[0m\u001b[1m Vg      \u001b[0m\u001b[1m mBase   \u001b[0m\u001b[1m statu\u001b[0m ⋯\n",
       "     │\u001b[90m String \u001b[0m\u001b[90m String \u001b[0m\u001b[90m Int64 \u001b[0m\u001b[90m Int64 \u001b[0m\u001b[90m Float64 \u001b[0m\u001b[90m Float64 \u001b[0m\u001b[90m Float64 \u001b[0m\u001b[90m Float64 \u001b[0m\u001b[90m Int64\u001b[0m ⋯\n",
       "─────┼──────────────────────────────────────────────────────────────────────────\n",
       "   1 │ 1       9         100      0   1000.0  -1000.0      1.1    100.0        ⋯\n",
       "\u001b[36m                                                               3 columns omitted\u001b[0m, \u001b[1m4×4 DataFrame\u001b[0m\n",
       "\u001b[1m Row \u001b[0m│\u001b[1m ID     \u001b[0m\u001b[1m bus    \u001b[0m\u001b[1m P     \u001b[0m\u001b[1m ref_demand \u001b[0m\n",
       "     │\u001b[90m String \u001b[0m\u001b[90m String \u001b[0m\u001b[90m Int64 \u001b[0m\u001b[90m Int64      \u001b[0m\n",
       "─────┼───────────────────────────────────\n",
       "   1 │ LL1     L1          5           5\n",
       "   2 │ LL2     L2          4           4\n",
       "   3 │ LL3     L3          3           3\n",
       "   4 │ LL4     L4          2           2, \u001b[1m9×5 DataFrame\u001b[0m\n",
       "\u001b[1m Row \u001b[0m│\u001b[1m ID     \u001b[0m\u001b[1m f_bus  \u001b[0m\u001b[1m t_bus  \u001b[0m\u001b[1m breaker \u001b[0m\u001b[1m closed \u001b[0m\n",
       "     │\u001b[90m String \u001b[0m\u001b[90m String \u001b[0m\u001b[90m String \u001b[0m\u001b[90m Bool    \u001b[0m\u001b[90m Bool   \u001b[0m\n",
       "─────┼─────────────────────────────────────────\n",
       "   1 │ E1      T1      L1         true    true\n",
       "   2 │ K1a     T1      L1        false    true\n",
       "   3 │ K1b     L1      T1        false    true\n",
       "   4 │ K2a     L1      L2        false    true\n",
       "   5 │ K3a     L1      L3        false    true\n",
       "   6 │ K3b     L3      L1        false    true\n",
       "   7 │ K4a     L3      L4        false    true\n",
       "   8 │ K5a     L2      T1        false   false\n",
       "   9 │ K6a     L3      T1        false   false, \u001b[1m0×0 DataFrame\u001b[0m, \u001b[1m6×8 DataFrame\u001b[0m\n",
       "\u001b[1m Row \u001b[0m│\u001b[1m ID     \u001b[0m\u001b[1m f_bus  \u001b[0m\u001b[1m t_bus  \u001b[0m\u001b[1m repairTime \u001b[0m\u001b[1m permanentFaultFrequency \u001b[0m\u001b[1m temporaryF\u001b[0m ⋯\n",
       "     │\u001b[90m String \u001b[0m\u001b[90m String \u001b[0m\u001b[90m String \u001b[0m\u001b[90m Int64      \u001b[0m\u001b[90m Float64                 \u001b[0m\u001b[90m Float64   \u001b[0m ⋯\n",
       "─────┼──────────────────────────────────────────────────────────────────────────\n",
       "   1 │ K1      T1      L1               4                     0.1              ⋯\n",
       "   2 │ K2      L1      L2               4                     0.05\n",
       "   3 │ K3      L1      L3               4                     0.15\n",
       "   4 │ K4      L3      L4               4                     0.1\n",
       "   5 │ K5      T1      L2               4                     0.0              ⋯\n",
       "   6 │ K6      T1      L3               4                     0.0\n",
       "\u001b[36m                                                               3 columns omitted\u001b[0m, \u001b[1m0×0 DataFrame\u001b[0m, \u001b[1m0×0 DataFrame\u001b[0m, \u001b[1m0×0 DataFrame\u001b[0m, 5)"
      ]
     },
     "execution_count": 17,
     "metadata": {},
     "output_type": "execute_result"
    }
   ],
   "source": [
    "case = Case(network_filename)"
   ]
  },
  {
   "cell_type": "code",
   "execution_count": 18,
   "id": "11d3df1f-1bc3-4221-8ebb-4a15ee4eb06d",
   "metadata": {},
   "outputs": [
    {
     "data": {
      "text/plain": [
       "RadialPowerGraph({5, 6} directed Int64 metagraph with Float64 weights defined by :weight (default weight 1.0), Case(100.0, \u001b[1m5×13 DataFrame\u001b[0m\n",
       "\u001b[1m Row \u001b[0m│\u001b[1m ID     \u001b[0m\u001b[1m type  \u001b[0m\u001b[1m Pd      \u001b[0m\u001b[1m Qd      \u001b[0m\u001b[1m Gs      \u001b[0m\u001b[1m Bs      \u001b[0m\u001b[1m area_num \u001b[0m\u001b[1m Vm      \u001b[0m\u001b[1m V\u001b[0m ⋯\n",
       "     │\u001b[90m String \u001b[0m\u001b[90m Int64 \u001b[0m\u001b[90m Float64 \u001b[0m\u001b[90m Float64 \u001b[0m\u001b[90m Float64 \u001b[0m\u001b[90m Float64 \u001b[0m\u001b[90m Int64    \u001b[0m\u001b[90m Float64 \u001b[0m\u001b[90m F\u001b[0m ⋯\n",
       "─────┼──────────────────────────────────────────────────────────────────────────\n",
       "   1 │ L1          1      5.0      0.0      0.0      0.0         1      1.0    ⋯\n",
       "   2 │ L2          1      4.0      0.0      0.0      0.0         1      1.0\n",
       "   3 │ L3          1      3.0      0.0      0.0      0.0         1      1.0\n",
       "   4 │ L4          1      2.0      0.0      0.0      0.0         1      1.0\n",
       "   5 │ T1          3      0.0      0.0      0.0      0.0         1      1.0    ⋯\n",
       "\u001b[36m                                                               5 columns omitted\u001b[0m, \u001b[1m6×11 DataFrame\u001b[0m\n",
       "\u001b[1m Row \u001b[0m│\u001b[1m ID     \u001b[0m\u001b[1m f_bus  \u001b[0m\u001b[1m t_bus  \u001b[0m\u001b[1m r     \u001b[0m\u001b[1m x     \u001b[0m\u001b[1m b     \u001b[0m\u001b[1m rateA \u001b[0m\u001b[1m rateB \u001b[0m\u001b[1m rateC \u001b[0m\u001b[1m ratio\u001b[0m ⋯\n",
       "     │\u001b[90m String \u001b[0m\u001b[90m String \u001b[0m\u001b[90m String \u001b[0m\u001b[90m Int64 \u001b[0m\u001b[90m Int64 \u001b[0m\u001b[90m Int64 \u001b[0m\u001b[90m Int64 \u001b[0m\u001b[90m Int64 \u001b[0m\u001b[90m Int64 \u001b[0m\u001b[90m Int64\u001b[0m ⋯\n",
       "─────┼──────────────────────────────────────────────────────────────────────────\n",
       "   1 │ K1      T1      L1          0      0      0      0      0      0      0 ⋯\n",
       "   2 │ K2      L1      L2          0      0      0      0      0      0      0\n",
       "   3 │ K3      L1      L3          0      0      0      0      0      0      0\n",
       "   4 │ K4      L3      L4          0      0      0      0      0      0      0\n",
       "   5 │ K5      L2      T1          0      0      0      0      0      0      0 ⋯\n",
       "   6 │ K6      L3      T1          0      0      0      0      0      0      0\n",
       "\u001b[36m                                                                1 column omitted\u001b[0m, \u001b[1m1×11 DataFrame\u001b[0m\n",
       "\u001b[1m Row \u001b[0m│\u001b[1m ID     \u001b[0m\u001b[1m bus    \u001b[0m\u001b[1m Pg    \u001b[0m\u001b[1m Qg    \u001b[0m\u001b[1m Qmax    \u001b[0m\u001b[1m Qmin    \u001b[0m\u001b[1m Vg      \u001b[0m\u001b[1m mBase   \u001b[0m\u001b[1m statu\u001b[0m ⋯\n",
       "     │\u001b[90m String \u001b[0m\u001b[90m String \u001b[0m\u001b[90m Int64 \u001b[0m\u001b[90m Int64 \u001b[0m\u001b[90m Float64 \u001b[0m\u001b[90m Float64 \u001b[0m\u001b[90m Float64 \u001b[0m\u001b[90m Float64 \u001b[0m\u001b[90m Int64\u001b[0m ⋯\n",
       "─────┼──────────────────────────────────────────────────────────────────────────\n",
       "   1 │ 1       9         100      0   1000.0  -1000.0      1.1    100.0        ⋯\n",
       "\u001b[36m                                                               3 columns omitted\u001b[0m, \u001b[1m4×4 DataFrame\u001b[0m\n",
       "\u001b[1m Row \u001b[0m│\u001b[1m ID     \u001b[0m\u001b[1m bus    \u001b[0m\u001b[1m P     \u001b[0m\u001b[1m ref_demand \u001b[0m\n",
       "     │\u001b[90m String \u001b[0m\u001b[90m String \u001b[0m\u001b[90m Int64 \u001b[0m\u001b[90m Int64      \u001b[0m\n",
       "─────┼───────────────────────────────────\n",
       "   1 │ LL1     L1          5           5\n",
       "   2 │ LL2     L2          4           4\n",
       "   3 │ LL3     L3          3           3\n",
       "   4 │ LL4     L4          2           2, \u001b[1m9×5 DataFrame\u001b[0m\n",
       "\u001b[1m Row \u001b[0m│\u001b[1m ID     \u001b[0m\u001b[1m f_bus  \u001b[0m\u001b[1m t_bus  \u001b[0m\u001b[1m breaker \u001b[0m\u001b[1m closed \u001b[0m\n",
       "     │\u001b[90m String \u001b[0m\u001b[90m String \u001b[0m\u001b[90m String \u001b[0m\u001b[90m Bool    \u001b[0m\u001b[90m Bool   \u001b[0m\n",
       "─────┼─────────────────────────────────────────\n",
       "   1 │ E1      T1      L1         true    true\n",
       "   2 │ K1a     T1      L1        false    true\n",
       "   3 │ K1b     L1      T1        false    true\n",
       "   4 │ K2a     L1      L2        false    true\n",
       "   5 │ K3a     L1      L3        false    true\n",
       "   6 │ K3b     L3      L1        false    true\n",
       "   7 │ K4a     L3      L4        false    true\n",
       "   8 │ K5a     L2      T1        false   false\n",
       "   9 │ K6a     L3      T1        false   false, \u001b[1m0×0 DataFrame\u001b[0m, \u001b[1m6×8 DataFrame\u001b[0m\n",
       "\u001b[1m Row \u001b[0m│\u001b[1m ID     \u001b[0m\u001b[1m f_bus  \u001b[0m\u001b[1m t_bus  \u001b[0m\u001b[1m repairTime \u001b[0m\u001b[1m permanentFaultFrequency \u001b[0m\u001b[1m temporaryF\u001b[0m ⋯\n",
       "     │\u001b[90m String \u001b[0m\u001b[90m String \u001b[0m\u001b[90m String \u001b[0m\u001b[90m Int64      \u001b[0m\u001b[90m Float64                 \u001b[0m\u001b[90m Float64   \u001b[0m ⋯\n",
       "─────┼──────────────────────────────────────────────────────────────────────────\n",
       "   1 │ K1      T1      L1               4                     0.1              ⋯\n",
       "   2 │ K2      L1      L2               4                     0.05\n",
       "   3 │ K3      L1      L3               4                     0.15\n",
       "   4 │ K4      L3      L4               4                     0.1\n",
       "   5 │ K5      T1      L2               4                     0.0              ⋯\n",
       "   6 │ K6      T1      L3               4                     0.0\n",
       "\u001b[36m                                                               3 columns omitted\u001b[0m, \u001b[1m0×0 DataFrame\u001b[0m, \u001b[1m0×0 DataFrame\u001b[0m, \u001b[1m0×0 DataFrame\u001b[0m, 5), \"T1\", {5, 4} directed Int64 metagraph with Float64 weights defined by :weight (default weight 1.0))"
      ]
     },
     "execution_count": 18,
     "metadata": {},
     "output_type": "execute_result"
    }
   ],
   "source": [
    "network = RadialPowerGraph(case)"
   ]
  },
  {
   "cell_type": "code",
   "execution_count": 5,
   "id": "f766e23f-344a-401a-8e98-bf06dd47053a",
   "metadata": {},
   "outputs": [
    {
     "data": {
      "image/svg+xml": [
       "<?xml version=\"1.0\" encoding=\"utf-8\"?>\n",
       "<svg xmlns=\"http://www.w3.org/2000/svg\" xmlns:xlink=\"http://www.w3.org/1999/xlink\" width=\"600\" height=\"400\" viewBox=\"0 0 2400 1600\">\n",
       "<defs>\n",
       "  <clipPath id=\"clip920\">\n",
       "    <rect x=\"0\" y=\"0\" width=\"2400\" height=\"1600\"/>\n",
       "  </clipPath>\n",
       "</defs>\n",
       "<path clip-path=\"url(#clip920)\" d=\"M0 1600 L2400 1600 L2400 0 L0 0  Z\" fill=\"#ffffff\" fill-rule=\"evenodd\" fill-opacity=\"1\"/>\n",
       "<defs>\n",
       "  <clipPath id=\"clip921\">\n",
       "    <rect x=\"480\" y=\"0\" width=\"1681\" height=\"1600\"/>\n",
       "  </clipPath>\n",
       "</defs>\n",
       "<path clip-path=\"url(#clip920)\" d=\"M447.244 1552.76 L1952.76 1552.76 L1952.76 47.2441 L447.244 47.2441  Z\" fill=\"#ffffff\" fill-rule=\"evenodd\" fill-opacity=\"1\"/>\n",
       "<defs>\n",
       "  <clipPath id=\"clip922\">\n",
       "    <rect x=\"447\" y=\"47\" width=\"1507\" height=\"1507\"/>\n",
       "  </clipPath>\n",
       "</defs>\n",
       "<polyline clip-path=\"url(#clip922)\" style=\"stroke:#000000; stroke-linecap:round; stroke-linejoin:round; stroke-width:4; stroke-opacity:1; fill:none\" points=\"1341.05,262.317 1697.76,484.546 \"/>\n",
       "<polyline clip-path=\"url(#clip922)\" style=\"stroke:#000000; stroke-linecap:round; stroke-linejoin:round; stroke-width:4; stroke-opacity:1; fill:none\" points=\"1676.73,450.232 1697.76,484.546 1657.69,480.788 \"/>\n",
       "<polyline clip-path=\"url(#clip922)\" style=\"stroke:#000000; stroke-linecap:round; stroke-linejoin:round; stroke-width:4; stroke-opacity:1; fill:none\" points=\"1697.76,484.546 1341.05,262.317 \"/>\n",
       "<polyline clip-path=\"url(#clip922)\" style=\"stroke:#000000; stroke-linecap:round; stroke-linejoin:round; stroke-width:4; stroke-opacity:1; fill:none\" points=\"1341.05,262.317 1069.15,995.944 \"/>\n",
       "<polyline clip-path=\"url(#clip922)\" style=\"stroke:#000000; stroke-linecap:round; stroke-linejoin:round; stroke-width:4; stroke-opacity:1; fill:none\" points=\"1098.54,968.443 1069.15,995.944 1064.78,955.932 \"/>\n",
       "<polyline clip-path=\"url(#clip922)\" style=\"stroke:#000000; stroke-linecap:round; stroke-linejoin:round; stroke-width:4; stroke-opacity:1; fill:none\" points=\"1069.15,995.944 1341.05,262.317 \"/>\n",
       "<polyline clip-path=\"url(#clip922)\" style=\"stroke:#000000; stroke-linecap:round; stroke-linejoin:round; stroke-width:4; stroke-opacity:1; fill:none\" points=\"1737.68,497.127 1466.41,1230.24 \"/>\n",
       "<polyline clip-path=\"url(#clip922)\" style=\"stroke:#000000; stroke-linecap:round; stroke-linejoin:round; stroke-width:4; stroke-opacity:1; fill:none\" points=\"1495.78,1202.73 1466.41,1230.24 1462.02,1190.24 \"/>\n",
       "<polyline clip-path=\"url(#clip922)\" style=\"stroke:#000000; stroke-linecap:round; stroke-linejoin:round; stroke-width:4; stroke-opacity:1; fill:none\" points=\"1466.41,1230.24 1737.68,497.127 \"/>\n",
       "<polyline clip-path=\"url(#clip922)\" style=\"stroke:#000000; stroke-linecap:round; stroke-linejoin:round; stroke-width:4; stroke-opacity:1; fill:none\" points=\"1047.26,1036.81 699.277,1319.98 \"/>\n",
       "<polyline clip-path=\"url(#clip922)\" style=\"stroke:#000000; stroke-linecap:round; stroke-linejoin:round; stroke-width:4; stroke-opacity:1; fill:none\" points=\"738.561,1311.22 699.277,1319.98 715.839,1283.29 \"/>\n",
       "<polyline clip-path=\"url(#clip922)\" style=\"stroke:#000000; stroke-linecap:round; stroke-linejoin:round; stroke-width:4; stroke-opacity:1; fill:none\" points=\"699.277,1319.98 1047.26,1036.81 \"/>\n",
       "<polyline clip-path=\"url(#clip922)\" style=\"stroke:#000000; stroke-linecap:round; stroke-linejoin:round; stroke-width:4; stroke-opacity:1; fill:none\" points=\"1047.26,1036.81 1404.6,1258.58 \"/>\n",
       "<polyline clip-path=\"url(#clip922)\" style=\"stroke:#000000; stroke-linecap:round; stroke-linejoin:round; stroke-width:4; stroke-opacity:1; fill:none\" points=\"1383.5,1224.3 1404.6,1258.58 1364.52,1254.89 \"/>\n",
       "<polyline clip-path=\"url(#clip922)\" style=\"stroke:#000000; stroke-linecap:round; stroke-linejoin:round; stroke-width:4; stroke-opacity:1; fill:none\" points=\"1404.6,1258.58 1047.26,1036.81 \"/>\n",
       "<polyline clip-path=\"url(#clip922)\" style=\"stroke:#000000; stroke-linecap:round; stroke-linejoin:round; stroke-width:4; stroke-opacity:1; fill:none\" points=\"1444.55,1271.11 1349.67,303.178 \"/>\n",
       "<polyline clip-path=\"url(#clip922)\" style=\"stroke:#000000; stroke-linecap:round; stroke-linejoin:round; stroke-width:4; stroke-opacity:1; fill:none\" points=\"1335.27,340.763 1349.67,303.178 1371.09,337.251 \"/>\n",
       "<polyline clip-path=\"url(#clip922)\" style=\"stroke:#000000; stroke-linecap:round; stroke-linejoin:round; stroke-width:4; stroke-opacity:1; fill:none\" points=\"1349.67,303.178 1444.55,1271.11 \"/>\n",
       "<path clip-path=\"url(#clip922)\" d=\"M1388.23 262.317 L1364.64 221.456 L1317.46 221.456 L1293.87 262.317 L1317.46 303.178 L1364.64 303.178 L1388.23 262.317 L1388.23 262.317  Z\" fill=\"#009af9\" fill-rule=\"evenodd\" fill-opacity=\"1\"/>\n",
       "<polyline clip-path=\"url(#clip922)\" style=\"stroke:#000000; stroke-linecap:round; stroke-linejoin:round; stroke-width:4; stroke-opacity:1; fill:none\" points=\"1388.23,262.317 1364.64,221.456 1317.46,221.456 1293.87,262.317 1317.46,303.178 1364.64,303.178 1388.23,262.317 \"/>\n",
       "<path clip-path=\"url(#clip922)\" d=\"M1784.87 497.127 L1761.27 456.266 L1714.09 456.266 L1690.5 497.127 L1714.09 537.988 L1761.27 537.988 L1784.87 497.127 L1784.87 497.127  Z\" fill=\"#009af9\" fill-rule=\"evenodd\" fill-opacity=\"1\"/>\n",
       "<polyline clip-path=\"url(#clip922)\" style=\"stroke:#000000; stroke-linecap:round; stroke-linejoin:round; stroke-width:4; stroke-opacity:1; fill:none\" points=\"1784.87,497.127 1761.27,456.266 1714.09,456.266 1690.5,497.127 1714.09,537.988 1761.27,537.988 1784.87,497.127 \"/>\n",
       "<path clip-path=\"url(#clip922)\" d=\"M1094.45 1036.81 L1070.86 995.944 L1023.67 995.944 L1000.08 1036.81 L1023.67 1077.67 L1070.86 1077.67 L1094.45 1036.81 L1094.45 1036.81  Z\" fill=\"#009af9\" fill-rule=\"evenodd\" fill-opacity=\"1\"/>\n",
       "<polyline clip-path=\"url(#clip922)\" style=\"stroke:#000000; stroke-linecap:round; stroke-linejoin:round; stroke-width:4; stroke-opacity:1; fill:none\" points=\"1094.45,1036.81 1070.86,995.944 1023.67,995.944 1000.08,1036.81 1023.67,1077.67 1070.86,1077.67 1094.45,1036.81 \"/>\n",
       "<path clip-path=\"url(#clip922)\" d=\"M709.5 1337.68 L685.908 1296.82 L638.726 1296.82 L615.135 1337.68 L638.726 1378.54 L685.908 1378.54 L709.5 1337.68 L709.5 1337.68  Z\" fill=\"#009af9\" fill-rule=\"evenodd\" fill-opacity=\"1\"/>\n",
       "<polyline clip-path=\"url(#clip922)\" style=\"stroke:#000000; stroke-linecap:round; stroke-linejoin:round; stroke-width:4; stroke-opacity:1; fill:none\" points=\"709.5,1337.68 685.908,1296.82 638.726,1296.82 615.135,1337.68 638.726,1378.54 685.908,1378.54 709.5,1337.68 \"/>\n",
       "<path clip-path=\"url(#clip922)\" d=\"M1491.73 1271.11 L1468.14 1230.24 L1420.96 1230.24 L1397.37 1271.11 L1420.96 1311.97 L1468.14 1311.97 L1491.73 1271.11 L1491.73 1271.11  Z\" fill=\"#009af9\" fill-rule=\"evenodd\" fill-opacity=\"1\"/>\n",
       "<polyline clip-path=\"url(#clip922)\" style=\"stroke:#000000; stroke-linecap:round; stroke-linejoin:round; stroke-width:4; stroke-opacity:1; fill:none\" points=\"1491.73,1271.11 1468.14,1230.24 1420.96,1230.24 1397.37,1271.11 1420.96,1311.97 1468.14,1311.97 1491.73,1271.11 \"/>\n",
       "<path clip-path=\"url(#clip922)\" d=\"M1341.05 262.717 L1340.7 262.517 L1340.7 262.117 L1341.05 261.917 L1341.39 262.117 L1341.39 262.517 Z\" fill=\"#009af9\" fill-rule=\"evenodd\" fill-opacity=\"1\" stroke=\"#000000\" stroke-opacity=\"1\" stroke-width=\"3.2\"/>\n",
       "<path clip-path=\"url(#clip922)\" d=\"M1737.68 497.527 L1737.34 497.327 L1737.34 496.927 L1737.68 496.727 L1738.03 496.927 L1738.03 497.327 Z\" fill=\"#009af9\" fill-rule=\"evenodd\" fill-opacity=\"1\" stroke=\"#000000\" stroke-opacity=\"1\" stroke-width=\"3.2\"/>\n",
       "<path clip-path=\"url(#clip922)\" d=\"M1047.26 1037.21 L1046.92 1037.01 L1046.92 1036.61 L1047.26 1036.41 L1047.61 1036.61 L1047.61 1037.01 Z\" fill=\"#009af9\" fill-rule=\"evenodd\" fill-opacity=\"1\" stroke=\"#000000\" stroke-opacity=\"1\" stroke-width=\"3.2\"/>\n",
       "<path clip-path=\"url(#clip922)\" d=\"M662.317 1338.08 L661.971 1337.88 L661.971 1337.48 L662.317 1337.28 L662.664 1337.48 L662.664 1337.88 Z\" fill=\"#009af9\" fill-rule=\"evenodd\" fill-opacity=\"1\" stroke=\"#000000\" stroke-opacity=\"1\" stroke-width=\"3.2\"/>\n",
       "<path clip-path=\"url(#clip922)\" d=\"M1444.55 1271.51 L1444.2 1271.31 L1444.2 1270.91 L1444.55 1270.71 L1444.9 1270.91 L1444.9 1271.31 Z\" fill=\"#009af9\" fill-rule=\"evenodd\" fill-opacity=\"1\" stroke=\"#000000\" stroke-opacity=\"1\" stroke-width=\"3.2\"/>\n",
       "<path clip-path=\"url(#clip920)\" d=\"M1320.25 247.197 L1324.34 247.197 L1324.34 273.994 L1339.06 273.994 L1339.06 277.437 L1320.25 277.437 L1320.25 247.197 Z\" fill=\"#000000\" fill-rule=\"nonzero\" fill-opacity=\"1\" /><path clip-path=\"url(#clip920)\" d=\"M1344.43 273.994 L1351.11 273.994 L1351.11 250.924 L1343.84 252.382 L1343.84 248.656 L1351.07 247.197 L1355.17 247.197 L1355.17 273.994 L1361.85 273.994 L1361.85 277.437 L1344.43 277.437 L1344.43 273.994 Z\" fill=\"#000000\" fill-rule=\"nonzero\" fill-opacity=\"1\" /><path clip-path=\"url(#clip920)\" d=\"M1717.04 482.007 L1721.13 482.007 L1721.13 508.804 L1735.86 508.804 L1735.86 512.247 L1717.04 512.247 L1717.04 482.007 Z\" fill=\"#000000\" fill-rule=\"nonzero\" fill-opacity=\"1\" /><path clip-path=\"url(#clip920)\" d=\"M1744.04 508.804 L1758.32 508.804 L1758.32 512.247 L1739.12 512.247 L1739.12 508.804 Q1741.45 506.393 1745.46 502.342 Q1749.49 498.271 1750.52 497.097 Q1752.49 494.889 1753.26 493.37 Q1754.05 491.83 1754.05 490.352 Q1754.05 487.942 1752.35 486.422 Q1750.67 484.903 1747.95 484.903 Q1746.03 484.903 1743.88 485.572 Q1741.75 486.24 1739.32 487.597 L1739.32 483.465 Q1741.79 482.473 1743.94 481.966 Q1746.09 481.46 1747.87 481.46 Q1752.57 481.46 1755.36 483.81 Q1758.16 486.159 1758.16 490.088 Q1758.16 491.952 1757.45 493.633 Q1756.76 495.294 1754.92 497.562 Q1754.41 498.15 1751.7 500.965 Q1748.98 503.76 1744.04 508.804 Z\" fill=\"#000000\" fill-rule=\"nonzero\" fill-opacity=\"1\" /><path clip-path=\"url(#clip920)\" d=\"M1026.21 1021.69 L1030.3 1021.69 L1030.3 1048.48 L1045.03 1048.48 L1045.03 1051.93 L1026.21 1051.93 L1026.21 1021.69 Z\" fill=\"#000000\" fill-rule=\"nonzero\" fill-opacity=\"1\" /><path clip-path=\"url(#clip920)\" d=\"M1062.08 1035.62 Q1065.02 1036.25 1066.66 1038.23 Q1068.32 1040.22 1068.32 1043.13 Q1068.32 1047.61 1065.24 1050.06 Q1062.16 1052.51 1056.49 1052.51 Q1054.59 1052.51 1052.56 1052.13 Q1050.56 1051.76 1048.41 1051.01 L1048.41 1047.06 Q1050.11 1048.06 1052.14 1048.56 Q1054.16 1049.07 1056.37 1049.07 Q1060.22 1049.07 1062.22 1047.55 Q1064.25 1046.03 1064.25 1043.13 Q1064.25 1040.46 1062.36 1038.96 Q1060.5 1037.44 1057.16 1037.44 L1053.63 1037.44 L1053.63 1034.08 L1057.32 1034.08 Q1060.34 1034.08 1061.94 1032.89 Q1063.54 1031.67 1063.54 1029.4 Q1063.54 1027.07 1061.88 1025.84 Q1060.24 1024.58 1057.16 1024.58 Q1055.48 1024.58 1053.55 1024.95 Q1051.63 1025.31 1049.32 1026.08 L1049.32 1022.43 Q1051.65 1021.79 1053.67 1021.46 Q1055.72 1021.14 1057.52 1021.14 Q1062.18 1021.14 1064.9 1023.27 Q1067.61 1025.37 1067.61 1028.98 Q1067.61 1031.49 1066.17 1033.23 Q1064.73 1034.95 1062.08 1035.62 Z\" fill=\"#000000\" fill-rule=\"nonzero\" fill-opacity=\"1\" /><path clip-path=\"url(#clip920)\" d=\"M640.766 1322.56 L644.858 1322.56 L644.858 1349.36 L659.583 1349.36 L659.583 1352.8 L640.766 1352.8 L640.766 1322.56 Z\" fill=\"#000000\" fill-rule=\"nonzero\" fill-opacity=\"1\" /><path clip-path=\"url(#clip920)\" d=\"M675.483 1326.13 L665.153 1342.27 L675.483 1342.27 L675.483 1326.13 M674.409 1322.56 L679.554 1322.56 L679.554 1342.27 L683.868 1342.27 L683.868 1345.67 L679.554 1345.67 L679.554 1352.8 L675.483 1352.8 L675.483 1345.67 L661.831 1345.67 L661.831 1341.72 L674.409 1322.56 Z\" fill=\"#000000\" fill-rule=\"nonzero\" fill-opacity=\"1\" /><path clip-path=\"url(#clip920)\" d=\"M1420.54 1255.99 L1446.12 1255.99 L1446.12 1259.43 L1435.38 1259.43 L1435.38 1286.23 L1431.27 1286.23 L1431.27 1259.43 L1420.54 1259.43 L1420.54 1255.99 Z\" fill=\"#000000\" fill-rule=\"nonzero\" fill-opacity=\"1\" /><path clip-path=\"url(#clip920)\" d=\"M1451.14 1282.78 L1457.83 1282.78 L1457.83 1259.71 L1450.56 1261.17 L1450.56 1257.44 L1457.79 1255.99 L1461.88 1255.99 L1461.88 1282.78 L1468.56 1282.78 L1468.56 1286.23 L1451.14 1286.23 L1451.14 1282.78 Z\" fill=\"#000000\" fill-rule=\"nonzero\" fill-opacity=\"1\" /></svg>\n"
      ]
     },
     "execution_count": 5,
     "metadata": {},
     "output_type": "execute_result"
    }
   ],
   "source": [
    "graphplot(network.G, curves=false, names=[props(network.G, v)[:name] for v in 1:nv(network.G)]\n",
    ")"
   ]
  },
  {
   "cell_type": "code",
   "execution_count": 6,
   "id": "315ce2d1-d539-4a1e-ac8d-0767e3148445",
   "metadata": {},
   "outputs": [
    {
     "data": {
      "image/svg+xml": [
       "<?xml version=\"1.0\" encoding=\"utf-8\"?>\n",
       "<svg xmlns=\"http://www.w3.org/2000/svg\" xmlns:xlink=\"http://www.w3.org/1999/xlink\" width=\"600\" height=\"400\" viewBox=\"0 0 2400 1600\">\n",
       "<defs>\n",
       "  <clipPath id=\"clip950\">\n",
       "    <rect x=\"0\" y=\"0\" width=\"2400\" height=\"1600\"/>\n",
       "  </clipPath>\n",
       "</defs>\n",
       "<path clip-path=\"url(#clip950)\" d=\"M0 1600 L2400 1600 L2400 0 L0 0  Z\" fill=\"#ffffff\" fill-rule=\"evenodd\" fill-opacity=\"1\"/>\n",
       "<defs>\n",
       "  <clipPath id=\"clip951\">\n",
       "    <rect x=\"480\" y=\"0\" width=\"1681\" height=\"1600\"/>\n",
       "  </clipPath>\n",
       "</defs>\n",
       "<path clip-path=\"url(#clip950)\" d=\"M447.244 1552.76 L1952.76 1552.76 L1952.76 47.2441 L447.244 47.2441  Z\" fill=\"#ffffff\" fill-rule=\"evenodd\" fill-opacity=\"1\"/>\n",
       "<defs>\n",
       "  <clipPath id=\"clip952\">\n",
       "    <rect x=\"447\" y=\"47\" width=\"1507\" height=\"1507\"/>\n",
       "  </clipPath>\n",
       "</defs>\n",
       "<polyline clip-path=\"url(#clip952)\" style=\"stroke:#000000; stroke-linecap:round; stroke-linejoin:round; stroke-width:4; stroke-opacity:1; fill:none\" points=\"1737.68,483.881 1413.37,750.561 \"/>\n",
       "<polyline clip-path=\"url(#clip952)\" style=\"stroke:#000000; stroke-linecap:round; stroke-linejoin:round; stroke-width:4; stroke-opacity:1; fill:none\" points=\"1452.61,741.599 1413.37,750.561 1429.75,713.793 \"/>\n",
       "<polyline clip-path=\"url(#clip952)\" style=\"stroke:#000000; stroke-linecap:round; stroke-linejoin:round; stroke-width:4; stroke-opacity:1; fill:none\" points=\"1413.37,750.561 1737.68,483.881 \"/>\n",
       "<polyline clip-path=\"url(#clip952)\" style=\"stroke:#000000; stroke-linecap:round; stroke-linejoin:round; stroke-width:4; stroke-opacity:1; fill:none\" points=\"1376.2,767.89 1039.2,541.476 \"/>\n",
       "<polyline clip-path=\"url(#clip952)\" style=\"stroke:#000000; stroke-linecap:round; stroke-linejoin:round; stroke-width:4; stroke-opacity:1; fill:none\" points=\"1059.04,576.494 1039.2,541.476 1079.12,546.612 \"/>\n",
       "<polyline clip-path=\"url(#clip952)\" style=\"stroke:#000000; stroke-linecap:round; stroke-linejoin:round; stroke-width:4; stroke-opacity:1; fill:none\" points=\"1039.2,541.476 1376.2,767.89 \"/>\n",
       "<polyline clip-path=\"url(#clip952)\" style=\"stroke:#000000; stroke-linecap:round; stroke-linejoin:round; stroke-width:4; stroke-opacity:1; fill:none\" points=\"1376.2,767.89 1407.26,1296.82 \"/>\n",
       "<polyline clip-path=\"url(#clip952)\" style=\"stroke:#000000; stroke-linecap:round; stroke-linejoin:round; stroke-width:4; stroke-opacity:1; fill:none\" points=\"1423.12,1259.83 1407.26,1296.82 1387.18,1261.94 \"/>\n",
       "<polyline clip-path=\"url(#clip952)\" style=\"stroke:#000000; stroke-linecap:round; stroke-linejoin:round; stroke-width:4; stroke-opacity:1; fill:none\" points=\"1407.26,1296.82 1376.2,767.89 \"/>\n",
       "<polyline clip-path=\"url(#clip952)\" style=\"stroke:#000000; stroke-linecap:round; stroke-linejoin:round; stroke-width:4; stroke-opacity:1; fill:none\" points=\"1010.78,508.985 690.497,295.232 \"/>\n",
       "<polyline clip-path=\"url(#clip952)\" style=\"stroke:#000000; stroke-linecap:round; stroke-linejoin:round; stroke-width:4; stroke-opacity:1; fill:none\" points=\"710.448,330.188 690.497,295.232 730.432,300.244 \"/>\n",
       "<polyline clip-path=\"url(#clip952)\" style=\"stroke:#000000; stroke-linecap:round; stroke-linejoin:round; stroke-width:4; stroke-opacity:1; fill:none\" points=\"690.497,295.232 1010.78,508.985 \"/>\n",
       "<path clip-path=\"url(#clip952)\" d=\"M1784.87 483.881 L1761.27 443.019 L1714.09 443.019 L1690.5 483.881 L1714.09 524.742 L1761.27 524.742 L1784.87 483.881 L1784.87 483.881  Z\" fill=\"#009af9\" fill-rule=\"evenodd\" fill-opacity=\"1\"/>\n",
       "<polyline clip-path=\"url(#clip952)\" style=\"stroke:#000000; stroke-linecap:round; stroke-linejoin:round; stroke-width:4; stroke-opacity:1; fill:none\" points=\"1784.87,483.881 1761.27,443.019 1714.09,443.019 1690.5,483.881 1714.09,524.742 1761.27,524.742 1784.87,483.881 \"/>\n",
       "<path clip-path=\"url(#clip952)\" d=\"M1423.38 767.89 L1399.79 727.028 L1352.61 727.028 L1329.01 767.89 L1352.61 808.751 L1399.79 808.751 L1423.38 767.89 L1423.38 767.89  Z\" fill=\"#009af9\" fill-rule=\"evenodd\" fill-opacity=\"1\"/>\n",
       "<polyline clip-path=\"url(#clip952)\" style=\"stroke:#000000; stroke-linecap:round; stroke-linejoin:round; stroke-width:4; stroke-opacity:1; fill:none\" points=\"1423.38,767.89 1399.79,727.028 1352.61,727.028 1329.01,767.89 1352.61,808.751 1399.79,808.751 1423.38,767.89 \"/>\n",
       "<path clip-path=\"url(#clip952)\" d=\"M1057.96 508.985 L1034.37 468.124 L987.184 468.124 L963.593 508.985 L987.184 549.846 L1034.37 549.846 L1057.96 508.985 L1057.96 508.985  Z\" fill=\"#009af9\" fill-rule=\"evenodd\" fill-opacity=\"1\"/>\n",
       "<polyline clip-path=\"url(#clip952)\" style=\"stroke:#000000; stroke-linecap:round; stroke-linejoin:round; stroke-width:4; stroke-opacity:1; fill:none\" points=\"1057.96,508.985 1034.37,468.124 987.184,468.124 963.593,508.985 987.184,549.846 1034.37,549.846 1057.96,508.985 \"/>\n",
       "<path clip-path=\"url(#clip952)\" d=\"M709.5 262.317 L685.908 221.456 L638.726 221.456 L615.135 262.317 L638.726 303.178 L685.908 303.178 L709.5 262.317 L709.5 262.317  Z\" fill=\"#009af9\" fill-rule=\"evenodd\" fill-opacity=\"1\"/>\n",
       "<polyline clip-path=\"url(#clip952)\" style=\"stroke:#000000; stroke-linecap:round; stroke-linejoin:round; stroke-width:4; stroke-opacity:1; fill:none\" points=\"709.5,262.317 685.908,221.456 638.726,221.456 615.135,262.317 638.726,303.178 685.908,303.178 709.5,262.317 \"/>\n",
       "<path clip-path=\"url(#clip952)\" d=\"M1465.29 1337.68 L1441.7 1296.82 L1394.52 1296.82 L1370.92 1337.68 L1394.52 1378.54 L1441.7 1378.54 L1465.29 1337.68 L1465.29 1337.68  Z\" fill=\"#009af9\" fill-rule=\"evenodd\" fill-opacity=\"1\"/>\n",
       "<polyline clip-path=\"url(#clip952)\" style=\"stroke:#000000; stroke-linecap:round; stroke-linejoin:round; stroke-width:4; stroke-opacity:1; fill:none\" points=\"1465.29,1337.68 1441.7,1296.82 1394.52,1296.82 1370.92,1337.68 1394.52,1378.54 1441.7,1378.54 1465.29,1337.68 \"/>\n",
       "<path clip-path=\"url(#clip952)\" d=\"M1737.68 484.281 L1737.34 484.081 L1737.34 483.681 L1737.68 483.481 L1738.03 483.681 L1738.03 484.081 Z\" fill=\"#009af9\" fill-rule=\"evenodd\" fill-opacity=\"1\" stroke=\"#000000\" stroke-opacity=\"1\" stroke-width=\"3.2\"/>\n",
       "<path clip-path=\"url(#clip952)\" d=\"M1376.2 768.29 L1375.85 768.09 L1375.85 767.69 L1376.2 767.49 L1376.54 767.69 L1376.54 768.09 Z\" fill=\"#009af9\" fill-rule=\"evenodd\" fill-opacity=\"1\" stroke=\"#000000\" stroke-opacity=\"1\" stroke-width=\"3.2\"/>\n",
       "<path clip-path=\"url(#clip952)\" d=\"M1010.78 509.385 L1010.43 509.185 L1010.43 508.785 L1010.78 508.585 L1011.12 508.785 L1011.12 509.185 Z\" fill=\"#009af9\" fill-rule=\"evenodd\" fill-opacity=\"1\" stroke=\"#000000\" stroke-opacity=\"1\" stroke-width=\"3.2\"/>\n",
       "<path clip-path=\"url(#clip952)\" d=\"M662.317 262.717 L661.971 262.517 L661.971 262.117 L662.317 261.917 L662.664 262.117 L662.664 262.517 Z\" fill=\"#009af9\" fill-rule=\"evenodd\" fill-opacity=\"1\" stroke=\"#000000\" stroke-opacity=\"1\" stroke-width=\"3.2\"/>\n",
       "<path clip-path=\"url(#clip952)\" d=\"M1418.11 1338.08 L1417.76 1337.88 L1417.76 1337.48 L1418.11 1337.28 L1418.45 1337.48 L1418.45 1337.88 Z\" fill=\"#009af9\" fill-rule=\"evenodd\" fill-opacity=\"1\" stroke=\"#000000\" stroke-opacity=\"1\" stroke-width=\"3.2\"/>\n",
       "<path clip-path=\"url(#clip950)\" d=\"M1713.67 468.761 L1739.25 468.761 L1739.25 472.204 L1728.52 472.204 L1728.52 499.001 L1724.41 499.001 L1724.41 472.204 L1713.67 472.204 L1713.67 468.761 Z\" fill=\"#000000\" fill-rule=\"nonzero\" fill-opacity=\"1\" /><path clip-path=\"url(#clip950)\" d=\"M1744.28 495.557 L1750.96 495.557 L1750.96 472.487 L1743.69 473.946 L1743.69 470.219 L1750.92 468.761 L1755.01 468.761 L1755.01 495.557 L1761.69 495.557 L1761.69 499.001 L1744.28 499.001 L1744.28 495.557 Z\" fill=\"#000000\" fill-rule=\"nonzero\" fill-opacity=\"1\" /><path clip-path=\"url(#clip950)\" d=\"M1355.4 752.77 L1359.49 752.77 L1359.49 779.566 L1374.21 779.566 L1374.21 783.01 L1355.4 783.01 L1355.4 752.77 Z\" fill=\"#000000\" fill-rule=\"nonzero\" fill-opacity=\"1\" /><path clip-path=\"url(#clip950)\" d=\"M1379.58 779.566 L1386.26 779.566 L1386.26 756.496 L1378.99 757.955 L1378.99 754.228 L1386.22 752.77 L1390.31 752.77 L1390.31 779.566 L1397 779.566 L1397 783.01 L1379.58 783.01 L1379.58 779.566 Z\" fill=\"#000000\" fill-rule=\"nonzero\" fill-opacity=\"1\" /><path clip-path=\"url(#clip950)\" d=\"M989.721 493.865 L993.812 493.865 L993.812 520.662 L1008.54 520.662 L1008.54 524.105 L989.721 524.105 L989.721 493.865 Z\" fill=\"#000000\" fill-rule=\"nonzero\" fill-opacity=\"1\" /><path clip-path=\"url(#clip950)\" d=\"M1025.59 507.8 Q1028.53 508.428 1030.17 510.413 Q1031.83 512.398 1031.83 515.315 Q1031.83 519.791 1028.75 522.242 Q1025.67 524.692 1020 524.692 Q1018.1 524.692 1016.07 524.308 Q1014.07 523.943 1011.92 523.194 L1011.92 519.244 Q1013.62 520.236 1015.65 520.743 Q1017.67 521.249 1019.88 521.249 Q1023.73 521.249 1025.73 519.73 Q1027.76 518.211 1027.76 515.315 Q1027.76 512.641 1025.88 511.142 Q1024.01 509.623 1020.67 509.623 L1017.15 509.623 L1017.15 506.261 L1020.83 506.261 Q1023.85 506.261 1025.45 505.066 Q1027.05 503.85 1027.05 501.582 Q1027.05 499.253 1025.39 498.017 Q1023.75 496.761 1020.67 496.761 Q1018.99 496.761 1017.06 497.126 Q1015.14 497.491 1012.83 498.26 L1012.83 494.614 Q1015.16 493.966 1017.19 493.642 Q1019.23 493.318 1021.03 493.318 Q1025.69 493.318 1028.41 495.445 Q1031.12 497.551 1031.12 501.157 Q1031.12 503.668 1029.68 505.41 Q1028.25 507.132 1025.59 507.8 Z\" fill=\"#000000\" fill-rule=\"nonzero\" fill-opacity=\"1\" /><path clip-path=\"url(#clip950)\" d=\"M640.766 247.197 L644.858 247.197 L644.858 273.994 L659.583 273.994 L659.583 277.437 L640.766 277.437 L640.766 247.197 Z\" fill=\"#000000\" fill-rule=\"nonzero\" fill-opacity=\"1\" /><path clip-path=\"url(#clip950)\" d=\"M675.483 250.762 L665.153 266.905 L675.483 266.905 L675.483 250.762 M674.409 247.197 L679.554 247.197 L679.554 266.905 L683.868 266.905 L683.868 270.308 L679.554 270.308 L679.554 277.437 L675.483 277.437 L675.483 270.308 L661.831 270.308 L661.831 266.358 L674.409 247.197 Z\" fill=\"#000000\" fill-rule=\"nonzero\" fill-opacity=\"1\" /><path clip-path=\"url(#clip950)\" d=\"M1397.47 1322.56 L1401.56 1322.56 L1401.56 1349.36 L1416.28 1349.36 L1416.28 1352.8 L1397.47 1352.8 L1397.47 1322.56 Z\" fill=\"#000000\" fill-rule=\"nonzero\" fill-opacity=\"1\" /><path clip-path=\"url(#clip950)\" d=\"M1424.47 1349.36 L1438.75 1349.36 L1438.75 1352.8 L1419.54 1352.8 L1419.54 1349.36 Q1421.87 1346.95 1425.88 1342.9 Q1429.91 1338.83 1430.95 1337.65 Q1432.91 1335.44 1433.68 1333.93 Q1434.47 1332.39 1434.47 1330.91 Q1434.47 1328.5 1432.77 1326.98 Q1431.09 1325.46 1428.38 1325.46 Q1426.45 1325.46 1424.3 1326.13 Q1422.18 1326.8 1419.75 1328.15 L1419.75 1324.02 Q1422.22 1323.03 1424.37 1322.52 Q1426.51 1322.02 1428.29 1322.02 Q1432.99 1322.02 1435.79 1324.37 Q1438.58 1326.71 1438.58 1330.64 Q1438.58 1332.51 1437.87 1334.19 Q1437.19 1335.85 1435.34 1338.12 Q1434.84 1338.71 1432.12 1341.52 Q1429.41 1344.32 1424.47 1349.36 Z\" fill=\"#000000\" fill-rule=\"nonzero\" fill-opacity=\"1\" /></svg>\n"
      ]
     },
     "execution_count": 6,
     "metadata": {},
     "output_type": "execute_result"
    }
   ],
   "source": [
    "graphplot(network.radial, curves=false, names=[props(network.radial, v)[:name] for v in 1:nv(network.radial)]\n",
    ")"
   ]
  },
  {
   "cell_type": "code",
   "execution_count": 7,
   "id": "86889a31-06c4-470e-b4cb-a8793955885e",
   "metadata": {},
   "outputs": [
    {
     "data": {
      "text/html": [
       "<div><div style = \"float: left;\"><span>1×8 DataFrame</span></div><div style = \"clear: both;\"></div></div><div class = \"data-frame\" style = \"overflow-x: scroll;\"><table class = \"data-frame\" style = \"margin-bottom: 6px;\"><thead><tr class = \"header\"><th class = \"rowNumber\" style = \"font-weight: bold; text-align: right;\">Row</th><th style = \"text-align: left;\">ID</th><th style = \"text-align: left;\">f_bus</th><th style = \"text-align: left;\">t_bus</th><th style = \"text-align: left;\">repairTime</th><th style = \"text-align: left;\">permanentFaultFrequency</th><th style = \"text-align: left;\">temporaryFaultFrequency</th><th style = \"text-align: left;\">sectioningTime</th><th style = \"text-align: left;\">temporaryFaultTime</th></tr><tr class = \"subheader headerLastRow\"><th class = \"rowNumber\" style = \"font-weight: bold; text-align: right;\"></th><th title = \"String\" style = \"text-align: left;\">String</th><th title = \"String\" style = \"text-align: left;\">String</th><th title = \"String\" style = \"text-align: left;\">String</th><th title = \"Int64\" style = \"text-align: left;\">Int64</th><th title = \"Float64\" style = \"text-align: left;\">Float64</th><th title = \"Float64\" style = \"text-align: left;\">Float64</th><th title = \"Float64\" style = \"text-align: left;\">Float64</th><th title = \"Float64\" style = \"text-align: left;\">Float64</th></tr></thead><tbody><tr><td class = \"rowNumber\" style = \"font-weight: bold; text-align: right;\">1</td><td style = \"text-align: left;\">K1</td><td style = \"text-align: left;\">T1</td><td style = \"text-align: left;\">L1</td><td style = \"text-align: right;\">4</td><td style = \"text-align: right;\">0.1</td><td style = \"text-align: right;\">0.1</td><td style = \"text-align: right;\">0.05</td><td style = \"text-align: right;\">0.017</td></tr></tbody></table></div>"
      ],
      "text/latex": [
       "\\begin{tabular}{r|ccccccc}\n",
       "\t& ID & f\\_bus & t\\_bus & repairTime & permanentFaultFrequency & temporaryFaultFrequency & \\\\\n",
       "\t\\hline\n",
       "\t& String & String & String & Int64 & Float64 & Float64 & \\\\\n",
       "\t\\hline\n",
       "\t1 & K1 & T1 & L1 & 4 & 0.1 & 0.1 & $\\dots$ \\\\\n",
       "\\end{tabular}\n"
      ],
      "text/plain": [
       "\u001b[1m1×8 DataFrame\u001b[0m\n",
       "\u001b[1m Row \u001b[0m│\u001b[1m ID     \u001b[0m\u001b[1m f_bus  \u001b[0m\u001b[1m t_bus  \u001b[0m\u001b[1m repairTime \u001b[0m\u001b[1m permanentFaultFrequency \u001b[0m\u001b[1m temporaryF\u001b[0m ⋯\n",
       "     │\u001b[90m String \u001b[0m\u001b[90m String \u001b[0m\u001b[90m String \u001b[0m\u001b[90m Int64      \u001b[0m\u001b[90m Float64                 \u001b[0m\u001b[90m Float64   \u001b[0m ⋯\n",
       "─────┼──────────────────────────────────────────────────────────────────────────\n",
       "   1 │ K1      T1      L1               4                      0.1             ⋯\n",
       "\u001b[36m                                                               3 columns omitted\u001b[0m"
      ]
     },
     "execution_count": 7,
     "metadata": {},
     "output_type": "execute_result"
    }
   ],
   "source": [
    "rel_data = get_branch_data(network, :reldata, \"T1\", \"L1\")"
   ]
  },
  {
   "cell_type": "code",
   "execution_count": 8,
   "id": "80c20fec-3b58-4584-b691-facce0a33746",
   "metadata": {},
   "outputs": [
    {
     "data": {
      "text/plain": [
       "0.017"
      ]
     },
     "execution_count": 8,
     "metadata": {},
     "output_type": "execute_result"
    }
   ],
   "source": [
    "rel_data.temporaryFaultTime[1]"
   ]
  },
  {
   "cell_type": "code",
   "execution_count": 19,
   "id": "03450640-6069-4618-9787-8287b3b13f9d",
   "metadata": {},
   "outputs": [
    {
     "name": "stderr",
     "output_type": "stream",
     "text": [
      "\u001b[36m\u001b[1m[ \u001b[22m\u001b[39m\u001b[36m\u001b[1mInfo: \u001b[22m\u001b[39mProcessing line RelDist.Branch{String}(\"T1\", \"L1\")\n",
      "\u001b[36m\u001b[1m[ \u001b[22m\u001b[39m\u001b[36m\u001b[1mInfo: \u001b[22m\u001b[39mProcessing line RelDist.Branch{String}(\"L1\", \"L2\")\n",
      "\u001b[36m\u001b[1m[ \u001b[22m\u001b[39m\u001b[36m\u001b[1mInfo: \u001b[22m\u001b[39mProcessing line RelDist.Branch{String}(\"L1\", \"L3\")\n",
      "\u001b[36m\u001b[1m[ \u001b[22m\u001b[39m\u001b[36m\u001b[1mInfo: \u001b[22m\u001b[39mProcessing line RelDist.Branch{String}(\"L3\", \"L4\")\n"
     ]
    },
    {
     "data": {
      "text/plain": [
       "(RelStruct([0.05 0.02 … 0.0 0.0; 0.05 0.02 … 0.0 0.0; 0.05 0.02 … 0.0 0.0; 0.05 0.02 … 0.0 0.0], [0.005000000000000001 0.001 … 0.0 0.0; 0.005000000000000001 0.001 … 0.0 0.0; 0.005000000000000001 0.001 … 0.0 0.0; 0.005000000000000001 0.001 … 0.0 0.0], [0.025000000000000005 0.005 … 0.0 0.0; 0.020000000000000004 0.004 … 0.0 0.0; 0.015000000000000003 0.003 … 0.0 0.0; 0.010000000000000002 0.002 … 0.0 0.0], [0.025 0.005 … 0.0 0.0; 0.020000000000000004 0.004 … 0.0 0.0; 0.015000000000000003 0.0030000000000000005 … 0.0 0.0; 0.010000000000000002 0.002 … 0.0 0.0]), RelStruct([0.017 0.017 … 0.0 0.0; 0.017 0.017 … 0.0 0.0; 0.017 0.017 … 0.0 0.0; 0.017 0.017 … 0.0 0.0], [0.0017000000000000001 0.0008500000000000001 … 0.0 0.0; 0.0017000000000000001 0.0008500000000000001 … 0.0 0.0; 0.0017000000000000001 0.0008500000000000001 … 0.0 0.0; 0.0017000000000000001 0.0008500000000000001 … 0.0 0.0], [0.0085 0.00425 … 0.0 0.0; 0.0068000000000000005 0.0034000000000000002 … 0.0 0.0; 0.0051 0.00255 … 0.0 0.0; 0.0034000000000000002 0.0017000000000000001 … 0.0 0.0], [0.0085 0.00425 … 0.0 0.0; 0.0068000000000000005 0.0034000000000000002 … 0.0 0.0; 0.005100000000000001 0.0025500000000000006 … 0.0 0.0; 0.0034000000000000002 0.0017000000000000001 … 0.0 0.0]), RelDist.Load[RelDist.Load(\"LL1\", \"L1\", 5), RelDist.Load(\"LL2\", \"L2\", 4), RelDist.Load(\"LL3\", \"L3\", 3), RelDist.Load(\"LL4\", \"L4\", 2)], \u001b[1m6×4 DataFrame\u001b[0m\n",
       "\u001b[1m Row \u001b[0m│\u001b[1m index \u001b[0m\u001b[1m f_bus  \u001b[0m\u001b[1m t_bus  \u001b[0m\u001b[1m name   \u001b[0m\n",
       "     │\u001b[90m Int64 \u001b[0m\u001b[90m String \u001b[0m\u001b[90m String \u001b[0m\u001b[90m String \u001b[0m\n",
       "─────┼───────────────────────────────\n",
       "   1 │     1  T1      L1      K1\n",
       "   2 │     2  L1      L2      K2\n",
       "   3 │     3  L1      L3      K3\n",
       "   4 │     4  L3      L4      K4\n",
       "   5 │     5  L2      T1      K5\n",
       "   6 │     6  L3      T1      K6)"
      ]
     },
     "execution_count": 19,
     "metadata": {},
     "output_type": "execute_result"
    }
   ],
   "source": [
    "res, rest, L, edge_pos = relrad_calc(interruption, cost_functions, network)"
   ]
  },
  {
   "cell_type": "code",
   "execution_count": 10,
   "id": "278ac978-6348-4959-9ded-5fd10a3ef045",
   "metadata": {},
   "outputs": [
    {
     "data": {
      "text/plain": [
       "4×6 Matrix{Float64}:\n",
       " 0.0085  0.00425  0.01275  0.0085  0.0  0.0\n",
       " 0.0068  0.0034   0.0102   0.0068  0.0  0.0\n",
       " 0.0051  0.00255  0.00765  0.0051  0.0  0.0\n",
       " 0.0034  0.0017   0.0051   0.0034  0.0  0.0"
      ]
     },
     "execution_count": 10,
     "metadata": {},
     "output_type": "execute_result"
    }
   ],
   "source": [
    "rest.ENS"
   ]
  },
  {
   "cell_type": "code",
   "execution_count": 20,
   "id": "377f6df3-9b87-493e-bfd7-12fb73ede5bf",
   "metadata": {},
   "outputs": [
    {
     "data": {
      "text/plain": [
       "4×6 Matrix{Float64}:\n",
       " 0.025  0.005  0.06225  0.0415  0.0  0.0\n",
       " 0.02   0.004  0.0498   0.0332  0.0  0.0\n",
       " 0.015  0.003  0.03735  0.0249  0.0  0.0\n",
       " 0.01   0.002  0.0249   0.8     0.0  0.0"
      ]
     },
     "execution_count": 20,
     "metadata": {},
     "output_type": "execute_result"
    }
   ],
   "source": [
    "res.ENS"
   ]
  },
  {
   "cell_type": "code",
   "execution_count": 21,
   "id": "7af61368-34f3-460d-b44a-1ecf85770c1a",
   "metadata": {},
   "outputs": [
    {
     "data": {
      "text/plain": [
       "4×6 Matrix{Float64}:\n",
       " 0.005  0.001  0.01245  0.0083  0.0  0.0\n",
       " 0.005  0.001  0.01245  0.0083  0.0  0.0\n",
       " 0.005  0.001  0.01245  0.0083  0.0  0.0\n",
       " 0.005  0.001  0.01245  0.4     0.0  0.0"
      ]
     },
     "execution_count": 21,
     "metadata": {},
     "output_type": "execute_result"
    }
   ],
   "source": [
    "res.U"
   ]
  },
  {
   "cell_type": "code",
   "execution_count": 12,
   "id": "b9160e46-5eea-4447-9f76-974c1df13b45",
   "metadata": {},
   "outputs": [
    {
     "data": {
      "text/plain": [
       "4×1 Matrix{Float64}:\n",
       " 0.034\n",
       " 0.027200000000000002\n",
       " 0.0204\n",
       " 0.013600000000000001"
      ]
     },
     "execution_count": 12,
     "metadata": {},
     "output_type": "execute_result"
    }
   ],
   "source": [
    "sum(rest.ENS; dims=2)"
   ]
  },
  {
   "cell_type": "code",
   "execution_count": 22,
   "id": "4036f343-4c33-4f6e-9d70-28e13c5679e0",
   "metadata": {},
   "outputs": [
    {
     "data": {
      "text/plain": [
       "4×1 Matrix{Float64}:\n",
       " 0.13375\n",
       " 0.10700000000000001\n",
       " 0.08025\n",
       " 0.8369000000000001"
      ]
     },
     "execution_count": 22,
     "metadata": {},
     "output_type": "execute_result"
    }
   ],
   "source": [
    "sum(res.ENS; dims=2)"
   ]
  },
  {
   "cell_type": "code",
   "execution_count": 14,
   "id": "e79478a0-f573-4739-8247-0731e9955a4a",
   "metadata": {},
   "outputs": [
    {
     "data": {
      "text/html": [
       "<div><div style = \"float: left;\"><span>4×4 DataFrame</span></div><div style = \"clear: both;\"></div></div><div class = \"data-frame\" style = \"overflow-x: scroll;\"><table class = \"data-frame\" style = \"margin-bottom: 6px;\"><thead><tr class = \"header\"><th class = \"rowNumber\" style = \"font-weight: bold; text-align: right;\">Row</th><th style = \"text-align: left;\">ID</th><th style = \"text-align: left;\">bus</th><th style = \"text-align: left;\">P</th><th style = \"text-align: left;\">ref_demand</th></tr><tr class = \"subheader headerLastRow\"><th class = \"rowNumber\" style = \"font-weight: bold; text-align: right;\"></th><th title = \"String\" style = \"text-align: left;\">String</th><th title = \"String\" style = \"text-align: left;\">String</th><th title = \"Int64\" style = \"text-align: left;\">Int64</th><th title = \"Int64\" style = \"text-align: left;\">Int64</th></tr></thead><tbody><tr><td class = \"rowNumber\" style = \"font-weight: bold; text-align: right;\">1</td><td style = \"text-align: left;\">LL1</td><td style = \"text-align: left;\">L1</td><td style = \"text-align: right;\">5</td><td style = \"text-align: right;\">5</td></tr><tr><td class = \"rowNumber\" style = \"font-weight: bold; text-align: right;\">2</td><td style = \"text-align: left;\">LL2</td><td style = \"text-align: left;\">L2</td><td style = \"text-align: right;\">4</td><td style = \"text-align: right;\">4</td></tr><tr><td class = \"rowNumber\" style = \"font-weight: bold; text-align: right;\">3</td><td style = \"text-align: left;\">LL3</td><td style = \"text-align: left;\">L3</td><td style = \"text-align: right;\">3</td><td style = \"text-align: right;\">3</td></tr><tr><td class = \"rowNumber\" style = \"font-weight: bold; text-align: right;\">4</td><td style = \"text-align: left;\">LL4</td><td style = \"text-align: left;\">L4</td><td style = \"text-align: right;\">2</td><td style = \"text-align: right;\">2</td></tr></tbody></table></div>"
      ],
      "text/latex": [
       "\\begin{tabular}{r|cccc}\n",
       "\t& ID & bus & P & ref\\_demand\\\\\n",
       "\t\\hline\n",
       "\t& String & String & Int64 & Int64\\\\\n",
       "\t\\hline\n",
       "\t1 & LL1 & L1 & 5 & 5 \\\\\n",
       "\t2 & LL2 & L2 & 4 & 4 \\\\\n",
       "\t3 & LL3 & L3 & 3 & 3 \\\\\n",
       "\t4 & LL4 & L4 & 2 & 2 \\\\\n",
       "\\end{tabular}\n"
      ],
      "text/plain": [
       "\u001b[1m4×4 DataFrame\u001b[0m\n",
       "\u001b[1m Row \u001b[0m│\u001b[1m ID     \u001b[0m\u001b[1m bus    \u001b[0m\u001b[1m P     \u001b[0m\u001b[1m ref_demand \u001b[0m\n",
       "     │\u001b[90m String \u001b[0m\u001b[90m String \u001b[0m\u001b[90m Int64 \u001b[0m\u001b[90m Int64      \u001b[0m\n",
       "─────┼───────────────────────────────────\n",
       "   1 │ LL1     L1          5           5\n",
       "   2 │ LL2     L2          4           4\n",
       "   3 │ LL3     L3          3           3\n",
       "   4 │ LL4     L4          2           2"
      ]
     },
     "execution_count": 14,
     "metadata": {},
     "output_type": "execute_result"
    }
   ],
   "source": [
    "case.load"
   ]
  },
  {
   "cell_type": "code",
   "execution_count": null,
   "id": "cdf103a3-eb86-42b0-ba7b-789a428e1c0e",
   "metadata": {},
   "outputs": [],
   "source": []
  }
 ],
 "metadata": {
  "jupytext": {
   "formats": "ipynb,Rmd"
  },
  "kernelspec": {
   "display_name": "Julia 1.8.5",
   "language": "julia",
   "name": "julia-1.8"
  },
  "language_info": {
   "file_extension": ".jl",
   "mimetype": "application/julia",
   "name": "julia",
   "version": "1.8.5"
  }
 },
 "nbformat": 4,
 "nbformat_minor": 5
}
