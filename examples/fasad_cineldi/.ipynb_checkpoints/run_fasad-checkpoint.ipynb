{
 "cells": [
  {
   "cell_type": "code",
   "execution_count": 1,
   "id": "d1f98357-d21c-471e-a41b-5a1475fe6729",
   "metadata": {},
   "outputs": [],
   "source": [
    "using RelDist\n",
    "using SintPowerGraphs\n",
    "using SintPowerCase\n",
    "using DataFrames\n",
    "using MetaGraphs\n",
    "using Graphs\n",
    "\n",
    "using Plots\n",
    "using GraphRecipes"
   ]
  },
  {
   "cell_type": "code",
   "execution_count": 2,
   "id": "22d1c846-02ff-4c9a-9b13-38d86e1f4ade",
   "metadata": {},
   "outputs": [
    {
     "data": {
      "text/plain": [
       "Dict{String, RelDist.PieceWiseCost} with 1 entry:\n",
       "  \"agriculture\" => PieceWiseCost(RelDist.Piece[Piece(Bound(0.0, 0.017), 0.0, 1.…"
      ]
     },
     "execution_count": 2,
     "metadata": {},
     "output_type": "execute_result"
    }
   ],
   "source": [
    "network_filename = joinpath(@__DIR__, \"excel_test.toml\")\n",
    "interruption_filename = joinpath(@__DIR__, \"../../databases/interruption_FASIT2.json\")\n",
    "cost_filename = joinpath(@__DIR__, \"../../databases/cost_functions_dummy.json\")\n",
    "\n",
    "interruption = read_interruption(interruption_filename)\n",
    "cost_functions = read_cost_functions(cost_filename)"
   ]
  },
  {
   "cell_type": "code",
   "execution_count": 3,
   "id": "11d3df1f-1bc3-4221-8ebb-4a15ee4eb06d",
   "metadata": {},
   "outputs": [
    {
     "name": "stderr",
     "output_type": "stream",
     "text": [
      "\u001b[33m\u001b[1m┌ \u001b[22m\u001b[39m\u001b[33m\u001b[1mWarning: \u001b[22m\u001b[39mthread = 1 warning: only found 8 / 9 columns around data row: 1. Filling remaining columns with `missing`\n",
      "\u001b[33m\u001b[1m└ \u001b[22m\u001b[39m\u001b[90m@ CSV ~/.julia/packages/CSV/b8ebJ/src/file.jl:576\u001b[39m\n",
      "\u001b[33m\u001b[1m┌ \u001b[22m\u001b[39m\u001b[33m\u001b[1mWarning: \u001b[22m\u001b[39mthread = 1 warning: only found 8 / 9 columns around data row: 2. Filling remaining columns with `missing`\n",
      "\u001b[33m\u001b[1m└ \u001b[22m\u001b[39m\u001b[90m@ CSV ~/.julia/packages/CSV/b8ebJ/src/file.jl:576\u001b[39m\n",
      "\u001b[33m\u001b[1m┌ \u001b[22m\u001b[39m\u001b[33m\u001b[1mWarning: \u001b[22m\u001b[39mthread = 1 warning: only found 8 / 9 columns around data row: 3. Filling remaining columns with `missing`\n",
      "\u001b[33m\u001b[1m└ \u001b[22m\u001b[39m\u001b[90m@ CSV ~/.julia/packages/CSV/b8ebJ/src/file.jl:576\u001b[39m\n",
      "\u001b[33m\u001b[1m┌ \u001b[22m\u001b[39m\u001b[33m\u001b[1mWarning: \u001b[22m\u001b[39mthread = 1 warning: only found 8 / 9 columns around data row: 4. Filling remaining columns with `missing`\n",
      "\u001b[33m\u001b[1m└ \u001b[22m\u001b[39m\u001b[90m@ CSV ~/.julia/packages/CSV/b8ebJ/src/file.jl:576\u001b[39m\n",
      "\u001b[33m\u001b[1m┌ \u001b[22m\u001b[39m\u001b[33m\u001b[1mWarning: \u001b[22m\u001b[39mthread = 1 warning: only found 8 / 9 columns around data row: 5. Filling remaining columns with `missing`\n",
      "\u001b[33m\u001b[1m└ \u001b[22m\u001b[39m\u001b[90m@ CSV ~/.julia/packages/CSV/b8ebJ/src/file.jl:576\u001b[39m\n"
     ]
    },
    {
     "data": {
      "text/plain": [
       "RadialPowerGraph({6, 6} directed Int64 metagraph with Float64 weights defined by :weight (default weight 1.0), Case(100.0, \u001b[1m5×13 DataFrame\u001b[0m\n",
       "\u001b[1m Row \u001b[0m│\u001b[1m ID     \u001b[0m\u001b[1m type  \u001b[0m\u001b[1m Pd      \u001b[0m\u001b[1m Qd      \u001b[0m\u001b[1m Gs      \u001b[0m\u001b[1m Bs      \u001b[0m\u001b[1m area_num \u001b[0m\u001b[1m Vm      \u001b[0m\u001b[1m V\u001b[0m ⋯\n",
       "     │\u001b[90m String \u001b[0m\u001b[90m Int64 \u001b[0m\u001b[90m Float64 \u001b[0m\u001b[90m Float64 \u001b[0m\u001b[90m Float64 \u001b[0m\u001b[90m Float64 \u001b[0m\u001b[90m Int64    \u001b[0m\u001b[90m Float64 \u001b[0m\u001b[90m F\u001b[0m ⋯\n",
       "─────┼──────────────────────────────────────────────────────────────────────────\n",
       "   1 │ L1          1      5.0      0.0      0.0      0.0         1      1.0    ⋯\n",
       "   2 │ L2          1      4.0      0.0      0.0      0.0         1      1.0\n",
       "   3 │ L3          1      3.0      0.0      0.0      0.0         1      1.0\n",
       "   4 │ L4          1      2.0      0.0      0.0      0.0         1      1.0\n",
       "   5 │ T1          3      0.0      0.0      0.0      0.0         1      1.0    ⋯\n",
       "\u001b[36m                                                               5 columns omitted\u001b[0m, \u001b[1m6×11 DataFrame\u001b[0m\n",
       "\u001b[1m Row \u001b[0m│\u001b[1m ID     \u001b[0m\u001b[1m f_bus  \u001b[0m\u001b[1m t_bus  \u001b[0m\u001b[1m r     \u001b[0m\u001b[1m x     \u001b[0m\u001b[1m b     \u001b[0m\u001b[1m rateA \u001b[0m\u001b[1m rateB \u001b[0m\u001b[1m rateC \u001b[0m\u001b[1m ratio\u001b[0m ⋯\n",
       "     │\u001b[90m String \u001b[0m\u001b[90m String \u001b[0m\u001b[90m String \u001b[0m\u001b[90m Int64 \u001b[0m\u001b[90m Int64 \u001b[0m\u001b[90m Int64 \u001b[0m\u001b[90m Int64 \u001b[0m\u001b[90m Int64 \u001b[0m\u001b[90m Int64 \u001b[0m\u001b[90m Int64\u001b[0m ⋯\n",
       "─────┼──────────────────────────────────────────────────────────────────────────\n",
       "   1 │ K1      T1      L1          0      0      0      0      0      0      0 ⋯\n",
       "   2 │ K2      L1      L2          0      0      0      0      0      0      0\n",
       "   3 │ K3      L1      L3          0      0      0      0      0      0      0\n",
       "   4 │ K4      L3      L4          0      0      0      0      0      0      0\n",
       "   5 │ K5      L2      T2          0      0      0      0      0      0      0 ⋯\n",
       "   6 │ K6      L3      T2          0      0      0      0      0      0      0\n",
       "\u001b[36m                                                                1 column omitted\u001b[0m, \u001b[1m1×11 DataFrame\u001b[0m\n",
       "\u001b[1m Row \u001b[0m│\u001b[1m ID     \u001b[0m\u001b[1m bus    \u001b[0m\u001b[1m Pg    \u001b[0m\u001b[1m Qg    \u001b[0m\u001b[1m Qmax    \u001b[0m\u001b[1m Qmin    \u001b[0m\u001b[1m Vg      \u001b[0m\u001b[1m mBase   \u001b[0m\u001b[1m statu\u001b[0m ⋯\n",
       "     │\u001b[90m String \u001b[0m\u001b[90m String \u001b[0m\u001b[90m Int64 \u001b[0m\u001b[90m Int64 \u001b[0m\u001b[90m Float64 \u001b[0m\u001b[90m Float64 \u001b[0m\u001b[90m Float64 \u001b[0m\u001b[90m Float64 \u001b[0m\u001b[90m Int64\u001b[0m ⋯\n",
       "─────┼──────────────────────────────────────────────────────────────────────────\n",
       "   1 │ 1       9         100      0   1000.0  -1000.0      1.1    100.0        ⋯\n",
       "\u001b[36m                                                               3 columns omitted\u001b[0m, \u001b[1m4×3 DataFrame\u001b[0m\n",
       "\u001b[1m Row \u001b[0m│\u001b[1m bus    \u001b[0m\u001b[1m demand \u001b[0m\u001b[1m ref_demand \u001b[0m\n",
       "     │\u001b[90m String \u001b[0m\u001b[90m Int64  \u001b[0m\u001b[90m Int64      \u001b[0m\n",
       "─────┼────────────────────────────\n",
       "   1 │ L1           5           5\n",
       "   2 │ L2           4           4\n",
       "   3 │ L3           3           3\n",
       "   4 │ L4           2           2, \u001b[1m8×5 DataFrame\u001b[0m\n",
       "\u001b[1m Row \u001b[0m│\u001b[1m ID     \u001b[0m\u001b[1m f_bus  \u001b[0m\u001b[1m t_bus  \u001b[0m\u001b[1m breaker \u001b[0m\u001b[1m closed \u001b[0m\n",
       "     │\u001b[90m String \u001b[0m\u001b[90m String \u001b[0m\u001b[90m String \u001b[0m\u001b[90m Bool    \u001b[0m\u001b[90m Bool   \u001b[0m\n",
       "─────┼─────────────────────────────────────────\n",
       "   1 │ E1      T1      L1         true    true\n",
       "   2 │ K1a     T1      L1        false    true\n",
       "   3 │ K1b     L1      T1        false    true\n",
       "   4 │ K2a     L1      L2        false    true\n",
       "   5 │ K3a     L1      L3        false    true\n",
       "   6 │ K3b     L3      L1        false    true\n",
       "   7 │ K5a     L2      T2        false   false\n",
       "   8 │ K6a     L3      T2        false   false, \u001b[1m0×0 DataFrame\u001b[0m, \u001b[1m6×9 DataFrame\u001b[0m\n",
       "\u001b[1m Row \u001b[0m│\u001b[1m ID     \u001b[0m\u001b[1m f_bus  \u001b[0m\u001b[1m t_bus  \u001b[0m\u001b[1m repairTime \u001b[0m\u001b[1m temporaryFaultFrequency \u001b[0m\u001b[1m permanentF\u001b[0m ⋯\n",
       "     │\u001b[90m String \u001b[0m\u001b[90m String \u001b[0m\u001b[90m String \u001b[0m\u001b[90m Int64      \u001b[0m\u001b[90m Int64                   \u001b[0m\u001b[90m Float64   \u001b[0m ⋯\n",
       "─────┼──────────────────────────────────────────────────────────────────────────\n",
       "   1 │ K1      T1      L1              15                      240             ⋯\n",
       "   2 │ K2      L1      L2              15                      240\n",
       "   3 │ K3      L1      L3               7                      240\n",
       "   4 │ K4      L3      L4               7                      240\n",
       "   5 │ K5      L2      T2              10                      240             ⋯\n",
       "   6 │ K6      L3      T2              10                      240\n",
       "\u001b[36m                                                               4 columns omitted\u001b[0m, \u001b[1m0×0 DataFrame\u001b[0m, \u001b[1m0×0 DataFrame\u001b[0m, \u001b[1m0×0 DataFrame\u001b[0m, 5), \"T1\", {5, 4} directed Int64 metagraph with Float64 weights defined by :weight (default weight 1.0))"
      ]
     },
     "execution_count": 3,
     "metadata": {},
     "output_type": "execute_result"
    }
   ],
   "source": [
    "network = RadialPowerGraph(network_filename)"
   ]
  },
  {
   "cell_type": "code",
   "execution_count": 4,
   "id": "f766e23f-344a-401a-8e98-bf06dd47053a",
   "metadata": {},
   "outputs": [
    {
     "data": {
      "image/svg+xml": [
       "<?xml version=\"1.0\" encoding=\"utf-8\"?>\n",
       "<svg xmlns=\"http://www.w3.org/2000/svg\" xmlns:xlink=\"http://www.w3.org/1999/xlink\" width=\"600\" height=\"400\" viewBox=\"0 0 2400 1600\">\n",
       "<defs>\n",
       "  <clipPath id=\"clip570\">\n",
       "    <rect x=\"0\" y=\"0\" width=\"2400\" height=\"1600\"/>\n",
       "  </clipPath>\n",
       "</defs>\n",
       "<path clip-path=\"url(#clip570)\" d=\"M0 1600 L2400 1600 L2400 0 L0 0  Z\" fill=\"#ffffff\" fill-rule=\"evenodd\" fill-opacity=\"1\"/>\n",
       "<defs>\n",
       "  <clipPath id=\"clip571\">\n",
       "    <rect x=\"480\" y=\"0\" width=\"1681\" height=\"1600\"/>\n",
       "  </clipPath>\n",
       "</defs>\n",
       "<path clip-path=\"url(#clip570)\" d=\"M447.244 1552.76 L1952.76 1552.76 L1952.76 47.2441 L447.244 47.2441  Z\" fill=\"#ffffff\" fill-rule=\"evenodd\" fill-opacity=\"1\"/>\n",
       "<defs>\n",
       "  <clipPath id=\"clip572\">\n",
       "    <rect x=\"447\" y=\"47\" width=\"1507\" height=\"1507\"/>\n",
       "  </clipPath>\n",
       "</defs>\n",
       "<polyline clip-path=\"url(#clip572)\" style=\"stroke:#000000; stroke-linecap:round; stroke-linejoin:round; stroke-width:4; stroke-opacity:1; fill:none\" points=\"1414.84,654.683 1410.33,1297.12 \"/>\n",
       "<polyline clip-path=\"url(#clip572)\" style=\"stroke:#000000; stroke-linecap:round; stroke-linejoin:round; stroke-width:4; stroke-opacity:1; fill:none\" points=\"1428.58,1261.25 1410.33,1297.12 1392.59,1261 \"/>\n",
       "<polyline clip-path=\"url(#clip572)\" style=\"stroke:#000000; stroke-linecap:round; stroke-linejoin:round; stroke-width:4; stroke-opacity:1; fill:none\" points=\"1410.33,1297.12 1414.84,654.683 \"/>\n",
       "<polyline clip-path=\"url(#clip572)\" style=\"stroke:#000000; stroke-linecap:round; stroke-linejoin:round; stroke-width:4; stroke-opacity:1; fill:none\" points=\"1414.84,654.683 1025.08,667.838 \"/>\n",
       "<polyline clip-path=\"url(#clip572)\" style=\"stroke:#000000; stroke-linecap:round; stroke-linejoin:round; stroke-width:4; stroke-opacity:1; fill:none\" points=\"1061.67,684.613 1025.08,667.838 1060.45,648.634 \"/>\n",
       "<polyline clip-path=\"url(#clip572)\" style=\"stroke:#000000; stroke-linecap:round; stroke-linejoin:round; stroke-width:4; stroke-opacity:1; fill:none\" points=\"1025.08,667.838 1414.84,654.683 \"/>\n",
       "<polyline clip-path=\"url(#clip572)\" style=\"stroke:#000000; stroke-linecap:round; stroke-linejoin:round; stroke-width:4; stroke-opacity:1; fill:none\" points=\"1416.16,1333.44 1029.16,1346.62 \"/>\n",
       "<polyline clip-path=\"url(#clip572)\" style=\"stroke:#000000; stroke-linecap:round; stroke-linejoin:round; stroke-width:4; stroke-opacity:1; fill:none\" points=\"1065.76,1363.39 1029.16,1346.62 1064.53,1327.41 \"/>\n",
       "<polyline clip-path=\"url(#clip572)\" style=\"stroke:#000000; stroke-linecap:round; stroke-linejoin:round; stroke-width:4; stroke-opacity:1; fill:none\" points=\"1029.16,1346.62 1416.16,1333.44 \"/>\n",
       "<polyline clip-path=\"url(#clip572)\" style=\"stroke:#000000; stroke-linecap:round; stroke-linejoin:round; stroke-width:4; stroke-opacity:1; fill:none\" points=\"988.27,658.95 681.768,309.396 \"/>\n",
       "<polyline clip-path=\"url(#clip572)\" style=\"stroke:#000000; stroke-linecap:round; stroke-linejoin:round; stroke-width:4; stroke-opacity:1; fill:none\" points=\"691.968,348.331 681.768,309.396 719.036,324.597 \"/>\n",
       "<polyline clip-path=\"url(#clip572)\" style=\"stroke:#000000; stroke-linecap:round; stroke-linejoin:round; stroke-width:4; stroke-opacity:1; fill:none\" points=\"681.768,309.396 988.27,658.95 \"/>\n",
       "<polyline clip-path=\"url(#clip572)\" style=\"stroke:#000000; stroke-linecap:round; stroke-linejoin:round; stroke-width:4; stroke-opacity:1; fill:none\" points=\"988.27,658.95 986.406,1301.36 \"/>\n",
       "<polyline clip-path=\"url(#clip572)\" style=\"stroke:#000000; stroke-linecap:round; stroke-linejoin:round; stroke-width:4; stroke-opacity:1; fill:none\" points=\"1004.51,1265.41 986.406,1301.36 968.511,1265.31 \"/>\n",
       "<polyline clip-path=\"url(#clip572)\" style=\"stroke:#000000; stroke-linecap:round; stroke-linejoin:round; stroke-width:4; stroke-opacity:1; fill:none\" points=\"986.406,1301.36 988.27,658.95 \"/>\n",
       "<polyline clip-path=\"url(#clip572)\" style=\"stroke:#000000; stroke-linecap:round; stroke-linejoin:round; stroke-width:4; stroke-opacity:1; fill:none\" points=\"1737.68,262.317 1433.75,618.362 \"/>\n",
       "<polyline clip-path=\"url(#clip572)\" style=\"stroke:#000000; stroke-linecap:round; stroke-linejoin:round; stroke-width:4; stroke-opacity:1; fill:none\" points=\"1470.81,602.668 1433.75,618.362 1443.43,579.295 \"/>\n",
       "<polyline clip-path=\"url(#clip572)\" style=\"stroke:#000000; stroke-linecap:round; stroke-linejoin:round; stroke-width:4; stroke-opacity:1; fill:none\" points=\"1433.75,618.362 1737.68,262.317 \"/>\n",
       "<path clip-path=\"url(#clip572)\" d=\"M1456.78 654.683 L1435.81 618.362 L1393.87 618.362 L1372.9 654.683 L1393.87 691.004 L1435.81 691.004 L1456.78 654.683 L1456.78 654.683  Z\" fill=\"#009af9\" fill-rule=\"evenodd\" fill-opacity=\"1\"/>\n",
       "<polyline clip-path=\"url(#clip572)\" style=\"stroke:#000000; stroke-linecap:round; stroke-linejoin:round; stroke-width:4; stroke-opacity:1; fill:none\" points=\"1456.78,654.683 1435.81,618.362 1393.87,618.362 1372.9,654.683 1393.87,691.004 1435.81,691.004 1456.78,654.683 \"/>\n",
       "<path clip-path=\"url(#clip572)\" d=\"M1458.1 1333.44 L1437.13 1297.12 L1395.19 1297.12 L1374.22 1333.44 L1395.19 1369.76 L1437.13 1369.76 L1458.1 1333.44 L1458.1 1333.44  Z\" fill=\"#009af9\" fill-rule=\"evenodd\" fill-opacity=\"1\"/>\n",
       "<polyline clip-path=\"url(#clip572)\" style=\"stroke:#000000; stroke-linecap:round; stroke-linejoin:round; stroke-width:4; stroke-opacity:1; fill:none\" points=\"1458.1,1333.44 1437.13,1297.12 1395.19,1297.12 1374.22,1333.44 1395.19,1369.76 1437.13,1369.76 1458.1,1333.44 \"/>\n",
       "<path clip-path=\"url(#clip572)\" d=\"M1030.21 658.95 L1009.24 622.629 L967.3 622.629 L946.33 658.95 L967.3 695.271 L1009.24 695.271 L1030.21 658.95 L1030.21 658.95  Z\" fill=\"#009af9\" fill-rule=\"evenodd\" fill-opacity=\"1\"/>\n",
       "<polyline clip-path=\"url(#clip572)\" style=\"stroke:#000000; stroke-linecap:round; stroke-linejoin:round; stroke-width:4; stroke-opacity:1; fill:none\" points=\"1030.21,658.95 1009.24,622.629 967.3,622.629 946.33,658.95 967.3,695.271 1009.24,695.271 1030.21,658.95 \"/>\n",
       "<path clip-path=\"url(#clip572)\" d=\"M704.257 273.075 L683.287 236.754 L641.347 236.754 L620.377 273.075 L641.347 309.396 L683.287 309.396 L704.257 273.075 L704.257 273.075  Z\" fill=\"#009af9\" fill-rule=\"evenodd\" fill-opacity=\"1\"/>\n",
       "<polyline clip-path=\"url(#clip572)\" style=\"stroke:#000000; stroke-linecap:round; stroke-linejoin:round; stroke-width:4; stroke-opacity:1; fill:none\" points=\"704.257,273.075 683.287,236.754 641.347,236.754 620.377,273.075 641.347,309.396 683.287,309.396 704.257,273.075 \"/>\n",
       "<path clip-path=\"url(#clip572)\" d=\"M1779.62 262.317 L1758.65 225.996 L1716.71 225.996 L1695.74 262.317 L1716.71 298.638 L1758.65 298.638 L1779.62 262.317 L1779.62 262.317  Z\" fill=\"#009af9\" fill-rule=\"evenodd\" fill-opacity=\"1\"/>\n",
       "<polyline clip-path=\"url(#clip572)\" style=\"stroke:#000000; stroke-linecap:round; stroke-linejoin:round; stroke-width:4; stroke-opacity:1; fill:none\" points=\"1779.62,262.317 1758.65,225.996 1716.71,225.996 1695.74,262.317 1716.71,298.638 1758.65,298.638 1779.62,262.317 \"/>\n",
       "<path clip-path=\"url(#clip572)\" d=\"M1034.33 1337.68 L1013.36 1301.36 L971.417 1301.36 L950.447 1337.68 L971.417 1374 L1013.36 1374 L1034.33 1337.68 L1034.33 1337.68  Z\" fill=\"#009af9\" fill-rule=\"evenodd\" fill-opacity=\"1\"/>\n",
       "<polyline clip-path=\"url(#clip572)\" style=\"stroke:#000000; stroke-linecap:round; stroke-linejoin:round; stroke-width:4; stroke-opacity:1; fill:none\" points=\"1034.33,1337.68 1013.36,1301.36 971.417,1301.36 950.447,1337.68 971.417,1374 1013.36,1374 1034.33,1337.68 \"/>\n",
       "<path clip-path=\"url(#clip572)\" d=\"M1414.84 655.083 L1414.5 654.883 L1414.5 654.483 L1414.84 654.283 L1415.19 654.483 L1415.19 654.883 Z\" fill=\"#009af9\" fill-rule=\"evenodd\" fill-opacity=\"1\" stroke=\"#000000\" stroke-opacity=\"1\" stroke-width=\"3.2\"/>\n",
       "<path clip-path=\"url(#clip572)\" d=\"M1416.16 1333.84 L1415.81 1333.64 L1415.81 1333.24 L1416.16 1333.04 L1416.5 1333.24 L1416.5 1333.64 Z\" fill=\"#009af9\" fill-rule=\"evenodd\" fill-opacity=\"1\" stroke=\"#000000\" stroke-opacity=\"1\" stroke-width=\"3.2\"/>\n",
       "<path clip-path=\"url(#clip572)\" d=\"M988.27 659.35 L987.924 659.15 L987.924 658.75 L988.27 658.55 L988.617 658.75 L988.617 659.15 Z\" fill=\"#009af9\" fill-rule=\"evenodd\" fill-opacity=\"1\" stroke=\"#000000\" stroke-opacity=\"1\" stroke-width=\"3.2\"/>\n",
       "<path clip-path=\"url(#clip572)\" d=\"M662.317 273.475 L661.971 273.275 L661.971 272.875 L662.317 272.675 L662.664 272.875 L662.664 273.275 Z\" fill=\"#009af9\" fill-rule=\"evenodd\" fill-opacity=\"1\" stroke=\"#000000\" stroke-opacity=\"1\" stroke-width=\"3.2\"/>\n",
       "<path clip-path=\"url(#clip572)\" d=\"M1737.68 262.717 L1737.34 262.517 L1737.34 262.117 L1737.68 261.917 L1738.03 262.117 L1738.03 262.517 Z\" fill=\"#009af9\" fill-rule=\"evenodd\" fill-opacity=\"1\" stroke=\"#000000\" stroke-opacity=\"1\" stroke-width=\"3.2\"/>\n",
       "<path clip-path=\"url(#clip572)\" d=\"M992.387 1338.08 L992.04 1337.88 L992.04 1337.48 L992.387 1337.28 L992.733 1337.48 L992.733 1337.88 Z\" fill=\"#009af9\" fill-rule=\"evenodd\" fill-opacity=\"1\" stroke=\"#000000\" stroke-opacity=\"1\" stroke-width=\"3.2\"/>\n",
       "<path clip-path=\"url(#clip570)\" d=\"M1394.04 639.563 L1398.13 639.563 L1398.13 666.36 L1412.86 666.36 L1412.86 669.803 L1394.04 669.803 L1394.04 639.563 Z\" fill=\"#000000\" fill-rule=\"nonzero\" fill-opacity=\"1\" /><path clip-path=\"url(#clip570)\" d=\"M1418.23 666.36 L1424.91 666.36 L1424.91 643.29 L1417.64 644.748 L1417.64 641.021 L1424.87 639.563 L1428.96 639.563 L1428.96 666.36 L1435.65 666.36 L1435.65 669.803 L1418.23 669.803 L1418.23 666.36 Z\" fill=\"#000000\" fill-rule=\"nonzero\" fill-opacity=\"1\" /><path clip-path=\"url(#clip570)\" d=\"M1395.52 1318.32 L1399.61 1318.32 L1399.61 1345.12 L1414.34 1345.12 L1414.34 1348.56 L1395.52 1348.56 L1395.52 1318.32 Z\" fill=\"#000000\" fill-rule=\"nonzero\" fill-opacity=\"1\" /><path clip-path=\"url(#clip570)\" d=\"M1422.52 1345.12 L1436.8 1345.12 L1436.8 1348.56 L1417.6 1348.56 L1417.6 1345.12 Q1419.93 1342.71 1423.94 1338.66 Q1427.97 1334.59 1429 1333.41 Q1430.96 1331.21 1431.73 1329.69 Q1432.52 1328.15 1432.52 1326.67 Q1432.52 1324.26 1430.82 1322.74 Q1429.14 1321.22 1426.43 1321.22 Q1424.5 1321.22 1422.36 1321.89 Q1420.23 1322.56 1417.8 1323.91 L1417.8 1319.78 Q1420.27 1318.79 1422.42 1318.28 Q1424.56 1317.78 1426.35 1317.78 Q1431.05 1317.78 1433.84 1320.13 Q1436.64 1322.48 1436.64 1326.41 Q1436.64 1328.27 1435.93 1329.95 Q1435.24 1331.61 1433.4 1333.88 Q1432.89 1334.47 1430.17 1337.28 Q1427.46 1340.08 1422.52 1345.12 Z\" fill=\"#000000\" fill-rule=\"nonzero\" fill-opacity=\"1\" /><path clip-path=\"url(#clip570)\" d=\"M967.216 643.83 L971.307 643.83 L971.307 670.627 L986.032 670.627 L986.032 674.07 L967.216 674.07 L967.216 643.83 Z\" fill=\"#000000\" fill-rule=\"nonzero\" fill-opacity=\"1\" /><path clip-path=\"url(#clip570)\" d=\"M1003.09 657.765 Q1006.02 658.393 1007.66 660.378 Q1009.32 662.363 1009.32 665.279 Q1009.32 669.756 1006.25 672.206 Q1003.17 674.657 997.496 674.657 Q995.592 674.657 993.567 674.272 Q991.562 673.908 989.415 673.158 L989.415 669.209 Q991.116 670.201 993.141 670.708 Q995.167 671.214 997.375 671.214 Q1001.22 671.214 1003.23 669.695 Q1005.25 668.176 1005.25 665.279 Q1005.25 662.606 1003.37 661.107 Q1001.51 659.588 998.165 659.588 L994.64 659.588 L994.64 656.226 L998.327 656.226 Q1001.34 656.226 1002.94 655.031 Q1004.54 653.815 1004.54 651.547 Q1004.54 649.217 1002.88 647.982 Q1001.24 646.726 998.165 646.726 Q996.483 646.726 994.559 647.091 Q992.635 647.455 990.326 648.225 L990.326 644.579 Q992.655 643.931 994.681 643.607 Q996.726 643.283 998.529 643.283 Q1003.19 643.283 1005.9 645.41 Q1008.62 647.516 1008.62 651.121 Q1008.62 653.633 1007.18 655.375 Q1005.74 657.096 1003.09 657.765 Z\" fill=\"#000000\" fill-rule=\"nonzero\" fill-opacity=\"1\" /><path clip-path=\"url(#clip570)\" d=\"M640.766 257.955 L644.858 257.955 L644.858 284.752 L659.583 284.752 L659.583 288.195 L640.766 288.195 L640.766 257.955 Z\" fill=\"#000000\" fill-rule=\"nonzero\" fill-opacity=\"1\" /><path clip-path=\"url(#clip570)\" d=\"M675.483 261.52 L665.153 277.663 L675.483 277.663 L675.483 261.52 M674.409 257.955 L679.554 257.955 L679.554 277.663 L683.868 277.663 L683.868 281.065 L679.554 281.065 L679.554 288.195 L675.483 288.195 L675.483 281.065 L661.831 281.065 L661.831 277.116 L674.409 257.955 Z\" fill=\"#000000\" fill-rule=\"nonzero\" fill-opacity=\"1\" /><path clip-path=\"url(#clip570)\" d=\"M1713.67 247.197 L1739.25 247.197 L1739.25 250.64 L1728.52 250.64 L1728.52 277.437 L1724.41 277.437 L1724.41 250.64 L1713.67 250.64 L1713.67 247.197 Z\" fill=\"#000000\" fill-rule=\"nonzero\" fill-opacity=\"1\" /><path clip-path=\"url(#clip570)\" d=\"M1744.28 273.994 L1750.96 273.994 L1750.96 250.924 L1743.69 252.382 L1743.69 248.656 L1750.92 247.197 L1755.01 247.197 L1755.01 273.994 L1761.69 273.994 L1761.69 277.437 L1744.28 277.437 L1744.28 273.994 Z\" fill=\"#000000\" fill-rule=\"nonzero\" fill-opacity=\"1\" /><path clip-path=\"url(#clip570)\" d=\"M968.537 1322.56 L994.118 1322.56 L994.118 1326.01 L983.383 1326.01 L983.383 1352.8 L979.272 1352.8 L979.272 1326.01 L968.537 1326.01 L968.537 1322.56 Z\" fill=\"#000000\" fill-rule=\"nonzero\" fill-opacity=\"1\" /><path clip-path=\"url(#clip570)\" d=\"M1001.96 1349.36 L1016.24 1349.36 L1016.24 1352.8 L997.035 1352.8 L997.035 1349.36 Q999.364 1346.95 1003.37 1342.9 Q1007.41 1338.83 1008.44 1337.65 Q1010.4 1335.44 1011.17 1333.93 Q1011.96 1332.39 1011.96 1330.91 Q1011.96 1328.5 1010.26 1326.98 Q1008.58 1325.46 1005.87 1325.46 Q1003.94 1325.46 1001.79 1326.13 Q999.668 1326.8 997.238 1328.15 L997.238 1324.02 Q999.709 1323.03 1001.86 1322.52 Q1004 1322.02 1005.78 1322.02 Q1010.48 1322.02 1013.28 1324.37 Q1016.07 1326.71 1016.07 1330.64 Q1016.07 1332.51 1015.37 1334.19 Q1014.68 1335.85 1012.83 1338.12 Q1012.33 1338.71 1009.61 1341.52 Q1006.9 1344.32 1001.96 1349.36 Z\" fill=\"#000000\" fill-rule=\"nonzero\" fill-opacity=\"1\" /></svg>\n"
      ]
     },
     "execution_count": 4,
     "metadata": {},
     "output_type": "execute_result"
    }
   ],
   "source": [
    "graphplot(network.G, curves=false, names=[props(network.G, v)[:name] for v in 1:nv(network.G)]\n",
    ")"
   ]
  },
  {
   "cell_type": "code",
   "execution_count": 5,
   "id": "315ce2d1-d539-4a1e-ac8d-0767e3148445",
   "metadata": {},
   "outputs": [
    {
     "data": {
      "image/svg+xml": [
       "<?xml version=\"1.0\" encoding=\"utf-8\"?>\n",
       "<svg xmlns=\"http://www.w3.org/2000/svg\" xmlns:xlink=\"http://www.w3.org/1999/xlink\" width=\"600\" height=\"400\" viewBox=\"0 0 2400 1600\">\n",
       "<defs>\n",
       "  <clipPath id=\"clip600\">\n",
       "    <rect x=\"0\" y=\"0\" width=\"2400\" height=\"1600\"/>\n",
       "  </clipPath>\n",
       "</defs>\n",
       "<path clip-path=\"url(#clip600)\" d=\"M0 1600 L2400 1600 L2400 0 L0 0  Z\" fill=\"#ffffff\" fill-rule=\"evenodd\" fill-opacity=\"1\"/>\n",
       "<defs>\n",
       "  <clipPath id=\"clip601\">\n",
       "    <rect x=\"480\" y=\"0\" width=\"1681\" height=\"1600\"/>\n",
       "  </clipPath>\n",
       "</defs>\n",
       "<path clip-path=\"url(#clip600)\" d=\"M447.244 1552.76 L1952.76 1552.76 L1952.76 47.2441 L447.244 47.2441  Z\" fill=\"#ffffff\" fill-rule=\"evenodd\" fill-opacity=\"1\"/>\n",
       "<defs>\n",
       "  <clipPath id=\"clip602\">\n",
       "    <rect x=\"447\" y=\"47\" width=\"1507\" height=\"1507\"/>\n",
       "  </clipPath>\n",
       "</defs>\n",
       "<polyline clip-path=\"url(#clip602)\" style=\"stroke:#000000; stroke-linecap:round; stroke-linejoin:round; stroke-width:4; stroke-opacity:1; fill:none\" points=\"662.317,714.072 1038.49,853.537 \"/>\n",
       "<polyline clip-path=\"url(#clip602)\" style=\"stroke:#000000; stroke-linecap:round; stroke-linejoin:round; stroke-width:4; stroke-opacity:1; fill:none\" points=\"1011,824.145 1038.49,853.537 998.483,857.9 \"/>\n",
       "<polyline clip-path=\"url(#clip602)\" style=\"stroke:#000000; stroke-linecap:round; stroke-linejoin:round; stroke-width:4; stroke-opacity:1; fill:none\" points=\"1038.49,853.537 662.317,714.072 \"/>\n",
       "<polyline clip-path=\"url(#clip602)\" style=\"stroke:#000000; stroke-linecap:round; stroke-linejoin:round; stroke-width:4; stroke-opacity:1; fill:none\" points=\"1083.3,857.647 1392.7,590.277 \"/>\n",
       "<polyline clip-path=\"url(#clip602)\" style=\"stroke:#000000; stroke-linecap:round; stroke-linejoin:round; stroke-width:4; stroke-opacity:1; fill:none\" points=\"1353.69,600.196 1392.7,590.277 1377.23,627.435 \"/>\n",
       "<polyline clip-path=\"url(#clip602)\" style=\"stroke:#000000; stroke-linecap:round; stroke-linejoin:round; stroke-width:4; stroke-opacity:1; fill:none\" points=\"1392.7,590.277 1083.3,857.647 \"/>\n",
       "<polyline clip-path=\"url(#clip602)\" style=\"stroke:#000000; stroke-linecap:round; stroke-linejoin:round; stroke-width:4; stroke-opacity:1; fill:none\" points=\"1083.3,857.647 1120.73,1296.82 \"/>\n",
       "<polyline clip-path=\"url(#clip602)\" style=\"stroke:#000000; stroke-linecap:round; stroke-linejoin:round; stroke-width:4; stroke-opacity:1; fill:none\" points=\"1135.6,1259.42 1120.73,1296.82 1099.73,1262.48 \"/>\n",
       "<polyline clip-path=\"url(#clip602)\" style=\"stroke:#000000; stroke-linecap:round; stroke-linejoin:round; stroke-width:4; stroke-opacity:1; fill:none\" points=\"1120.73,1296.82 1083.3,857.647 \"/>\n",
       "<polyline clip-path=\"url(#clip602)\" style=\"stroke:#000000; stroke-linecap:round; stroke-linejoin:round; stroke-width:4; stroke-opacity:1; fill:none\" points=\"1418.27,552.848 1712.38,300.218 \"/>\n",
       "<polyline clip-path=\"url(#clip602)\" style=\"stroke:#000000; stroke-linecap:round; stroke-linejoin:round; stroke-width:4; stroke-opacity:1; fill:none\" points=\"1673.34,310.021 1712.38,300.218 1696.8,337.329 \"/>\n",
       "<polyline clip-path=\"url(#clip602)\" style=\"stroke:#000000; stroke-linecap:round; stroke-linejoin:round; stroke-width:4; stroke-opacity:1; fill:none\" points=\"1712.38,300.218 1418.27,552.848 \"/>\n",
       "<path clip-path=\"url(#clip602)\" d=\"M709.5 714.072 L685.908 673.21 L638.726 673.21 L615.135 714.072 L638.726 754.933 L685.908 754.933 L709.5 714.072 L709.5 714.072  Z\" fill=\"#009af9\" fill-rule=\"evenodd\" fill-opacity=\"1\"/>\n",
       "<polyline clip-path=\"url(#clip602)\" style=\"stroke:#000000; stroke-linecap:round; stroke-linejoin:round; stroke-width:4; stroke-opacity:1; fill:none\" points=\"709.5,714.072 685.908,673.21 638.726,673.21 615.135,714.072 638.726,754.933 685.908,754.933 709.5,714.072 \"/>\n",
       "<path clip-path=\"url(#clip602)\" d=\"M1130.49 857.647 L1106.9 816.786 L1059.71 816.786 L1036.12 857.647 L1059.71 898.508 L1106.9 898.508 L1130.49 857.647 L1130.49 857.647  Z\" fill=\"#009af9\" fill-rule=\"evenodd\" fill-opacity=\"1\"/>\n",
       "<polyline clip-path=\"url(#clip602)\" style=\"stroke:#000000; stroke-linecap:round; stroke-linejoin:round; stroke-width:4; stroke-opacity:1; fill:none\" points=\"1130.49,857.647 1106.9,816.786 1059.71,816.786 1036.12,857.647 1059.71,898.508 1106.9,898.508 1130.49,857.647 \"/>\n",
       "<path clip-path=\"url(#clip602)\" d=\"M1465.46 552.848 L1441.86 511.987 L1394.68 511.987 L1371.09 552.848 L1394.68 593.709 L1441.86 593.709 L1465.46 552.848 L1465.46 552.848  Z\" fill=\"#009af9\" fill-rule=\"evenodd\" fill-opacity=\"1\"/>\n",
       "<polyline clip-path=\"url(#clip602)\" style=\"stroke:#000000; stroke-linecap:round; stroke-linejoin:round; stroke-width:4; stroke-opacity:1; fill:none\" points=\"1465.46,552.848 1441.86,511.987 1394.68,511.987 1371.09,552.848 1394.68,593.709 1441.86,593.709 1465.46,552.848 \"/>\n",
       "<path clip-path=\"url(#clip602)\" d=\"M1784.87 262.317 L1761.27 221.456 L1714.09 221.456 L1690.5 262.317 L1714.09 303.178 L1761.27 303.178 L1784.87 262.317 L1784.87 262.317  Z\" fill=\"#009af9\" fill-rule=\"evenodd\" fill-opacity=\"1\"/>\n",
       "<polyline clip-path=\"url(#clip602)\" style=\"stroke:#000000; stroke-linecap:round; stroke-linejoin:round; stroke-width:4; stroke-opacity:1; fill:none\" points=\"1784.87,262.317 1761.27,221.456 1714.09,221.456 1690.5,262.317 1714.09,303.178 1761.27,303.178 1784.87,262.317 \"/>\n",
       "<path clip-path=\"url(#clip602)\" d=\"M1181.7 1337.68 L1158.11 1296.82 L1110.92 1296.82 L1087.33 1337.68 L1110.92 1378.54 L1158.11 1378.54 L1181.7 1337.68 L1181.7 1337.68  Z\" fill=\"#009af9\" fill-rule=\"evenodd\" fill-opacity=\"1\"/>\n",
       "<polyline clip-path=\"url(#clip602)\" style=\"stroke:#000000; stroke-linecap:round; stroke-linejoin:round; stroke-width:4; stroke-opacity:1; fill:none\" points=\"1181.7,1337.68 1158.11,1296.82 1110.92,1296.82 1087.33,1337.68 1110.92,1378.54 1158.11,1378.54 1181.7,1337.68 \"/>\n",
       "<path clip-path=\"url(#clip602)\" d=\"M662.317 714.472 L661.971 714.272 L661.971 713.872 L662.317 713.672 L662.664 713.872 L662.664 714.272 Z\" fill=\"#009af9\" fill-rule=\"evenodd\" fill-opacity=\"1\" stroke=\"#000000\" stroke-opacity=\"1\" stroke-width=\"3.2\"/>\n",
       "<path clip-path=\"url(#clip602)\" d=\"M1083.3 858.047 L1082.96 857.847 L1082.96 857.447 L1083.3 857.247 L1083.65 857.447 L1083.65 857.847 Z\" fill=\"#009af9\" fill-rule=\"evenodd\" fill-opacity=\"1\" stroke=\"#000000\" stroke-opacity=\"1\" stroke-width=\"3.2\"/>\n",
       "<path clip-path=\"url(#clip602)\" d=\"M1418.27 553.248 L1417.93 553.048 L1417.93 552.648 L1418.27 552.448 L1418.62 552.648 L1418.62 553.048 Z\" fill=\"#009af9\" fill-rule=\"evenodd\" fill-opacity=\"1\" stroke=\"#000000\" stroke-opacity=\"1\" stroke-width=\"3.2\"/>\n",
       "<path clip-path=\"url(#clip602)\" d=\"M1737.68 262.717 L1737.34 262.517 L1737.34 262.117 L1737.68 261.917 L1738.03 262.117 L1738.03 262.517 Z\" fill=\"#009af9\" fill-rule=\"evenodd\" fill-opacity=\"1\" stroke=\"#000000\" stroke-opacity=\"1\" stroke-width=\"3.2\"/>\n",
       "<path clip-path=\"url(#clip602)\" d=\"M1134.51 1338.08 L1134.17 1337.88 L1134.17 1337.48 L1134.51 1337.28 L1134.86 1337.48 L1134.86 1337.88 Z\" fill=\"#009af9\" fill-rule=\"evenodd\" fill-opacity=\"1\" stroke=\"#000000\" stroke-opacity=\"1\" stroke-width=\"3.2\"/>\n",
       "<path clip-path=\"url(#clip600)\" d=\"M638.305 698.952 L663.887 698.952 L663.887 702.395 L653.152 702.395 L653.152 729.192 L649.04 729.192 L649.04 702.395 L638.305 702.395 L638.305 698.952 Z\" fill=\"#000000\" fill-rule=\"nonzero\" fill-opacity=\"1\" /><path clip-path=\"url(#clip600)\" d=\"M668.91 725.748 L675.594 725.748 L675.594 702.679 L668.323 704.137 L668.323 700.41 L675.554 698.952 L679.645 698.952 L679.645 725.748 L686.329 725.748 L686.329 729.192 L668.91 729.192 L668.91 725.748 Z\" fill=\"#000000\" fill-rule=\"nonzero\" fill-opacity=\"1\" /><path clip-path=\"url(#clip600)\" d=\"M1062.5 842.527 L1066.59 842.527 L1066.59 869.324 L1081.32 869.324 L1081.32 872.767 L1062.5 872.767 L1062.5 842.527 Z\" fill=\"#000000\" fill-rule=\"nonzero\" fill-opacity=\"1\" /><path clip-path=\"url(#clip600)\" d=\"M1086.69 869.324 L1093.37 869.324 L1093.37 846.254 L1086.1 847.712 L1086.1 843.985 L1093.33 842.527 L1097.42 842.527 L1097.42 869.324 L1104.11 869.324 L1104.11 872.767 L1086.69 872.767 L1086.69 869.324 Z\" fill=\"#000000\" fill-rule=\"nonzero\" fill-opacity=\"1\" /><path clip-path=\"url(#clip600)\" d=\"M1397.22 537.728 L1401.31 537.728 L1401.31 564.525 L1416.04 564.525 L1416.04 567.968 L1397.22 567.968 L1397.22 537.728 Z\" fill=\"#000000\" fill-rule=\"nonzero\" fill-opacity=\"1\" /><path clip-path=\"url(#clip600)\" d=\"M1433.09 551.663 Q1436.03 552.291 1437.67 554.276 Q1439.33 556.261 1439.33 559.178 Q1439.33 563.654 1436.25 566.105 Q1433.17 568.556 1427.5 568.556 Q1425.6 568.556 1423.57 568.171 Q1421.56 567.806 1419.42 567.057 L1419.42 563.107 Q1421.12 564.1 1423.14 564.606 Q1425.17 565.112 1427.38 565.112 Q1431.23 565.112 1433.23 563.593 Q1435.26 562.074 1435.26 559.178 Q1435.26 556.504 1433.37 555.005 Q1431.51 553.486 1428.17 553.486 L1424.64 553.486 L1424.64 550.124 L1428.33 550.124 Q1431.35 550.124 1432.95 548.929 Q1434.55 547.714 1434.55 545.445 Q1434.55 543.116 1432.89 541.88 Q1431.25 540.625 1428.17 540.625 Q1426.49 540.625 1424.56 540.989 Q1422.64 541.354 1420.33 542.123 L1420.33 538.478 Q1422.66 537.829 1424.68 537.505 Q1426.73 537.181 1428.53 537.181 Q1433.19 537.181 1435.9 539.308 Q1438.62 541.415 1438.62 545.02 Q1438.62 547.531 1437.18 549.273 Q1435.74 550.995 1433.09 551.663 Z\" fill=\"#000000\" fill-rule=\"nonzero\" fill-opacity=\"1\" /><path clip-path=\"url(#clip600)\" d=\"M1716.13 247.197 L1720.22 247.197 L1720.22 273.994 L1734.95 273.994 L1734.95 277.437 L1716.13 277.437 L1716.13 247.197 Z\" fill=\"#000000\" fill-rule=\"nonzero\" fill-opacity=\"1\" /><path clip-path=\"url(#clip600)\" d=\"M1750.85 250.762 L1740.52 266.905 L1750.85 266.905 L1750.85 250.762 M1749.77 247.197 L1754.92 247.197 L1754.92 266.905 L1759.23 266.905 L1759.23 270.308 L1754.92 270.308 L1754.92 277.437 L1750.85 277.437 L1750.85 270.308 L1737.2 270.308 L1737.2 266.358 L1749.77 247.197 Z\" fill=\"#000000\" fill-rule=\"nonzero\" fill-opacity=\"1\" /><path clip-path=\"url(#clip600)\" d=\"M1113.88 1322.56 L1117.97 1322.56 L1117.97 1349.36 L1132.69 1349.36 L1132.69 1352.8 L1113.88 1352.8 L1113.88 1322.56 Z\" fill=\"#000000\" fill-rule=\"nonzero\" fill-opacity=\"1\" /><path clip-path=\"url(#clip600)\" d=\"M1140.87 1349.36 L1155.15 1349.36 L1155.15 1352.8 L1135.95 1352.8 L1135.95 1349.36 Q1138.28 1346.95 1142.29 1342.9 Q1146.32 1338.83 1147.36 1337.65 Q1149.32 1335.44 1150.09 1333.93 Q1150.88 1332.39 1150.88 1330.91 Q1150.88 1328.5 1149.18 1326.98 Q1147.5 1325.46 1144.78 1325.46 Q1142.86 1325.46 1140.71 1326.13 Q1138.59 1326.8 1136.16 1328.15 L1136.16 1324.02 Q1138.63 1323.03 1140.77 1322.52 Q1142.92 1322.02 1144.7 1322.02 Q1149.4 1322.02 1152.2 1324.37 Q1154.99 1326.71 1154.99 1330.64 Q1154.99 1332.51 1154.28 1334.19 Q1153.59 1335.85 1151.75 1338.12 Q1151.25 1338.71 1148.53 1341.52 Q1145.82 1344.32 1140.87 1349.36 Z\" fill=\"#000000\" fill-rule=\"nonzero\" fill-opacity=\"1\" /></svg>\n"
      ]
     },
     "execution_count": 5,
     "metadata": {},
     "output_type": "execute_result"
    }
   ],
   "source": [
    "graphplot(network.radial, curves=false, names=[props(network.radial, v)[:name] for v in 1:nv(network.radial)]\n",
    ")"
   ]
  },
  {
   "cell_type": "code",
   "execution_count": 11,
   "id": "03450640-6069-4618-9787-8287b3b13f9d",
   "metadata": {},
   "outputs": [
    {
     "data": {
      "text/plain": [
       "(RelStruct([0.0 0.0 … 0.0 0.0; 0.0 0.0 … 0.0 0.0; 0.0 0.0 … 0.0 0.0; 0.0 0.0 … 0.0 0.0], [0.0 0.0 … 0.0 0.0; 0.0 0.0 … 0.0 0.0; 0.0 0.0 … 0.0 0.0; 0.0 0.0 … 0.0 0.0], [0.0 0.0 … 0.0 0.0; 0.0 0.0 … 0.0 0.0; 0.0 0.0 … 0.0 0.0; 0.0 0.0 … 0.0 0.0], [0.0 0.0 … 0.0 0.0; 0.0 0.0 … 0.0 0.0; 0.0 0.0 … 0.0 0.0; 0.0 0.0 … 0.0 0.0]), RelStruct([2.0 1.0 … 0.0 0.0; 2.0 1.0 … 0.0 0.0; 2.0 1.0 … 0.0 0.0; 2.0 1.0 … 0.0 0.0], [1200.0 1200.0 … 0.0 0.0; 960.0 960.0 … 0.0 0.0; 720.0 720.0 … 0.0 0.0; 480.0 480.0 … 0.0 0.0], [2400.0 1200.0 … 0.0 0.0; 1920.0 960.0 … 0.0 0.0; 1440.0 720.0 … 0.0 0.0; 960.0 480.0 … 0.0 0.0], [2400.0 1200.0 … 0.0 0.0; 1920.0 960.0 … 0.0 0.0; 1440.0 720.0 … 0.0 0.0; 960.0 480.0 … 0.0 0.0]), [\"L1\", \"L2\", \"L3\", \"L4\"], \u001b[1m6×4 DataFrame\u001b[0m\n",
       "\u001b[1m Row \u001b[0m│\u001b[1m index \u001b[0m\u001b[1m f_bus  \u001b[0m\u001b[1m t_bus  \u001b[0m\u001b[1m name   \u001b[0m\n",
       "     │\u001b[90m Int64 \u001b[0m\u001b[90m String \u001b[0m\u001b[90m String \u001b[0m\u001b[90m String \u001b[0m\n",
       "─────┼───────────────────────────────\n",
       "   1 │     1  T1      L1      K1\n",
       "   2 │     2  L1      L2      K2\n",
       "   3 │     3  L1      L3      K3\n",
       "   4 │     4  L3      L4      K4\n",
       "   5 │     5  L2      T2      K5\n",
       "   6 │     6  L3      T2      K6)"
      ]
     },
     "execution_count": 11,
     "metadata": {},
     "output_type": "execute_result"
    }
   ],
   "source": [
    "res, rest, L, edge_pos = relrad_calc(interruption, cost_functions, network)"
   ]
  },
  {
   "cell_type": "code",
   "execution_count": 14,
   "id": "278ac978-6348-4959-9ded-5fd10a3ef045",
   "metadata": {},
   "outputs": [
    {
     "data": {
      "text/plain": [
       "4×6 Matrix{Float64}:\n",
       " 0.0  0.0  0.0  0.0  0.0  0.0\n",
       " 0.0  0.0  0.0  0.0  0.0  0.0\n",
       " 0.0  0.0  0.0  2.1  0.0  0.0\n",
       " 0.0  0.0  0.0  1.4  0.0  0.0"
      ]
     },
     "execution_count": 14,
     "metadata": {},
     "output_type": "execute_result"
    }
   ],
   "source": [
    "res.ENS"
   ]
  },
  {
   "cell_type": "code",
   "execution_count": 17,
   "id": "b9160e46-5eea-4447-9f76-974c1df13b45",
   "metadata": {},
   "outputs": [
    {
     "data": {
      "text/plain": [
       "4×1 Matrix{Float64}:\n",
       " 0.0\n",
       " 0.0\n",
       " 2.1000000000000005\n",
       " 1.4000000000000001"
      ]
     },
     "execution_count": 17,
     "metadata": {},
     "output_type": "execute_result"
    }
   ],
   "source": [
    "sum(res.CENS; dims=2)"
   ]
  },
  {
   "cell_type": "code",
   "execution_count": null,
   "id": "4036f343-4c33-4f6e-9d70-28e13c5679e0",
   "metadata": {},
   "outputs": [],
   "source": []
  }
 ],
 "metadata": {
  "jupytext": {
   "formats": "ipynb,Rmd"
  },
  "kernelspec": {
   "display_name": "Julia 1.8.5",
   "language": "julia",
   "name": "julia-1.8"
  },
  "language_info": {
   "file_extension": ".jl",
   "mimetype": "application/julia",
   "name": "julia",
   "version": "1.8.5"
  }
 },
 "nbformat": 4,
 "nbformat_minor": 5
}
